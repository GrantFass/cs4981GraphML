{
 "cells": [
  {
   "cell_type": "markdown",
   "metadata": {},
   "source": [
    "# Building Models With Pytorch\n",
    "\n",
    "torch.nn.Module and torch.nn.Parameter\n",
    "\n",
    "In this video, we’ll be discussing some of the tools PyTorch makes available for building deep learning networks.\n",
    "\n",
    "Except for Parameter, the classes we discuss in this video are all subclasses of torch.nn.Module. This is the PyTorch base class meant to encapsulate behaviors specific to PyTorch Models and their components.\n",
    "\n",
    "One important behavior of torch.nn.Module is registering parameters. If a particular Module subclass has learning weights, these weights are expressed as instances of torch.nn.Parameter. The Parameter class is a subclass of torch.Tensor, with the special behavior that when they are assigned as attributes of a Module, they are added to the list of that modules parameters. These parameters may be accessed through the parameters() method on the Module class.\n",
    "\n",
    "As a simple example, here’s a very simple model with two linear layers and an activation function. We’ll create an instance of it and ask it to report on its parameters:"
   ]
  },
  {
   "cell_type": "code",
   "execution_count": 5,
   "metadata": {},
   "outputs": [
    {
     "name": "stdout",
     "output_type": "stream",
     "text": [
      "The model:\n",
      "TinyModel(\n",
      "  (linear1): Linear(in_features=100, out_features=200, bias=True)\n",
      "  (activation): ReLU()\n",
      "  (linear2): Linear(in_features=200, out_features=10, bias=True)\n",
      "  (softmax): Softmax(dim=None)\n",
      ")\n",
      "\n",
      "\n",
      "Just one layer:\n",
      "Linear(in_features=200, out_features=10, bias=True)\n",
      "\n",
      "\n",
      "Model params:\n",
      "Parameter containing:\n",
      "tensor([[-0.0656, -0.0413,  0.0175,  ...,  0.0667, -0.0479, -0.0794],\n",
      "        [-0.0792, -0.0505,  0.0228,  ..., -0.0831, -0.0331, -0.0591],\n",
      "        [ 0.0855,  0.0252, -0.0465,  ..., -0.0664, -0.0456,  0.0344],\n",
      "        ...,\n",
      "        [-0.0177, -0.0363, -0.0681,  ...,  0.0621,  0.0642, -0.0876],\n",
      "        [-0.0317,  0.0729, -0.0541,  ...,  0.0100,  0.0967,  0.0980],\n",
      "        [-0.0358,  0.0519,  0.0171,  ..., -0.0721,  0.0699, -0.0874]],\n",
      "       requires_grad=True)\n",
      "Parameter containing:\n",
      "tensor([ 0.0213, -0.0743, -0.0643, -0.0066,  0.0961,  0.0120,  0.0670,  0.0083,\n",
      "         0.0845, -0.0316,  0.0308,  0.0328, -0.0759, -0.0052, -0.0156, -0.0697,\n",
      "         0.0021,  0.0307, -0.0025, -0.0898,  0.0434,  0.0816, -0.0918,  0.0415,\n",
      "        -0.0863,  0.0284,  0.0545,  0.0575, -0.0945, -0.0081, -0.0302,  0.0179,\n",
      "         0.0669,  0.0105, -0.0346, -0.0053,  0.0135, -0.0176,  0.0544,  0.0721,\n",
      "        -0.0276, -0.0145,  0.0303, -0.0868, -0.0416,  0.0970, -0.0262, -0.0421,\n",
      "        -0.0241,  0.0110,  0.0732,  0.0361, -0.0450, -0.0185, -0.0607, -0.0197,\n",
      "         0.0153, -0.0013,  0.0206,  0.0726,  0.0728,  0.0356, -0.0144, -0.0828,\n",
      "        -0.0325,  0.0191, -0.0474, -0.0856,  0.0057, -0.0538,  0.0159,  0.0594,\n",
      "         0.0778, -0.0309,  0.0486, -0.0366, -0.0554, -0.0133,  0.0003, -0.0944,\n",
      "        -0.0198, -0.0976, -0.0673, -0.0914,  0.0628, -0.0508,  0.0328,  0.0301,\n",
      "         0.0537, -0.0373, -0.0787, -0.0165,  0.0198, -0.0736,  0.0013, -0.0864,\n",
      "         0.0222, -0.0384, -0.0839, -0.0917,  0.0884, -0.0010, -0.0031, -0.0949,\n",
      "         0.0148,  0.0080, -0.0719, -0.0406, -0.0145,  0.0135,  0.0176,  0.0154,\n",
      "        -0.0184,  0.0652, -0.0522,  0.0883,  0.0355,  0.0628, -0.0555, -0.0611,\n",
      "        -0.0281,  0.0694, -0.0224, -0.0637,  0.0962, -0.0582,  0.0449,  0.0026,\n",
      "         0.0132, -0.0962, -0.0059,  0.0854, -0.0068, -0.0297,  0.0499,  0.0602,\n",
      "        -0.0071, -0.0035,  0.0740, -0.0463,  0.0951,  0.0516,  0.0421, -0.0427,\n",
      "        -0.0265, -0.0151,  0.0305, -0.0375,  0.0075,  0.0787, -0.0526, -0.0654,\n",
      "         0.0422, -0.0931, -0.0470,  0.0235, -0.0640, -0.0429, -0.0561, -0.0777,\n",
      "         0.0743,  0.0261,  0.0588,  0.0522, -0.0518,  0.0987, -0.0641,  0.0669,\n",
      "         0.0470, -0.0729,  0.0805,  0.0945,  0.0960,  0.0931,  0.0027,  0.0376,\n",
      "        -0.0873,  0.0063, -0.0822, -0.0204, -0.0694, -0.0750, -0.0117, -0.0840,\n",
      "        -0.0533,  0.0371, -0.0203,  0.0509,  0.0814, -0.0630,  0.0889, -0.0625,\n",
      "        -0.0111,  0.0332, -0.0698,  0.0828,  0.0416,  0.0781, -0.0817,  0.0982],\n",
      "       requires_grad=True)\n",
      "Parameter containing:\n",
      "tensor([[-0.0362,  0.0101, -0.0659,  ...,  0.0419,  0.0588,  0.0031],\n",
      "        [ 0.0230,  0.0496,  0.0686,  ..., -0.0419, -0.0596, -0.0517],\n",
      "        [-0.0051,  0.0426,  0.0096,  ..., -0.0229, -0.0415, -0.0334],\n",
      "        ...,\n",
      "        [-0.0190,  0.0453,  0.0301,  ...,  0.0600,  0.0627,  0.0683],\n",
      "        [-0.0136,  0.0061, -0.0567,  ..., -0.0550,  0.0473, -0.0302],\n",
      "        [-0.0137,  0.0570, -0.0209,  ...,  0.0671,  0.0274, -0.0554]],\n",
      "       requires_grad=True)\n",
      "Parameter containing:\n",
      "tensor([-0.0683, -0.0196,  0.0085,  0.0701,  0.0432, -0.0321,  0.0103, -0.0427,\n",
      "        -0.0203,  0.0540], requires_grad=True)\n",
      "\n",
      "\n",
      "Layer params:\n",
      "Parameter containing:\n",
      "tensor([[-0.0362,  0.0101, -0.0659,  ...,  0.0419,  0.0588,  0.0031],\n",
      "        [ 0.0230,  0.0496,  0.0686,  ..., -0.0419, -0.0596, -0.0517],\n",
      "        [-0.0051,  0.0426,  0.0096,  ..., -0.0229, -0.0415, -0.0334],\n",
      "        ...,\n",
      "        [-0.0190,  0.0453,  0.0301,  ...,  0.0600,  0.0627,  0.0683],\n",
      "        [-0.0136,  0.0061, -0.0567,  ..., -0.0550,  0.0473, -0.0302],\n",
      "        [-0.0137,  0.0570, -0.0209,  ...,  0.0671,  0.0274, -0.0554]],\n",
      "       requires_grad=True)\n",
      "Parameter containing:\n",
      "tensor([-0.0683, -0.0196,  0.0085,  0.0701,  0.0432, -0.0321,  0.0103, -0.0427,\n",
      "        -0.0203,  0.0540], requires_grad=True)\n"
     ]
    }
   ],
   "source": [
    "import torch\n",
    "\n",
    "class TinyModel(torch.nn.Module):\n",
    "\n",
    "    def __init__(self):\n",
    "        super(TinyModel, self).__init__()\n",
    "\n",
    "        self.linear1 = torch.nn.Linear(100, 200)\n",
    "        self.activation = torch.nn.ReLU()\n",
    "        self.linear2 = torch.nn.Linear(200, 10)\n",
    "        self.softmax = torch.nn.Softmax()\n",
    "\n",
    "    def forward(self, x):\n",
    "        x = self.linear1(x)\n",
    "        x = self.activation(x)\n",
    "        x = self.linear2(x)\n",
    "        x = self.softmax(x)\n",
    "        return x\n",
    "\n",
    "tinymodel = TinyModel()\n",
    "\n",
    "print('The model:')\n",
    "print(tinymodel)\n",
    "\n",
    "print('\\n\\nJust one layer:')\n",
    "print(tinymodel.linear2)\n",
    "\n",
    "print('\\n\\nModel params:')\n",
    "for param in tinymodel.parameters():\n",
    "    print(param)\n",
    "\n",
    "print('\\n\\nLayer params:')\n",
    "for param in tinymodel.linear2.parameters():\n",
    "    print(param)"
   ]
  },
  {
   "cell_type": "markdown",
   "metadata": {},
   "source": [
    "This shows the fundamental structure of a PyTorch model: there is an __init__() method that defines the layers and other components of a model, and a forward() method where the computation gets done. Note that we can print the model, or any of its submodules, to learn about its structure.\n",
    "\n",
    "## Common Layer Types\n",
    "### Linear Layers\n",
    "The most basic type of neural network layer is a linear or fully connected layer. This is a layer where every input influences every output of the layer to a degree specified by the layer’s weights. If a model has m inputs and n outputs, the weights will be an m x n matrix. For example:"
   ]
  },
  {
   "cell_type": "code",
   "execution_count": 6,
   "metadata": {},
   "outputs": [
    {
     "name": "stdout",
     "output_type": "stream",
     "text": [
      "Input:\n",
      "tensor([[0.1025, 0.6663, 0.7456]])\n",
      "\n",
      "\n",
      "Weight and Bias parameters:\n",
      "Parameter containing:\n",
      "tensor([[ 0.3146,  0.1199, -0.2000],\n",
      "        [ 0.0826,  0.0991,  0.4268]], requires_grad=True)\n",
      "Parameter containing:\n",
      "tensor([-0.3342, -0.2822], requires_grad=True)\n",
      "\n",
      "\n",
      "Output:\n",
      "tensor([[-0.3712,  0.1105]], grad_fn=<AddmmBackward0>)\n"
     ]
    }
   ],
   "source": [
    "lin = torch.nn.Linear(3, 2)\n",
    "x = torch.rand(1, 3)\n",
    "print('Input:')\n",
    "print(x)\n",
    "\n",
    "print('\\n\\nWeight and Bias parameters:')\n",
    "for param in lin.parameters():\n",
    "    print(param)\n",
    "\n",
    "y = lin(x)\n",
    "print('\\n\\nOutput:')\n",
    "print(y)"
   ]
  },
  {
   "cell_type": "markdown",
   "metadata": {},
   "source": [
    "If you do the matrix multiplication of x by the linear layer’s weights, and add the biases, you’ll find that you get the output vector y.\n",
    "\n",
    "One other important feature to note: When we checked the weights of our layer with lin.weight, it reported itself as a Parameter (which is a subclass of Tensor), and let us know that it’s tracking gradients with autograd. This is a default behavior for Parameter that differs from Tensor.\n",
    "\n",
    "Linear layers are used widely in deep learning models. One of the most common places you’ll see them is in classifier models, which will usually have one or more linear layers at the end, where the last layer will have n outputs, where n is the number of classes the classifier addresses.\n",
    "\n",
    "### Convolutional Layers\n",
    "Convolutional layers are built to handle data with a high degree of spatial correlation. They are very commonly used in computer vision, where they detect close groupings of features which the compose into higher-level features. They pop up in other contexts too - for example, in NLP applications, where a word’s immediate context (that is, the other words nearby in the sequence) can affect the meaning of a sentence.\n",
    "\n",
    "We saw convolutional layers in action in LeNet5 in an earlier video:"
   ]
  },
  {
   "cell_type": "code",
   "execution_count": 7,
   "metadata": {},
   "outputs": [],
   "source": [
    "import torch.functional as F\n",
    "\n",
    "\n",
    "class LeNet(torch.nn.Module):\n",
    "\n",
    "    def __init__(self):\n",
    "        super(LeNet, self).__init__()\n",
    "        # 1 input image channel (black & white), 6 output channels, 5x5 square convolution\n",
    "        # kernel\n",
    "        self.conv1 = torch.nn.Conv2d(1, 6, 5)\n",
    "        self.conv2 = torch.nn.Conv2d(6, 16, 3)\n",
    "        # an affine operation: y = Wx + b\n",
    "        self.fc1 = torch.nn.Linear(16 * 6 * 6, 120)  # 6*6 from image dimension\n",
    "        self.fc2 = torch.nn.Linear(120, 84)\n",
    "        self.fc3 = torch.nn.Linear(84, 10)\n",
    "\n",
    "    def forward(self, x):\n",
    "        # Max pooling over a (2, 2) window\n",
    "        x = F.max_pool2d(F.relu(self.conv1(x)), (2, 2))\n",
    "        # If the size is a square you can only specify a single number\n",
    "        x = F.max_pool2d(F.relu(self.conv2(x)), 2)\n",
    "        x = x.view(-1, self.num_flat_features(x))\n",
    "        x = F.relu(self.fc1(x))\n",
    "        x = F.relu(self.fc2(x))\n",
    "        x = self.fc3(x)\n",
    "        return x\n",
    "\n",
    "    def num_flat_features(self, x):\n",
    "        size = x.size()[1:]  # all dimensions except the batch dimension\n",
    "        num_features = 1\n",
    "        for s in size:\n",
    "            num_features *= s\n",
    "        return num_features\n",
    "    "
   ]
  },
  {
   "cell_type": "markdown",
   "metadata": {},
   "source": [
    "Let’s break down what’s happening in the convolutional layers of this model. Starting with conv1:\n",
    "- LeNet5 is meant to take in a 1x32x32 black & white image. The first argument to a convolutional layer’s constructor is the number of input channels. Here, it is 1. If we were building this model to look at 3-color channels, it would be 3.\n",
    "- A convolutional layer is like a window that scans over the image, looking for a pattern it recognizes. These patterns are called features, and one of the parameters of a convolutional layer is the number of features we would like it to learn. This is the second argument to the constructor is the number of output features. Here, we’re asking our layer to learn 6 features.\n",
    "- Just above, I likened the convolutional layer to a window - but how big is the window? The third argument is the window or kernel size. Here, the “5” means we’ve chosen a 5x5 kernel. (If you want a kernel with height different from width, you can specify a tuple for this argument - e.g., (3, 5) to get a 3x5 convolution kernel.)\n",
    "\n",
    "The output of a convolutional layer is an activation map - a spatial representation of the presence of features in the input tensor. conv1 will give us an output tensor of 6x28x28; 6 is the number of features, and 28 is the height and width of our map. (The 28 comes from the fact that when scanning a 5-pixel window over a 32-pixel row, there are only 28 valid positions.)\n",
    "\n",
    "We then pass the output of the convolution through a ReLU activation function (more on activation functions later), then through a max pooling layer. The max pooling layer takes features near each other in the activation map and groups them together. It does this by reducing the tensor, merging every 2x2 group of cells in the output into a single cell, and assigning that cell the maximum value of the 4 cells that went into it. This gives us a lower-resolution version of the activation map, with dimensions 6x14x14.\n",
    "\n",
    "Our next convolutional layer, conv2, expects 6 input channels (corresponding to the 6 features sought by the first layer), has 16 output channels, and a 3x3 kernel. It puts out a 16x12x12 activation map, which is again reduced by a max pooling layer to 16x6x6. Prior to passing this output to the linear layers, it is reshaped to a 16 * 6 * 6 = 576-element vector for consumption by the next layer.\n",
    "\n",
    "There are convolutional layers for addressing 1D, 2D, and 3D tensors. There are also many more optional arguments for a conv layer constructor, including stride length(e.g., only scanning every second or every third position) in the input, padding (so you can scan out to the edges of the input), and more. See the documentation for more information.\n",
    "\n",
    "### Recurrent Layers\n",
    "Recurrent neural networks (or RNNs) are used for sequential data - anything from time-series measurements from a scientific instrument to natural language sentences to DNA nucleotides. An RNN does this by maintaining a hidden state that acts as a sort of memory for what it has seen in the sequence so far.\n",
    "\n",
    "The internal structure of an RNN layer - or its variants, the LSTM (long short-term memory) and GRU (gated recurrent unit) - is moderately complex and beyond the scope of this video, but we’ll show you what one looks like in action with an LSTM-based part-of-speech tagger (a type of classifier that tells you if a word is a noun, verb, etc.):"
   ]
  },
  {
   "cell_type": "code",
   "execution_count": 8,
   "metadata": {},
   "outputs": [],
   "source": [
    "class LSTMTagger(torch.nn.Module):\n",
    "    \n",
    "    def __init__(self, embedding_dim, hidden_dim, vocab_size, tagset_size):\n",
    "        super(LSTMTagger, self).__init__()\n",
    "        self.hidden_dim = hidden_dim\n",
    "\n",
    "        self.word_embeddings = torch.nn.Embedding(vocab_size, embedding_dim)\n",
    "\n",
    "        # The LSTM takes word embeddings as inputs, and outputs hidden states\n",
    "        # with dimensionality hidden_dim.\n",
    "        self.lstm = torch.nn.LSTM(embedding_dim, hidden_dim)\n",
    "\n",
    "        # The linear layer that maps from hidden state space to tag space\n",
    "        self.hidden2tag = torch.nn.Linear(hidden_dim, tagset_size)\n",
    "\n",
    "    def forward(self, sentence):\n",
    "        embeds = self.word_embeddings(sentence)\n",
    "        lstm_out, _ = self.lstm(embeds.view(len(sentence), 1, -1))\n",
    "        tag_space = self.hidden2tag(lstm_out.view(len(sentence), -1))\n",
    "        tag_scores = F.log_softmax(tag_space, dim=1)\n",
    "        return tag_scores"
   ]
  },
  {
   "cell_type": "markdown",
   "metadata": {},
   "source": [
    "The constructor has four arguments:\n",
    "\n",
    "- vocab_size is the number of words in the input vocabulary. Each word is a one-hot vector (or unit vector) in a vocab_size-dimensional space.\n",
    "- tagset_size is the number of tags in the output set.\n",
    "- embedding_dim is the size of the embedding space for the vocabulary. An embedding maps a vocabulary onto a low-dimensional space, where words with similar meanings are close together in the space.\n",
    "- hidden_dim is the size of the LSTM’s memory.\n",
    "\n",
    "The input will be a sentence with the words represented as indices of one-hot vectors. The embedding layer will then map these down to an embedding_dim-dimensional space. The LSTM takes this sequence of embeddings and iterates over it, fielding an output vector of length hidden_dim. The final linear layer acts as a classifier; applying log_softmax() to the output of the final layer converts the output into a normalized set of estimated probabilities that a given word maps to a given tag.\n",
    "\n",
    "If you’d like to see this network in action, check out the Sequence Models and LSTM Networks tutorial on pytorch.org.\n",
    "\n",
    "### Transformers\n",
    "Transformers are multi-purpose networks that have taken over the state of the art in NLP with models like BERT. A discussion of transformer architecture is beyond the scope of this video, but PyTorch has a Transformer class that allows you to define the overall parameters of a transformer model - the number of attention heads, the number of encoder & decoder layers, dropout and activation functions, etc. (You can even build the BERT model from this single class, with the right parameters!) The torch.nn.Transformer class also has classes to encapsulate the individual components (TransformerEncoder, TransformerDecoder) and subcomponents (TransformerEncoderLayer, TransformerDecoderLayer). For details, check out the documentation on transformer classes, and the relevant tutorial on pytorch.org.\n",
    "\n",
    "## Other Layers and Functions\n",
    "### Data Manipulation Layers\n",
    "There are other layer types that perform important functions in models, but don’t participate in the learning process themselves.\n",
    "\n",
    "Max pooling (and its twin, min pooling) reduce a tensor by combining cells, and assigning the maximum value of the input cells to the output cell (we saw this). For example:"
   ]
  },
  {
   "cell_type": "code",
   "execution_count": 9,
   "metadata": {},
   "outputs": [
    {
     "name": "stdout",
     "output_type": "stream",
     "text": [
      "tensor([[[0.7489, 0.1315, 0.6627, 0.4592, 0.9935, 0.8138],\n",
      "         [0.8503, 0.7121, 0.4380, 0.4871, 0.3135, 0.4990],\n",
      "         [0.9013, 0.5332, 0.8457, 0.7582, 0.4147, 0.0579],\n",
      "         [0.5367, 0.1354, 0.8629, 0.4165, 0.6154, 0.2728],\n",
      "         [0.3726, 0.5279, 0.0115, 0.8704, 0.8804, 0.9105],\n",
      "         [0.3143, 0.4291, 0.5192, 0.3190, 0.3494, 0.3259]]])\n",
      "tensor([[[0.9013, 0.9935],\n",
      "         [0.8629, 0.9105]]])\n"
     ]
    }
   ],
   "source": [
    "my_tensor = torch.rand(1, 6, 6)\n",
    "print(my_tensor)\n",
    "\n",
    "maxpool_layer = torch.nn.MaxPool2d(3)\n",
    "print(maxpool_layer(my_tensor))"
   ]
  },
  {
   "cell_type": "markdown",
   "metadata": {},
   "source": [
    "If you look closely at the values above, you’ll see that each of the values in the maxpooled output is the maximum value of each quadrant of the 6x6 input.\n",
    "\n",
    "Normalization layers re-center and normalize the output of one layer before feeding it to another. Centering the and scaling the intermediate tensors has a number of beneficial effects, such as letting you use higher learning rates without exploding/vanishing gradients."
   ]
  },
  {
   "cell_type": "code",
   "execution_count": 10,
   "metadata": {},
   "outputs": [
    {
     "name": "stdout",
     "output_type": "stream",
     "text": [
      "tensor([[[12.2315,  8.4089, 16.5615, 16.4368],\n",
      "         [10.4281, 20.0243, 22.4598, 22.4059],\n",
      "         [ 7.1113, 21.7009, 15.2633, 16.1863],\n",
      "         [ 8.3405,  9.9853, 16.7225, 10.9532]]])\n",
      "tensor(14.7013)\n",
      "tensor([[[-0.3493, -1.4828,  0.9346,  0.8976],\n",
      "         [-1.6975,  0.2414,  0.7335,  0.7226],\n",
      "         [-1.5266,  1.2735,  0.0380,  0.2151],\n",
      "         [-1.0011, -0.4800,  1.6545, -0.1733]]],\n",
      "       grad_fn=<NativeBatchNormBackward0>)\n",
      "tensor(1.0431e-07, grad_fn=<MeanBackward0>)\n"
     ]
    }
   ],
   "source": [
    "my_tensor = torch.rand(1, 4, 4) * 20 + 5\n",
    "print(my_tensor)\n",
    "\n",
    "print(my_tensor.mean())\n",
    "\n",
    "norm_layer = torch.nn.BatchNorm1d(4)\n",
    "normed_tensor = norm_layer(my_tensor)\n",
    "print(normed_tensor)\n",
    "\n",
    "print(normed_tensor.mean())"
   ]
  },
  {
   "cell_type": "markdown",
   "metadata": {},
   "source": [
    "Running the cell above, we’ve added a large scaling factor and offset to an input tensor; you should see the input tensor’s mean() somewhere in the neighborhood of 15. After running it through the normalization layer, you can see that the values are smaller, and grouped around zero - in fact, the mean should be very small (> 1e-8).\n",
    "\n",
    "This is beneficial because many activation functions (discussed below) have their strongest gradients near 0, but sometimes suffer from vanishing or exploding gradients for inputs that drive them far away from zero. Keeping the data centered around the area of steepest gradient will tend to mean faster, better learning and higher feasible learning rates.\n",
    "\n",
    "Dropout layers are a tool for encouraging sparse representations in your model - that is, pushing it to do inference with less data.\n",
    "\n",
    "Dropout layers work by randomly setting parts of the input tensor during training - dropout layers are always turned off for inference. This forces the model to learn against this masked or reduced dataset. For example:"
   ]
  },
  {
   "cell_type": "code",
   "execution_count": 11,
   "metadata": {},
   "outputs": [
    {
     "name": "stdout",
     "output_type": "stream",
     "text": [
      "tensor([[[1.5536, 1.6029, 1.5793, 1.1465],\n",
      "         [0.3874, 1.0145, 0.4963, 0.0000],\n",
      "         [0.0000, 0.4917, 0.1027, 1.1678],\n",
      "         [1.3715, 1.5272, 1.5233, 0.0000]]])\n",
      "tensor([[[1.5536, 0.0000, 1.5793, 1.1465],\n",
      "         [0.3874, 0.0000, 0.4963, 0.3128],\n",
      "         [0.0000, 0.0000, 0.1027, 1.1678],\n",
      "         [0.0000, 0.0000, 1.5233, 0.0000]]])\n"
     ]
    }
   ],
   "source": [
    "my_tensor = torch.rand(1, 4, 4)\n",
    "\n",
    "dropout = torch.nn.Dropout(p=0.4)\n",
    "print(dropout(my_tensor))\n",
    "print(dropout(my_tensor))"
   ]
  },
  {
   "cell_type": "markdown",
   "metadata": {},
   "source": [
    "Above, you can see the effect of dropout on a sample tensor. You can use the optional p argument to set the probability of an individual weight dropping out; if you don’t it defaults to 0.5.\n",
    "\n",
    "## Activation Functions\n",
    "Activation functions make deep learning possible. A neural network is really a program - with many parameters - that simulates a mathematical function. If all we did was multiple tensors by layer weights repeatedly, we could only simulate linear functions; further, there would be no point to having many layers, as the whole network would reduce could be reduced to a single matrix multiplication. Inserting non-linear activation functions between layers is what allows a deep learning model to simulate any function, rather than just linear ones.\n",
    "\n",
    "torch.nn.Module has objects encapsulating all of the major activation functions including ReLU and its many variants, Tanh, Hardtanh, sigmoid, and more. It also includes other functions, such as Softmax, that are most useful at the output stage of a model.\n",
    "\n",
    "## Loss Functions\n",
    "Loss functions tell us how far a model’s prediction is from the correct answer. PyTorch contains a variety of loss functions, including common MSE (mean squared error = L2 norm), Cross Entropy Loss and Negative Likelihood Loss (useful for classifiers), and others.\n",
    "\n",
    "Total running time of the script: ( 0 minutes 0.154 seconds)"
   ]
  }
 ],
 "metadata": {
  "kernelspec": {
   "display_name": "Python 3.10.1 64-bit",
   "language": "python",
   "name": "python3"
  },
  "language_info": {
   "codemirror_mode": {
    "name": "ipython",
    "version": 3
   },
   "file_extension": ".py",
   "mimetype": "text/x-python",
   "name": "python",
   "nbconvert_exporter": "python",
   "pygments_lexer": "ipython3",
   "version": "3.10.1"
  },
  "orig_nbformat": 4,
  "vscode": {
   "interpreter": {
    "hash": "369f2c481f4da34e4445cda3fffd2e751bd1c4d706f27375911949ba6bb62e1c"
   }
  }
 },
 "nbformat": 4,
 "nbformat_minor": 2
}
