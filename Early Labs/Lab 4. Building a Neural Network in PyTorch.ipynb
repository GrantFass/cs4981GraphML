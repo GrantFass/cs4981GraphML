{
 "cells": [
  {
   "cell_type": "markdown",
   "id": "79b0883b",
   "metadata": {},
   "source": [
    "## Lab 4. Building a Neural Network in PyTorch\n",
    "\n",
    "Jay Urbain, PhD\n",
    "\n",
    "12/30/2022, 1/4/2023\n"
   ]
  },
  {
   "cell_type": "markdown",
   "id": "0c734e02",
   "metadata": {},
   "source": [
    "Lab 4: In This assignment we will be building nueral networks in PyTorch to classify images in the `FashionMNIST` dataset. \n",
    "\n",
    "The assignments consiste of three parts. Part 1 is actually done for you and is meant as a tutorial. Make sure you read and execute the notebook. In part 2, you will create a basic convolutional neural network as described below. In part 3, you are encouraged to improve the performance of the network. Do a little thinking and research. Good luck!\n",
    "\n",
    "TODO: Part 1: Create a neural network model   \n",
    "TODO: Part 2: Create a convolutional neural network model   \n",
    "TODO: Part 3: Improve your convolutional neural network model   "
   ]
  },
  {
   "cell_type": "code",
   "execution_count": 1,
   "id": "199c306e",
   "metadata": {},
   "outputs": [],
   "source": [
    "import torch\n",
    "from torch import nn\n",
    "from torch.utils.data import DataLoader\n",
    "from torchvision import datasets\n",
    "from torchvision.transforms import ToTensor\n",
    "\n",
    "\n",
    "import torch\n",
    "import numpy as np\n",
    "import matplotlib.pyplot as plt\n",
    "import torchvision\n",
    "import warnings\n",
    "import os.path\n",
    "import torchviz\n",
    "import seaborn as sns\n",
    "import matplotlib.pyplot as plt\n",
    "import math\n",
    "sns.set(rc={\"figure.figsize\":(16, 8)})"
   ]
  },
  {
   "cell_type": "markdown",
   "id": "defce639",
   "metadata": {},
   "source": [
    "PyTorch offers domain-specific libraries such as `TorchText`, `TorchVision`, and `TorchAudio`, all of which include datasets. \n",
    "\n",
    "We will be using the `FashionMNIST` dataset from `1TorchVision`. \n",
    "\n",
    "https://www.kaggle.com/code/pavansanagapati/a-simple-cnn-model-beginner-guide/data\n",
    "\n",
    "Code for processing data samples can get messy and hard to maintain. We  want our dataset code to be decoupled from our model training code for better readability and modularity. \n",
    "\n",
    "PyTorch provides two data primitives: `torch.utils.data.DataLoader` and `torch.utils.data.Dataset` that allow you to use pre-loaded datasets as well as your own data. Dataset stores the samples and their corresponding labels, and DataLoader wraps an iterable around the Dataset to enable easy access to the samples.\n",
    "\n",
    "https://pytorch.org/tutorials/beginner/basics/data_tutorial.html\n",
    "\n",
    "If you have a custom data set you'll need to create an instance of `torch.utils.data.Dataset` for your files.\n",
    "\n",
    "Note: We're only performing one basic transformation, `ToTensor` to transform are numpy ndarray's into a PyTorch tensor."
   ]
  },
  {
   "cell_type": "code",
   "execution_count": 2,
   "id": "98e5838d",
   "metadata": {},
   "outputs": [],
   "source": [
    "# Download training data from open datasets.\n",
    "training_data = datasets.FashionMNIST(\n",
    "    root=\"data\",\n",
    "    train=True,\n",
    "    download=True,\n",
    "    transform=ToTensor(),\n",
    ")\n",
    "\n",
    "# Download test data from open datasets.\n",
    "test_data = datasets.FashionMNIST(\n",
    "    root=\"data\",\n",
    "    train=False,\n",
    "    download=True,\n",
    "    transform=ToTensor(),\n",
    ")"
   ]
  },
  {
   "cell_type": "markdown",
   "id": "54c12395",
   "metadata": {},
   "source": [
    "Examine the dataset."
   ]
  },
  {
   "cell_type": "code",
   "execution_count": 3,
   "id": "9ac0e3ac",
   "metadata": {},
   "outputs": [
    {
     "data": {
      "image/png": "[encoded data removed]",
      "text/plain": [
       "<Figure size 1600x800 with 1 Axes>"
      ]
     },
     "metadata": {},
     "output_type": "display_data"
    },
    {
     "data": {
      "text/plain": [
       "(28, 28)"
      ]
     },
     "execution_count": 3,
     "metadata": {},
     "output_type": "execute_result"
    }
   ],
   "source": [
    "import matplotlib.pyplot as plt\n",
    "\n",
    "img_ = training_data[0][0].numpy().reshape(28, 28)\n",
    "plt.imshow(img_, cmap='gray')\n",
    "plt.show()\n",
    "img_.shape"
   ]
  },
  {
   "cell_type": "markdown",
   "id": "12fac59d",
   "metadata": {},
   "source": [
    "Pass the Dataset as an argument to `DataLoader`. This wraps an iterable over the dataset, and supports automatic batching, sampling, shuffling and multiprocess data loading. Another benefit is the ability to perform data manipulation. But don't over do it since you want data loading to be efficient.\n",
    "\n",
    "Here we define a batch size of 64, i.e. each element in the dataloader iterable will return a batch of 64 features and labels."
   ]
  },
  {
   "cell_type": "code",
   "execution_count": 4,
   "id": "1b50631e",
   "metadata": {},
   "outputs": [
    {
     "name": "stdout",
     "output_type": "stream",
     "text": [
      "Shape of X [N, C, H, W]: torch.Size([64, 1, 28, 28])\n",
      "Shape of y: torch.Size([64]) torch.int64\n"
     ]
    }
   ],
   "source": [
    "batch_size = 64\n",
    "\n",
    "# Create data loaders.\n",
    "train_dataloader = DataLoader(training_data, batch_size=batch_size)\n",
    "test_dataloader = DataLoader(test_data, batch_size=batch_size)\n",
    "\n",
    "for X, y in test_dataloader:\n",
    "    print(f\"Shape of X [N, C, H, W]: {X.shape}\")\n",
    "    print(f\"Shape of y: {y.shape} {y.dtype}\")\n",
    "    break"
   ]
  },
  {
   "cell_type": "markdown",
   "id": "71664b3e",
   "metadata": {},
   "source": [
    "#### Creating Models\n",
    "\n",
    "To define a neural network in PyTorch, create a class that inherits from nn.Module. \n",
    "\n",
    "Define the layers of the network in the `__init__` function and specify how data will pass through the network in the `forward` function. To accelerate operations in the neural network, move it to the GPU if available.\n",
    "\n",
    "## TODO: Part 1: Create a neural network model "
   ]
  },
  {
   "cell_type": "code",
   "execution_count": 5,
   "id": "627df9aa",
   "metadata": {
    "scrolled": true
   },
   "outputs": [
    {
     "name": "stdout",
     "output_type": "stream",
     "text": [
      "Using cpu device\n",
      "NeuralNetwork(\n",
      "  (flatten): Flatten(start_dim=1, end_dim=-1)\n",
      "  (linear_relu_stack): Sequential(\n",
      "    (0): Linear(in_features=784, out_features=512, bias=True)\n",
      "    (1): ReLU()\n",
      "    (2): Linear(in_features=512, out_features=512, bias=True)\n",
      "    (3): ReLU()\n",
      "    (4): Linear(in_features=512, out_features=10, bias=True)\n",
      "  )\n",
      ")\n"
     ]
    }
   ],
   "source": [
    "# Get cpu or gpu device for training.\n",
    "device = \"cuda\" if torch.cuda.is_available() else \"cpu\"\n",
    "print(f\"Using {device} device\")\n",
    "\n",
    "# Define model\n",
    "class NeuralNetwork(nn.Module):\n",
    "    def __init__(self):\n",
    "        super().__init__()\n",
    "        self.flatten = nn.Flatten()\n",
    "        self.linear_relu_stack = nn.Sequential(\n",
    "            nn.Linear(28*28, 512),\n",
    "            nn.ReLU(),\n",
    "            nn.Linear(512, 512),\n",
    "            nn.ReLU(),\n",
    "            nn.Linear(512, 10)\n",
    "        )\n",
    "\n",
    "    def forward(self, x):\n",
    "        x = self.flatten(x)\n",
    "        logits = self.linear_relu_stack(x)\n",
    "        return logits\n",
    "\n",
    "model = NeuralNetwork().to(device)\n",
    "print(model)"
   ]
  },
  {
   "cell_type": "markdown",
   "id": "a06aa1df",
   "metadata": {},
   "source": [
    "## TODO: Part 2: Create a convolutional neural network model \n",
    "\n",
    "First review, the following references:\n",
    "\n",
    "Conv2d  \n",
    "https://pytorch.org/docs/stable/generated/torch.nn.Conv2d.html\n",
    "\n",
    "BatchNorm2d  \n",
    "https://pytorch.org/docs/stable/generated/torch.nn.BatchNorm2d.html\n",
    "\n",
    "ReLU  \n",
    "https://pytorch.org/docs/stable/generated/torch.nn.ReLU.html \n",
    "\n",
    "MaxPool2d  \n",
    "https://pytorch.org/docs/stable/generated/torch.nn.MaxPool2d.html\n",
    "\n",
    "Linear  \n",
    "https://pytorch.org/docs/stable/generated/torch.nn.Linear.html   \n",
    "\n",
    "Second, complete the following ConvNet class."
   ]
  },
  {
   "cell_type": "code",
   "execution_count": 6,
   "id": "f18f3120",
   "metadata": {},
   "outputs": [
    {
     "name": "stdout",
     "output_type": "stream",
     "text": [
      "ConvNet(\n",
      "  (cnn_layers): Sequential(\n",
      "    (0): Conv2d(1, 4, kernel_size=(3, 3), stride=(1, 1), padding=(1, 1))\n",
      "    (1): BatchNorm2d(4, eps=1e-05, momentum=0.1, affine=True, track_running_stats=True)\n",
      "    (2): ReLU(inplace=True)\n",
      "    (3): MaxPool2d(kernel_size=2, stride=2, padding=0, dilation=1, ceil_mode=False)\n",
      "    (4): Conv2d(4, 4, kernel_size=(3, 3), stride=(1, 1), padding=(1, 1))\n",
      "    (5): BatchNorm2d(4, eps=1e-05, momentum=0.1, affine=True, track_running_stats=True)\n",
      "    (6): ReLU(inplace=True)\n",
      "    (7): MaxPool2d(kernel_size=2, stride=2, padding=0, dilation=1, ceil_mode=False)\n",
      "  )\n",
      "  (linear_layers): Sequential(\n",
      "    (0): Linear(in_features=196, out_features=10, bias=True)\n",
      "  )\n",
      ")\n"
     ]
    }
   ],
   "source": [
    "from torch.nn import Linear, ReLU, CrossEntropyLoss, Sequential, Conv2d, MaxPool2d, Module, Softmax, BatchNorm2d, Dropout\n",
    "\n",
    "class ConvNet(nn.Module):   \n",
    "    def __init__(self):\n",
    "        super(ConvNet, self).__init__()\n",
    "\n",
    "        self.cnn_layers = nn.Sequential(\n",
    "            # Defining a 2D 3x3 convolution layer using Conv2d. Use a stride of 1 and padding of 1.\n",
    "            # input channels should be 1, output channels should be 4.\n",
    "            nn.Conv2d(in_channels=1, out_channels=4, kernel_size=3, stride=1, padding=1), # input of size a, in_channels, c, d has output of size a, out_channels, c, d\n",
    "            \n",
    "            # Perform batch normilation\n",
    "            # nn.BatchNorm2d(num_features=(784 * 512 + 512 * 512 + 512 * 10)),\n",
    "            nn.BatchNorm2d(num_features=4), # input matches output\n",
    "            \n",
    "            # Apply the ReLU non-linear activation function\n",
    "            nn.ReLU(inplace=True), # input matches output\n",
    "            \n",
    "            # # Reduce the spatial dimensionality by using max pooling with size of 2 and stride of 2.\n",
    "            # # output size is input with last two dims divided by 2 and (kernel_size - stride) subracted\n",
    "            nn.MaxPool2d(kernel_size=2, stride=2), # input of size a, b, c, d has output of size a, b, c/2, d/2\n",
    "            \n",
    "            # # Define another 2D convolution layer\n",
    "            # # Be careful to define the correct number of input channels into your convolution layer\n",
    "            # # based on the above formulas, MaxPool2d only affects c and d and the first conv layer affects b. Therefore the input channels of this conv is the output channels of the first conv layer.\n",
    "            # # nn.Conv2d(in_channels=4, out_channels=196, kernel_size=3, stride=1, padding=1)\n",
    "            nn.Conv2d(in_channels=4, out_channels=4, kernel_size=3, stride=1, padding=1),\n",
    "            \n",
    "            # Perform batch normilation\n",
    "            # nn.BatchNorm2d(num_features=(784 * 512 + 512 * 512 + 512 * 10)),\n",
    "            nn.BatchNorm2d(num_features=4), # input matches output\n",
    "            \n",
    "            # Apply the ReLU non-linear activation function\n",
    "            nn.ReLU(inplace=True), # input matches output\n",
    "            \n",
    "            # # Reduce the spatial dimensionality by using max pooling with size of 2 and stride of 2.\n",
    "            # # output size is input with last two dims divided by 2 and (kernel_size - stride) subracted\n",
    "            nn.MaxPool2d(kernel_size=2, stride=2), # input of size a, b, c, d has output of size a, b, c/2, d/2\n",
    "        )\n",
    "\n",
    "        self.linear_layers = Sequential(\n",
    "            Linear(4 * 7 * 7, 10)\n",
    "        )\n",
    "\n",
    "    # Defining the forward pass    \n",
    "    def forward(self, x):\n",
    "        x = self.cnn_layers(x)\n",
    "        x = x.view(x.size(0), -1)\n",
    "        x = self.linear_layers(x)\n",
    "        return x\n",
    "    \n",
    "model2 = ConvNet().to(device)\n",
    "print(model2)"
   ]
  },
  {
   "cell_type": "code",
   "execution_count": 7,
   "id": "a30274a1",
   "metadata": {},
   "outputs": [
    {
     "data": {
      "text/plain": [
       "torch.Size([20, 16, 4, 16])"
      ]
     },
     "execution_count": 7,
     "metadata": {},
     "output_type": "execute_result"
    }
   ],
   "source": [
    "# pool of square window of size=2, stride=2\n",
    "# input of size a, b, c, d has output of size a, b, c/2, d/2\n",
    "m = nn.MaxPool2d(2, stride=2)\n",
    "input = torch.randn(20, 16, 8, 32)\n",
    "output = m(input)\n",
    "output.shape"
   ]
  },
  {
   "cell_type": "code",
   "execution_count": 8,
   "id": "f8d6e24e",
   "metadata": {},
   "outputs": [
    {
     "data": {
      "text/plain": [
       "torch.Size([20, 33, 50, 100])"
      ]
     },
     "execution_count": 8,
     "metadata": {},
     "output_type": "execute_result"
    }
   ],
   "source": [
    "# With square kernels and equal stride\n",
    "# input of size a, in_channels, c, d has output of size a, out_channels, c, d\n",
    "m = nn.Conv2d(in_channels=16, out_channels=33, kernel_size=3, stride=1, padding=1)\n",
    "input = torch.randn(20, 16, 50, 100)\n",
    "output = m(input)\n",
    "output.shape"
   ]
  },
  {
   "cell_type": "code",
   "execution_count": 9,
   "id": "5708e62c",
   "metadata": {},
   "outputs": [
    {
     "data": {
      "text/plain": [
       "torch.Size([20, 33, 25, 50])"
      ]
     },
     "execution_count": 9,
     "metadata": {},
     "output_type": "execute_result"
    }
   ],
   "source": [
    "# With square kernels and equal stride\n",
    "# input of size a, in_channels, c, d has output of size a, out_channels, c, d\n",
    "m = nn.Conv2d(in_channels=16, out_channels=33, kernel_size=3, stride=2, padding=1)\n",
    "input = torch.randn(20, 16, 50, 100)\n",
    "output = m(input)\n",
    "output.shape"
   ]
  },
  {
   "cell_type": "code",
   "execution_count": 10,
   "id": "c78b7cd5",
   "metadata": {},
   "outputs": [
    {
     "data": {
      "text/plain": [
       "torch.Size([20, 100, 35, 45])"
      ]
     },
     "execution_count": 10,
     "metadata": {},
     "output_type": "execute_result"
    }
   ],
   "source": [
    "# With Learnable Parameters\n",
    "# input matches output\n",
    "m = nn.BatchNorm2d(100)\n",
    "input = torch.randn(20, 100, 35, 45)\n",
    "output = m(input)\n",
    "output.shape"
   ]
  },
  {
   "cell_type": "code",
   "execution_count": 11,
   "id": "601124e1",
   "metadata": {},
   "outputs": [
    {
     "name": "stdout",
     "output_type": "stream",
     "text": [
      "torch.Size([60000])\n",
      "torch.Size([60000, 28, 28])\n",
      "torch.Size([10000])\n",
      "torch.Size([10000, 28, 28])\n"
     ]
    }
   ],
   "source": [
    "print(training_data.targets.shape)\n",
    "print(training_data.data.shape)\n",
    "print(test_data.targets.shape)\n",
    "print(test_data.data.shape)"
   ]
  },
  {
   "cell_type": "markdown",
   "id": "955394f6",
   "metadata": {},
   "source": [
    "## TODO: Part 3: Improve your convolutional neural network model \n",
    "\n",
    "Can you improve the performance of this convolutional neural network and right trash talk your Professor?\n"
   ]
  },
  {
   "cell_type": "code",
   "execution_count": 12,
   "id": "2a2059d1",
   "metadata": {},
   "outputs": [
    {
     "name": "stdout",
     "output_type": "stream",
     "text": [
      "ConvNet(\n",
      "  (cnn_layers): Sequential(\n",
      "    (0): Conv2d(1, 4, kernel_size=(4, 4), stride=(1, 1), padding=(1, 1))\n",
      "    (1): BatchNorm2d(4, eps=1e-05, momentum=0.1, affine=True, track_running_stats=True)\n",
      "    (2): ReLU(inplace=True)\n",
      "    (3): MaxPool2d(kernel_size=4, stride=2, padding=0, dilation=1, ceil_mode=False)\n",
      "    (4): Conv2d(4, 1, kernel_size=(4, 4), stride=(1, 1), padding=(1, 1))\n",
      "  )\n",
      "  (linear_layers): Sequential(\n",
      "    (0): Linear(in_features=121, out_features=10, bias=True)\n",
      "  )\n",
      ")\n"
     ]
    }
   ],
   "source": [
    "# your super duper convnet here\n",
    "\n",
    "# TODO check all of the values\n",
    "class ConvNet(nn.Module):   \n",
    "    def __init__(self):\n",
    "        super(ConvNet, self).__init__()\n",
    "\n",
    "        self.cnn_layers = nn.Sequential(\n",
    "            # Defining a 2D 3x3 convolution layer using Conv2d. Use a stride of 1 and padding of 1.\n",
    "            # input channels should be 1, output channels should be 4.\n",
    "            nn.Conv2d(in_channels=1, out_channels=4, kernel_size=4, stride=1, padding=1), # input of size a, in_channels, c, d has output of size a, out_channels, c, d\n",
    "            \n",
    "            # Perform batch normilation\n",
    "            # nn.BatchNorm2d(num_features=(784 * 512 + 512 * 512 + 512 * 10)),\n",
    "            nn.BatchNorm2d(num_features=4), # input matches output\n",
    "            \n",
    "            # Apply the ReLU non-linear activation function\n",
    "            nn.ReLU(inplace=True), # input matches output\n",
    "            \n",
    "            # # Reduce the spatial dimensionality by using max pooling with size of 2 and stride of 2.\n",
    "            # # output size is input with last two dims divided by 2 and (kernel_size - stride) subracted\n",
    "            nn.MaxPool2d(kernel_size=4, stride=2), # input of size a, b, c, d has output of size a, b, c/2, d/2\n",
    "            \n",
    "            # # # Define another 2D convolution layer\n",
    "            # # # Be careful to define the correct number of input channels into your convolution layer\n",
    "            # # # based on the above formulas, MaxPool2d only affects c and d and the first conv layer affects b. Therefore the input channels of this conv is the output channels of the first conv layer.\n",
    "            # # # nn.Conv2d(in_channels=4, out_channels=196, kernel_size=3, stride=1, padding=1)\n",
    "            nn.Conv2d(in_channels=4, out_channels=1, kernel_size=4, stride=1, padding=1)\n",
    "        )\n",
    "\n",
    "        self.linear_layers = Sequential(\n",
    "            # Linear(4 * 7 * 7, 10)\n",
    "            Linear(121, 10)\n",
    "        )\n",
    "\n",
    "    # Defining the forward pass    \n",
    "    def forward(self, x):\n",
    "        x = self.cnn_layers(x)\n",
    "        x = x.view(x.size(0), -1)\n",
    "        x = self.linear_layers(x)\n",
    "        return x\n",
    "    \n",
    "model3 = ConvNet().to(device)\n",
    "print(model3)"
   ]
  },
  {
   "cell_type": "markdown",
   "id": "d607e68f",
   "metadata": {},
   "source": [
    "#### Optimizing the Model Parameters\n",
    "\n",
    "To train a model, define a loss function and an optimizer. Note: We are just using cross entropy loss and stochastic gradient descent as discussed in class."
   ]
  },
  {
   "cell_type": "code",
   "execution_count": 13,
   "id": "bc3ae58c",
   "metadata": {},
   "outputs": [],
   "source": [
    "model = model2\n",
    "loss_fn = nn.CrossEntropyLoss() # define loss\n",
    "optimizer = torch.optim.SGD(model.parameters(), lr=1e-3) # define optimizer"
   ]
  },
  {
   "cell_type": "markdown",
   "id": "301147a8",
   "metadata": {},
   "source": [
    "In a single training loop, the model makes predictions on the training dataset (fed to it in batches), and backpropagates the prediction error to adjust the model’s parameters.\n"
   ]
  },
  {
   "cell_type": "code",
   "execution_count": 14,
   "id": "f5f9daa0",
   "metadata": {},
   "outputs": [],
   "source": [
    "def train(dataloader, model, loss_fn, optimizer):\n",
    "    size = len(dataloader.dataset)\n",
    "    model.train()\n",
    "    for batch, (X, y) in enumerate(dataloader):\n",
    "        X, y = X.to(device), y.to(device)\n",
    "\n",
    "        # Compute prediction error\n",
    "        pred = model(X) # use model to make a prediction\n",
    "        loss = loss_fn(pred, y) # measure loss with respect to ground truth y\n",
    "\n",
    "        # Backpropagation\n",
    "        optimizer.zero_grad() # zero out gradients from last pass\n",
    "        loss.backward() # calculate gradients using cross-entropy\n",
    "        optimizer.step() # optimize model parameters\n",
    "\n",
    "        if batch % 100 == 0:\n",
    "            loss, current = loss.item(), batch * len(X)\n",
    "            print(f\"loss: {loss:>7f}  [{current:>5d}/{size:>5d}]\")"
   ]
  },
  {
   "cell_type": "markdown",
   "id": "804f4b39",
   "metadata": {},
   "source": [
    "Define a test function to test the model’s performance against the test dataset to ensure it is learning. This is typically called validation."
   ]
  },
  {
   "cell_type": "code",
   "execution_count": 15,
   "id": "5dc20150",
   "metadata": {},
   "outputs": [],
   "source": [
    "from torch.utils.data import DataLoader\n",
    "\n",
    "def test(dataloader, model, loss_fn):\n",
    "    size = len(dataloader.dataset)\n",
    "    num_batches = len(dataloader)\n",
    "    model.eval()\n",
    "    test_loss, correct = 0, 0\n",
    "    with torch.no_grad():\n",
    "        for X, y in dataloader:\n",
    "            X, y = X.to(device), y.to(device)\n",
    "            pred = model(X)\n",
    "            test_loss += loss_fn(pred, y).item()\n",
    "            correct += (pred.argmax(1) == y).type(torch.float).sum().item()\n",
    "    test_loss /= num_batches\n",
    "    correct /= size\n",
    "    print(f\"Test Error: \\n Accuracy: {(100*correct):>0.1f}%, Avg loss: {test_loss:>8f} \\n\")\n",
    "    return correct, test_loss"
   ]
  },
  {
   "cell_type": "markdown",
   "id": "c88c3cb3",
   "metadata": {},
   "source": [
    "The training process is conducted over several iterations (epochs). \n",
    "\n",
    "During each epoch, the model learns parameters to make better predictions. \n",
    "\n",
    "Print the model’s accuracy and loss at each epoch. You want to see the accuracy increase and the loss decrease with every epoch."
   ]
  },
  {
   "cell_type": "code",
   "execution_count": 16,
   "id": "03e55532",
   "metadata": {},
   "outputs": [
    {
     "name": "stdout",
     "output_type": "stream",
     "text": [
      "Epoch 1\n",
      "-------------------------------\n",
      "loss: 2.462717  [    0/60000]\n",
      "loss: 2.104897  [ 6400/60000]\n",
      "loss: 1.872805  [12800/60000]\n",
      "loss: 1.609197  [19200/60000]\n",
      "loss: 1.417023  [25600/60000]\n",
      "loss: 1.380254  [32000/60000]\n",
      "loss: 1.239048  [38400/60000]\n",
      "loss: 1.155055  [44800/60000]\n",
      "loss: 1.093497  [51200/60000]\n",
      "loss: 0.937245  [57600/60000]\n",
      "Test Error: \n",
      " Accuracy: 69.9%, Avg loss: 0.981814 \n",
      "\n",
      "Epoch 2\n",
      "-------------------------------\n",
      "loss: 1.021617  [    0/60000]\n",
      "loss: 0.978481  [ 6400/60000]\n",
      "loss: 0.768872  [12800/60000]\n",
      "loss: 0.871978  [19200/60000]\n",
      "loss: 0.844100  [25600/60000]\n",
      "loss: 0.869129  [32000/60000]\n",
      "loss: 0.771690  [38400/60000]\n",
      "loss: 0.750238  [44800/60000]\n",
      "loss: 0.746408  [51200/60000]\n",
      "loss: 0.664239  [57600/60000]\n",
      "Test Error: \n",
      " Accuracy: 76.3%, Avg loss: 0.726114 \n",
      "\n",
      "Epoch 3\n",
      "-------------------------------\n",
      "loss: 0.702254  [    0/60000]\n",
      "loss: 0.705085  [ 6400/60000]\n",
      "loss: 0.539227  [12800/60000]\n",
      "loss: 0.706386  [19200/60000]\n",
      "loss: 0.727065  [25600/60000]\n",
      "loss: 0.721408  [32000/60000]\n",
      "loss: 0.622569  [38400/60000]\n",
      "loss: 0.663578  [44800/60000]\n",
      "loss: 0.648666  [51200/60000]\n",
      "loss: 0.578506  [57600/60000]\n",
      "Test Error: \n",
      " Accuracy: 78.3%, Avg loss: 0.638453 \n",
      "\n",
      "Epoch 4\n",
      "-------------------------------\n",
      "loss: 0.582561  [    0/60000]\n",
      "loss: 0.600391  [ 6400/60000]\n",
      "loss: 0.459916  [12800/60000]\n",
      "loss: 0.638013  [19200/60000]\n",
      "loss: 0.671399  [25600/60000]\n",
      "loss: 0.649963  [32000/60000]\n",
      "loss: 0.547309  [38400/60000]\n",
      "loss: 0.631970  [44800/60000]\n",
      "loss: 0.609762  [51200/60000]\n",
      "loss: 0.540178  [57600/60000]\n",
      "Test Error: \n",
      " Accuracy: 79.5%, Avg loss: 0.591136 \n",
      "\n",
      "Epoch 5\n",
      "-------------------------------\n",
      "loss: 0.515746  [    0/60000]\n",
      "loss: 0.547233  [ 6400/60000]\n",
      "loss: 0.415431  [12800/60000]\n",
      "loss: 0.596286  [19200/60000]\n",
      "loss: 0.632412  [25600/60000]\n",
      "loss: 0.604751  [32000/60000]\n",
      "loss: 0.502801  [38400/60000]\n",
      "loss: 0.612836  [44800/60000]\n",
      "loss: 0.590593  [51200/60000]\n",
      "loss: 0.518710  [57600/60000]\n",
      "Test Error: \n",
      " Accuracy: 80.7%, Avg loss: 0.560031 \n",
      "\n",
      "Done!\n"
     ]
    }
   ],
   "source": [
    "model = model2\n",
    "epochs = 5 # you may want to increase this number\n",
    "loss_list = []\n",
    "acc_list = []\n",
    "for t in range(epochs):\n",
    "    print(f\"Epoch {t+1}\\n-------------------------------\")\n",
    "    train(train_dataloader, model, loss_fn, optimizer)\n",
    "    accuracy, loss = test(test_dataloader, model, loss_fn)\n",
    "    acc_list.append(accuracy)\n",
    "    loss_list.append(loss)\n",
    "print(\"Done!\")"
   ]
  },
  {
   "cell_type": "code",
   "execution_count": 17,
   "id": "bae0ea6f",
   "metadata": {},
   "outputs": [],
   "source": [
    "model = model3\n",
    "loss_fn = nn.CrossEntropyLoss() # define loss\n",
    "optimizer = torch.optim.SGD(model.parameters(), lr=1e-3) # define optimizer"
   ]
  },
  {
   "cell_type": "code",
   "execution_count": 18,
   "id": "77b0e06a",
   "metadata": {},
   "outputs": [
    {
     "name": "stdout",
     "output_type": "stream",
     "text": [
      "Epoch 1\n",
      "-------------------------------\n",
      "loss: 2.316478  [    0/60000]\n",
      "loss: 2.248791  [ 6400/60000]\n",
      "loss: 2.011776  [12800/60000]\n",
      "loss: 1.843271  [19200/60000]\n",
      "loss: 1.548742  [25600/60000]\n",
      "loss: 1.301876  [32000/60000]\n",
      "loss: 1.022011  [38400/60000]\n",
      "loss: 0.876714  [44800/60000]\n",
      "loss: 0.844530  [51200/60000]\n",
      "loss: 0.726668  [57600/60000]\n",
      "Test Error: \n",
      " Accuracy: 70.5%, Avg loss: 0.844756 \n",
      "\n",
      "Epoch 2\n",
      "-------------------------------\n",
      "loss: 0.860463  [    0/60000]\n",
      "loss: 0.863235  [ 6400/60000]\n",
      "loss: 0.552489  [12800/60000]\n",
      "loss: 0.755153  [19200/60000]\n",
      "loss: 0.770600  [25600/60000]\n",
      "loss: 0.841953  [32000/60000]\n",
      "loss: 0.646905  [38400/60000]\n",
      "loss: 0.659372  [44800/60000]\n",
      "loss: 0.623214  [51200/60000]\n",
      "loss: 0.587049  [57600/60000]\n",
      "Test Error: \n",
      " Accuracy: 74.8%, Avg loss: 0.687751 \n",
      "\n",
      "Epoch 3\n",
      "-------------------------------\n",
      "loss: 0.625569  [    0/60000]\n",
      "loss: 0.731772  [ 6400/60000]\n",
      "loss: 0.447868  [12800/60000]\n",
      "loss: 0.626215  [19200/60000]\n",
      "loss: 0.645215  [25600/60000]\n",
      "loss: 0.742976  [32000/60000]\n",
      "loss: 0.545286  [38400/60000]\n",
      "loss: 0.627961  [44800/60000]\n",
      "loss: 0.561201  [51200/60000]\n",
      "loss: 0.549986  [57600/60000]\n",
      "Test Error: \n",
      " Accuracy: 76.8%, Avg loss: 0.626329 \n",
      "\n",
      "Epoch 4\n",
      "-------------------------------\n",
      "loss: 0.538332  [    0/60000]\n",
      "loss: 0.687187  [ 6400/60000]\n",
      "loss: 0.410957  [12800/60000]\n",
      "loss: 0.569452  [19200/60000]\n",
      "loss: 0.586898  [25600/60000]\n",
      "loss: 0.687605  [32000/60000]\n",
      "loss: 0.490498  [38400/60000]\n",
      "loss: 0.607030  [44800/60000]\n",
      "loss: 0.536036  [51200/60000]\n",
      "loss: 0.534628  [57600/60000]\n",
      "Test Error: \n",
      " Accuracy: 78.2%, Avg loss: 0.591800 \n",
      "\n",
      "Epoch 5\n",
      "-------------------------------\n",
      "loss: 0.491213  [    0/60000]\n",
      "loss: 0.657490  [ 6400/60000]\n",
      "loss: 0.392492  [12800/60000]\n",
      "loss: 0.539245  [19200/60000]\n",
      "loss: 0.560674  [25600/60000]\n",
      "loss: 0.653712  [32000/60000]\n",
      "loss: 0.459299  [38400/60000]\n",
      "loss: 0.593389  [44800/60000]\n",
      "loss: 0.523945  [51200/60000]\n",
      "loss: 0.525083  [57600/60000]\n",
      "Test Error: \n",
      " Accuracy: 78.9%, Avg loss: 0.569507 \n",
      "\n",
      "Done!\n"
     ]
    }
   ],
   "source": [
    "model = model3\n",
    "epochs = 5 # you may want to increase this number\n",
    "loss_list = []\n",
    "acc_list = []\n",
    "for t in range(epochs):\n",
    "    print(f\"Epoch {t+1}\\n-------------------------------\")\n",
    "    train(train_dataloader, model, loss_fn, optimizer)\n",
    "    accuracy, loss = test(test_dataloader, model, loss_fn)\n",
    "    acc_list.append(accuracy)\n",
    "    loss_list.append(loss)\n",
    "print(\"Done!\")"
   ]
  },
  {
   "cell_type": "code",
   "execution_count": 19,
   "id": "20fded8e",
   "metadata": {},
   "outputs": [
    {
     "data": {
      "image/png": "[encoded data removed]",
      "text/plain": [
       "<Figure size 1600x800 with 1 Axes>"
      ]
     },
     "metadata": {},
     "output_type": "display_data"
    }
   ],
   "source": [
    "import matplotlib.pyplot as plt\n",
    "\n",
    "plt.plot(loss_list)\n",
    "plt.xlabel(\"no. of epochs\")\n",
    "plt.ylabel(\"total loss\")\n",
    "plt.title(\"Loss\")\n",
    "plt.show()"
   ]
  },
  {
   "cell_type": "code",
   "execution_count": 20,
   "id": "3912a743",
   "metadata": {},
   "outputs": [
    {
     "data": {
      "image/png": "[encoded data removed]",
      "text/plain": [
       "<Figure size 1600x800 with 1 Axes>"
      ]
     },
     "metadata": {},
     "output_type": "display_data"
    }
   ],
   "source": [
    "plt.plot(acc_list)\n",
    "plt.xlabel(\"no. of epochs\")\n",
    "plt.ylabel(\"total accuracy\")\n",
    "plt.title(\"Accuracy\")\n",
    "plt.show()"
   ]
  },
  {
   "cell_type": "markdown",
   "id": "5aa1f320",
   "metadata": {},
   "source": [
    "#### Saving Models\n",
    "\n",
    "You'll want to save your models so you don't have to retrain each time!\n",
    "\n",
    "A common way to save a model is to serialize the internal state dictionary (containing the model parameters).\n"
   ]
  },
  {
   "cell_type": "code",
   "execution_count": 21,
   "id": "32312b36",
   "metadata": {},
   "outputs": [
    {
     "name": "stdout",
     "output_type": "stream",
     "text": [
      "Saved PyTorch Model State to model.pth\n"
     ]
    }
   ],
   "source": [
    "torch.save(model.state_dict(), \"model.pth\")\n",
    "print(\"Saved PyTorch Model State to model.pth\")"
   ]
  },
  {
   "cell_type": "markdown",
   "id": "a8b27aa0",
   "metadata": {},
   "source": [
    "#### Loading Models\n",
    "\n",
    "The process for loading a model includes re-creating the model structure and loading the state dictionary into it."
   ]
  },
  {
   "cell_type": "code",
   "execution_count": 23,
   "id": "8902e1fb",
   "metadata": {},
   "outputs": [
    {
     "data": {
      "text/plain": [
       "<All keys matched successfully>"
      ]
     },
     "execution_count": 23,
     "metadata": {},
     "output_type": "execute_result"
    }
   ],
   "source": [
    "# model = NeuralNetwork()\n",
    "model = ConvNet()\n",
    "model.load_state_dict(torch.load(\"model.pth\"))"
   ]
  },
  {
   "cell_type": "markdown",
   "id": "863f91ef",
   "metadata": {},
   "source": [
    "#### Make predictions!"
   ]
  },
  {
   "cell_type": "code",
   "execution_count": 45,
   "id": "05f6b404",
   "metadata": {},
   "outputs": [
    {
     "name": "stdout",
     "output_type": "stream",
     "text": [
      "torch.Size([1, 1, 28, 28])\n",
      "Predicted: \"Ankle boot\", Actual: \"Ankle boot\"\n"
     ]
    }
   ],
   "source": [
    "classes = [\n",
    "    \"T-shirt/top\",\n",
    "    \"Trouser\",\n",
    "    \"Pullover\",\n",
    "    \"Dress\",\n",
    "    \"Coat\",\n",
    "    \"Sandal\",\n",
    "    \"Shirt\",\n",
    "    \"Sneaker\",\n",
    "    \"Bag\",\n",
    "    \"Ankle boot\",\n",
    "]\n",
    "\n",
    "model.eval()\n",
    "x, y = test_data[0][0], test_data[0][1]\n",
    "x = torch.unsqueeze(x, dim=0)\n",
    "# x = np.expand_dims(x, axis=0)\n",
    "print(x.shape)\n",
    "with torch.no_grad():\n",
    "    pred = model(x)\n",
    "    predicted, actual = classes[pred[0].argmax(0)], classes[y]\n",
    "    print(f'Predicted: \"{predicted}\", Actual: \"{actual}\"')"
   ]
  },
  {
   "cell_type": "code",
   "execution_count": 29,
   "id": "8a047a39",
   "metadata": {},
   "outputs": [
    {
     "data": {
      "image/png": "[encoded data removed]",
      "text/plain": [
       "<Figure size 1600x800 with 1 Axes>"
      ]
     },
     "metadata": {},
     "output_type": "display_data"
    }
   ],
   "source": [
    "import matplotlib.pyplot as plt\n",
    "\n",
    "img_ = test_data[0][0].numpy().reshape(28, 28)\n",
    "plt.imshow(img_, cmap='gray')\n",
    "plt.show()\n"
   ]
  },
  {
   "cell_type": "code",
   "execution_count": null,
   "id": "d1248f58",
   "metadata": {},
   "outputs": [],
   "source": []
  }
 ],
 "metadata": {
  "kernelspec": {
   "display_name": "Python 3.10.1 64-bit",
   "language": "python",
   "name": "python3"
  },
  "language_info": {
   "codemirror_mode": {
    "name": "ipython",
    "version": 3
   },
   "file_extension": ".py",
   "mimetype": "text/x-python",
   "name": "python",
   "nbconvert_exporter": "python",
   "pygments_lexer": "ipython3",
   "version": "3.10.1"
  },
  "vscode": {
   "interpreter": {
    "hash": "369f2c481f4da34e4445cda3fffd2e751bd1c4d706f27375911949ba6bb62e1c"
   }
  }
 },
 "nbformat": 4,
 "nbformat_minor": 5
}
