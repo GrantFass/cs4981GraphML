{
 "cells": [
  {
   "attachments": {},
   "cell_type": "markdown",
   "metadata": {},
   "source": [
    "## Imports"
   ]
  },
  {
   "cell_type": "code",
   "execution_count": 1,
   "metadata": {},
   "outputs": [
    {
     "name": "stderr",
     "output_type": "stream",
     "text": [
      "c:\\Python39\\lib\\site-packages\\past\\builtins\\misc.py:45: DeprecationWarning: the imp module is deprecated in favour of importlib; see the module's documentation for alternative uses\n",
      "  from imp import reload\n"
     ]
    }
   ],
   "source": [
    "import json\n",
    "import os\n",
    "from datetime import timedelta, datetime\n",
    "from time import sleep\n",
    "from sys import argv\n",
    "import gensim\n",
    "import gensim.corpora as corpora\n",
    "import sys\n",
    "import numpy as np\n",
    "import pandas as pd\n",
    "import matplotlib.pyplot as plt\n",
    "import seaborn as sns\n",
    "import pyLDAvis\n",
    "import pyLDAvis.gensim_models\n",
    "pyLDAvis.enable_notebook()\n",
    "import torch_geometric\n",
    "from functools import reduce\n",
    "from tqdm import tqdm\n",
    "from Preprocessing import Preprocessor\n",
    "preprocessor = Preprocessor(0)\n",
    "tqdm.pandas()"
   ]
  },
  {
   "attachments": {},
   "cell_type": "markdown",
   "metadata": {},
   "source": [
    "## Check if data is already joined locally"
   ]
  },
  {
   "cell_type": "code",
   "execution_count": 2,
   "metadata": {},
   "outputs": [
    {
     "data": {
      "text/html": [
       "<div>\n",
       "<style scoped>\n",
       "    .dataframe tbody tr th:only-of-type {\n",
       "        vertical-align: middle;\n",
       "    }\n",
       "\n",
       "    .dataframe tbody tr th {\n",
       "        vertical-align: top;\n",
       "    }\n",
       "\n",
       "    .dataframe thead th {\n",
       "        text-align: right;\n",
       "    }\n",
       "</style>\n",
       "<table border=\"1\" class=\"dataframe\">\n",
       "  <thead>\n",
       "    <tr style=\"text-align: right;\">\n",
       "      <th></th>\n",
       "      <th>course</th>\n",
       "      <th>unit</th>\n",
       "      <th>lesson</th>\n",
       "      <th>video_title</th>\n",
       "      <th>about</th>\n",
       "      <th>transcript</th>\n",
       "      <th>topic</th>\n",
       "      <th>transcript_cleaned</th>\n",
       "      <th>tokens</th>\n",
       "      <th>transcript_n_entries</th>\n",
       "    </tr>\n",
       "  </thead>\n",
       "  <tbody>\n",
       "    <tr>\n",
       "      <th>0</th>\n",
       "      <td>computer</td>\n",
       "      <td>Intro to JS: Drawing &amp; Animation</td>\n",
       "      <td>Intro to programming</td>\n",
       "      <td>What is Programming?</td>\n",
       "      <td>Programming is the process of creating a set o...</td>\n",
       "      <td>Hi, welcome to programming! If you've never le...</td>\n",
       "      <td>Computing</td>\n",
       "      <td>hi, welcome programming! never learned program...</td>\n",
       "      <td>['hi,', 'welcome', 'programming!', 'never', 'l...</td>\n",
       "      <td>183</td>\n",
       "    </tr>\n",
       "    <tr>\n",
       "      <th>1</th>\n",
       "      <td>computer</td>\n",
       "      <td>Intro to JS: Drawing &amp; Animation</td>\n",
       "      <td>Coloring</td>\n",
       "      <td>The Power of the Docs</td>\n",
       "      <td>Created by Pamela Fox.</td>\n",
       "      <td>Voiceover: Ok so you've\\r\\nmade a few programs...</td>\n",
       "      <td>Computing</td>\n",
       "      <td>voiceover: ok made programs, might wondering e...</td>\n",
       "      <td>['voiceover:', 'ok', 'made', 'programs,', 'mig...</td>\n",
       "      <td>542</td>\n",
       "    </tr>\n",
       "    <tr>\n",
       "      <th>2</th>\n",
       "      <td>computer</td>\n",
       "      <td>Intro to HTML/CSS: Making webpages</td>\n",
       "      <td>Further learning</td>\n",
       "      <td>HTML validation</td>\n",
       "      <td>Learn how to validate your webpages with the W...</td>\n",
       "      <td>- [Voiceover] On Khan Academy, we pop up the o...</td>\n",
       "      <td>Computing</td>\n",
       "      <td>- khan academy, pop oh noes guide tell somethi...</td>\n",
       "      <td>['-', 'khan', 'academy,', 'pop', 'oh', 'noes',...</td>\n",
       "      <td>172</td>\n",
       "    </tr>\n",
       "    <tr>\n",
       "      <th>3</th>\n",
       "      <td>computer</td>\n",
       "      <td>Intro to SQL: Querying and managing data</td>\n",
       "      <td>SQL basics</td>\n",
       "      <td>Welcome to SQL</td>\n",
       "      <td>SQL is useful for creating and querying relati...</td>\n",
       "      <td>- [Instructor] The world is full of data. Ever...</td>\n",
       "      <td>Computing</td>\n",
       "      <td>- world full data. every app use full data. kh...</td>\n",
       "      <td>['-', 'world', 'full', 'data.', 'every', 'app'...</td>\n",
       "      <td>203</td>\n",
       "    </tr>\n",
       "    <tr>\n",
       "      <th>4</th>\n",
       "      <td>computer</td>\n",
       "      <td>Intro to SQL: Querying and managing data</td>\n",
       "      <td>SQL basics</td>\n",
       "      <td>S-Q-L or SEQUEL?</td>\n",
       "      <td>How is it pronounced? Why? Let's discuss...</td>\n",
       "      <td>At this point, you've probably heard me\\r\\npro...</td>\n",
       "      <td>Computing</td>\n",
       "      <td>point, probably heard pronounce sql two ways--...</td>\n",
       "      <td>['point,', 'probably', 'heard', 'pronounce', '...</td>\n",
       "      <td>129</td>\n",
       "    </tr>\n",
       "  </tbody>\n",
       "</table>\n",
       "</div>"
      ],
      "text/plain": [
       "     course                                      unit                lesson  \\\n",
       "0  computer          Intro to JS: Drawing & Animation  Intro to programming   \n",
       "1  computer          Intro to JS: Drawing & Animation              Coloring   \n",
       "2  computer        Intro to HTML/CSS: Making webpages      Further learning   \n",
       "3  computer  Intro to SQL: Querying and managing data            SQL basics   \n",
       "4  computer  Intro to SQL: Querying and managing data            SQL basics   \n",
       "\n",
       "             video_title                                              about  \\\n",
       "0   What is Programming?  Programming is the process of creating a set o...   \n",
       "1  The Power of the Docs                             Created by Pamela Fox.   \n",
       "2        HTML validation  Learn how to validate your webpages with the W...   \n",
       "3         Welcome to SQL  SQL is useful for creating and querying relati...   \n",
       "4       S-Q-L or SEQUEL?       How is it pronounced? Why? Let's discuss...    \n",
       "\n",
       "                                          transcript      topic  \\\n",
       "0  Hi, welcome to programming! If you've never le...  Computing   \n",
       "1  Voiceover: Ok so you've\\r\\nmade a few programs...  Computing   \n",
       "2  - [Voiceover] On Khan Academy, we pop up the o...  Computing   \n",
       "3  - [Instructor] The world is full of data. Ever...  Computing   \n",
       "4  At this point, you've probably heard me\\r\\npro...  Computing   \n",
       "\n",
       "                                  transcript_cleaned  \\\n",
       "0  hi, welcome programming! never learned program...   \n",
       "1  voiceover: ok made programs, might wondering e...   \n",
       "2  - khan academy, pop oh noes guide tell somethi...   \n",
       "3  - world full data. every app use full data. kh...   \n",
       "4  point, probably heard pronounce sql two ways--...   \n",
       "\n",
       "                                              tokens  transcript_n_entries  \n",
       "0  ['hi,', 'welcome', 'programming!', 'never', 'l...                   183  \n",
       "1  ['voiceover:', 'ok', 'made', 'programs,', 'mig...                   542  \n",
       "2  ['-', 'khan', 'academy,', 'pop', 'oh', 'noes',...                   172  \n",
       "3  ['-', 'world', 'full', 'data.', 'every', 'app'...                   203  \n",
       "4  ['point,', 'probably', 'heard', 'pronounce', '...                   129  "
      ]
     },
     "execution_count": 2,
     "metadata": {},
     "output_type": "execute_result"
    }
   ],
   "source": [
    "joined_exists = os.path.exists('khan_joined.csv')\n",
    "khan = pd.DataFrame([])\n",
    "if joined_exists:\n",
    "    khan = pd.read_csv('khan_joined.csv')\n",
    "khan.head(5)"
   ]
  },
  {
   "attachments": {},
   "cell_type": "markdown",
   "metadata": {},
   "source": [
    "## Load each domain separately if not already joined"
   ]
  },
  {
   "cell_type": "code",
   "execution_count": 3,
   "metadata": {},
   "outputs": [],
   "source": [
    "if not joined_exists:\n",
    "    computing = pd.read_csv(\"Datasets\\\\KhanAcademy\\\\Computing.csv\")\n",
    "    computing = computing.dropna()\n",
    "    computing['topic'] = 'Computing'\n",
    "    computing.info()"
   ]
  },
  {
   "cell_type": "code",
   "execution_count": 4,
   "metadata": {},
   "outputs": [],
   "source": [
    "if not joined_exists:\n",
    "    economics = pd.read_csv(\"Datasets\\\\KhanAcademy\\\\Economics.csv\")\n",
    "    economics = economics.dropna()\n",
    "    economics['topic'] = 'Economics'\n",
    "    economics.info()"
   ]
  },
  {
   "cell_type": "code",
   "execution_count": 5,
   "metadata": {},
   "outputs": [],
   "source": [
    "if not joined_exists:\n",
    "    humanities = pd.read_csv(\"Datasets\\\\KhanAcademy\\\\Humanities.csv\")\n",
    "    humanities = humanities.dropna()\n",
    "    humanities['topic'] = 'Humanities'\n",
    "    humanities.info()"
   ]
  },
  {
   "cell_type": "code",
   "execution_count": 6,
   "metadata": {},
   "outputs": [],
   "source": [
    "if not joined_exists:\n",
    "    math = pd.read_csv(\"Datasets\\\\KhanAcademy\\\\Math.csv\")\n",
    "    math = math.dropna()\n",
    "    math['topic'] = 'Math'\n",
    "    math.info()"
   ]
  },
  {
   "cell_type": "code",
   "execution_count": 7,
   "metadata": {},
   "outputs": [],
   "source": [
    "if not joined_exists:\n",
    "    science = pd.read_csv(\"Datasets\\\\KhanAcademy\\\\Science.csv\")\n",
    "    science = science.dropna()\n",
    "    science['topic'] = 'Science'\n",
    "    science.info()"
   ]
  },
  {
   "attachments": {},
   "cell_type": "markdown",
   "metadata": {},
   "source": [
    "## Display the unique courses for each domain"
   ]
  },
  {
   "cell_type": "code",
   "execution_count": 8,
   "metadata": {},
   "outputs": [],
   "source": [
    "if not joined_exists:\n",
    "    computing['course'].value_counts()"
   ]
  },
  {
   "cell_type": "code",
   "execution_count": 9,
   "metadata": {},
   "outputs": [],
   "source": [
    "if not joined_exists:\n",
    "    economics['course'].value_counts()"
   ]
  },
  {
   "cell_type": "code",
   "execution_count": 10,
   "metadata": {},
   "outputs": [],
   "source": [
    "if not joined_exists:\n",
    "    humanities['course'].value_counts()"
   ]
  },
  {
   "cell_type": "code",
   "execution_count": 11,
   "metadata": {},
   "outputs": [],
   "source": [
    "if not joined_exists:\n",
    "    math['course'].value_counts()"
   ]
  },
  {
   "cell_type": "code",
   "execution_count": 12,
   "metadata": {},
   "outputs": [],
   "source": [
    "if not joined_exists:\n",
    "    science['course'].value_counts()"
   ]
  },
  {
   "attachments": {},
   "cell_type": "markdown",
   "metadata": {},
   "source": [
    "## Join the domains into one file"
   ]
  },
  {
   "cell_type": "code",
   "execution_count": 13,
   "metadata": {},
   "outputs": [],
   "source": [
    "if not joined_exists:\n",
    "    khan_dfs = [computing, economics, humanities, math, science]\n",
    "    khan = pd.concat(khan_dfs, axis=0)\n",
    "    khan.info()"
   ]
  },
  {
   "attachments": {},
   "cell_type": "markdown",
   "metadata": {},
   "source": [
    "## Clean up some of the course so they can be used as ground truth labels"
   ]
  },
  {
   "cell_type": "code",
   "execution_count": 14,
   "metadata": {},
   "outputs": [
    {
     "data": {
      "text/plain": [
       "algebra                                         1287\n",
       "calculus                                         947\n",
       "chemistry                                        909\n",
       "history                                          769\n",
       "biology                                          757\n",
       "physics                                          743\n",
       "statistics                                       626\n",
       "economics                                        502\n",
       "geometry                                         345\n",
       "Finance and capital markets                      317\n",
       "Electrical engineering                           198\n",
       "Pixar in a Box                                   175\n",
       "US government and civics                         139\n",
       "Cosmology and astronomy                           89\n",
       "AP®︎/College US Government and Politics           87\n",
       "Trigonometry                                      76\n",
       "computer                                          75\n",
       "Differential equations                            70\n",
       "Storytelling                                      69\n",
       "AP®︎/College Environmental science                49\n",
       "Middle school Earth and space science - NGSS      19\n",
       "Code.org                                          13\n",
       "Name: course, dtype: int64"
      ]
     },
     "execution_count": 14,
     "metadata": {},
     "output_type": "execute_result"
    }
   ],
   "source": [
    "# if not joined_exists:\n",
    "# remap the courses to more broad categories: https://stackoverflow.com/a/16476974\n",
    "labels = ['physics', 'chemistry', 'biology', 'algebra', 'geometry', 'statistics', 'calculus', 'history', 'economics', 'computer']\n",
    "for lbl in labels:\n",
    "    # print(lbl)\n",
    "    for index, row in khan.iterrows():\n",
    "        if lbl in row['course'].lower():\n",
    "            row['course'] = lbl\n",
    "khan['course'].value_counts()"
   ]
  },
  {
   "cell_type": "code",
   "execution_count": 15,
   "metadata": {},
   "outputs": [
    {
     "data": {
      "text/html": [
       "<div>\n",
       "<style scoped>\n",
       "    .dataframe tbody tr th:only-of-type {\n",
       "        vertical-align: middle;\n",
       "    }\n",
       "\n",
       "    .dataframe tbody tr th {\n",
       "        vertical-align: top;\n",
       "    }\n",
       "\n",
       "    .dataframe thead th {\n",
       "        text-align: right;\n",
       "    }\n",
       "</style>\n",
       "<table border=\"1\" class=\"dataframe\">\n",
       "  <thead>\n",
       "    <tr style=\"text-align: right;\">\n",
       "      <th></th>\n",
       "      <th>course</th>\n",
       "      <th>unit</th>\n",
       "      <th>lesson</th>\n",
       "      <th>video_title</th>\n",
       "      <th>about</th>\n",
       "      <th>transcript</th>\n",
       "      <th>topic</th>\n",
       "      <th>transcript_cleaned</th>\n",
       "      <th>tokens</th>\n",
       "      <th>transcript_n_entries</th>\n",
       "    </tr>\n",
       "  </thead>\n",
       "  <tbody>\n",
       "    <tr>\n",
       "      <th>8259</th>\n",
       "      <td>physics</td>\n",
       "      <td>Review for AP Physics 1 exam</td>\n",
       "      <td>AP Physics 1 free response questions 2015</td>\n",
       "      <td>Question 4: 2015 AP Physics 1 free response</td>\n",
       "      <td>Identical spheres falling from the same height...</td>\n",
       "      <td>- [Voiceover] Two identical\\r\\nspheres are rel...</td>\n",
       "      <td>Science</td>\n",
       "      <td>- two identical spheres released device time e...</td>\n",
       "      <td>['-', 'two', 'identical', 'spheres', 'released...</td>\n",
       "      <td>673</td>\n",
       "    </tr>\n",
       "    <tr>\n",
       "      <th>8260</th>\n",
       "      <td>physics</td>\n",
       "      <td>Review for AP Physics 1 exam</td>\n",
       "      <td>AP Physics 1 free response questions 2015</td>\n",
       "      <td>Question 5: 2015 AP Physics 1 free response</td>\n",
       "      <td>Fundamental frequencies (first harmonics) of s...</td>\n",
       "      <td>- [Voiceover] The figure\\r\\nabove shows a stri...</td>\n",
       "      <td>Science</td>\n",
       "      <td>- figure shows string one end attached oscilla...</td>\n",
       "      <td>['-', 'figure', 'shows', 'string', 'one', 'end...</td>\n",
       "      <td>901</td>\n",
       "    </tr>\n",
       "  </tbody>\n",
       "</table>\n",
       "</div>"
      ],
      "text/plain": [
       "       course                          unit  \\\n",
       "8259  physics  Review for AP Physics 1 exam   \n",
       "8260  physics  Review for AP Physics 1 exam   \n",
       "\n",
       "                                         lesson  \\\n",
       "8259  AP Physics 1 free response questions 2015   \n",
       "8260  AP Physics 1 free response questions 2015   \n",
       "\n",
       "                                      video_title  \\\n",
       "8259  Question 4: 2015 AP Physics 1 free response   \n",
       "8260  Question 5: 2015 AP Physics 1 free response   \n",
       "\n",
       "                                                  about  \\\n",
       "8259  Identical spheres falling from the same height...   \n",
       "8260  Fundamental frequencies (first harmonics) of s...   \n",
       "\n",
       "                                             transcript    topic  \\\n",
       "8259  - [Voiceover] Two identical\\r\\nspheres are rel...  Science   \n",
       "8260  - [Voiceover] The figure\\r\\nabove shows a stri...  Science   \n",
       "\n",
       "                                     transcript_cleaned  \\\n",
       "8259  - two identical spheres released device time e...   \n",
       "8260  - figure shows string one end attached oscilla...   \n",
       "\n",
       "                                                 tokens  transcript_n_entries  \n",
       "8259  ['-', 'two', 'identical', 'spheres', 'released...                   673  \n",
       "8260  ['-', 'figure', 'shows', 'string', 'one', 'end...                   901  "
      ]
     },
     "execution_count": 15,
     "metadata": {},
     "output_type": "execute_result"
    }
   ],
   "source": [
    "khan.tail(2)"
   ]
  },
  {
   "attachments": {},
   "cell_type": "markdown",
   "metadata": {},
   "source": [
    "## Clean up the transcripts using the preprocessor"
   ]
  },
  {
   "cell_type": "code",
   "execution_count": 16,
   "metadata": {},
   "outputs": [],
   "source": [
    "if not joined_exists:\n",
    "    # It takes 21 min to run SpaCy preprocessing over each record in the data\n",
    "    khan['transcript_cleaned'] = khan['transcript'].progress_apply(lambda x: preprocessor.clean(x, fast=True))\n",
    "    print(khan['transcript_cleaned'][0])"
   ]
  },
  {
   "attachments": {},
   "cell_type": "markdown",
   "metadata": {},
   "source": [
    "## Tokenize the transcript using the preprocessor"
   ]
  },
  {
   "cell_type": "code",
   "execution_count": 17,
   "metadata": {},
   "outputs": [],
   "source": [
    "if not joined_exists:\n",
    "    # clear up the lists to be unique only.\n",
    "    khan['tokens'] = khan['transcript'].progress_apply(lambda x: preprocessor.clean(x, tokenize=True, fast=True))\n",
    "    print(len(khan['tokens'][0]))\n",
    "    print(khan['tokens'][0])"
   ]
  },
  {
   "cell_type": "code",
   "execution_count": 18,
   "metadata": {},
   "outputs": [],
   "source": [
    "if not joined_exists:\n",
    "# if not False:\n",
    "    khan['transcript_n_entries'] = khan['tokens'].progress_apply(lambda x: len(x))\n",
    "    khan.head(5)"
   ]
  },
  {
   "cell_type": "code",
   "execution_count": 19,
   "metadata": {},
   "outputs": [
    {
     "data": {
      "text/html": [
       "<div>\n",
       "<style scoped>\n",
       "    .dataframe tbody tr th:only-of-type {\n",
       "        vertical-align: middle;\n",
       "    }\n",
       "\n",
       "    .dataframe tbody tr th {\n",
       "        vertical-align: top;\n",
       "    }\n",
       "\n",
       "    .dataframe thead th {\n",
       "        text-align: right;\n",
       "    }\n",
       "</style>\n",
       "<table border=\"1\" class=\"dataframe\">\n",
       "  <thead>\n",
       "    <tr style=\"text-align: right;\">\n",
       "      <th></th>\n",
       "      <th>course</th>\n",
       "      <th>unit</th>\n",
       "      <th>lesson</th>\n",
       "      <th>video_title</th>\n",
       "      <th>about</th>\n",
       "      <th>transcript</th>\n",
       "      <th>topic</th>\n",
       "      <th>transcript_cleaned</th>\n",
       "      <th>tokens</th>\n",
       "      <th>transcript_n_entries</th>\n",
       "    </tr>\n",
       "  </thead>\n",
       "  <tbody>\n",
       "    <tr>\n",
       "      <th>0</th>\n",
       "      <td>computer</td>\n",
       "      <td>Intro to JS: Drawing &amp; Animation</td>\n",
       "      <td>Intro to programming</td>\n",
       "      <td>What is Programming?</td>\n",
       "      <td>Programming is the process of creating a set o...</td>\n",
       "      <td>Hi, welcome to programming! If you've never le...</td>\n",
       "      <td>Computing</td>\n",
       "      <td>hi, welcome programming! never learned program...</td>\n",
       "      <td>['hi,', 'welcome', 'programming!', 'never', 'l...</td>\n",
       "      <td>183</td>\n",
       "    </tr>\n",
       "  </tbody>\n",
       "</table>\n",
       "</div>"
      ],
      "text/plain": [
       "     course                              unit                lesson  \\\n",
       "0  computer  Intro to JS: Drawing & Animation  Intro to programming   \n",
       "\n",
       "            video_title                                              about  \\\n",
       "0  What is Programming?  Programming is the process of creating a set o...   \n",
       "\n",
       "                                          transcript      topic  \\\n",
       "0  Hi, welcome to programming! If you've never le...  Computing   \n",
       "\n",
       "                                  transcript_cleaned  \\\n",
       "0  hi, welcome programming! never learned program...   \n",
       "\n",
       "                                              tokens  transcript_n_entries  \n",
       "0  ['hi,', 'welcome', 'programming!', 'never', 'l...                   183  "
      ]
     },
     "execution_count": 19,
     "metadata": {},
     "output_type": "execute_result"
    }
   ],
   "source": [
    "khan.head(1)"
   ]
  },
  {
   "attachments": {},
   "cell_type": "markdown",
   "metadata": {},
   "source": [
    "## Save the results to a local file to speed up rerunning further documents"
   ]
  },
  {
   "cell_type": "code",
   "execution_count": 20,
   "metadata": {},
   "outputs": [],
   "source": [
    "if not joined_exists:\n",
    "# if not False:\n",
    "    khan.to_csv(\"khan_joined.csv\", index=False)"
   ]
  },
  {
   "attachments": {},
   "cell_type": "markdown",
   "metadata": {},
   "source": [
    "## Train a simple unsupervised LDA model on the transcripts"
   ]
  },
  {
   "cell_type": "code",
   "execution_count": 21,
   "metadata": {},
   "outputs": [
    {
     "name": "stdout",
     "output_type": "stream",
     "text": [
      "22\n"
     ]
    }
   ],
   "source": [
    "num_topics = len(khan['course'].value_counts())\n",
    "print(num_topics)"
   ]
  },
  {
   "cell_type": "code",
   "execution_count": 22,
   "metadata": {},
   "outputs": [
    {
     "name": "stdout",
     "output_type": "stream",
     "text": [
      "<class 'str'>\n"
     ]
    }
   ],
   "source": [
    "print(type(khan['tokens'][0]))"
   ]
  },
  {
   "cell_type": "code",
   "execution_count": 23,
   "metadata": {},
   "outputs": [
    {
     "name": "stdout",
     "output_type": "stream",
     "text": [
      "<class 'list'>\n",
      "CPU times: total: 4.34 s\n",
      "Wall time: 4.34 s\n"
     ]
    }
   ],
   "source": [
    "%%time\n",
    "# LDA Normal\n",
    "# temp = [d.split() for d in corpus]\n",
    "temp = [doc.split() for doc in khan['tokens']]\n",
    "print(type(temp))\n",
    "words = corpora.Dictionary(temp)\n",
    "words.filter_extremes(no_below=15, no_above=0.5, keep_n=100000)\n",
    "corpus = [words.doc2bow(doc) for doc in temp]"
   ]
  },
  {
   "cell_type": "code",
   "execution_count": 24,
   "metadata": {},
   "outputs": [
    {
     "name": "stdout",
     "output_type": "stream",
     "text": [
      "CPU times: total: 1min 50s\n",
      "Wall time: 1min 44s\n"
     ]
    }
   ],
   "source": [
    "%%time\n",
    "lda_model = gensim.models.ldamodel.LdaModel(corpus=corpus,\n",
    "                                           id2word=words,\n",
    "                                           num_topics=num_topics,\n",
    "                                           random_state=2,\n",
    "                                           update_every=1,\n",
    "                                           passes=15,\n",
    "                                           alpha='auto')"
   ]
  },
  {
   "attachments": {},
   "cell_type": "markdown",
   "metadata": {},
   "source": [
    "## Prepare a visualization of the LDA model for investigation"
   ]
  },
  {
   "cell_type": "code",
   "execution_count": 25,
   "metadata": {},
   "outputs": [
    {
     "name": "stderr",
     "output_type": "stream",
     "text": [
      "c:\\Python39\\lib\\site-packages\\pyLDAvis\\_prepare.py:246: FutureWarning: In a future version of pandas all arguments of DataFrame.drop except for the argument 'labels' will be keyword-only.\n",
      "  default_term_info = default_term_info.sort_values(\n"
     ]
    }
   ],
   "source": [
    "vis = pyLDAvis.gensim_models.prepare(lda_model, corpus, words, mds='mmds', R=10)"
   ]
  },
  {
   "cell_type": "code",
   "execution_count": 26,
   "metadata": {},
   "outputs": [
    {
     "data": {
      "text/html": [
       "\n",
       "<link rel=\"stylesheet\" type=\"text/css\" href=\"https://cdn.jsdelivr.net/gh/bmabey/pyLDAvis@3.3.1/pyLDAvis/js/ldavis.v1.0.0.css\">\n",
       "\n",
       "\n",
       "<div id=\"ldavis_el1513618990422977761101739462\"></div>\n",
       "<script type=\"text/javascript\">\n",
       "\n",
       "var ldavis_el1513618990422977761101739462_data = {\"mdsDat\": {\"x\": [0.04685495872521536, -0.20303239865831113, -0.07942068521122259, -0.08149524926532768, -0.3404816493989089, 0.1960064988188173, 0.06713740951922362, 0.15437124594836607, -0.17062942469384726, -0.2880025737928047, -0.0831570069487478, -0.3833286007122526, 0.14405995242800337, 0.36395879218150146, 0.38258690578273347, 0.3327735165716691, 0.23890576840620054, 0.17568925569688804, -0.3606937699019098, 0.042640093647708516, -0.1834695392135102, 0.028726500070515866], \"y\": [0.35213348038803727, -0.04399186594955779, 0.3469202089251676, 0.007396891676581044, -0.1458934326633226, -0.3138626487472939, 0.11421381625204403, 0.3576531054729232, -0.24438933728650117, 0.21619978794514869, 0.22543965305705635, 0.09956291051527577, -0.14087291062746338, 0.026880230515737364, -0.2038996446739971, 0.11649144775439994, 0.2705420780392417, -0.013007747962630396, -0.04043227374368801, -0.19327786309091166, -0.4267737951199272, -0.3670320906763194], \"topics\": [1, 2, 3, 4, 5, 6, 7, 8, 9, 10, 11, 12, 13, 14, 15, 16, 17, 18, 19, 20, 21, 22], \"cluster\": [1, 1, 1, 1, 1, 1, 1, 1, 1, 1, 1, 1, 1, 1, 1, 1, 1, 1, 1, 1, 1, 1], \"Freq\": [10.587494730157832, 9.23021177773238, 8.912244242729038, 7.694979050524458, 6.263165829736674, 6.135380492641894, 5.5564866912472475, 5.399917535842199, 4.857525006447845, 4.71967548856081, 4.6876005194989, 4.381133408576273, 2.723211947945296, 2.645608848546906, 2.6318136384275594, 2.4930568589736484, 2.453209577589904, 2.4006319434220607, 2.220979579529548, 2.1313072406594307, 1.1175281599596207, 0.7568374312504762]}, \"tinfo\": {\"Term\": [\"'x',\", \"'times',\", \"'negative',\", \"'energy',\", \"'plus',\", \"'minus',\", \"'per',\", \"'carbon',\", \"'electron',\", \"'force',\", \"'matrix',\", \"'matrix.',\", \"'3.',\", \"'7.',\", \"'determinant',\", \"'matrix,',\", \"'r1',\", \"'9.',\", \"'r2',\", \"'r2.',\", \"'4',\", \"'5.',\", \"'6.',\", \"'3',\", \"'2,',\", \"'1,',\", \"'2',\", \"'1.',\", \"'3,',\", \"'1',\", \"'2.',\", \"'0',\", \"'b',\", \"'minus',\", \"'plus',\", \"'times',\", \"'vector',\", \"'negative',\", \"'squared',\", \"'cells',\", \"'proteins',\", \"'membrane',\", \"'blood',\", \"'genetic',\", \"'flux.',\", \"'gene',\", \"'cells.',\", \"'chromosomes',\", \"'induce',\", \"'cell',\", \"'cell.',\", \"'dna',\", \"'rna',\", \"'inside',\", \"'-',\", \"'called',\", \"'things',\", \"'kind',\", \"'part',\", \"'need',\", \"'use',\", \"'angular',\", \"'sine',\", \"'cosine',\", \"'theta',\", \"'angle.',\", \"'theta.',\", \"'angle,',\", \"'angles',\", \"'theta,',\", \"'displacement',\", \"'triangle',\", \"'tangent',\", \"'x',\", \"'angle',\", \"'f',\", \"'pi',\", \"'root',\", \"'square',\", \"'negative',\", \"'squared',\", \"'negatively',\", \"'axial',\", \"'mechanism.',\", \"'bumps',\", \"'samples',\", \"'vi',\", \"'configuration.',\", \"'foil',\", \"'activated',\", \"'predator',\", \"'maybe',\", \"'liquid,',\", \"'mercury',\", \"'guy',\", \"'super',\", \"'know,',\", \"'say,',\", \"'bunch',\", \"'probably',\", \"'guys',\", \"'kind',\", \"'type',\", \"'things',\", \"'lot',\", \"'whole',\", \"'essentially',\", \"'is,',\", \"'it,',\", \"'supreme',\", \"'constitution',\", \"'african',\", \"'amendment',\", \"'ecosystem',\", \"'democratic',\", \"'bacteria.',\", \"'constitutional',\", \"'election',\", \"'voting',\", \"'vote',\", \"'president',\", \"'congress',\", \"'citizens',\", \"'populations',\", \"'native',\", \"'party',\", \"'united',\", \"'court',\", \"'american',\", \"'states',\", \"'rights',\", \"'political',\", \"'population',\", \"'people',\", \"'new',\", \"'government',\", \"'-',\", \"'many',\", \"'state',\", \"'so,',\", \"'time',\", \"'bond',\", \"'carbon,',\", \"'carbon.',\", \"'lone',\", \"'valence',\", \"'carbons',\", \"'bond.',\", \"'ring.',\", \"'electrons.',\", \"'oxygens',\", \"'carbon',\", \"'oxygen',\", \"'electrons',\", \"'hydrogen',\", \"'group',\", \"'ahead',\", \"'electron',\", \"'draw',\", \"'form',\", \"'q1',\", \"'cylinder',\", \"'q2',\", \"'linearly',\", \"'cylinder.',\", \"'q1.',\", \"'constant--',\", \"'input',\", \"'p2',\", \"'p1',\", \"'differential',\", \"'slope,',\", \"'slope',\", \"'function',\", \"'t,',\", \"'=',\", \"'change',\", \"'graph',\", \"'area',\", \"'respect',\", \"'integral',\", \"'partial',\", \"'point',\", \"'line',\", \"'value',\", \"'x',\", \"'baseball',\", \"'decay.',\", \"'equivalence',\", \"'cubed,',\", \"'4.5',\", \"'perimeter',\", \"'stretch.',\", \"'92',\", \"'sixth,',\", \"'ha',\", \"'scores',\", \"'grams',\", \"'1.8',\", \"'nine',\", \"'plug',\", \"'eight',\", \"'seven',\", \"'six',\", \"'zero',\", \"'five',\", \"'negative',\", \"'three',\", \"'four',\", \"'two,',\", \"'one,',\", \"'times',\", \"'10',\", \"'plus',\", \"'so,',\", \"'minus',\", \"'gas',\", \"'entropy',\", \"'temperature.',\", \"'molecule.',\", \"'temperature,',\", \"'orbital',\", \"'kilograms',\", \"'acid,',\", \"'heat',\", \"'particles,',\", \"'temperature',\", \"'molecules',\", \"'bonded',\", \"'energy.',\", \"'energy,',\", \"'water',\", \"'energy',\", \"'acid',\", \"'system',\", \"'pressure',\", \"'state',\", \"'bank',\", \"'assets',\", \"'debt',\", \"'cash',\", \"'equity',\", \"'banks',\", \"'reserve',\", \"'lend',\", \"'$100',\", \"'equity.',\", \"'stock',\", \"'company',\", \"'money',\", \"'money.',\", \"'pay',\", \"'interest',\", \"'worth',\", \"'money,',\", \"'million',\", \"'billion',\", \"'buy',\", \"'year',\", \"'people',\", \"'government',\", \"'null',\", \"'sampling',\", \"'deviation',\", \"'deviations',\", \"'360',\", \"'factorial,',\", \"'hypothesis,',\", \"'score',\", \"'deviation.',\", \"'median',\", \"'data',\", \"'hypothesis',\", \"'distribution',\", \"'probability',\", \"'sample',\", \"'proportion',\", \"'standard',\", \"'random',\", \"'mean',\", \"'l',\", \"'number',\", \"'p',\", \"'population',\", \"'less',\", \"'empire',\", \"'roman',\", \"'[steven]',\", \"'voiceover:',\", \"'empire.',\", \"'[beth]',\", \"'empire,',\", \"'zucker:',\", \"'harris:',\", \"'hypothesis.',\", \"'king',\", \"'british',\", \"'dr.',\", \"'war',\", \"'french',\", \"'-',\", \"'world',\", \"'war.',\", \"'great',\", \"'able',\", \"'people',\", \"'many',\", \"'time',\", \"'focal',\", \"'lens',\", \"'mirror',\", \"'refraction',\", \"'wavelength.',\", \"'mirror.',\", \"'image.',\", \"'parabolic',\", \"'reflection',\", \"'lens.',\", \"'image',\", \"'light',\", \"'ray',\", \"'parallel',\", \"'rays',\", \"'distance',\", \"'object',\", \"'point',\", \"'draw',\", \"'side',\", \"'angle',\", \"'hour.',\", \"'hour,',\", \"'degrees?',\", \"'concentration.',\", \"'1,000.',\", \"'truck',\", \"'cups.',\", \"'500,',\", \"'280',\", \"'elastic,',\", \"'instantaneous',\", \"'hours.',\", \"'60',\", \"'per',\", \"'hours',\", \"'40',\", \"'tennis',\", \"'20',\", \"'30',\", \"'rate',\", \"'degrees',\", \"'average',\", \"'50',\", \"'100',\", \"'10',\", \"'divided',\", \"'figure',\", \"'times',\", \"'number',\", \"'marginal',\", \"'cost.',\", \"'utility',\", \"'firms',\", \"'pound',\", \"'berries.',\", \"'chocolate',\", \"'berries',\", \"'rabbit',\", \"'propensity',\", \"'cost',\", \"'revenue',\", \"'aggregate',\", \"'gdp',\", \"'cost,',\", \"'incremental',\", \"'price',\", \"'demand',\", \"'costs',\", \"'quantity',\", \"'opportunity',\", \"'supply',\", \"'curve',\", \"'produce',\", \"'total',\", \"'rotational',\", \"'inertia',\", \"'acceleration.',\", \"'acceleration,',\", \"'gravity.',\", \"'accelerating',\", \"'gravity,',\", \"'tension,',\", \"'force?',\", \"'mg',\", \"'gravity',\", \"'accelerate',\", \"'gravitational',\", \"'force',\", \"'newtons',\", \"'force,',\", \"'mass.',\", \"'mass',\", \"'component',\", \"'magnitude',\", \"'mass,',\", \"'object',\", \"'net',\", \"'acceleration',\", \"'direction',\", \"'vector',\", \"'times',\", \"'log',\", \"'logarithm',\", \"'diverging',\", \"'cards',\", \"'x1',\", \"'nth',\", \"'decay,',\", \"'log,',\", \"'tails,',\", \"'curvature',\", \"'variance',\", \"'n,',\", \"'n',\", \"'n.',\", \"'e',\", \"'natural',\", \"'alpha',\", \"'power.',\", \"'k',\", \"'sub',\", \"'power',\", \"'times',\", \"'number',\", \"'minus',\", \"'electric',\", \"'magnetic',\", \"'voltage',\", \"'wire',\", \"'reference,',\", \"'circuit',\", \"'current.',\", \"'wire.',\", \"'current,',\", \"'wire,',\", \"'field',\", \"'field.',\", \"'volume.',\", \"'current',\", \"'volume',\", \"'charge',\", \"'field,',\", \"'resistance',\", \"'potential',\", \"'pressure',\", \"'positive',\", \"'point',\", \"'capacitor',\", \"'quantum',\", \"'capacitors',\", \"'neutrons',\", \"'neutrons.',\", \"'tube',\", \"'neutrons,',\", \"'emit',\", \"'discharge',\", \"'emits',\", \"'.',\", \"'helium',\", \"'atomic',\", \"'species',\", \"'nucleus',\", \"'years',\", \"'protons',\", \"'mass',\", \"'things',\", \"'8th',\", \"'momentum,',\", \"'kinematic',\", \"'radius.',\", \"'9.8',\", \"'speeding',\", \"'impulse',\", \"'momentum.',\", \"'velocities',\", \"'velocity',\", \"'momentum',\", \"'frame',\", \"'ball,',\", \"'velocity,',\", \"'speed',\", \"'v',\", \"'radius',\", \"'meters',\", \"'ball',\", \"'r',\", \"'final',\", \"'times',\", \"'time',\", \"'per',\", \"'configurations',\", \"'na',\", \"'star,',\", \"'atmosphere',\", \"'crust',\", \"'star.',\", \"'calvin',\", \"'hemisphere',\", \"'greenhouse',\", \"'molten',\", \"'solar',\", \"'earths',\", \"'star',\", \"'pole.',\", \"'atmosphere.',\", \"'hydrogen.',\", \"'silver',\", \"'atmosphere,',\", \"'spin',\", \"'sun.',\", \"'sun',\", \"'electron',\", \"'earth',\", \"'level',\", \"'level.',\", \"'energy',\", \"'model',\", \"'level,',\", \"'north',\", \"'wavelength',\", \"'waves',\", \"'constructive',\", \"'destructive',\", \"'wave,',\", \"'wave.',\", \"'wavelength,',\", \"'wave',\", \"'rope',\", \"'film.',\", \"'frequency',\", \"'bright',\", \"'path',\", \"'speed',\", \"'got',\", \"'length',\"], \"Freq\": [28332.0, 37100.0, 26597.0, 11465.0, 24112.0, 22960.0, 8802.0, 8645.0, 5911.0, 6330.0, 1635.9973633223406, 569.0644502306492, 1998.884704456928, 494.7992266008357, 485.2843473607909, 388.1444778707421, 395.0217593399191, 354.3364149054944, 296.3752690272668, 283.9468642666038, 3587.7575483144115, 1231.4212313975934, 910.058765388359, 5631.4010111799425, 3322.4994010401333, 3681.1567489730483, 9511.051311033772, 3906.394607854481, 2061.4507560529305, 8629.233669697307, 3264.58423931104, 2952.6327082524554, 6083.1390532594, 14769.355402933972, 15001.016049850345, 17714.280509569115, 4253.963467881253, 6016.16748248491, 4018.3520237700773, 2180.53711331836, 886.9456632771588, 820.0859236294419, 980.6219214752829, 754.1273525185529, 733.6260273308984, 720.2447066747317, 696.0445018731929, 662.0597602572236, 614.9341132049816, 3015.448124124234, 803.1877582880294, 2102.9631356992213, 741.1057979166218, 1295.7789774870591, 2548.9597094712512, 1967.8473114170333, 2180.3219231662915, 1961.4800739175028, 1375.0129478792635, 1319.048524730931, 1334.736365017044, 6193.641997467592, 5612.528988112087, 4160.701624025529, 3704.0375914426922, 1709.1816941546692, 1636.767198182068, 1609.1703896353172, 1557.3332201832084, 1188.7380765710159, 1277.667086031569, 2078.4392621362927, 1413.7638195575742, 25313.84791527865, 5591.279079227651, 4628.320591963237, 3831.4157644511906, 3781.7357836519504, 4642.686458748251, 6047.3927331987115, 4001.700075009068, 414.914632501151, 317.6510549213958, 247.97161724162027, 230.63782744764998, 194.55391539639987, 158.33405934843688, 147.7117901214108, 99.79146483632427, 97.46978588561949, 94.28466986879347, 7229.225870570841, 186.74442779148822, 163.31360622216707, 1264.609793734731, 677.3032899924099, 2300.7353361808828, 3663.95249994968, 1445.5798241897924, 1761.8559909626147, 877.196312838401, 4326.305671155976, 1696.0610898673085, 3333.9527667755533, 2601.791356600318, 2125.3932277246363, 2055.436287551082, 2402.3627094107424, 1972.681741649826, 508.6991806617975, 496.52084203532064, 470.65861713562356, 419.6380794081433, 292.3618967844256, 239.24344041452673, 232.1665174106405, 222.93598634699904, 212.13488932926492, 211.26062361364106, 536.8491197952148, 630.4702906481147, 456.94190398566303, 321.118700493364, 442.6339014504635, 537.0758253426536, 581.5637064377705, 1906.4251390541565, 598.8008993161715, 1345.0088606150928, 2122.101072230281, 603.5170453013685, 664.4033303815715, 1729.476267548096, 3455.47645547616, 1766.1291248845564, 1020.2365071083248, 1231.328358933519, 1219.9966508760197, 902.7180189547481, 1185.4998757831872, 1028.7040025695806, 3487.6716675042194, 1902.2537828662937, 1721.240132299188, 1692.0333082776688, 1567.2233116107748, 1388.7123008774768, 963.0505610494631, 542.5778255915131, 2081.2096955751276, 359.5571627724198, 8590.481392101194, 3490.437921559302, 7808.5812685801175, 4398.370648057277, 3050.761398661965, 2948.6371645766435, 3271.8977058601668, 3604.044631684819, 2182.3296950988556, 731.378649502383, 665.2643328834042, 600.7107109577368, 267.198401757221, 237.04797674108727, 212.27035919485473, 196.13840683023363, 1746.8428836952519, 163.7340568508763, 158.33144269837746, 717.7850270309949, 250.8418617366809, 2260.1131423915376, 4130.040424900136, 1098.7288721768339, 333.35976135774825, 6314.351659016022, 1703.8147483435548, 3222.3769701271804, 1653.4645084532733, 1138.757867521802, 1306.1506616762797, 3757.9351907291743, 2131.1174007218638, 1742.3050711558756, 2099.5914542783917, 580.075133762008, 374.61588468404324, 216.04724906576658, 134.08107202037334, 120.73720466712616, 112.8665351294912, 95.01771869950059, 88.5193410215409, 74.60433233801402, 69.64932547831582, 78.056708403316, 828.2235400015604, 118.89266657373003, 1282.8223377365935, 1444.2171770018615, 1604.7273224613268, 1420.2874544861031, 2968.1504228125596, 3434.2550891932488, 3265.1507220469734, 12210.329238651471, 6354.979321683026, 4385.794706514256, 2521.7744189759405, 3129.8525316140476, 7037.937201859122, 2839.37380680938, 4703.393348321507, 3223.94583061323, 3109.6378330084362, 1172.1020833489347, 729.3242947394674, 703.7499055689491, 667.0523780405202, 592.6117618192891, 553.1236244966829, 540.805858688368, 464.4988100917578, 3596.207960408108, 368.2805909532739, 2776.282821194077, 2438.054521989533, 1016.0762388742454, 2467.473009391551, 1848.135558321477, 3432.513548908198, 8985.389571295404, 1224.8259143554299, 1948.2170018103207, 1443.2886383042382, 1478.8003045200737, 1904.880639054981, 728.4439047925238, 567.7911116100713, 555.2596187991553, 544.2697287578462, 509.7163173091738, 483.342227629401, 444.4163501672821, 506.74905392602267, 387.7041309060855, 671.4640608779486, 1016.6166054500112, 2789.9844440363936, 865.3342206428689, 2143.243203867569, 1365.3229299289687, 1107.081807377025, 611.0959348054307, 1649.092110821544, 1122.6443011922104, 1192.5869671900268, 1163.4409430388805, 2020.0683764204362, 1212.830263873762, 1197.8357305213356, 614.7448706101088, 818.153472770986, 304.617375846462, 230.41922670709985, 224.51659180775488, 203.9888862937195, 211.3324059768671, 176.00942828021314, 426.61178833778774, 1791.4358997551706, 639.5554425703742, 1676.046603331365, 3233.8440381857663, 2735.4902854044067, 683.1186654285739, 2502.9487200258377, 1394.8593655630782, 2302.7147717477924, 1323.4950826487188, 3063.138948853333, 1515.5115130376066, 1500.5012323582378, 1519.5761126693174, 763.8372248831388, 651.4487528610404, 506.8833569872699, 451.4409872045376, 405.2781787840033, 408.0776179166665, 342.44705407045603, 315.8811896627527, 309.2905099966264, 305.78291690869384, 447.6436371668796, 769.441701951071, 640.675067798032, 1819.755356530124, 522.7124959951128, 3821.482087441053, 1328.9547870065894, 515.5295348898095, 919.488249916456, 1026.152097593081, 898.1350220537713, 783.1630809265549, 784.7085017647539, 839.0855097564671, 720.183911058006, 395.5495760772778, 388.3355199796147, 315.4331491109315, 287.2826299638216, 273.87209055319147, 231.70338055923852, 220.54118908516008, 207.55340972296548, 1625.2323097601184, 2945.4379891720773, 675.5090445079426, 854.7732724214908, 365.0983901156047, 1615.0597328028905, 930.7568372223617, 1969.8627082899272, 1564.9227753884245, 1066.1643952956392, 946.4677377642229, 322.6789584671795, 242.84288864191214, 121.32736121040622, 195.7834236526094, 81.6663044284883, 63.88243206334603, 60.62541115493028, 46.343884521460666, 43.748389410415065, 71.98938763485539, 329.9135464714489, 153.8118252525705, 945.0199683891582, 6585.890291107736, 402.88249725355035, 607.5534339146917, 381.8196908505046, 1378.6854268647587, 1037.7892734627533, 1903.0648679367441, 1458.2320629130038, 1695.0055229663549, 806.0785058848319, 1145.3325395056634, 2287.046220193586, 1242.0220617542586, 1351.2665679110132, 1362.5478604480863, 1161.7813328977227, 2041.8844370479412, 438.39002530115357, 373.59343269052556, 317.34417718264046, 299.32100876691476, 297.32982977637596, 261.2055919670817, 210.46305841131255, 210.5428682812612, 175.87883067085266, 2571.955595954507, 865.5688545658733, 729.2325534305716, 578.7176380305054, 417.5569222558285, 541.6684510963106, 2918.4420562701066, 1723.0567325503837, 529.6168880351894, 1489.587956453529, 923.8113343058391, 1057.4078753213369, 1333.6471970418786, 1387.3389689011608, 1395.6247423355924, 634.076751340801, 523.5474375861572, 470.32513430855573, 299.91840447397493, 251.21575705965998, 210.13582984640334, 177.77341047078983, 115.71894770577329, 106.52756001603586, 104.47330210495157, 695.2023549176822, 288.08267744286354, 620.5645614518343, 5533.315079757057, 949.7238940368381, 739.9362599161315, 560.0853641346885, 3407.126368252126, 992.1766918779964, 1740.800731143537, 702.0564397813849, 1316.5263382434657, 1095.3599907087446, 970.3968393495246, 1208.3573502099807, 1410.195918089347, 1242.7620586049638, 2596.334821658638, 269.4401257893262, 265.70955319565627, 190.1636258690298, 182.72777284288577, 179.97048243553465, 166.10443634878465, 134.1414464548435, 110.05950669915083, 112.71369024333555, 264.32272087279966, 652.7210316987951, 5305.382359155741, 716.120642212343, 1996.6514943529214, 2324.603806471349, 803.1008505845132, 913.7757892814052, 1089.7605109608528, 727.3046918506788, 1086.4616844555358, 3741.8255294960527, 1298.8684739507066, 1183.9016630894855, 2283.177441491471, 1500.0520990822702, 1118.7145751631704, 562.3136594812469, 311.744423270004, 307.8602130101963, 187.2536012387021, 184.03847269263613, 166.60898525604324, 150.26409714558483, 2246.5227580929823, 503.973456921575, 309.1371645193243, 1430.8050644599084, 975.972610217546, 2331.9579302241755, 378.30665298978363, 410.98084121117347, 909.8094291399141, 814.8520621699766, 1048.5037378466473, 1035.1061839127206, 1086.2086060193371, 805.9185427988009, 530.3757495751299, 446.3056298039455, 332.539106245047, 224.8904096137653, 193.18065813585918, 162.55692732467284, 120.91135245993077, 115.40132698032171, 389.2054131983864, 345.7539238509673, 745.9767223389148, 649.9200258168469, 732.9382608349043, 1099.9622340905967, 716.2068304495784, 794.3763849589286, 829.5062289616827, 246.9239979186374, 203.8896189641051, 172.4639699402606, 147.27281435402537, 131.52285221210929, 130.56767163253969, 129.37161174722698, 324.5039364770387, 93.95540660014959, 2809.7275246588483, 1170.1606395280385, 920.5072098367153, 275.7338916516952, 517.3188307679048, 1586.9258956917208, 1769.078867181693, 897.7416586186149, 1684.008298098628, 882.3421667569778, 1832.2552391125394, 875.5888598922268, 2348.0883070360815, 1277.8783905347934, 993.5416533899958, 126.85152610642909, 83.37026623566503, 74.52348087897624, 254.4064052845082, 71.26808708027141, 71.0509537174196, 66.85654641743331, 60.37156162031987, 58.006475401245325, 48.15534450909198, 239.96320579782565, 261.0568116992276, 295.933648230371, 155.0388274437951, 172.51788946211465, 699.4235579821517, 308.9599323879968, 134.7699172519359, 266.1205292364939, 254.13880496370976, 416.30631698104344, 2630.6517275677966, 620.907856068936, 742.3713830723714, 463.9369353959288, 2032.8195647612376, 486.4297208197515, 453.4800273171649, 472.3869761618997, 637.3023772535029, 456.00350700407483, 351.4572672232329, 302.3680676757668, 219.60101255503693, 173.24357256324254, 161.9386249026743, 1455.1283052622402, 58.15279814463153, 53.866468762105015, 515.9384747706052, 227.89829043534763, 254.1063635399054, 281.72242834762426, 300.57024658565655, 276.7878308359273], \"Total\": [28332.0, 37100.0, 26597.0, 11465.0, 24112.0, 22960.0, 8802.0, 8645.0, 5911.0, 6330.0, 1637.0116342925462, 570.0787211832838, 2002.5813049417786, 495.8162458666477, 486.2986186732514, 389.158749045934, 396.073045944128, 355.3583386545285, 297.38956459, 284.9617736644551, 3633.887936329554, 1237.640691208244, 915.705593634566, 5818.563322882746, 3407.934775293291, 3787.4324909368465, 9981.852676496257, 4054.0414929236335, 2114.6194552591537, 9646.378819371705, 3501.579293282704, 3159.193188598731, 7562.927403994144, 22960.37966231135, 24112.558133528935, 37100.08449764833, 6009.806876872234, 26597.136739549253, 9029.020744354017, 2181.5612232982453, 887.950932233369, 821.0903965724095, 981.9030842160003, 755.1318309551771, 734.6305002923317, 721.249179616277, 697.0555882475695, 663.0642331922138, 615.9385861461558, 3030.8235016105073, 805.3134387995032, 2258.4816514095855, 754.5741403864349, 1966.0856255948652, 7610.138626912319, 5823.89209555755, 9941.71243626532, 11479.070459884664, 5505.068331590025, 6476.544927822065, 9111.437802536937, 6194.659064692055, 5613.545479836954, 4161.718115755975, 3705.054083167561, 1710.1981859276152, 1637.7836899069368, 1610.1868813677513, 1558.3497131047457, 1189.7545682958848, 1279.3619796613552, 2100.0826624167016, 1417.5513210316037, 28332.015203489947, 6582.404552419536, 5871.302827452693, 4837.007111604648, 4807.93958303686, 6684.271571749327, 26597.136739549253, 9029.020744354017, 415.9301282996093, 318.6665536112666, 248.9871130282816, 231.76266354019006, 195.57053053422368, 159.3595623924317, 148.72728589257824, 100.8076828001303, 98.48528165032, 95.30016563605399, 10436.113115169383, 198.9955098166707, 174.6444723532335, 1849.6720045241652, 934.4471879468747, 4127.372351338261, 7864.894229086621, 2466.31131031267, 3255.7222419299715, 1322.827594311144, 11479.070459884664, 3459.1539803687597, 9941.71243626532, 6845.390173274729, 5309.012507767935, 5082.533377298468, 7372.600875658315, 7882.998095830873, 509.6767849045755, 497.50397354206507, 471.63682668272065, 420.6155597977322, 293.33937095176765, 240.22219172224877, 233.14398871607887, 223.91442292404835, 213.112519786377, 212.23809494963177, 539.7668982053863, 635.6340925113428, 460.7820847706776, 322.7767556887165, 446.57794363001216, 549.942458403749, 603.8710521409796, 2220.8883446572936, 624.5458469215085, 1570.3210543134842, 2738.220761321291, 634.6790965481963, 728.7871408815424, 3280.8992965444822, 10611.009639156757, 5042.867530981397, 2284.6661238826705, 7610.138626912319, 7522.729270549231, 2670.5575657786603, 13964.41769724506, 8100.3127580655055, 3488.869396792645, 1903.2702453090965, 1722.2561513727906, 1693.049250443463, 1568.2392547933405, 1389.7286723782768, 964.0676714933763, 543.5937665647881, 2086.136335179109, 360.58211490378795, 8645.268134540984, 3553.2667436600636, 8026.792149755786, 4722.112545385566, 3630.7417824704676, 4116.99047687523, 5911.339626531197, 10075.970135101863, 4773.8540838140125, 732.3957518707216, 666.3162275154671, 601.7278133260753, 268.21550430268496, 238.06507910942588, 213.28746156319335, 197.1555092486362, 1756.8701380050563, 164.751159355707, 159.34854506671607, 729.4735985685282, 255.69045482720773, 2476.6291600708355, 5405.461197453647, 1280.2188687863736, 348.82652413868374, 10061.666716257805, 2301.2146581369893, 4955.043737518367, 2440.6721641951094, 1460.8783695286493, 1853.6091151237565, 12116.855158003067, 4405.089991828129, 6245.885817684933, 28332.015203489947, 581.0986585822651, 375.6394123613973, 217.07077388358675, 135.10459685238885, 121.79694463560723, 113.8900599528912, 96.04124353860007, 89.5428658449409, 75.6278578080343, 70.672850296136, 79.28235746525004, 894.5277580242904, 122.98986913720545, 1556.2653673288746, 1785.3976018660862, 2165.9104856634726, 1918.707183918851, 4455.85812393699, 5451.928524028967, 5159.5492013209905, 26597.136739549253, 12532.737237979662, 7953.887148038311, 5219.077409001346, 7911.708198616863, 37100.08449764833, 7462.8419263870355, 24112.558133528935, 13964.41769724506, 22960.37966231135, 1173.1877204296452, 730.3610984031219, 704.7878371990718, 668.0891883481477, 593.6486519642729, 554.1604277247995, 541.9726915580547, 465.5356133175189, 3605.3592304659383, 369.3174133693194, 2786.3231233358297, 2504.1055553029323, 1028.2838051327444, 2607.717994973994, 2003.451973454271, 3934.832717952182, 11465.330318942906, 1390.537015233123, 3427.4611358011034, 2271.103857231554, 2670.5575657786603, 1905.8529964462496, 729.4164006454455, 568.7641112055713, 556.2320230407283, 545.2423039923781, 510.68865932969754, 484.314562626816, 445.3886884242977, 507.92514207166585, 388.6765218720663, 675.1430499865331, 1029.6415552573706, 2926.916043438365, 884.2662456122665, 2354.8161998331025, 1517.8564743066918, 1266.45695505713, 627.0307215091013, 2374.878774199641, 1537.1710358355174, 1700.9972739550203, 1760.6176904408958, 10611.009639156757, 2284.6661238826705, 1198.8350910747035, 615.7438276437965, 820.0384469298991, 305.6159982018905, 231.41779121914635, 225.51514765743465, 204.98830942103604, 212.3827901015749, 177.00920022486673, 429.27534343062445, 1808.3152017619177, 643.7209813099613, 1709.5372290121052, 3340.2634294538766, 2846.9312060913044, 714.0976603823708, 2958.9580610030225, 1796.7511179619817, 3688.889910071911, 1778.0471232146358, 12137.381509844032, 3074.0427446301496, 3280.8992965444822, 5739.069467179529, 764.8136352868418, 652.4251065188988, 507.87064301059, 452.42178750443287, 406.2546319017099, 409.0832496388823, 343.4234091470887, 316.85940180506157, 310.26834903136273, 306.7592704387758, 456.9163038156337, 812.810510498086, 670.2271298885428, 2235.8276975182957, 555.0777009608614, 7610.138626912319, 2862.7392992567534, 580.6901990303135, 1856.0340037385827, 6039.814961781432, 10611.009639156757, 7522.729270549231, 8100.3127580655055, 840.1319468424517, 721.2303463982613, 396.5960115499266, 389.38195514909995, 316.47958428201224, 288.32906513330687, 274.9185281067937, 232.74981573342075, 221.58786135148608, 208.5998448997755, 1675.2632720276174, 3567.5438961432096, 738.3242785919215, 1040.5168546704717, 385.0067352848942, 3705.8615511389153, 2393.283032840779, 12116.855158003067, 10075.970135101863, 6651.492920999556, 6582.404552419536, 323.6984651133653, 243.86427374352382, 122.34686771395359, 198.48250550054934, 82.82354666078554, 64.90193842984253, 61.65299520523952, 47.36340526585299, 44.767898530862844, 73.68328126999927, 355.6264835217223, 163.12086403919355, 1108.1463166409499, 8802.639739731034, 454.59059687302914, 770.3178457850752, 464.62609681599287, 2096.845208249207, 1503.8151872811877, 3253.691097459468, 2491.8863545191093, 3032.6587281850784, 1212.625971698287, 2039.322778054914, 7462.8419263870355, 5078.753263921051, 7990.309350325235, 37100.08449764833, 12137.381509844032, 2042.857637277205, 439.36431615428666, 374.56656200520945, 318.31853306809995, 300.2941383520703, 298.3029900671472, 262.1787212706113, 211.4362099907368, 211.51706314322647, 176.8519613437563, 2597.234076017678, 871.0783061425275, 735.6327142010308, 587.7761797389329, 422.14746466500657, 553.1554637133219, 3184.271812758978, 1907.5329433035442, 552.3569941036028, 1791.6202604973564, 1053.6393658051882, 1252.9051994365764, 2231.2511867214944, 2381.4934359448603, 4904.701068888801, 635.1229376993866, 524.5936158173038, 471.3713125196098, 300.964582685029, 252.26193527327402, 211.18200805745738, 178.81958868440387, 116.7651259168273, 107.57373822964989, 105.51948031600558, 724.5745968321432, 296.135986944863, 651.6757503454411, 6330.262093343208, 1039.4293253409332, 805.6701492681101, 610.6771181893204, 4721.469697086595, 1168.313368545147, 2228.2156058047935, 828.5089397493103, 2393.283032840779, 2120.171536620035, 1657.842430563517, 3016.3733777944944, 6009.806876872234, 37100.08449764833, 2597.3598821013634, 270.4649201104461, 266.7343475161408, 191.18842020420715, 183.75256716464457, 180.99598990947445, 167.1292306685698, 135.16624077571942, 111.08433993371393, 113.77139227534863, 268.651025389821, 681.3898776820535, 5830.039434062616, 804.1740563311897, 2484.272659169195, 3270.073777158672, 1140.6811293259052, 1448.3315910134654, 1889.2459190895509, 1332.8081150332973, 2950.665679052722, 37100.08449764833, 12137.381509844032, 22960.37966231135, 2284.231179575898, 1501.1058371589488, 1119.768313239849, 563.3673976847937, 312.7981613586582, 308.91395108921597, 188.30733931538083, 185.09221076931487, 167.6627233367774, 151.31783522226357, 2383.5387696807397, 524.3557557460028, 320.4752422092702, 1816.759168917579, 1204.4647125017668, 4365.108651663121, 419.1563651056518, 489.5594260083006, 2365.382857447513, 2271.103857231554, 7696.97200552763, 12116.855158003067, 1087.2388515809278, 806.9488070581028, 531.4059951367205, 447.33646830012304, 333.56935180663766, 225.9705682572803, 194.21090369744988, 163.5871729143771, 121.94159802638596, 116.43157254463111, 445.7454374585305, 399.2428905184753, 1080.2893304251677, 940.50938093962, 1137.1870693099786, 2620.2368171836883, 1528.5423138428314, 4721.469697086595, 9941.71243626532, 247.97327812918635, 204.93889436586548, 173.5132453391603, 148.3221083186284, 132.572127611009, 131.61694928654242, 130.42088937291692, 331.06715830909394, 96.2544744069348, 2889.4468326777605, 1205.3571099537648, 970.4170625972936, 286.17106948325437, 561.5642539030969, 1894.968058016027, 2309.888906494205, 1188.952490136721, 2609.424922852978, 1194.3555706171994, 3070.910230260716, 1654.5645723500222, 37100.08449764833, 8100.3127580655055, 8802.639739731034, 127.88067066070208, 84.39941078887564, 75.55272158848146, 257.9370502096277, 72.29723210321993, 72.08011979979564, 67.88569139047003, 61.40071160401429, 59.03562002064942, 49.1845005120439, 245.189674308739, 269.0887135761957, 306.545168254834, 160.45306452221766, 179.7287346030858, 783.0799030436465, 346.63272048466524, 142.11122556730803, 303.1138014414114, 290.11729505576204, 537.4381208579824, 5911.339626531197, 1019.5186036346806, 1623.0902368052866, 755.8357129714682, 11465.330318942906, 949.7257470059947, 1043.4552706239053, 1230.7631739230033, 638.352588489062, 457.05463241812527, 352.5074768112876, 303.4182779739805, 220.65122246856296, 174.29378222966662, 162.98883447967444, 1467.216352939634, 59.20300774630192, 54.9166783804083, 530.171302782568, 257.29489595104906, 801.1420982728683, 1894.968058016027, 6758.566860448428, 3435.869208526283], \"Category\": [\"Default\", \"Default\", \"Default\", \"Default\", \"Default\", \"Default\", \"Default\", \"Default\", \"Default\", \"Default\", \"Topic1\", \"Topic1\", \"Topic1\", \"Topic1\", \"Topic1\", \"Topic1\", \"Topic1\", \"Topic1\", \"Topic1\", \"Topic1\", \"Topic1\", \"Topic1\", \"Topic1\", \"Topic1\", \"Topic1\", \"Topic1\", \"Topic1\", \"Topic1\", \"Topic1\", \"Topic1\", \"Topic1\", \"Topic1\", \"Topic1\", \"Topic1\", \"Topic1\", \"Topic1\", \"Topic1\", \"Topic1\", \"Topic1\", \"Topic2\", \"Topic2\", \"Topic2\", \"Topic2\", \"Topic2\", \"Topic2\", \"Topic2\", \"Topic2\", \"Topic2\", \"Topic2\", \"Topic2\", \"Topic2\", \"Topic2\", \"Topic2\", \"Topic2\", \"Topic2\", \"Topic2\", \"Topic2\", \"Topic2\", \"Topic2\", \"Topic2\", \"Topic2\", \"Topic3\", \"Topic3\", \"Topic3\", \"Topic3\", \"Topic3\", \"Topic3\", \"Topic3\", \"Topic3\", \"Topic3\", \"Topic3\", \"Topic3\", \"Topic3\", \"Topic3\", \"Topic3\", \"Topic3\", \"Topic3\", \"Topic3\", \"Topic3\", \"Topic3\", \"Topic3\", \"Topic4\", \"Topic4\", \"Topic4\", \"Topic4\", \"Topic4\", \"Topic4\", \"Topic4\", \"Topic4\", \"Topic4\", \"Topic4\", \"Topic4\", \"Topic4\", \"Topic4\", \"Topic4\", \"Topic4\", \"Topic4\", \"Topic4\", \"Topic4\", \"Topic4\", \"Topic4\", \"Topic4\", \"Topic4\", \"Topic4\", \"Topic4\", \"Topic4\", \"Topic4\", \"Topic4\", \"Topic4\", \"Topic5\", \"Topic5\", \"Topic5\", \"Topic5\", \"Topic5\", \"Topic5\", \"Topic5\", \"Topic5\", \"Topic5\", \"Topic5\", \"Topic5\", \"Topic5\", \"Topic5\", \"Topic5\", \"Topic5\", \"Topic5\", \"Topic5\", \"Topic5\", \"Topic5\", \"Topic5\", \"Topic5\", \"Topic5\", \"Topic5\", \"Topic5\", \"Topic5\", \"Topic5\", \"Topic5\", \"Topic5\", \"Topic5\", \"Topic5\", \"Topic5\", \"Topic5\", \"Topic6\", \"Topic6\", \"Topic6\", \"Topic6\", \"Topic6\", \"Topic6\", \"Topic6\", \"Topic6\", \"Topic6\", \"Topic6\", \"Topic6\", \"Topic6\", \"Topic6\", \"Topic6\", \"Topic6\", \"Topic6\", \"Topic6\", \"Topic6\", \"Topic6\", \"Topic7\", \"Topic7\", \"Topic7\", \"Topic7\", \"Topic7\", \"Topic7\", \"Topic7\", \"Topic7\", \"Topic7\", \"Topic7\", \"Topic7\", \"Topic7\", \"Topic7\", \"Topic7\", \"Topic7\", \"Topic7\", \"Topic7\", \"Topic7\", \"Topic7\", \"Topic7\", \"Topic7\", \"Topic7\", \"Topic7\", \"Topic7\", \"Topic7\", \"Topic7\", \"Topic8\", \"Topic8\", \"Topic8\", \"Topic8\", \"Topic8\", \"Topic8\", \"Topic8\", \"Topic8\", \"Topic8\", \"Topic8\", \"Topic8\", \"Topic8\", \"Topic8\", \"Topic8\", \"Topic8\", \"Topic8\", \"Topic8\", \"Topic8\", \"Topic8\", \"Topic8\", \"Topic8\", \"Topic8\", \"Topic8\", \"Topic8\", \"Topic8\", \"Topic8\", \"Topic8\", \"Topic8\", \"Topic8\", \"Topic8\", \"Topic9\", \"Topic9\", \"Topic9\", \"Topic9\", \"Topic9\", \"Topic9\", \"Topic9\", \"Topic9\", \"Topic9\", \"Topic9\", \"Topic9\", \"Topic9\", \"Topic9\", \"Topic9\", \"Topic9\", \"Topic9\", \"Topic9\", \"Topic9\", \"Topic9\", \"Topic9\", \"Topic9\", \"Topic10\", \"Topic10\", \"Topic10\", \"Topic10\", \"Topic10\", \"Topic10\", \"Topic10\", \"Topic10\", \"Topic10\", \"Topic10\", \"Topic10\", \"Topic10\", \"Topic10\", \"Topic10\", \"Topic10\", \"Topic10\", \"Topic10\", \"Topic10\", \"Topic10\", \"Topic10\", \"Topic10\", \"Topic10\", \"Topic10\", \"Topic10\", \"Topic11\", \"Topic11\", \"Topic11\", \"Topic11\", \"Topic11\", \"Topic11\", \"Topic11\", \"Topic11\", \"Topic11\", \"Topic11\", \"Topic11\", \"Topic11\", \"Topic11\", \"Topic11\", \"Topic11\", \"Topic11\", \"Topic11\", \"Topic11\", \"Topic11\", \"Topic11\", \"Topic11\", \"Topic11\", \"Topic11\", \"Topic11\", \"Topic12\", \"Topic12\", \"Topic12\", \"Topic12\", \"Topic12\", \"Topic12\", \"Topic12\", \"Topic12\", \"Topic12\", \"Topic12\", \"Topic12\", \"Topic12\", \"Topic12\", \"Topic12\", \"Topic12\", \"Topic12\", \"Topic12\", \"Topic12\", \"Topic12\", \"Topic12\", \"Topic12\", \"Topic12\", \"Topic12\", \"Topic13\", \"Topic13\", \"Topic13\", \"Topic13\", \"Topic13\", \"Topic13\", \"Topic13\", \"Topic13\", \"Topic13\", \"Topic13\", \"Topic13\", \"Topic13\", \"Topic13\", \"Topic13\", \"Topic13\", \"Topic13\", \"Topic13\", \"Topic13\", \"Topic13\", \"Topic13\", \"Topic13\", \"Topic14\", \"Topic14\", \"Topic14\", \"Topic14\", \"Topic14\", \"Topic14\", \"Topic14\", \"Topic14\", \"Topic14\", \"Topic14\", \"Topic14\", \"Topic14\", \"Topic14\", \"Topic14\", \"Topic14\", \"Topic14\", \"Topic14\", \"Topic14\", \"Topic14\", \"Topic14\", \"Topic14\", \"Topic14\", \"Topic14\", \"Topic14\", \"Topic14\", \"Topic14\", \"Topic14\", \"Topic14\", \"Topic14\", \"Topic15\", \"Topic15\", \"Topic15\", \"Topic15\", \"Topic15\", \"Topic15\", \"Topic15\", \"Topic15\", \"Topic15\", \"Topic15\", \"Topic15\", \"Topic15\", \"Topic15\", \"Topic15\", \"Topic15\", \"Topic15\", \"Topic15\", \"Topic15\", \"Topic15\", \"Topic15\", \"Topic15\", \"Topic15\", \"Topic15\", \"Topic15\", \"Topic15\", \"Topic16\", \"Topic16\", \"Topic16\", \"Topic16\", \"Topic16\", \"Topic16\", \"Topic16\", \"Topic16\", \"Topic16\", \"Topic16\", \"Topic16\", \"Topic16\", \"Topic16\", \"Topic16\", \"Topic16\", \"Topic16\", \"Topic16\", \"Topic16\", \"Topic16\", \"Topic16\", \"Topic16\", \"Topic16\", \"Topic16\", \"Topic16\", \"Topic16\", \"Topic16\", \"Topic16\", \"Topic17\", \"Topic17\", \"Topic17\", \"Topic17\", \"Topic17\", \"Topic17\", \"Topic17\", \"Topic17\", \"Topic17\", \"Topic17\", \"Topic17\", \"Topic17\", \"Topic17\", \"Topic17\", \"Topic17\", \"Topic17\", \"Topic17\", \"Topic17\", \"Topic17\", \"Topic17\", \"Topic17\", \"Topic17\", \"Topic17\", \"Topic17\", \"Topic18\", \"Topic18\", \"Topic18\", \"Topic18\", \"Topic18\", \"Topic18\", \"Topic18\", \"Topic18\", \"Topic18\", \"Topic18\", \"Topic18\", \"Topic18\", \"Topic18\", \"Topic18\", \"Topic18\", \"Topic18\", \"Topic18\", \"Topic18\", \"Topic18\", \"Topic18\", \"Topic18\", \"Topic18\", \"Topic19\", \"Topic19\", \"Topic19\", \"Topic19\", \"Topic19\", \"Topic19\", \"Topic19\", \"Topic19\", \"Topic19\", \"Topic19\", \"Topic19\", \"Topic19\", \"Topic19\", \"Topic19\", \"Topic19\", \"Topic19\", \"Topic19\", \"Topic19\", \"Topic19\", \"Topic20\", \"Topic20\", \"Topic20\", \"Topic20\", \"Topic20\", \"Topic20\", \"Topic20\", \"Topic20\", \"Topic20\", \"Topic20\", \"Topic20\", \"Topic20\", \"Topic20\", \"Topic20\", \"Topic20\", \"Topic20\", \"Topic20\", \"Topic20\", \"Topic20\", \"Topic20\", \"Topic20\", \"Topic20\", \"Topic20\", \"Topic20\", \"Topic21\", \"Topic21\", \"Topic21\", \"Topic21\", \"Topic21\", \"Topic21\", \"Topic21\", \"Topic21\", \"Topic21\", \"Topic21\", \"Topic21\", \"Topic21\", \"Topic21\", \"Topic21\", \"Topic21\", \"Topic21\", \"Topic21\", \"Topic21\", \"Topic21\", \"Topic21\", \"Topic21\", \"Topic21\", \"Topic21\", \"Topic21\", \"Topic21\", \"Topic21\", \"Topic21\", \"Topic21\", \"Topic21\", \"Topic22\", \"Topic22\", \"Topic22\", \"Topic22\", \"Topic22\", \"Topic22\", \"Topic22\", \"Topic22\", \"Topic22\", \"Topic22\", \"Topic22\", \"Topic22\", \"Topic22\", \"Topic22\", \"Topic22\", \"Topic22\"], \"logprob\": [10.0, 9.0, 8.0, 7.0, 6.0, 5.0, 4.0, 3.0, 2.0, 1.0, -5.4807, -6.5367, -5.2803, -6.6765, -6.6959, -6.9193, -6.9017, -7.0104, -7.189, -7.2319, -4.6954, -5.7647, -6.0672, -4.2445, -4.7722, -4.6697, -3.7205, -4.6103, -5.2495, -3.8178, -4.7898, -4.8902, -4.1674, -3.2804, -3.2648, -3.0985, -4.5251, -4.1785, -4.582, -5.0561, -5.9557, -6.0341, -5.8553, -6.1179, -6.1455, -6.1639, -6.1981, -6.2481, -6.322, -4.732, -6.0549, -5.0924, -6.1353, -5.5766, -4.9, -5.1588, -5.0562, -5.162, -5.5173, -5.5588, -5.547, -3.9771, -4.0757, -4.375, -4.4912, -5.2646, -5.3079, -5.3249, -5.3577, -5.6278, -5.5556, -5.069, -5.4544, -2.5693, -4.0795, -4.2685, -4.4574, -4.4705, -4.2654, -4.001, -4.4139, -6.5335, -6.8006, -7.0482, -7.1207, -7.2908, -7.4968, -7.5663, -7.9585, -7.982, -8.0152, -3.6757, -7.3318, -7.4659, -5.419, -6.0434, -4.8206, -4.3553, -5.2853, -5.0874, -5.7848, -4.1891, -5.1255, -4.4496, -4.6976, -4.8998, -4.9333, -4.7773, -4.9744, -6.1238, -6.148, -6.2015, -6.3163, -6.6777, -6.8782, -6.9082, -6.9488, -6.9985, -7.0026, -6.07, -5.9092, -6.2311, -6.5839, -6.2629, -6.0695, -5.99, -4.8027, -5.9607, -5.1515, -4.6955, -5.9529, -5.8568, -4.9001, -4.208, -4.8791, -5.4279, -5.2398, -5.2491, -5.5503, -5.2778, -5.4196, -4.1781, -4.7843, -4.8843, -4.9014, -4.978, -5.0989, -5.465, -6.0387, -4.6944, -6.4502, -3.2766, -4.1773, -3.3721, -3.9461, -4.3119, -4.346, -4.2419, -4.1452, -4.6469, -5.641, -5.7358, -5.8378, -6.648, -6.7677, -6.8781, -6.9571, -4.7704, -7.1377, -7.1713, -5.6598, -6.7111, -4.5128, -3.9099, -5.234, -6.4267, -3.4854, -4.7953, -4.1581, -4.8253, -5.1983, -5.0611, -4.0043, -4.5716, -4.773, -4.5865, -5.8442, -6.2815, -6.8319, -7.3089, -7.4138, -7.4812, -7.6533, -7.7242, -7.8952, -7.9639, -7.8499, -5.4881, -7.4292, -5.0506, -4.932, -4.8267, -4.9488, -4.2117, -4.0658, -4.1163, -2.7973, -3.4504, -3.8212, -4.3747, -4.1586, -3.3483, -4.256, -3.7513, -4.129, -4.1651, -5.035, -5.5094, -5.5451, -5.5986, -5.717, -5.7859, -5.8085, -5.9606, -3.9139, -6.1927, -4.1726, -4.3026, -5.1778, -4.2906, -4.5796, -3.9605, -2.9982, -4.991, -4.5268, -4.8268, -4.8025, -4.5206, -5.4818, -5.731, -5.7533, -5.7733, -5.8389, -5.892, -5.976, -5.8447, -6.1125, -5.5633, -5.1485, -4.1389, -5.3096, -4.4027, -4.8536, -5.0632, -5.6575, -4.6647, -5.0493, -4.9888, -5.0136, -4.4618, -4.972, -4.9776, -5.6447, -5.3589, -6.3469, -6.626, -6.652, -6.7478, -6.7125, -6.8954, -6.01, -4.5751, -5.6051, -4.6417, -3.9845, -4.1518, -5.5392, -4.2407, -4.8254, -4.3241, -4.8779, -4.0387, -4.7424, -4.7524, -4.7397, -5.3599, -5.5191, -5.77, -5.8859, -5.9937, -5.9868, -6.1622, -6.2429, -6.264, -6.2754, -5.8943, -5.3526, -5.5358, -4.4918, -5.7393, -3.7499, -4.8061, -5.7531, -5.1745, -5.0647, -5.198, -5.335, -5.333, -4.7905, -4.9433, -5.5425, -5.5609, -5.7689, -5.8623, -5.9101, -6.0773, -6.1267, -6.1874, -4.1294, -3.5348, -5.0073, -4.772, -5.6226, -4.1357, -4.6868, -3.9371, -4.1672, -4.551, -4.6701, -5.7172, -6.0015, -6.6954, -6.2169, -7.0912, -7.3368, -7.3892, -7.6578, -7.7154, -7.2174, -5.6951, -6.4582, -4.6427, -2.7012, -5.4952, -5.0844, -5.5489, -4.265, -4.549, -3.9427, -4.2089, -4.0584, -4.8017, -4.4504, -3.7589, -4.3694, -4.2851, -4.2768, -4.4362, -3.867, -5.4056, -5.5655, -5.7287, -5.7871, -5.7938, -5.9234, -6.1394, -6.139, -6.3189, -3.6362, -4.7253, -4.8967, -5.1278, -5.4542, -5.194, -3.5099, -4.0368, -5.2165, -4.1824, -4.6602, -4.5251, -4.293, -4.2535, -4.2476, -4.9823, -5.1739, -5.2811, -5.731, -5.9082, -6.0867, -6.254, -6.6833, -6.7661, -6.7856, -4.8903, -5.7712, -5.0039, -2.816, -4.5783, -4.8279, -5.1064, -3.3009, -4.5346, -3.9724, -4.8805, -4.2517, -4.4357, -4.5568, -4.3375, -4.183, -4.3094, -3.5565, -5.822, -5.836, -6.1705, -6.2104, -6.2256, -6.3058, -6.5195, -6.7174, -6.6935, -5.8412, -4.9372, -2.8419, -4.8445, -3.8192, -3.6671, -4.7299, -4.6008, -4.4247, -4.829, -4.4277, -3.1911, -4.2491, -4.3418, -3.6634, -4.0835, -4.3768, -5.0647, -5.6545, -5.6671, -6.1643, -6.1816, -6.2811, -6.3843, -3.6796, -5.1742, -5.6629, -4.1307, -4.5133, -3.6423, -5.461, -5.3782, -4.5835, -4.6937, -4.4416, -4.4545, -4.3285, -4.627, -5.0454, -5.2179, -5.5122, -5.9033, -6.0553, -6.2279, -6.5239, -6.5705, -5.3548, -5.4732, -4.7042, -4.8421, -4.7219, -4.3159, -4.745, -4.6414, -4.5981, -5.7686, -5.9601, -6.1275, -6.2854, -6.3985, -6.4058, -6.415, -5.4954, -6.7349, -3.3369, -4.2128, -4.4528, -5.6583, -5.0291, -3.9082, -3.7995, -4.4778, -3.8488, -4.4951, -3.7644, -4.5028, -3.5164, -4.1248, -4.3764, -5.7891, -6.2088, -6.321, -5.0932, -6.3657, -6.3687, -6.4296, -6.5316, -6.5716, -6.7577, -5.1516, -5.0674, -4.942, -5.5884, -5.4816, -4.0819, -4.8989, -5.7285, -5.0482, -5.0942, -4.6007, -2.7571, -4.2009, -4.0223, -4.4924, -3.0149, -4.445, -4.5152, -4.4743, -3.7851, -4.1199, -4.3803, -4.5307, -4.8506, -5.0877, -5.1552, -2.9595, -6.1793, -6.2559, -3.9964, -4.8135, -4.7046, -4.6015, -4.5367, -4.6191], \"loglift\": [10.0, 9.0, 8.0, 7.0, 6.0, 5.0, 4.0, 3.0, 2.0, 1.0, 2.2449, 2.2437, 2.2436, 2.2434, 2.2434, 2.2429, 2.2428, 2.2426, 2.2421, 2.2419, 2.2327, 2.2405, 2.2393, 2.2128, 2.2201, 2.217, 2.1972, 2.2084, 2.22, 2.1341, 2.1754, 2.1779, 2.0278, 1.8043, 1.7709, 1.5062, 1.9, 0.7591, 1.4359, 2.3822, 2.3816, 2.3815, 2.3814, 2.3814, 2.3813, 2.3813, 2.3812, 2.3812, 2.3811, 2.3776, 2.38, 2.3113, 2.3647, 1.9658, 1.2889, 1.2977, 0.8654, 0.6159, 0.9955, 0.7914, 0.4619, 2.4176, 2.4176, 2.4175, 2.4175, 2.4171, 2.4171, 2.4171, 2.4171, 2.4169, 2.4164, 2.4074, 2.4151, 2.3051, 2.2546, 2.1799, 2.1847, 2.1777, 2.0533, 0.9366, 1.604, 2.5622, 2.5614, 2.5605, 2.5597, 2.5594, 2.5581, 2.5578, 2.5545, 2.5542, 2.5539, 2.1975, 2.5011, 2.4975, 2.1844, 2.2428, 1.9802, 1.8007, 2.0304, 1.9506, 2.1538, 1.5888, 1.8519, 1.472, 1.5972, 1.6492, 1.6593, 1.4433, 1.1793, 2.7686, 2.7685, 2.7684, 2.7682, 2.7671, 2.7664, 2.7663, 2.7661, 2.7659, 2.7659, 2.7651, 2.7623, 2.7621, 2.7653, 2.7616, 2.7468, 2.7328, 2.6178, 2.7284, 2.6156, 2.5156, 2.7201, 2.678, 2.1302, 1.6486, 1.7213, 1.9643, 0.9491, 0.9514, 1.6859, 0.3041, 0.7069, 2.7908, 2.7906, 2.7905, 2.7905, 2.7905, 2.7904, 2.79, 2.7892, 2.7887, 2.7883, 2.7847, 2.7733, 2.7635, 2.7201, 2.6171, 2.4573, 2.1996, 1.763, 2.0083, 2.8888, 2.8886, 2.8885, 2.8864, 2.8859, 2.8854, 2.885, 2.8845, 2.884, 2.8838, 2.8741, 2.8711, 2.7987, 2.6211, 2.7373, 2.8449, 2.4243, 2.5896, 2.4599, 2.5008, 2.6411, 2.5402, 1.7195, 2.1641, 1.6135, 0.288, 2.917, 2.9161, 2.9141, 2.9112, 2.91, 2.9098, 2.9081, 2.9073, 2.9052, 2.9042, 2.9032, 2.8418, 2.8849, 2.7256, 2.7067, 2.6189, 2.618, 2.5125, 2.4566, 2.4612, 2.1403, 2.2397, 2.3235, 2.1914, 1.9914, 1.2565, 1.9524, 1.2843, 1.4529, 0.9195, 3.0237, 3.0232, 3.0232, 3.0231, 3.0229, 3.0228, 3.0225, 3.0224, 3.0221, 3.0218, 3.021, 2.9979, 3.0127, 2.9694, 2.9439, 2.8881, 2.7809, 2.8977, 2.4597, 2.5713, 2.4336, 3.0529, 3.0521, 3.0517, 3.0517, 3.0516, 3.0515, 3.0514, 3.0512, 3.0511, 3.0509, 3.048, 3.0407, 3.0055, 3.0318, 2.9593, 2.9475, 2.9189, 3.0277, 2.6887, 2.7392, 2.6983, 2.6391, 1.3947, 2.4202, 3.0594, 3.0586, 3.0579, 3.057, 3.0559, 3.0558, 3.0554, 3.0553, 3.0546, 3.054, 3.0509, 3.0538, 3.0405, 3.0279, 3.0203, 3.0159, 2.8929, 2.8071, 2.589, 2.765, 1.6834, 2.353, 2.2779, 1.7314, 3.1266, 3.1264, 3.1259, 3.1257, 3.1255, 3.1254, 3.125, 3.1248, 3.1247, 3.1247, 3.1074, 3.073, 3.0828, 2.922, 3.0678, 2.439, 2.3605, 3.0088, 2.4255, 1.3553, 0.6585, 0.8655, 0.7935, 3.6021, 3.6019, 3.6007, 3.6007, 3.6, 3.5997, 3.5995, 3.5989, 3.5986, 3.5983, 3.573, 3.4117, 3.5144, 3.4067, 3.5503, 2.7728, 2.6589, 1.7867, 1.741, 1.7726, 1.6639, 3.6291, 3.6281, 3.6239, 3.6186, 3.6182, 3.6164, 3.6155, 3.6105, 3.6092, 3.609, 3.5572, 3.5735, 3.473, 3.3421, 3.5115, 3.3949, 3.436, 3.213, 3.2614, 3.0959, 3.0965, 3.0505, 3.2239, 3.0553, 2.4496, 2.2239, 1.8551, 0.328, 1.2859, 3.637, 3.6353, 3.6349, 3.6344, 3.6343, 3.6342, 3.6338, 3.6329, 3.6329, 3.632, 3.6277, 3.6312, 3.6288, 3.622, 3.6266, 3.6165, 3.5503, 3.5358, 3.5955, 3.4529, 3.506, 3.4679, 3.1229, 3.0972, 2.3806, 3.69, 3.6897, 3.6894, 3.6882, 3.6875, 3.6867, 3.6858, 3.6827, 3.6819, 3.6817, 3.6503, 3.6641, 3.6427, 3.5571, 3.6014, 3.6066, 3.6052, 3.3654, 3.5282, 3.4448, 3.526, 3.094, 3.0312, 3.1561, 2.7769, 2.242, 0.2954, 3.7074, 3.704, 3.7039, 3.7024, 3.7022, 3.7021, 3.7016, 3.7002, 3.6985, 3.6984, 3.6915, 3.6648, 3.6135, 3.5918, 3.4893, 3.3665, 3.3569, 3.2472, 3.1576, 3.1021, 2.7087, 1.4137, 1.473, 0.7428, 3.729, 3.7287, 3.7285, 3.7276, 3.7261, 3.726, 3.7238, 3.7237, 3.7231, 3.7225, 3.6702, 3.6898, 3.6934, 3.4906, 3.5191, 3.1025, 3.6269, 3.5545, 2.774, 2.7044, 1.736, 1.2693, 3.8063, 3.8059, 3.8053, 3.8049, 3.8041, 3.8024, 3.8019, 3.8009, 3.7987, 3.7983, 3.6716, 3.6634, 3.4369, 3.4376, 3.368, 2.9392, 3.0491, 2.0249, 1.3236, 3.8442, 3.8433, 3.8424, 3.8413, 3.8405, 3.8404, 3.8404, 3.8284, 3.8243, 3.8205, 3.8188, 3.7956, 3.8113, 3.7664, 3.671, 3.5817, 3.5675, 3.4105, 3.5457, 3.332, 3.212, 1.0884, 2.0017, 1.6669, 4.486, 4.4818, 4.4803, 4.4803, 4.4797, 4.4797, 4.4788, 4.4771, 4.4765, 4.4729, 4.4725, 4.4637, 4.4588, 4.4597, 4.4531, 4.3811, 4.379, 4.441, 4.3639, 4.3616, 4.2387, 3.6844, 3.9981, 3.7118, 4.006, 2.7641, 3.825, 3.6607, 3.5365, 4.8821, 4.8815, 4.8808, 4.8803, 4.879, 4.8777, 4.8773, 4.8755, 4.8659, 4.8645, 4.8566, 4.7625, 3.7355, 2.9777, 1.7709, 2.365]}, \"token.table\": {\"Topic\": [10, 2, 5, 10, 12, 16, 1, 3, 16, 19, 1, 3, 7, 14, 17, 1, 3, 4, 6, 7, 9, 10, 14, 17, 18, 1, 7, 15, 17, 14, 1, 3, 7, 17, 8, 19, 1, 4, 8, 10, 11, 12, 13, 14, 16, 17, 18, 19, 20, 1, 2, 4, 5, 8, 9, 10, 11, 12, 14, 15, 16, 17, 19, 1, 3, 14, 15, 17, 18, 1, 3, 7, 10, 11, 17, 1, 3, 7, 17, 1, 2, 5, 6, 8, 9, 10, 11, 12, 14, 16, 18, 19, 14, 1, 3, 13, 14, 17, 1, 2, 3, 7, 17, 1, 3, 1, 2, 3, 4, 5, 8, 9, 10, 11, 12, 13, 14, 16, 11, 1, 3, 8, 17, 19, 8, 2, 3, 5, 8, 11, 12, 13, 14, 16, 19, 20, 1, 3, 17, 1, 4, 5, 8, 10, 11, 12, 14, 15, 16, 17, 19, 14, 1, 17, 3, 5, 11, 12, 14, 16, 18, 1, 20, 1, 20, 8, 3, 7, 16, 12, 12, 1, 2, 3, 4, 5, 6, 7, 8, 9, 10, 11, 12, 13, 14, 15, 17, 18, 19, 20, 21, 2, 16, 16, 16, 20, 16, 16, 2, 9, 9, 4, 5, 7, 15, 16, 2, 3, 5, 6, 7, 8, 9, 11, 12, 13, 21, 3, 17, 5, 5, 10, 12, 3, 13, 16, 3, 3, 3, 3, 2, 3, 5, 7, 9, 11, 12, 14, 15, 18, 20, 21, 10, 9, 21, 9, 16, 21, 9, 21, 6, 8, 9, 16, 19, 4, 5, 7, 9, 11, 14, 15, 16, 17, 20, 4, 1, 2, 3, 4, 7, 11, 13, 14, 15, 16, 18, 20, 5, 2, 9, 13, 16, 19, 20, 9, 20, 10, 10, 8, 15, 15, 4, 10, 17, 19, 2, 6, 6, 9, 21, 12, 13, 18, 21, 22, 5, 10, 12, 4, 1, 2, 3, 4, 5, 6, 7, 9, 10, 11, 12, 13, 17, 18, 20, 22, 4, 9, 10, 14, 15, 1, 2, 3, 4, 5, 6, 7, 8, 9, 10, 11, 12, 13, 14, 16, 17, 18, 19, 20, 21, 22, 21, 19, 19, 6, 9, 21, 6, 6, 6, 17, 10, 2, 17, 2, 6, 2, 2, 1, 2, 3, 4, 5, 7, 8, 9, 14, 16, 17, 18, 19, 20, 21, 22, 6, 10, 12, 15, 18, 19, 21, 15, 2, 18, 5, 10, 2, 10, 11, 1, 2, 3, 7, 16, 18, 13, 14, 4, 21, 5, 10, 7, 5, 5, 22, 3, 10, 15, 10, 15, 15, 5, 10, 12, 15, 5, 10, 21, 8, 14, 4, 10, 12, 15, 18, 19, 21, 22, 18, 18, 17, 3, 7, 11, 13, 15, 7, 7, 2, 4, 11, 19, 10, 17, 8, 3, 9, 11, 13, 14, 16, 14, 10, 15, 5, 22, 1, 11, 17, 11, 11, 1, 3, 7, 1, 3, 6, 7, 9, 11, 12, 13, 16, 17, 18, 20, 19, 3, 9, 3, 11, 13, 14, 16, 18, 20, 21, 22, 4, 5, 9, 11, 17, 19, 17, 1, 2, 3, 5, 7, 8, 10, 11, 12, 14, 15, 16, 17, 18, 20, 22, 2, 6, 1, 12, 18, 1, 2, 3, 4, 6, 7, 9, 10, 11, 13, 14, 15, 16, 17, 18, 21, 1, 3, 6, 7, 8, 17, 18, 2, 5, 16, 18, 19, 21, 19, 21, 5, 2, 5, 6, 8, 10, 11, 12, 13, 14, 18, 19, 20, 14, 18, 5, 18, 6, 9, 19, 21, 6, 9, 18, 19, 21, 6, 9, 19, 19, 12, 12, 12, 9, 16, 18, 20, 21, 9, 18, 20, 9, 18, 20, 9, 10, 10, 8, 1, 2, 3, 4, 6, 7, 9, 10, 11, 12, 13, 14, 15, 16, 17, 18, 19, 22, 3, 7, 16, 11, 2, 5, 13, 16, 18, 2, 16, 18, 16, 18, 1, 2, 3, 4, 5, 6, 7, 8, 9, 10, 11, 12, 13, 14, 15, 16, 17, 18, 19, 20, 21, 22, 2, 5, 6, 7, 8, 9, 12, 14, 16, 20, 15, 2, 3, 5, 6, 8, 10, 11, 12, 14, 16, 18, 19, 20, 22, 2, 13, 4, 5, 10, 12, 16, 18, 9, 10, 16, 18, 19, 16, 1, 2, 3, 4, 5, 6, 8, 9, 10, 12, 13, 16, 19, 21, 22, 2, 3, 5, 6, 8, 9, 11, 12, 13, 14, 16, 18, 20, 21, 2, 13, 19, 20, 10, 12, 18, 19, 13, 17, 22, 2, 3, 6, 7, 18, 22, 9, 10, 15, 2, 2, 1, 2, 3, 4, 5, 6, 7, 8, 9, 10, 11, 12, 13, 14, 15, 16, 17, 18, 19, 20, 22, 5, 10, 12, 15, 19, 8, 9, 17, 3, 5, 7, 11, 14, 15, 20, 22, 9, 16, 18, 16, 21, 16, 16, 2, 3, 5, 6, 10, 12, 16, 18, 19, 20, 21, 22, 21, 1, 2, 4, 5, 6, 10, 11, 12, 19, 1, 2, 4, 6, 7, 10, 13, 1, 2, 4, 7, 13, 17, 8, 12, 9, 18, 8, 9, 19, 21, 21, 14, 14, 5, 10, 14, 21, 5, 14, 6, 9, 21, 8, 21, 11, 19, 11, 12, 2, 12, 13, 13, 20, 10, 11, 15, 2, 16, 7, 9, 14, 1, 2, 3, 4, 6, 7, 9, 13, 17, 18, 19, 21, 7, 14, 18, 1, 2, 3, 7, 2, 10, 12, 15, 17, 1, 2, 3, 4, 5, 6, 7, 8, 9, 10, 11, 12, 13, 14, 15, 16, 17, 18, 19, 20, 21, 1, 2, 3, 4, 5, 6, 7, 8, 9, 10, 11, 12, 13, 14, 15, 16, 17, 18, 19, 20, 21, 1, 7, 8, 16, 17, 18, 9, 1, 2, 3, 4, 5, 6, 7, 9, 10, 11, 12, 13, 16, 17, 18, 19, 20, 21, 22, 20, 5, 12, 1, 2, 3, 4, 5, 7, 8, 9, 10, 12, 13, 16, 17, 18, 19, 20, 1, 3, 7, 11, 16, 17, 18, 20, 10, 1, 2, 3, 11, 13, 16, 18, 20, 22, 13, 13, 1, 2, 3, 4, 5, 6, 7, 8, 9, 10, 11, 12, 13, 14, 15, 16, 17, 18, 19, 21, 22, 1, 2, 4, 5, 8, 9, 10, 11, 12, 15, 16, 19, 21, 1, 2, 4, 5, 9, 11, 15, 19, 21, 2, 4, 5, 9, 10, 11, 21, 2, 9, 13, 18, 19, 21, 22, 1, 2, 3, 4, 5, 6, 7, 10, 11, 12, 13, 14, 15, 21, 7, 4, 20, 22, 17, 17, 17, 6, 1, 2, 3, 4, 5, 6, 7, 8, 9, 10, 11, 12, 13, 14, 15, 16, 17, 18, 19, 20, 21, 22, 18, 1, 3, 7, 16, 18, 20, 1, 2, 3, 4, 5, 6, 7, 8, 9, 10, 11, 12, 13, 14, 15, 16, 17, 18, 19, 20, 22, 15, 5, 8, 9, 16, 19, 20, 16, 19, 20, 8, 16, 18, 1, 1, 1, 1, 2, 3, 4, 5, 7, 9, 10, 11, 12, 13, 14, 15, 16, 17, 18, 19, 20, 22, 1, 2, 3, 4, 5, 6, 7, 9, 10, 11, 12, 13, 16, 17, 18, 19, 20, 22, 4, 11, 12, 2, 4, 9, 14, 16, 20, 16, 2, 4, 5, 10, 13, 14, 19, 21, 1, 3, 7, 8, 10, 11, 17, 18, 20, 13, 13, 2, 4, 6, 7, 8, 10, 11, 13, 14, 15, 19, 20, 21, 9, 6, 9, 21, 9, 18, 20, 20, 9, 20, 5, 10, 15, 10, 15, 10, 15, 1, 8, 11, 17, 1, 8, 11, 17, 1, 8, 11, 17, 21, 5, 12, 2, 4, 5, 7, 17, 18, 19, 1, 2, 3, 4, 5, 6, 7, 8, 9, 10, 11, 12, 13, 14, 15, 16, 17, 18, 19, 20, 21, 22, 1, 3, 4, 6, 7, 8, 9, 11, 16, 18, 20, 4, 4, 7, 9, 10, 15, 16, 18, 19, 19, 19, 1, 2, 3, 4, 5, 6, 7, 8, 9, 10, 11, 12, 13, 14, 15, 16, 17, 18, 19, 20, 21, 22, 16, 18, 2, 5, 8, 11, 18, 20, 5, 10, 12, 21, 17, 6, 8, 19, 11, 1, 2, 3, 4, 5, 6, 7, 8, 9, 10, 11, 12, 14, 15, 16, 17, 18, 19, 20, 13, 16, 20, 1, 2, 3, 4, 5, 6, 7, 8, 9, 10, 11, 12, 13, 15, 18, 20, 21, 22, 2, 5, 9, 10, 12, 15, 9, 6, 9, 21, 6, 1, 6, 7, 9, 11, 14, 17, 18, 19, 20, 7, 7, 13, 3, 13, 16, 18, 1, 2, 3, 4, 5, 6, 7, 8, 9, 10, 11, 12, 13, 14, 15, 16, 17, 18, 19, 20, 21, 22, 6, 7, 9, 9, 4, 5, 10, 2, 7, 13, 18, 20, 22, 1, 2, 4, 10, 11, 12, 15, 22, 1, 2, 3, 4, 5, 7, 10, 11, 12, 13, 14, 15, 16, 17, 18, 19, 20, 21, 22, 9, 10, 14, 15, 16, 18, 20, 22, 8, 3, 6, 13, 14, 20, 3, 7, 8, 18, 20, 1, 3, 6, 7, 8, 9, 10, 11, 14, 15, 17, 18, 20, 1, 2, 3, 4, 5, 6, 7, 8, 9, 10, 11, 12, 13, 14, 15, 16, 17, 18, 19, 20, 21, 22, 18, 21, 5, 10, 12, 4, 5, 11, 17, 5, 11, 1, 3, 4, 6, 7, 8, 9, 10, 11, 13, 16, 17, 18, 19, 20, 2, 3, 4, 5, 7, 9, 11, 15, 16, 18, 15, 1, 2, 3, 5, 8, 10, 12, 17, 18, 1, 3, 5, 8, 10, 12, 17, 4, 5, 10, 4, 5, 9, 18, 21, 10, 15, 9, 11, 17, 1, 2, 3, 4, 5, 6, 7, 9, 10, 11, 12, 13, 14, 16, 17, 18, 19, 20, 21, 22, 2, 4, 5, 6, 7, 9, 14, 15, 22, 15, 5, 11, 12, 2, 6, 8, 9, 19, 7, 7, 7, 1, 7, 14, 15, 16, 18, 20, 19, 1, 3, 6, 7, 8, 18, 20, 1, 1, 1, 15, 3, 18, 20, 20, 2, 4, 11, 13, 17, 5, 7, 8, 9, 10, 14, 15, 16, 3, 13, 13, 19, 18, 13, 13, 10, 5, 16, 18, 1, 3, 5, 7, 10, 15, 5, 10, 6, 2, 6, 12, 1, 2, 3, 5, 11, 12, 17, 20, 22, 16, 11, 14, 17, 18, 19, 4, 11, 1, 2, 3, 4, 5, 6, 7, 8, 9, 10, 11, 12, 13, 14, 15, 16, 17, 18, 19, 20, 22, 11, 8, 2, 5, 6, 8, 10, 11, 12, 13, 19, 21, 1, 2, 3, 4, 5, 6, 8, 9, 10, 12, 13, 16, 17, 18, 21, 12, 21, 3, 3, 6, 8, 10, 11, 12, 19, 20, 21, 8, 3, 7, 15, 3, 7, 1, 2, 3, 4, 5, 6, 7, 8, 9, 10, 11, 12, 13, 14, 15, 16, 18, 20, 21, 22, 19, 21, 2, 5, 19, 16, 20, 22, 20, 11, 13, 16, 21, 1, 3, 5, 8, 11, 14, 16, 17, 18, 20, 22, 1, 3, 8, 11, 20, 1, 4, 5, 7, 8, 9, 10, 11, 12, 17, 2, 21, 21, 21, 1, 4, 5, 6, 7, 8, 9, 10, 12, 18, 21, 5, 6, 8, 9, 10, 12, 16, 17, 18, 10, 15, 8, 1, 7, 11, 15, 16, 17, 2, 9, 13, 21, 13, 19, 21, 1, 2, 4, 7, 9, 12, 13, 17, 19, 21, 22, 4, 10, 12, 15, 5, 1, 2, 4, 5, 7, 8, 9, 10, 12, 16, 18, 20, 21, 1, 3, 7, 8, 17, 20, 17, 3, 11, 7, 9, 14, 9, 9, 14, 16, 16, 3, 3, 3, 1, 2, 3, 4, 5, 6, 7, 8, 9, 10, 11, 12, 13, 14, 15, 16, 17, 18, 19, 20, 21, 22, 1, 2, 3, 5, 6, 7, 8, 9, 10, 11, 12, 13, 14, 15, 16, 18, 19, 20, 21, 22, 1, 2, 3, 4, 5, 6, 7, 8, 9, 10, 11, 12, 13, 14, 15, 16, 17, 18, 19, 20, 21, 22, 1, 2, 3, 4, 5, 7, 8, 9, 10, 11, 12, 14, 16, 17, 18, 19, 20, 22, 5, 6, 8, 9, 10, 11, 14, 15, 16, 17, 18, 20, 21, 22, 2, 3, 16, 14, 19, 2, 3, 5, 6, 7, 8, 9, 10, 11, 13, 15, 22, 1, 2, 3, 4, 5, 6, 7, 9, 10, 11, 13, 14, 15, 16, 17, 18, 19, 5, 10, 12, 1, 2, 3, 4, 5, 6, 7, 8, 9, 10, 11, 12, 13, 14, 15, 16, 17, 18, 19, 20, 21, 22, 15, 1, 7, 18, 20, 6, 1, 3, 7, 8, 10, 11, 12, 14, 16, 17, 18, 21, 22, 5, 17, 1, 7, 16, 18, 18, 20, 16, 20, 16, 20, 4, 12, 18, 4, 8, 18, 8, 18, 5, 10, 5, 5, 10, 12, 5, 10, 12, 2, 5, 9, 13, 18, 19, 21, 22, 19, 22, 22, 22, 22, 22, 13, 22, 1, 2, 3, 4, 5, 6, 7, 8, 9, 10, 11, 12, 13, 14, 15, 16, 17, 18, 19, 20, 21, 22, 18, 18, 18, 1, 2, 4, 5, 10, 11, 12, 19, 20, 21, 1, 2, 4, 9, 10, 11, 12, 14, 18, 20, 1, 3, 7, 8, 17, 17, 4, 5, 10, 12, 14, 15, 19, 21, 2, 4, 5, 10, 12, 17, 18, 19, 1, 3, 7, 8, 9, 11, 14, 16, 18, 20, 22, 12], \"Freq\": [0.9981785857894483, 0.3349479063345542, 0.1617578943498769, 0.0001314036509747172, 0.5020933503743945, 0.0007884219058483032, 0.08973731784685146, 0.022434329461712865, 0.01346059767702772, 0.8726954160606305, 0.934732326803291, 0.0015826825716276516, 0.024373311603065835, 0.007913412858138258, 0.0313371149182275, 0.8945325662176339, 0.0015549876571172218, 0.005494289721814184, 0.028508107047149067, 0.0008293267504625183, 0.00010366584380781479, 0.00010366584380781479, 0.03649037702035081, 0.028715438734764696, 0.003628304533273518, 0.971898511408049, 0.002640311087769761, 0.003432404414100689, 0.02165055091971204, 0.9900566119903259, 0.9634829852674075, 0.0014800045856642205, 0.005180016049824772, 0.029353424282340373, 0.967559367570719, 0.024392252963967707, 0.02090356482674742, 0.0025459469981294934, 0.3804180804047175, 0.04756900970189317, 0.001473969314706549, 0.00040199163128360426, 0.0001339972104278681, 0.3064516202485343, 0.05225891206686855, 0.08401625093827329, 0.045961043176758754, 0.01875960945990153, 0.03912718544493748, 0.0009807177272386377, 0.0014710765908579565, 0.07551526499737511, 0.03432512045335232, 0.015201124772198885, 0.02206614886286935, 0.036286555907829594, 0.11817648613225584, 0.03481547931697164, 0.5614608988441201, 0.005393947499812508, 0.011768612726863652, 0.058843063634318266, 0.024517943180965944, 0.9528291298463111, 0.00120218163790934, 0.013624725229639187, 0.00010018180315911167, 0.0317576316014384, 0.00040072721263644667, 0.9747839143177571, 0.0014671642298581533, 0.0073358211492907666, 0.0014671642298581533, 0.0011737313838865227, 0.013791343760666642, 0.9324364027007618, 0.006568464705089593, 0.008281977236852095, 0.052547717640716744, 0.037675647057401174, 0.030998950110519955, 0.020030090840643663, 0.0009538138495544602, 0.04244471630517348, 0.015737928517648592, 0.0028614415486633805, 0.10921168577398568, 0.009538138495544602, 0.6576546492678003, 0.06009027252193099, 0.008107417721212911, 0.00429216232299507, 0.9828471168836872, 0.9677646675863931, 0.0008593186535130466, 0.0022342284991339213, 0.024576513490473132, 0.0042965932675652335, 0.9746434493800765, 0.004256084931790727, 0.00993086484084503, 0.0009457966515090505, 0.009457966515090505, 0.9982116556601517, 0.001498066516748602, 0.007979703956637994, 0.015959407913275988, 0.05918280434506512, 0.0006649753297198329, 0.02526906252935365, 0.0026599013188793315, 0.0019949259891594985, 0.017289358572715654, 0.07181733560974195, 0.015959407913275988, 0.003989851978318997, 0.6902443922491865, 0.08644679286357827, 0.9938734562641999, 0.9873722202958455, 0.00027518735236784994, 0.0008255620571035498, 0.005778934399724848, 0.005503747047356998, 0.993456776456983, 0.0064908271661605, 0.0064908271661605, 0.0233669777981778, 0.0324541358308025, 0.0350504666972667, 0.015577985198785197, 0.0116834888990889, 0.7892845834051168, 0.025963308664642, 0.015577985198785197, 0.0363486321304988, 0.9946343948971481, 0.0016159778958523933, 0.00242396684377859, 0.000824656591017506, 0.0024739697730525177, 0.0552519915981729, 0.006597252728140048, 0.045356112505962824, 0.054427335007155395, 0.014019162047297602, 0.6646732123601098, 0.011545192274245083, 0.11792589251550335, 0.010720535683227577, 0.01649313182035012, 0.9712139518220844, 0.9937691833770288, 0.005460270238335323, 0.08392393549789048, 0.018048158171589352, 0.014438526537271481, 0.005414447451476806, 0.8527754736075969, 0.020755381897327754, 0.004512039542897338, 0.9983537331149346, 0.9960750685052472, 0.9961775523274015, 0.9956844050003654, 0.9939373635206072, 0.008600263432970146, 0.9546292410596863, 0.034401053731880585, 0.9973520068596342, 0.9982856992768298, 0.0478491480001831, 0.1703694577584374, 0.07367775384111239, 0.27202820126055655, 0.007781695349510747, 0.02069599826997539, 0.019868158339176375, 0.0011589759031186218, 0.026159741813248892, 0.04503449223546645, 0.011093055072706809, 0.169872753799958, 0.023345086048532238, 0.026656445771728304, 0.04735244404170369, 0.0048014715986342904, 0.0009934079169588187, 0.030133373481084167, 0.0001655679861598031, 0.0006622719446392124, 0.02363778908540189, 0.9725261795136778, 0.9944028941275348, 0.5850978248097363, 0.4137908328035867, 0.9967950292475496, 0.9970908019152042, 0.1186591929538372, 0.8809546143542459, 0.9967014052768687, 0.984918744959337, 0.9986497519983759, 0.0013593740200720926, 0.9909836606325555, 0.006796870100360463, 0.015788231807943018, 0.00412922985746202, 0.0004857917479367082, 0.7162999323326762, 0.00412922985746202, 0.21666311957977186, 0.0019431669917468327, 0.010930314328575934, 0.002914750487620249, 0.013116377194291122, 0.013845064816196184, 0.2954375165294028, 0.7039653583771824, 0.9985365263281553, 0.8565127470624213, 0.10443724202099412, 0.03884555953219903, 0.8493856546609371, 0.14371647814509864, 0.006684487355585983, 0.999262892163956, 0.9992993876747885, 0.9991338830473061, 0.999893607592416, 0.028657668331928347, 0.05267360165234718, 0.0115034302459149, 0.6502465307427686, 0.02946492659479957, 0.05509537644096084, 0.030473999423388597, 0.04177561510358569, 0.0191723837431915, 0.06982783973836063, 0.007870768062994405, 0.0034308476172026895, 0.9980581727471549, 0.011630744778859312, 0.9847363912767552, 0.028146967166260087, 0.021110225374695066, 0.949960141861278, 0.03338364348500223, 0.9625617204842309, 0.28233177113760966, 0.0027770338144682914, 0.012033813196029263, 0.011108135257873165, 0.6905557418644485, 0.044185650945364856, 0.008243591594284488, 0.03627180301485175, 0.12860002887083802, 0.10288002309667042, 0.5589155100924883, 0.11310207667358319, 0.0013189746550855183, 0.002967692973942416, 0.0036271803014851747, 0.9979083038250708, 0.8043181793319129, 0.003834494032652552, 0.02023026162054622, 0.007536764133144671, 0.14676856469808044, 0.00608230087937991, 0.00026444786432086565, 0.00026444786432086565, 0.000793343592962597, 0.008197883793946835, 0.00013222393216043282, 0.0013222393216043282, 0.9950932094694837, 0.011721802404928133, 0.177501579274626, 0.0033490864014080377, 0.0033490864014080377, 0.06363264162675272, 0.7384735515104723, 0.031449719974319924, 0.9644580792124777, 0.9995524332423119, 0.9986515084736727, 0.9981093424222566, 0.9932073603154363, 0.9956319912621261, 0.009758185426546804, 0.730562815600804, 0.033177830450259134, 0.22638990189588584, 0.9990802715354323, 0.9997508084442931, 0.9988925346996415, 0.9880540711898514, 0.010697435810126344, 0.046639090743109915, 0.011659772685777479, 0.015546363581036638, 0.03497931805733243, 0.8861427241190883, 0.049211962054339344, 0.0036908971540754506, 0.9460999704946739, 0.9967092907522708, 0.09447306956981888, 0.10298780974563947, 0.01702948035164117, 0.5863006806779317, 0.0016218552715848735, 0.00040546381789621837, 0.023922365255876883, 0.05879225359495166, 0.013380305990575206, 0.00729834872213193, 0.002027319089481092, 0.04135730942541427, 0.011352986901094113, 0.0198677270769147, 0.017840407987433606, 0.0008109276357924367, 0.0017636712568178574, 0.008818356284089286, 0.7013532697945679, 0.008230465865150001, 0.27924794899616073, 0.02060477736040743, 0.3379183487106818, 0.022150135662437988, 0.1775444982555107, 0.030563753084604354, 0.09203467220981985, 0.012362866416244457, 0.006009726730118833, 0.02850327534856361, 0.013564811762268226, 0.009443856290186738, 0.06696552642132415, 0.03073545956260775, 0.0008585323900169762, 0.004979487862098462, 0.0010302388680203715, 0.015625289498308968, 0.06765235233333773, 0.01991795144839385, 0.037088599248733374, 0.0044643684280882764, 0.9869531948142704, 0.9988605525095738, 0.9973541978269198, 0.9936071231474976, 0.002891755306017164, 0.0033544361549799106, 0.9993325985564966, 0.9992706361525902, 0.9994756729189233, 0.993784036695644, 0.9977850555349308, 0.994779141179914, 0.004619206625711044, 0.9971272815179244, 0.001241752529910242, 0.9997427423570553, 0.9984856469622124, 0.0003975484492580871, 0.035282424871655234, 0.003577936043322784, 0.010336259680710265, 0.036176908882485925, 0.6275302271538905, 0.00019877422462904356, 0.1273148908749024, 0.051084975729664195, 0.005863839626556785, 0.0039754844925808715, 0.014112969948662093, 0.00029816133694356535, 0.0830876258949402, 9.938711231452178e-05, 0.0004969355615726089, 0.39151373685712615, 0.013516272951767374, 0.005956323673660199, 0.015119898556214352, 0.534236415652907, 0.03665429953021661, 0.0029781618368300996, 0.9955041306750648, 0.9983949772300487, 0.9970414055888592, 0.9944954038436709, 0.0030981165228774793, 0.006798482408035941, 0.9877223727103646, 0.004856058862882815, 0.005135608443367858, 0.005135608443367858, 0.004279673702806548, 0.13095801530588036, 0.8490872626368191, 0.005135608443367858, 0.010076454823845745, 0.9874925727368831, 0.9951099363629647, 0.9931133403027053, 0.9917920316442861, 0.00651066979197562, 0.9941390973397605, 0.9989869959460285, 0.9959161946242359, 0.9957235607456503, 0.9998274472859523, 0.009240599536873104, 0.9902842503682343, 0.00947536189320522, 0.9901753178399454, 0.996894795266424, 0.027156350259206687, 0.0036208467012275583, 0.009052116753068896, 0.9595243758253029, 0.9590969229121796, 0.04002908693289564, 0.9820569603360769, 0.9918241356835867, 0.9894085404437248, 0.011559044456350124, 0.10458183079554874, 0.004953876195578625, 0.04678660851379812, 0.7876663150970012, 0.025319811666290746, 0.016512920651928747, 0.0027521534419881247, 0.9960472827615582, 0.9930574170920058, 0.993219804557883, 0.00044817903333840126, 0.38364125253767145, 0.014789908100167242, 0.0031372532333688087, 0.5978708304734273, 0.9980246203512483, 0.9955261010417394, 0.004424007491727804, 0.0005530009364659755, 0.9904246772105622, 0.003871006555261829, 0.9986565411028631, 0.9932433682363492, 0.9982978027854486, 0.1753691532551184, 0.18620431833037743, 0.03090028558499798, 0.01163776989564859, 0.5850989140639877, 0.010032560254869474, 0.9889914001141201, 0.09645967093042242, 0.9032609402886839, 0.9949122447285724, 0.9953256673149331, 0.997329585930566, 0.9975142056600751, 0.0012194550191443462, 0.9942986001655018, 0.9979844045942793, 0.0013708515317927, 0.013708515317926998, 0.9842713998271585, 0.0026521915552276303, 0.047076400105290434, 0.017570769053383048, 0.09183213259975669, 0.0049728591660518065, 0.0016576197220172688, 0.007293526776875983, 0.12034319181845371, 0.40048092483937214, 0.0019891436664207225, 0.26787134707799065, 0.03613610993997646, 0.9922782869699459, 0.9989354227474262, 0.0007816396109134791, 0.11306412671332244, 0.013492139225933467, 0.435796096997651, 0.03292081971127766, 0.16946126867772435, 0.08607984826145551, 0.11981019632628918, 0.02806364958994161, 0.0010793711380746773, 0.008189350756689995, 0.0011699072509557134, 0.0017548608764335703, 0.9803822763008879, 0.0005849536254778567, 0.007019443505734281, 0.9972468955611486, 0.15003682211009753, 0.0013782910167594261, 0.0437115151029418, 0.0035441769002385244, 0.0033472781835586062, 0.19906460256339711, 0.011813923000795081, 0.04843708430325983, 0.007285252517156967, 0.2445482061164582, 0.00019689871667991803, 0.050602970186738934, 0.1334973299089844, 0.061235500887454504, 0.027565820335188524, 0.013389112734234425, 0.9311565576312986, 0.06863017899802723, 0.008952189089984743, 0.9563922011133701, 0.03431672484494151, 0.04922602919118177, 0.010917062925463699, 0.08743574943030472, 0.13993689749912558, 0.3576826798488288, 0.09329126499941706, 0.017665792733932168, 9.924602659512453e-05, 0.02163563379773715, 0.1553200316213699, 0.0002977380797853736, 0.012405753324390567, 0.022429602010498144, 0.00019849205319024906, 0.029476069898751987, 0.0019849205319024906, 0.0004025323051031065, 0.025762067526598816, 0.010868372237783875, 0.02535953522149571, 0.09499762400433313, 0.8038570132909036, 0.03864310128989822, 0.018636246491494316, 0.011770260941996409, 0.2599265958024207, 0.003923420313998803, 0.09514294261447098, 0.6091110037483142, 0.02601372575969399, 0.969940346182876, 0.9954340566442822, 0.0009233991955061568, 0.013850987932592353, 0.09464841753938107, 0.7410278543936908, 0.0018467983910123136, 0.0877229235730849, 0.013389288334839274, 0.0018467983910123136, 0.01939138310562929, 0.01477438712809851, 0.0018467983910123136, 0.00877229235730849, 0.9771551803748915, 0.013571599727429048, 0.9947796601180814, 0.9994610092065522, 0.5535124365574687, 0.0006766655703636537, 0.0005074991777727403, 0.4450767789066932, 0.9728668507054324, 0.0038620658691085165, 0.0140778530067504, 0.002367072629453607, 0.006727469578447094, 0.9975378717620255, 0.0019174202244344554, 0.9964106420820388, 0.9877046018245408, 0.9989361652966129, 0.9958552355221684, 0.9969117105303221, 0.7836669114674412, 0.0006977557364206488, 0.02607862064872175, 0.012123505920308773, 0.17731717651789738, 0.922407936145209, 0.038433664006050375, 0.03893280249963544, 0.9460378786183139, 0.01955732947285529, 0.03374598026688756, 0.9981364034775431, 0.9977215561168279, 0.9982594218225278, 0.9950671669684976, 0.1635011397488753, 0.007673338688575376, 0.06512500271585768, 0.4043259232057025, 0.003541540933188635, 0.054893884464423844, 0.005902568221981058, 0.17924132167415813, 0.004918806851650882, 0.02754531836924494, 0.015149925103084716, 0.015346677377150751, 0.01121487962176401, 0.0001967522740660353, 0.021052493325065775, 0.018691466036273353, 0.0001967522740660353, 0.001377265918462247, 0.7882407254418337, 0.19263186267820093, 0.01890551437425314, 0.9977156848983946, 0.013425416195049432, 0.006293163841429421, 0.002936809792667063, 0.034822173255909465, 0.9427159434461273, 0.023857445174378822, 0.06918659100569859, 0.9018114275915194, 0.0362349412432188, 0.961179494030646, 0.10612855683309474, 0.023778804007415093, 0.2969847468926106, 0.004380306001365938, 0.00037545480011708045, 0.010387582803239226, 0.0021275772006634558, 0.09786855123051898, 0.0007509096002341609, 0.0030036384009366436, 0.10224885723188491, 0.02715789720846882, 0.01839728520573694, 0.16907981165272523, 0.0005006064001561073, 0.03691972201151291, 0.04442881801385452, 0.03629396401131778, 0.0011263644003512414, 0.017020617605307646, 0.0010012128003122145, 0.9833078327487605, 0.04593353518506393, 0.024175544834244174, 0.08763635002413513, 0.021153601729963653, 0.03263698552622964, 0.2218106238541903, 0.019944824488251443, 0.015109715521402608, 0.001813165862568313, 0.5294444318699474, 0.9958578187220476, 0.0031010461138549755, 0.0036824922602027832, 0.01569904595139081, 0.11725830618014126, 0.632807222608531, 0.018024830536782045, 0.13819036744866234, 0.014148522894463325, 0.009496953723680862, 0.012791815219651774, 0.0027134153496231033, 0.0007752615284637439, 0.028878491935274458, 0.0019381538211593597, 0.9991417450104769, 0.9986526558754181, 0.9919878844776973, 0.00015797134230059485, 0.0025275414768095176, 0.009636251880336285, 0.8740554369491913, 0.1134234237718271, 0.006206013719810916, 0.011170824695659649, 0.9184900305320156, 0.01861804115943275, 0.044683298782638596, 0.9946665585942076, 0.07205917775458386, 0.1531257527284907, 0.04985489623718302, 0.0012568461236264626, 0.03770538370879388, 0.4570730402921569, 0.058652819102568254, 0.10054768989011702, 0.008378974157509751, 0.014872679129579808, 0.019062166208334685, 0.005865281910256826, 0.018014794438645964, 0.0016757948315019502, 0.0014663204775642064, 0.029419577578204896, 0.032939868912349075, 0.011063772764453124, 0.17060840501548738, 0.5514284925555841, 0.0002514493810102983, 0.15476709401183858, 0.010560874002432528, 0.0002514493810102983, 0.000880072833536044, 0.0002514493810102983, 0.0003771740715154474, 0.03381994174588512, 0.003143117262628728, 0.031945027756446684, 0.004121939065347959, 0.014426786728717856, 0.9490764697963675, 0.001801549581741368, 0.9422104312507354, 0.0054046487452241035, 0.04864183870701693, 0.022634193772878345, 0.003772365628813058, 0.9732703322337689, 0.018684807144222607, 0.18166812490719406, 0.03255966393448692, 0.7640421139172214, 0.00073999236214743, 0.00221997708644229, 0.9989876126309861, 0.013610623015640555, 0.9850688407569852, 0.9982680332240493, 0.9985011478674586, 0.06791380620736295, 0.14455727377907104, 0.034326804008950336, 0.09247522631721534, 0.029444112059401367, 0.003699009052688614, 0.014204194762324278, 0.028112468800433468, 0.0707250530874063, 0.056964739411404654, 0.08078635771071933, 0.025745103006712754, 0.08552108929816075, 0.011244987520173387, 0.002959207242150891, 0.02959207242150891, 0.02500530119617503, 0.05119428528921042, 0.002367365793720713, 0.09854160116362468, 0.04453606899437091, 0.4464547311038006, 0.530930969440108, 0.0026262043006105916, 0.015319525086895118, 0.004377007167684319, 0.9256280675166216, 0.016768624411532998, 0.055895414705109996, 0.21640745170777306, 0.00738740296994406, 0.7404785094579223, 0.0030418718111534363, 0.00912561543346031, 0.0004345531158790624, 0.006083743622306873, 0.017382124635162494, 0.027621098361353076, 0.9529278934666812, 0.018414065574235385, 0.9591835030355135, 0.038643364151071044, 0.9954166728017122, 0.9949975200503121, 0.13415702487047268, 0.009159314950996126, 0.21712964266184934, 0.014008364042699957, 0.0630376381921498, 0.49514179058620233, 0.0070041820213499785, 0.008620531718584588, 0.02909429455022299, 0.004849049091703831, 0.0016163496972346105, 0.015085930507523031, 0.9824577090866975, 0.014597567983459618, 0.013771290550433602, 0.00027542581100867204, 0.07216156248427207, 0.8403241493874584, 0.0027542581100867204, 0.03002141339994525, 0.018728955148589698, 0.0074364968972341445, 0.2692369235096426, 0.0016219091777689315, 0.6839050366258994, 0.024869274059123616, 0.0010812727851792876, 0.0010812727851792876, 0.0173003645628686, 0.31372191038705177, 0.013607215390281764, 0.6629737720709504, 0.0015119128211424184, 0.005291694873998464, 0.0015119128211424184, 0.9904793666405614, 0.9959120901783168, 0.9974040782436182, 0.0022189189727333, 0.00751422272317501, 0.12273230447852518, 0.8666403540728512, 0.0025047409077250033, 0.9771873718166694, 0.9964559230827194, 0.9978422353250249, 0.08139191671475422, 0.02199781532831195, 0.8865119577309717, 0.008799126131324782, 0.0490433890668812, 0.9440852395374632, 0.9313628080079778, 0.019271035818264205, 0.0491305528553549, 0.10599173810667165, 0.8926292161031745, 0.9942195742907289, 0.004660404254487792, 0.9951787034888605, 0.9975248655478618, 0.00716305323489607, 0.022086080807596217, 0.9699967922255095, 0.9966589079567715, 0.989105354366553, 0.007231240152900376, 0.012654670267575658, 0.9798330407180009, 0.9984761692687117, 0.9988684272941848, 0.9943819763387498, 0.0034151642003620486, 0.0017075821001810243, 0.02085361871642539, 0.6591778013777391, 0.07222472823737573, 0.02492261749036205, 0.0005086248467420826, 0.025431242337104133, 0.09307834695380113, 0.03255199019149329, 0.00762937270113124, 0.019836369022941225, 0.04272448712633494, 0.0005086248467420826, 0.05905072027268543, 0.9279398899993425, 0.011247756242416272, 0.000684519684087491, 0.002053559052262473, 0.21699273985573467, 0.7796679201756523, 0.0065882381959517485, 0.8992945137474136, 0.022400009866235943, 0.06258826286154161, 0.008564709654737273, 0.059951705979273275, 0.047473070345578385, 0.08301005443283992, 0.3258008999145122, 0.007866965942981561, 0.015733931885963122, 0.08640098802895266, 0.04923635581555701, 0.040148653777974865, 0.02590673267430135, 0.05832405785313916, 0.013292459696761948, 0.043539587374087606, 0.04136938987257545, 0.011664811570627832, 0.015327019854429594, 0.026856194081212915, 0.024279084548167233, 0.010850987507560774, 0.01302118500907293, 0.00013563734384450967, 0.10021567814634026, 0.07509833096535878, 0.10770014018511757, 0.250285484788265, 0.015603200521518801, 0.0638082102627964, 0.08245593771534326, 0.0026639610646495516, 0.04655589098697073, 0.02549791304735999, 0.035646336150786856, 0.013446660612040593, 0.03995941596974327, 0.03006470344390208, 0.01712546398703283, 0.029937848155109244, 0.022833951982710442, 0.02219967553874626, 0.0048205009741277595, 0.0064696197284346245, 0.007865027905155818, 0.09792266752078184, 0.04181562558995549, 0.24930581839074728, 0.01799659835517072, 0.57694977079812, 0.015879351489856516, 0.9982052757026217, 0.04294772836553818, 0.17083264771768839, 0.026221635371251505, 0.37685978277752163, 0.04460291465143113, 0.012283224542679277, 0.1079355688537562, 0.010018232783036289, 0.03763370923714502, 0.0008711506767857643, 0.047826172155538464, 0.05096231459196721, 0.0023521068273215638, 0.012457454678036429, 0.018381279280179626, 0.027528361386430153, 0.002874797233393022, 0.006882090346607538, 0.0003484602707143057, 0.9912787906410118, 0.017508677044774507, 0.9804859145073724, 0.04094614820618338, 0.06808205707655342, 0.020351931652777537, 0.5574975563457275, 0.012598814832671808, 0.09594482064880838, 0.000484569801256608, 0.01865593734837941, 0.00484569801256608, 0.005814837615079296, 0.0060571225157076, 0.003391988608796256, 0.08383057561739318, 0.03949243880241355, 0.02059421655340584, 0.02180564105654736, 0.02643349514552007, 0.047242842387737995, 0.03880662053278478, 0.7440747676068734, 0.0016872443709906428, 0.006186562693632357, 0.049492501549058855, 0.08548704813019256, 0.9968820752291428, 0.00727617917991792, 0.010768745186278522, 0.7450807480235949, 0.001164188668786867, 0.08265739548386757, 0.004656754675147468, 0.026194245047704512, 0.0416197449091305, 0.08062006531349054, 0.9982941006234617, 0.9971244230787243, 0.10228138958012678, 0.022129022958562353, 0.11848610717970393, 0.15211525230570813, 0.0484399085234672, 0.0012197099268498933, 0.049659618450317085, 0.011674366442706122, 0.09722830559746293, 0.013939542021141638, 0.26485129840169114, 0.00714401528583509, 0.004007618331078221, 0.0064470381847780076, 0.06865224445412257, 0.016378961874841426, 0.004007618331078221, 0.0034848855052854095, 0.00365912978054968, 0.0034848855052854095, 0.0008712213763213524, 0.003696652141663882, 0.07023639069161376, 0.07454915152355496, 0.015402717256932841, 0.0006161086902773137, 0.024028238920815233, 0.005544978212495823, 0.11213178163047108, 0.001848326070831941, 0.1762070854193117, 0.012938282495823586, 0.045592043080521207, 0.45715264818576673, 0.004791772240520083, 0.014375316721560248, 0.20604620634236356, 0.003833417792416066, 0.09104367256988156, 0.1571701294890587, 0.03354240568364058, 0.053667849093824924, 0.43413456499111946, 0.009261271834431355, 0.16802593185325457, 0.009261271834431355, 0.07012105817498025, 0.006615194167450968, 0.123042611514588, 0.6138900187394498, 0.011772805387315694, 0.005606097803483664, 0.8254979015629695, 0.0002803048901741832, 0.017659208080973543, 0.07287927144528764, 0.06559134430075887, 0.028830285019283912, 0.030646365965380534, 0.1436974048598954, 0.0011350505913103903, 0.014301637450510916, 0.01384761721398676, 0.4837585620164883, 0.019295860052276632, 0.025652143363614818, 0.011123495794841823, 0.17979201366356581, 0.0020430910643587023, 0.03972677069586365, 0.006356283311338185, 0.9954681803132706, 0.9397196960488111, 0.030151434097822817, 0.025126195081519014, 0.9994764367807732, 0.9913718043127755, 0.9945836964370541, 0.9993802599403483, 0.0203056358339768, 0.18538022930443568, 0.01314753399322239, 0.38010981611516287, 0.10313509999127785, 0.013731868837365607, 0.014608371103580433, 0.0014608371103580432, 0.05302838710599697, 0.049376294330101864, 0.001314753399322239, 0.06120907492400201, 0.019136966145690368, 0.00029216742207160864, 0.007304185551790216, 0.006135515863503782, 0.021182138100191625, 0.010664110905613715, 0.02191255665537065, 0.004966846175217347, 0.00978760863939889, 0.0020451719545012607, 0.999263318327346, 0.03680074755170876, 0.0071806336686260986, 0.0017951584171565246, 0.7813427010673774, 0.13418809168245022, 0.03814711636457615, 0.02007250222218559, 0.12149845715945448, 0.009703924915361244, 0.021534737483404405, 0.16217518351699614, 0.0685921267989918, 0.0009305133480483385, 0.04267068353193095, 0.026586095658523958, 0.010235646828531723, 0.14808455281797844, 0.10408456450312129, 0.0005317219131704791, 0.13346220020579025, 0.019274919352429868, 0.002259818130974536, 0.04453171022802763, 0.00013293047829261977, 0.048918416011684084, 0.006779454392923609, 0.008241689654142426, 0.9995801776582199, 0.004235969154337916, 0.009742729054977205, 0.028804590249497827, 0.7215973454414639, 0.16816797542721526, 0.06735190955397286, 0.8473052809936011, 0.07724720510482974, 0.07483322994530381, 0.07041364203639486, 0.917014873032119, 0.011462685912901489, 0.9993820237612524, 0.997022425812667, 0.998107768027116, 0.047048167702044966, 0.02366781552424665, 0.02682991233517839, 0.6926908438250163, 0.009773753779243556, 0.03286664261059353, 0.008432258162484637, 0.03602873942152527, 0.016289589632072596, 0.003832844619311199, 0.02999200914611013, 0.009103005970864097, 0.02433856333262611, 0.009965396010209116, 0.004599413543173439, 0.007761510354105178, 0.015427199592727574, 0.0002874633464483399, 0.0010540322703105796, 0.007048190819956771, 0.05990962196963255, 0.013825297377607512, 0.03551203836208988, 0.0612650432811627, 0.0032530111476723558, 0.04174697639512857, 0.012740960328383392, 0.014638550164525602, 0.6243070560907863, 0.005692769508426622, 0.018704814099116045, 0.020602403935258255, 0.00786144360687486, 0.01626505573836178, 0.0018975898361422074, 0.03551203836208988, 0.018975898361422074, 0.9960354854663924, 0.9946995711134009, 0.004659014384606093, 0.9986720139743914, 0.9333247013413539, 0.057259184131371405, 0.22610345859459785, 0.12799755113660286, 0.6453529224971234, 0.9856000019005485, 0.008842556608843, 0.03073841106883519, 0.014737594348071667, 0.6943512308562908, 0.017685113217686, 0.029054114571912714, 0.1987469866368522, 0.005473963614998047, 0.6432384924471781, 0.1357120416050787, 0.006358779869814341, 0.13545072188440138, 0.0003919795810159525, 0.02643684507518702, 0.051567091546987534, 0.0006968525884728045, 0.00013065986033865084, 0.9984971821890056, 0.9953904573141373, 0.07897016610999238, 0.0021058710962664636, 0.0463291641178622, 0.07581135946559268, 0.00631761328879939, 0.07054668172492654, 0.02527045315519756, 0.01158229102946555, 0.005264677740666159, 0.10529355481332318, 0.03474687308839665, 0.02527045315519756, 0.5117266763927506, 0.9983696961915509, 0.02595737222911782, 0.9736011306859885, 0.9759171995300868, 0.013274074436424678, 0.014933333740977764, 0.9706666931635546, 0.9954186618954364, 0.01812321110509616, 0.9816739348593754, 0.00034165653717393963, 0.9532217387152916, 0.04646528905565579, 0.9744339137474484, 0.023922272841590386, 0.9782121666320911, 0.020355860114887443, 0.013035932408271896, 0.05626033986727871, 0.020583051170955626, 0.9099423871826632, 0.016143474331347146, 0.01467588575577013, 0.01027312002903909, 0.9583353398517895, 0.0945069035759844, 0.007461071334946137, 0.007461071334946137, 0.8903545126369057, 0.9834191876957974, 0.9764657952737174, 0.021820464698854018, 0.14281023359839018, 0.012232139922774318, 0.09846872637833326, 0.01192633642470496, 0.7109931330112572, 0.00030580349806935795, 0.023241065853271205, 0.044159347798452805, 0.20365797114041698, 0.04539457431029764, 0.01945481756155613, 0.05373235326525027, 0.12275063461458036, 0.02053564075942036, 0.1905336894520656, 0.05110749692758, 0.05774683942874598, 0.029336629656314804, 0.00015440331398060422, 0.025167740178838487, 0.045085767682336436, 0.012352265118448337, 0.020381237445439758, 0.019918027503497946, 0.025167740178838487, 0.0010808231978642296, 0.00694814912912719, 0.0015440331398060422, 0.003705679535534501, 0.22618976090965326, 0.22735529990370235, 7.519606413219855e-05, 0.046320775505434314, 0.014136860056853329, 0.4590719715270722, 0.002143087827767659, 0.001503921282643971, 0.0005639704809914892, 0.021919652694535878, 0.0006015685130575884, 0.9977637390601835, 0.007546559192803383, 0.00330161964685148, 0.1891356397696348, 0.1400830050164128, 0.028771256922562896, 0.5164676447574815, 0.11414170779115117, 0.9970123868836324, 0.9937650066273505, 0.9982931531222697, 0.05691206406608636, 0.09181284202995812, 0.006345595993431231, 0.05294606657019184, 0.3501975788874861, 0.013286091611246642, 0.07277605404966443, 0.004759196995073423, 0.02776198247126164, 0.08963154340721614, 0.0053540966194576016, 0.04560897120278698, 0.004362597245483972, 0.05274776669539711, 0.05433416569375492, 0.01189799248768356, 0.014475890860014997, 0.007733695116994313, 0.023994284850161845, 0.006543895868225957, 0.004362597245483972, 0.00198299874794726, 0.9139630534172197, 0.0856239071096132, 0.0038553836164189744, 0.030843068931351796, 0.8244095299775906, 0.11116356094008042, 0.02184717382637419, 0.00642563936069829, 0.19662596763326587, 0.0008125039984845697, 0.4184395592195534, 0.3835018872847169, 0.9944971714015731, 0.28227545727790954, 0.07210774921117938, 0.6445729289243229, 0.9993034145555791, 0.07505737537055523, 0.01136983293209289, 0.0001647801874216361, 0.028836532798786316, 0.021421424364812692, 0.17153617510592317, 0.011452223025803709, 0.1524216733650134, 0.014912606961658066, 0.013923925837128249, 0.2523608570362357, 0.0009062910308189985, 0.09573728889197057, 0.0014830216867947248, 0.0001647801874216361, 0.10702473173035264, 0.004119504685540902, 0.03658120160760321, 0.0005767306559757263, 0.3890053901794146, 0.5502901169347896, 0.06058623155318488, 0.003412663779071147, 0.026542940503886697, 0.1003575940956478, 0.03602256211241766, 0.0026542940503886695, 0.1605215925711243, 0.026542940503886697, 0.3956162084626922, 0.01858005835272069, 0.011754730794578394, 0.1741722476874089, 0.006825327558142294, 0.011628335839797981, 0.00973241151809179, 0.001643134412145367, 0.0020223192764866056, 0.0005055798191216514, 0.011628335839797981, 0.0275236489269156, 0.04650547577306429, 0.00854182208076691, 0.00854182208076691, 0.03132001429614534, 0.8769604002920695, 0.9979059715079911, 0.9821947666121752, 0.004502898643494213, 0.012945833600045862, 0.998385624578348, 0.024723143532327123, 0.23942412683937844, 0.1639534781617483, 0.010735049165352567, 0.49316165256589367, 0.0006506090403243979, 0.017241139568596547, 0.006831394923406179, 0.004228958762108587, 0.03871123789930168, 0.9915371359923527, 0.9954406429754755, 0.9967784475744568, 0.03940349434607147, 0.8217070162412464, 0.06823531947734328, 0.07015744115276139, 0.10935377432928699, 0.249769833393305, 0.08010799747378, 0.019254983519774786, 0.07701993407909914, 0.03306044340187746, 0.05068056983035061, 0.014350412245869887, 0.06884564862259097, 0.05049891904242821, 0.022161396126533242, 0.07665663250325433, 0.06757409310713415, 0.020163237459386803, 0.009264190184042585, 0.026157713460826123, 0.0005449523637672108, 0.009990793335732199, 0.007266031516896145, 0.0010899047275344216, 0.004904571273904898, 0.0016348570913016327, 0.2584147844827681, 0.704571416564708, 0.03668518861133242, 0.9964328425315759, 0.009935896047223077, 0.9637819165806385, 0.02649572279259487, 0.03744654046351466, 0.26462221927550356, 0.012482180154504885, 0.1198289294832469, 0.24839538507464723, 0.3170473759244241, 0.0008493231871522499, 0.0038219543421851247, 0.0008493231871522499, 0.9100497950336358, 0.0033972927486089995, 0.0025479695614567498, 0.07389111728224575, 0.004246615935761249, 0.0022618017338741432, 0.039958497298443196, 0.0018848347782284528, 0.1265666553580406, 0.3256052079389652, 0.0006596921723799584, 0.19036831260107373, 0.07181220505050405, 0.08462908154245753, 0.007256613896179543, 0.0013193843447599168, 0.07859761025212648, 0.013853535619979127, 0.003109977384076947, 0.009424173891142263, 0.032607641663352234, 0.0017905930393170301, 0.001036659128025649, 0.007162372157268121, 0.0009088182904829911, 0.001931238867276356, 0.7481846576401224, 0.06407168947905087, 0.018857979527522065, 0.049416994545012645, 0.11292067259251165, 0.0036352731619319644, 0.9921849197966937, 0.7920186825462592, 0.15340064276933552, 0.0014471758751824105, 0.007856097608133085, 0.04506919154139507, 0.02576456916482978, 0.0061610926263723385, 0.808783432043787, 0.03360595978021275, 0.12490215051645741, 0.6221239537061332, 0.1283978241899999, 0.028989043639796486, 0.0003732494889244183, 0.19504359404572658, 0.0035666062274999966, 0.0043545773707848795, 0.014722618729796499, 8.294433087209295e-05, 0.0008294433087209295, 0.0006220824815406971, 4.147216543604647e-05, 0.0008709154741569759, 0.0004126483262199885, 0.006519843554275819, 0.09887053896230924, 0.06610626186044216, 0.007427669871959793, 0.0023933602920759335, 0.31014648198694333, 0.08186942792204573, 0.014607750748187593, 0.013204746439039633, 0.01939447133233946, 0.02187036128965939, 0.16258344053067547, 0.0029710679487839173, 0.028637793839667202, 0.007840318198179782, 0.000825296652439977, 0.08541820352753762, 0.005694546901835841, 0.05859606232323837, 0.0032186569445159102, 0.0014855339743919586, 0.024929408558888116, 0.9660145816569145, 0.9111027936042124, 0.004116428284356381, 0.08370070844857976, 0.008839039963995073, 0.5269896585430166, 0.45749651675712427, 0.006400684111858501, 0.9919880870046361, 0.006717752282198439, 0.07496454444496144, 0.2504881138472888, 0.0036377941845041947, 0.13758657290678364, 0.015330704063267676, 0.2893345588889586, 0.02546455929152936, 0.009484249123885936, 0.022866134874026365, 0.008185036915134438, 0.007925194473384137, 0.0002598424417502996, 0.13628736069803216, 0.003248030521878745, 0.015070861621517377, 0.005918703585730479, 0.0029593517928652394, 0.002536587251027348, 0.003804880876541022, 0.0029593517928652394, 0.5614313115607197, 0.0033821163347031308, 0.016910581673515654, 0.015219523506164088, 0.38471573307248114, 0.9956904308583172, 0.0037279723277668735, 0.07015366107706754, 0.018639861638834368, 0.23892913555233145, 0.1237008999668099, 0.004405785478269942, 0.12505652626781605, 0.3680525407231659, 0.04676910738471169, 0.03245113224873587, 0.015189891690897642, 0.07042586147597997, 0.130494978617257, 0.0027617984892541166, 0.11737643579329995, 0.6310709547945657, 0.9863571523997214, 0.9911362644362216, 0.006292928663087121, 0.0004403145179009942, 0.0048434596969109366, 0.6353738493311346, 0.3588563320893103, 0.0004403145179009942, 0.0832215387323966, 0.9163790566835218, 0.0026943982683040883, 0.9681871110772691, 0.02874024819524361, 0.06419466541350473, 0.098288482929768, 0.009521696783821275, 0.541200959132035, 0.028565090351463825, 0.00552872716479945, 0.006450181692266025, 0.008907393765510224, 0.059894544285327374, 0.011978908857065474, 0.05313721108390582, 0.015664726966931775, 0.022422060168353325, 0.008293090747199175, 0.004607272637332875, 0.007064484710577075, 0.0233435146958199, 0.023036363186664376, 0.002150060564088675, 0.006450181692266025, 0.2993919652426488, 0.005458759534578451, 0.01469666028540352, 0.010917519069156901, 0.0008398091591659154, 0.07096387394951985, 0.006298568693744366, 0.5824076518815624, 0.008398091591659154, 0.9951826299392841, 0.037809954433322995, 0.9564518102948002, 0.005601474730862666, 0.9989290711920564, 0.5168322740205344, 0.0013084361367608466, 0.013084361367608467, 0.4684201369603831, 0.9980942654744289, 0.9939637259792138, 0.9987904608862065, 0.05246647521942259, 0.01227938781731167, 0.020651697692751447, 0.8316494476270176, 0.02455877563462334, 0.00781415588374379, 0.049675705260942664, 0.9988242041504939, 0.009443454163600849, 0.013025454018759791, 0.16053872078121442, 0.13383654004275686, 0.013351090369228786, 0.07326817885552382, 0.5965657940591984, 0.9972907877596917, 0.9953274601551142, 0.9966249028699983, 0.9975554542241524, 0.2254085022095222, 0.018503683017199582, 0.7552866977020557, 0.9910862356690061, 0.0016696803302411961, 0.15583683082251165, 0.7764013535621562, 0.01280088253184917, 0.05287321045763788, 0.0015367162555486834, 0.17580033963476938, 0.086363453561836, 0.00276608925998763, 0.13338697098162572, 0.5848742068618289, 0.007376238026633681, 0.007683581277743417, 0.08397394179999322, 0.9155868493031519, 0.9480353628876395, 0.04934978601332918, 0.9974483182535622, 0.9973470507459179, 0.9964509008935178, 0.9972857255836246, 0.07966346459303747, 0.07966346459303747, 0.8395303576343179, 0.00040972319620393685, 0.2990979332288739, 0.022534775791216526, 0.6772724433251076, 0.0057400120801331155, 0.9941700922790556, 0.9516620340656412, 0.04726798182445238, 0.998907701667478, 0.982010859291463, 0.017228260689323913, 0.9978156779917581, 0.15058425495910593, 0.008111582794758468, 0.7866155417891417, 0.005199732560742608, 0.045549657232105245, 0.0010399465121485217, 0.0020798930242970433, 0.0008319572097188172, 0.979679955595211, 0.9982319364760243, 0.9606835578422773, 0.006322597455634732, 0.026344156065144717, 0.005620086627230873, 0.0007025108284038591, 0.9970827377076433, 0.9987919852211221, 0.06192073101236825, 0.009154604995668407, 0.08913025141616046, 0.46586767644623667, 0.00966319416209443, 0.007883132079603351, 0.05696198663971453, 0.026955225820579198, 0.029371024361102803, 0.06687947538502197, 0.06497226601092439, 0.0053401862474732375, 0.013477612910289599, 0.014240496659928633, 0.010044636036913947, 0.009154604995668407, 0.0381441874819517, 0.009917488745307441, 0.0038144187481951694, 0.005085891664260226, 0.0019072093740975847, 0.9934891612408258, 0.9838254372568057, 0.00781776402658969, 0.047427768427977454, 0.08443185148716865, 0.7400816611838239, 0.001563552805317938, 0.07088106050774652, 0.026580397690404944, 0.0020847370737572504, 0.018241449395375944, 0.0005211842684393126, 0.08223717690100155, 0.029166384495053564, 0.3519510623861876, 0.0756221206237729, 0.004359923455446151, 0.11080219264357978, 0.05743071586139413, 0.009170873475248802, 0.016988667257428106, 0.03502972983168805, 0.16026477253467578, 0.010974979732674795, 0.0019544484455448264, 0.05382250334654214, 0.0004510265643564984, 0.10674122151038205, 0.8914334445056231, 0.9999028279295299, 0.0020198129629962315, 0.17168410185467967, 0.6660894304636461, 0.00561059156387842, 0.11804684650400198, 0.00987464115242602, 0.011670030452867115, 0.010099064814981157, 0.004712896913657874, 0.9916980617165173, 0.06581526319238604, 0.9125306430355364, 0.021400054903045765, 0.015643916010486772, 0.981655729658045, 0.0010741586455809927, 0.08328310032071297, 0.07977418207848173, 0.0005728846109765294, 0.08485853300089843, 0.10104252326098538, 0.10741586455809927, 0.2308724982235414, 0.05091511980053905, 0.018117475822132745, 0.08922677815959447, 0.034587908387707963, 0.0037953605477195076, 0.003365697089487111, 0.052275720751608315, 0.016685264294691422, 0.011171249914042324, 0.014393725850785303, 0.00035805288186033094, 0.016183990260086958, 0.016313900702699505, 0.9788340421619703, 0.20414469423811762, 0.10419885435070586, 0.691114850285294, 0.013192834514674736, 0.8374811349915523, 0.148815173325531, 0.9953125392292806, 0.00989727285835867, 0.0692809100085107, 0.036290000480648454, 0.8775581934411354, 0.18221880827640274, 0.6946157034707209, 0.0020944690606483074, 0.012417209430986394, 0.071062343129139, 0.0013464443961310549, 0.008527481175496681, 0.0002992098658069011, 0.011669184766469142, 0.013314839028407098, 0.0025432838593586592, 0.4450094992319645, 0.44323743552173267, 0.03211865474795164, 0.0005537699094474421, 0.07896758908720525, 0.10882208985782278, 0.0003379568008006919, 0.0020277408048041514, 0.0013518272032027677, 0.011828488028024216, 0.016897840040034594, 0.006421179215213146, 0.8459058724041318, 0.004055481609608303, 0.0020277408048041514, 0.03262162002725452, 0.9655999528067339, 0.9926842928108929, 0.9850150110350024, 0.0044934436739996406, 0.00861243370849931, 0.33813163646847294, 0.01909713561449847, 0.019846042893498412, 0.00973579462699922, 0.5538169328204557, 0.02171831109099826, 0.013105877382498951, 0.0059912582319995205, 0.005616804592499551, 0.7749557778446096, 0.0003652006493141421, 0.0014608025972565684, 0.0996997772627608, 0.023738042205419238, 0.02921605194513137, 0.014608025972565684, 0.05076289025466575, 0.005478009739712132, 0.9938634486623009, 0.004443502751098216, 0.9891583709223675, 0.030762117620341548, 0.14705792813626692, 0.02325916210318507, 0.1388046770673948, 0.11404492386077843, 0.5454648660972757, 0.014885434600784475, 0.016746113925882534, 0.19351064981019817, 0.7740425992407927, 0.0965126880650747, 0.024128172016268674, 0.8755079560188919, 0.024613483026830616, 0.12734802087794972, 0.7244925221375794, 0.029964240206576405, 0.05029711748961039, 0.0010701514359491573, 0.018192574411135674, 0.0010701514359491573, 0.01177166579544073, 0.007491060051644101, 0.0032104543078474716, 0.03591652426714824, 0.08619965824115577, 0.033522089316005026, 0.8436392477861264, 0.9986721292304843, 0.033844293313303235, 0.07731670455194274, 0.06126984134304896, 0.0910294785668156, 0.01137868482085195, 0.002917611492526141, 0.5683507187440923, 0.037928949402839834, 0.012253968268609793, 0.07469085420866921, 0.021590325044693444, 0.0046681783880418255, 0.002625850343273527, 0.021090143770178576, 0.017184561590515877, 0.8584469630898612, 0.0007811164359325398, 0.05077256833561509, 0.05077256833561509, 0.9902385886763069, 0.9974947495876063, 0.0021163254941745538, 0.0003588959197247677, 0.9962950731559552, 0.002871167357798142, 0.9989073470273594, 0.9988821640251303, 0.8221664745432594, 0.17648599715326513, 0.9934473079113338, 0.9997155012736926, 0.9993657781898954, 0.9995214936430455, 0.054819529683030485, 0.21927811873212194, 0.0365128243576882, 0.3353547008499516, 0.06910278328851732, 0.011265664815595256, 0.012673872917544663, 0.002414071031913269, 0.036814583236677356, 0.033796994446785765, 0.0197149134272917, 0.010259801885631394, 0.008851593783681987, 0.0021123121529241103, 0.027057712816027892, 0.0036211065478699038, 0.018507877911335062, 0.008549834904692829, 0.08348662318700055, 0.005532246114801242, 0.00010058629299638622, 0.00010058629299638622, 0.007659938780897609, 0.04021467859971245, 0.09710568225367074, 0.015639041677665954, 0.16189599777542968, 0.0031118501297396537, 0.5070719890896283, 0.004388506593222589, 0.0030320591007719703, 0.09734505534057379, 0.014761340359021435, 0.007340774665026875, 0.004228924535287222, 0.001675611608321352, 0.004468297622190272, 0.0013564474924506183, 0.0014362385214183018, 0.02138399576333916, 7.979102896768343e-05, 0.005665163056705524, 0.0028393965377569936, 0.06851587297631007, 0.0011110682104266496, 0.0835770198287602, 0.12703213205878028, 0.035183826663510574, 0.11061301294914201, 0.028517417400950675, 0.009258901753555414, 0.019628871717537476, 0.006172601169036942, 0.09690983835387999, 0.007900929496367287, 0.11653871007141747, 0.0004938080935229554, 0.00012345202338073886, 0.05481269838104805, 0.012592106384835364, 0.04394892032354303, 0.15777168588058427, 0.005802245098894726, 0.01074032603412428, 0.4774652198197242, 0.0003773576311096386, 0.05644191996739881, 2.695411650783133e-05, 0.00121293524285241, 0.007681923204731929, 0.1897030719821169, 0.00013477058253915665, 0.0011051187768210844, 0.007196749107590965, 0.00040431174761746996, 0.0367384608001741, 0.03350396681923434, 0.10086230397230483, 0.020565990895475304, 0.001725063456501205, 0.06328826556038797, 0.0016172469904698799, 0.0012233161441904852, 0.06157357925758776, 0.10663239056860396, 0.028136271316381162, 0.036291712277651066, 0.09766140551120707, 0.1029624421360325, 0.28462488954831955, 0.10275855611200076, 0.016310881922539804, 0.06748627395450843, 0.07706891708400057, 0.009990415177555629, 0.007339896865142912, 0.005237889058777137, 0.9894848603762627, 0.0047617173261610335, 0.9861030586810977, 0.9957048908414691, 0.010729865761986356, 0.07913275999464937, 0.0028740711862463453, 0.2326081613402042, 0.010729865761986356, 0.48322716878088556, 0.0003832094914995127, 0.0038320949149951273, 0.14811046846456166, 0.0015328379659980509, 0.00996344677898733, 0.01686121762597856, 0.01734528163259265, 0.15032577414913628, 0.02168160204074081, 0.4902932941479522, 0.00115635210883951, 0.023416130204000078, 0.024283394285629707, 0.00809446476187657, 0.01618892952375314, 0.0745847110201484, 0.058973957550815005, 0.0014454401360493873, 0.022259778095160568, 0.015321665442123506, 0.008961728843506203, 0.00809446476187657, 0.056950341360345866, 0.8582151392640659, 0.08645189230781776, 0.0549329732372592, 0.046205660305641244, 0.1465191365986486, 0.1371902028077234, 0.03599870921674662, 0.024255227856405496, 0.06629030599669195, 0.020962662989020137, 0.08670420817448118, 0.046534916792379775, 0.036218213541238976, 0.0598149284241674, 0.0066948818970169015, 0.04521789084542563, 0.03830350462391637, 0.004609590814339506, 0.029413579481975895, 0.041486317329055555, 0.03951077840862434, 0.01207273784707966, 0.0691438622150926, 0.00032925648673853613, 0.006585129734770723, 0.9984874196933746, 0.11515705333366748, 0.05454807789489512, 0.06450526671697915, 0.7658376967942021, 0.9992097795093748, 0.0016010539244386232, 0.19949131898505246, 0.2789035936372081, 0.1423336938825936, 0.16666971353406068, 0.12424178453643715, 0.0001601053924438623, 0.007204742659973804, 0.0006404215697754492, 0.0590788898117852, 0.015850433851942368, 0.0016010539244386232, 0.0020813701017702102, 0.011166903218206247, 0.9826874832021497, 0.7078430450686907, 0.053579092739096945, 0.23461652410598352, 0.003827078052792639, 0.010389127426661772, 0.9765779781062066, 0.02734087338329312, 0.9725044836335908, 0.07657182539866586, 0.9206426449095407, 0.9914685860577119, 0.996857384980782, 0.9993138640995957, 0.01079317630899953, 0.178502531264223, 0.8103184675064262, 0.031203658451313388, 0.9641930461455838, 0.994873901651647, 0.0037053031718869535, 0.9941664810460836, 0.1659340746211344, 0.019679512893072543, 0.8140162151225461, 0.10849158485058441, 0.0034441772968439492, 0.888597742585739, 0.0055910890187599975, 0.017535688286110903, 0.8724640273365033, 0.023889198534701808, 0.009657335577858178, 0.027955445093799988, 0.0406624655909818, 0.00203312327954909, 0.007497190157375908, 0.9916737889983588, 0.9970486342143164, 0.99257700295951, 0.9978811263344863, 0.9939331152171792, 0.9953248665775111, 0.9976925462661967, 0.17216007659855231, 0.06988116894755242, 0.07609701416391153, 0.4002627601443366, 0.01714066408147512, 0.0015068715676022084, 0.07176475840705518, 0.00018835894595027605, 0.0133734851624696, 0.015445433567922637, 0.00621584521635911, 0.02429830402758561, 0.02806548294659113, 0.010359742027265183, 0.0005650768378508282, 0.016387228297674018, 0.009417947297513803, 0.022226355622132574, 0.010548100973215459, 0.01770574091932595, 0.0003767178919005521, 0.016010510405773466, 0.9975728136018998, 0.9912909458404037, 0.9940990992285671, 0.005938368193154603, 0.06462341857256479, 0.11213036411780161, 0.25395256920137627, 0.07964399694348526, 0.00034931577606791783, 0.46424066639426276, 0.010130157505969616, 0.007684947073494192, 0.0010479473282037535, 0.003948022062679935, 0.05053468240230317, 0.016581692663255727, 0.008685648537895857, 0.8740920846773376, 0.006316835300287896, 0.025267341201151584, 0.002368813237607961, 0.00789604412535987, 0.003948022062679935, 0.011082868540933204, 0.8934768606534494, 0.07412109533745137, 0.0031766183716050588, 0.018106724718148833, 0.9959044536016182, 0.024423246587526842, 0.07213377480502114, 0.6605636228207842, 0.09144517908353074, 0.023287281629967457, 0.07724561711403839, 0.026127194023865926, 0.024423246587526842, 0.018318954868969395, 0.010304412113795285, 0.18013638954486572, 0.1324307779069246, 0.20685153206211276, 0.029768301662075267, 0.0022898693586211744, 0.419809382413882, 0.0005502640004867496, 0.12527677077748334, 0.09868067742062377, 0.6298688592238327, 0.009904752008761494, 0.05062428804478097, 0.03008109869327565, 0.0053192186713719135, 0.00036684266699116644, 0.028980570692302147, 0.020176346684514155, 0.9972877503392173], \"Term\": [\"'$100',\", \"'-',\", \"'-',\", \"'-',\", \"'-',\", \"'-',\", \"'.',\", \"'.',\", \"'.',\", \"'.',\", \"'0',\", \"'0',\", \"'0',\", \"'0',\", \"'0',\", \"'1',\", \"'1',\", \"'1',\", \"'1',\", \"'1',\", \"'1',\", \"'1',\", \"'1',\", \"'1',\", \"'1',\", \"'1,',\", \"'1,',\", \"'1,',\", \"'1,',\", \"'1,000.',\", \"'1.',\", \"'1.',\", \"'1.',\", \"'1.',\", \"'1.8',\", \"'1.8',\", \"'10',\", \"'10',\", \"'10',\", \"'10',\", \"'10',\", \"'10',\", \"'10',\", \"'10',\", \"'10',\", \"'10',\", \"'10',\", \"'10',\", \"'10',\", \"'100',\", \"'100',\", \"'100',\", \"'100',\", \"'100',\", \"'100',\", \"'100',\", \"'100',\", \"'100',\", \"'100',\", \"'100',\", \"'100',\", \"'100',\", \"'100',\", \"'2',\", \"'2',\", \"'2',\", \"'2',\", \"'2',\", \"'2',\", \"'2,',\", \"'2,',\", \"'2,',\", \"'2,',\", \"'2,',\", \"'2,',\", \"'2.',\", \"'2.',\", \"'2.',\", \"'2.',\", \"'20',\", \"'20',\", \"'20',\", \"'20',\", \"'20',\", \"'20',\", \"'20',\", \"'20',\", \"'20',\", \"'20',\", \"'20',\", \"'20',\", \"'20',\", \"'280',\", \"'3',\", \"'3',\", \"'3',\", \"'3',\", \"'3',\", \"'3,',\", \"'3,',\", \"'3,',\", \"'3,',\", \"'3,',\", \"'3.',\", \"'3.',\", \"'30',\", \"'30',\", \"'30',\", \"'30',\", \"'30',\", \"'30',\", \"'30',\", \"'30',\", \"'30',\", \"'30',\", \"'30',\", \"'30',\", \"'30',\", \"'360',\", \"'4',\", \"'4',\", \"'4',\", \"'4',\", \"'4',\", \"'4.5',\", \"'40',\", \"'40',\", \"'40',\", \"'40',\", \"'40',\", \"'40',\", \"'40',\", \"'40',\", \"'40',\", \"'40',\", \"'40',\", \"'5.',\", \"'5.',\", \"'5.',\", \"'50',\", \"'50',\", \"'50',\", \"'50',\", \"'50',\", \"'50',\", \"'50',\", \"'50',\", \"'50',\", \"'50',\", \"'50',\", \"'50',\", \"'500,',\", \"'6.',\", \"'6.',\", \"'60',\", \"'60',\", \"'60',\", \"'60',\", \"'60',\", \"'60',\", \"'60',\", \"'7.',\", \"'8th',\", \"'9.',\", \"'9.8',\", \"'92',\", \"'=',\", \"'=',\", \"'=',\", \"'[beth]',\", \"'[steven]',\", \"'able',\", \"'able',\", \"'able',\", \"'able',\", \"'able',\", \"'able',\", \"'able',\", \"'able',\", \"'able',\", \"'able',\", \"'able',\", \"'able',\", \"'able',\", \"'able',\", \"'able',\", \"'able',\", \"'able',\", \"'able',\", \"'able',\", \"'able',\", \"'accelerate',\", \"'accelerate',\", \"'accelerating',\", \"'acceleration',\", \"'acceleration',\", \"'acceleration,',\", \"'acceleration.',\", \"'acid',\", \"'acid',\", \"'acid,',\", \"'activated',\", \"'african',\", \"'aggregate',\", \"'aggregate',\", \"'aggregate',\", \"'ahead',\", \"'ahead',\", \"'ahead',\", \"'ahead',\", \"'ahead',\", \"'ahead',\", \"'ahead',\", \"'ahead',\", \"'ahead',\", \"'ahead',\", \"'ahead',\", \"'alpha',\", \"'alpha',\", \"'amendment',\", \"'american',\", \"'american',\", \"'american',\", \"'angle',\", \"'angle',\", \"'angle',\", \"'angle,',\", \"'angle.',\", \"'angles',\", \"'angular',\", \"'area',\", \"'area',\", \"'area',\", \"'area',\", \"'area',\", \"'area',\", \"'area',\", \"'area',\", \"'area',\", \"'area',\", \"'area',\", \"'area',\", \"'assets',\", \"'atmosphere',\", \"'atmosphere',\", \"'atmosphere,',\", \"'atmosphere,',\", \"'atmosphere,',\", \"'atmosphere.',\", \"'atmosphere.',\", \"'atomic',\", \"'atomic',\", \"'atomic',\", \"'atomic',\", \"'atomic',\", \"'average',\", \"'average',\", \"'average',\", \"'average',\", \"'average',\", \"'average',\", \"'average',\", \"'average',\", \"'average',\", \"'average',\", \"'axial',\", \"'b',\", \"'b',\", \"'b',\", \"'b',\", \"'b',\", \"'b',\", \"'b',\", \"'b',\", \"'b',\", \"'b',\", \"'b',\", \"'b',\", \"'bacteria.',\", \"'ball',\", \"'ball',\", \"'ball',\", \"'ball',\", \"'ball',\", \"'ball',\", \"'ball,',\", \"'ball,',\", \"'bank',\", \"'banks',\", \"'baseball',\", \"'berries',\", \"'berries.',\", \"'billion',\", \"'billion',\", \"'billion',\", \"'billion',\", \"'blood',\", \"'bond',\", \"'bond.',\", \"'bonded',\", \"'bonded',\", \"'bright',\", \"'bright',\", \"'bright',\", \"'bright',\", \"'bright',\", \"'british',\", \"'british',\", \"'british',\", \"'bumps',\", \"'bunch',\", \"'bunch',\", \"'bunch',\", \"'bunch',\", \"'bunch',\", \"'bunch',\", \"'bunch',\", \"'bunch',\", \"'bunch',\", \"'bunch',\", \"'bunch',\", \"'bunch',\", \"'bunch',\", \"'bunch',\", \"'bunch',\", \"'bunch',\", \"'buy',\", \"'buy',\", \"'buy',\", \"'buy',\", \"'buy',\", \"'called',\", \"'called',\", \"'called',\", \"'called',\", \"'called',\", \"'called',\", \"'called',\", \"'called',\", \"'called',\", \"'called',\", \"'called',\", \"'called',\", \"'called',\", \"'called',\", \"'called',\", \"'called',\", \"'called',\", \"'called',\", \"'called',\", \"'called',\", \"'called',\", \"'calvin',\", \"'capacitor',\", \"'capacitors',\", \"'carbon',\", \"'carbon',\", \"'carbon',\", \"'carbon,',\", \"'carbon.',\", \"'carbons',\", \"'cards',\", \"'cash',\", \"'cell',\", \"'cell',\", \"'cell.',\", \"'cell.',\", \"'cells',\", \"'cells.',\", \"'change',\", \"'change',\", \"'change',\", \"'change',\", \"'change',\", \"'change',\", \"'change',\", \"'change',\", \"'change',\", \"'change',\", \"'change',\", \"'change',\", \"'change',\", \"'change',\", \"'change',\", \"'change',\", \"'charge',\", \"'charge',\", \"'charge',\", \"'charge',\", \"'charge',\", \"'charge',\", \"'charge',\", \"'chocolate',\", \"'chromosomes',\", \"'circuit',\", \"'citizens',\", \"'citizens',\", \"'company',\", \"'company',\", \"'company',\", \"'component',\", \"'component',\", \"'component',\", \"'component',\", \"'component',\", \"'component',\", \"'concentration.',\", \"'concentration.',\", \"'configuration.',\", \"'configurations',\", \"'congress',\", \"'congress',\", \"'constant--',\", \"'constitution',\", \"'constitutional',\", \"'constructive',\", \"'cosine',\", \"'cost',\", \"'cost',\", \"'cost,',\", \"'cost,',\", \"'cost.',\", \"'costs',\", \"'costs',\", \"'costs',\", \"'costs',\", \"'court',\", \"'court',\", \"'crust',\", \"'cubed,',\", \"'cups.',\", \"'current',\", \"'current',\", \"'current',\", \"'current',\", \"'current',\", \"'current',\", \"'current',\", \"'current',\", \"'current,',\", \"'current.',\", \"'curvature',\", \"'curve',\", \"'curve',\", \"'curve',\", \"'curve',\", \"'curve',\", \"'cylinder',\", \"'cylinder.',\", \"'data',\", \"'data',\", \"'data',\", \"'data',\", \"'debt',\", \"'decay,',\", \"'decay.',\", \"'degrees',\", \"'degrees',\", \"'degrees',\", \"'degrees',\", \"'degrees',\", \"'degrees',\", \"'degrees?',\", \"'demand',\", \"'demand',\", \"'democratic',\", \"'destructive',\", \"'determinant',\", \"'deviation',\", \"'deviation',\", \"'deviation.',\", \"'deviations',\", \"'differential',\", \"'differential',\", \"'differential',\", \"'direction',\", \"'direction',\", \"'direction',\", \"'direction',\", \"'direction',\", \"'direction',\", \"'direction',\", \"'direction',\", \"'direction',\", \"'direction',\", \"'direction',\", \"'direction',\", \"'discharge',\", \"'displacement',\", \"'displacement',\", \"'distance',\", \"'distance',\", \"'distance',\", \"'distance',\", \"'distance',\", \"'distance',\", \"'distance',\", \"'distance',\", \"'distance',\", \"'distribution',\", \"'distribution',\", \"'distribution',\", \"'distribution',\", \"'distribution',\", \"'distribution',\", \"'diverging',\", \"'divided',\", \"'divided',\", \"'divided',\", \"'divided',\", \"'divided',\", \"'divided',\", \"'divided',\", \"'divided',\", \"'divided',\", \"'divided',\", \"'divided',\", \"'divided',\", \"'divided',\", \"'divided',\", \"'divided',\", \"'divided',\", \"'dna',\", \"'dna',\", \"'dr.',\", \"'dr.',\", \"'dr.',\", \"'draw',\", \"'draw',\", \"'draw',\", \"'draw',\", \"'draw',\", \"'draw',\", \"'draw',\", \"'draw',\", \"'draw',\", \"'draw',\", \"'draw',\", \"'draw',\", \"'draw',\", \"'draw',\", \"'draw',\", \"'draw',\", \"'e',\", \"'e',\", \"'e',\", \"'e',\", \"'e',\", \"'e',\", \"'e',\", \"'earth',\", \"'earth',\", \"'earth',\", \"'earth',\", \"'earth',\", \"'earth',\", \"'earths',\", \"'earths',\", \"'ecosystem',\", \"'eight',\", \"'eight',\", \"'eight',\", \"'eight',\", \"'eight',\", \"'eight',\", \"'eight',\", \"'eight',\", \"'eight',\", \"'eight',\", \"'eight',\", \"'eight',\", \"'elastic,',\", \"'elastic,',\", \"'election',\", \"'electric',\", \"'electron',\", \"'electron',\", \"'electron',\", \"'electron',\", \"'electrons',\", \"'electrons',\", \"'electrons',\", \"'electrons',\", \"'electrons',\", \"'electrons.',\", \"'electrons.',\", \"'emit',\", \"'emits',\", \"'empire',\", \"'empire,',\", \"'empire.',\", \"'energy',\", \"'energy',\", \"'energy',\", \"'energy',\", \"'energy',\", \"'energy,',\", \"'energy,',\", \"'energy,',\", \"'energy.',\", \"'energy.',\", \"'energy.',\", \"'entropy',\", \"'equity',\", \"'equity.',\", \"'equivalence',\", \"'essentially',\", \"'essentially',\", \"'essentially',\", \"'essentially',\", \"'essentially',\", \"'essentially',\", \"'essentially',\", \"'essentially',\", \"'essentially',\", \"'essentially',\", \"'essentially',\", \"'essentially',\", \"'essentially',\", \"'essentially',\", \"'essentially',\", \"'essentially',\", \"'essentially',\", \"'essentially',\", \"'f',\", \"'f',\", \"'f',\", \"'factorial,',\", \"'field',\", \"'field',\", \"'field',\", \"'field',\", \"'field',\", \"'field,',\", \"'field,',\", \"'field,',\", \"'field.',\", \"'field.',\", \"'figure',\", \"'figure',\", \"'figure',\", \"'figure',\", \"'figure',\", \"'figure',\", \"'figure',\", \"'figure',\", \"'figure',\", \"'figure',\", \"'figure',\", \"'figure',\", \"'figure',\", \"'figure',\", \"'figure',\", \"'figure',\", \"'figure',\", \"'figure',\", \"'figure',\", \"'figure',\", \"'figure',\", \"'film.',\", \"'final',\", \"'final',\", \"'final',\", \"'final',\", \"'final',\", \"'final',\", \"'final',\", \"'final',\", \"'final',\", \"'final',\", \"'firms',\", \"'five',\", \"'five',\", \"'five',\", \"'five',\", \"'five',\", \"'five',\", \"'five',\", \"'five',\", \"'five',\", \"'five',\", \"'five',\", \"'five',\", \"'five',\", \"'five',\", \"'flux.',\", \"'focal',\", \"'foil',\", \"'force',\", \"'force',\", \"'force',\", \"'force',\", \"'force',\", \"'force,',\", \"'force,',\", \"'force,',\", \"'force,',\", \"'force,',\", \"'force?',\", \"'form',\", \"'form',\", \"'form',\", \"'form',\", \"'form',\", \"'form',\", \"'form',\", \"'form',\", \"'form',\", \"'form',\", \"'form',\", \"'form',\", \"'form',\", \"'form',\", \"'form',\", \"'four',\", \"'four',\", \"'four',\", \"'four',\", \"'four',\", \"'four',\", \"'four',\", \"'four',\", \"'four',\", \"'four',\", \"'four',\", \"'four',\", \"'four',\", \"'four',\", \"'frame',\", \"'frame',\", \"'frame',\", \"'frame',\", \"'french',\", \"'french',\", \"'french',\", \"'french',\", \"'frequency',\", \"'frequency',\", \"'frequency',\", \"'function',\", \"'function',\", \"'function',\", \"'function',\", \"'function',\", \"'function',\", \"'gas',\", \"'gdp',\", \"'gdp',\", \"'gene',\", \"'genetic',\", \"'got',\", \"'got',\", \"'got',\", \"'got',\", \"'got',\", \"'got',\", \"'got',\", \"'got',\", \"'got',\", \"'got',\", \"'got',\", \"'got',\", \"'got',\", \"'got',\", \"'got',\", \"'got',\", \"'got',\", \"'got',\", \"'got',\", \"'got',\", \"'got',\", \"'government',\", \"'government',\", \"'government',\", \"'government',\", \"'government',\", \"'grams',\", \"'grams',\", \"'grams',\", \"'graph',\", \"'graph',\", \"'graph',\", \"'graph',\", \"'graph',\", \"'graph',\", \"'graph',\", \"'graph',\", \"'gravitational',\", \"'gravitational',\", \"'gravitational',\", \"'gravity',\", \"'gravity',\", \"'gravity,',\", \"'gravity.',\", \"'great',\", \"'great',\", \"'great',\", \"'great',\", \"'great',\", \"'great',\", \"'great',\", \"'great',\", \"'great',\", \"'great',\", \"'great',\", \"'great',\", \"'greenhouse',\", \"'group',\", \"'group',\", \"'group',\", \"'group',\", \"'group',\", \"'group',\", \"'group',\", \"'group',\", \"'group',\", \"'guy',\", \"'guy',\", \"'guy',\", \"'guy',\", \"'guy',\", \"'guy',\", \"'guy',\", \"'guys',\", \"'guys',\", \"'guys',\", \"'guys',\", \"'guys',\", \"'guys',\", \"'ha',\", \"'harris:',\", \"'heat',\", \"'heat',\", \"'helium',\", \"'helium',\", \"'helium',\", \"'helium',\", \"'hemisphere',\", \"'hour,',\", \"'hour.',\", \"'hours',\", \"'hours',\", \"'hours',\", \"'hours',\", \"'hours.',\", \"'hours.',\", \"'hydrogen',\", \"'hydrogen',\", \"'hydrogen',\", \"'hydrogen.',\", \"'hydrogen.',\", \"'hypothesis',\", \"'hypothesis',\", \"'hypothesis,',\", \"'hypothesis.',\", \"'image',\", \"'image',\", \"'image',\", \"'image.',\", \"'impulse',\", \"'incremental',\", \"'incremental',\", \"'incremental',\", \"'induce',\", \"'inertia',\", \"'input',\", \"'input',\", \"'input',\", \"'inside',\", \"'inside',\", \"'inside',\", \"'inside',\", \"'inside',\", \"'inside',\", \"'inside',\", \"'inside',\", \"'inside',\", \"'inside',\", \"'inside',\", \"'inside',\", \"'instantaneous',\", \"'instantaneous',\", \"'instantaneous',\", \"'integral',\", \"'integral',\", \"'integral',\", \"'integral',\", \"'interest',\", \"'interest',\", \"'interest',\", \"'interest',\", \"'interest',\", \"'is,',\", \"'is,',\", \"'is,',\", \"'is,',\", \"'is,',\", \"'is,',\", \"'is,',\", \"'is,',\", \"'is,',\", \"'is,',\", \"'is,',\", \"'is,',\", \"'is,',\", \"'is,',\", \"'is,',\", \"'is,',\", \"'is,',\", \"'is,',\", \"'is,',\", \"'is,',\", \"'is,',\", \"'it,',\", \"'it,',\", \"'it,',\", \"'it,',\", \"'it,',\", \"'it,',\", \"'it,',\", \"'it,',\", \"'it,',\", \"'it,',\", \"'it,',\", \"'it,',\", \"'it,',\", \"'it,',\", \"'it,',\", \"'it,',\", \"'it,',\", \"'it,',\", \"'it,',\", \"'it,',\", \"'it,',\", \"'k',\", \"'k',\", \"'k',\", \"'k',\", \"'k',\", \"'k',\", \"'kilograms',\", \"'kind',\", \"'kind',\", \"'kind',\", \"'kind',\", \"'kind',\", \"'kind',\", \"'kind',\", \"'kind',\", \"'kind',\", \"'kind',\", \"'kind',\", \"'kind',\", \"'kind',\", \"'kind',\", \"'kind',\", \"'kind',\", \"'kind',\", \"'kind',\", \"'kind',\", \"'kinematic',\", \"'king',\", \"'king',\", \"'know,',\", \"'know,',\", \"'know,',\", \"'know,',\", \"'know,',\", \"'know,',\", \"'know,',\", \"'know,',\", \"'know,',\", \"'know,',\", \"'know,',\", \"'know,',\", \"'know,',\", \"'know,',\", \"'know,',\", \"'know,',\", \"'l',\", \"'l',\", \"'l',\", \"'l',\", \"'l',\", \"'l',\", \"'l',\", \"'l',\", \"'lend',\", \"'length',\", \"'length',\", \"'length',\", \"'length',\", \"'length',\", \"'length',\", \"'length',\", \"'length',\", \"'length',\", \"'lens',\", \"'lens.',\", \"'less',\", \"'less',\", \"'less',\", \"'less',\", \"'less',\", \"'less',\", \"'less',\", \"'less',\", \"'less',\", \"'less',\", \"'less',\", \"'less',\", \"'less',\", \"'less',\", \"'less',\", \"'less',\", \"'less',\", \"'less',\", \"'less',\", \"'less',\", \"'less',\", \"'level',\", \"'level',\", \"'level',\", \"'level',\", \"'level',\", \"'level',\", \"'level',\", \"'level',\", \"'level',\", \"'level',\", \"'level',\", \"'level',\", \"'level',\", \"'level,',\", \"'level,',\", \"'level,',\", \"'level,',\", \"'level,',\", \"'level,',\", \"'level,',\", \"'level,',\", \"'level,',\", \"'level.',\", \"'level.',\", \"'level.',\", \"'level.',\", \"'level.',\", \"'level.',\", \"'level.',\", \"'light',\", \"'light',\", \"'light',\", \"'light',\", \"'light',\", \"'light',\", \"'light',\", \"'line',\", \"'line',\", \"'line',\", \"'line',\", \"'line',\", \"'line',\", \"'line',\", \"'line',\", \"'line',\", \"'line',\", \"'line',\", \"'line',\", \"'line',\", \"'line',\", \"'linearly',\", \"'liquid,',\", \"'liquid,',\", \"'liquid,',\", \"'log',\", \"'log,',\", \"'logarithm',\", \"'lone',\", \"'lot',\", \"'lot',\", \"'lot',\", \"'lot',\", \"'lot',\", \"'lot',\", \"'lot',\", \"'lot',\", \"'lot',\", \"'lot',\", \"'lot',\", \"'lot',\", \"'lot',\", \"'lot',\", \"'lot',\", \"'lot',\", \"'lot',\", \"'lot',\", \"'lot',\", \"'lot',\", \"'lot',\", \"'lot',\", \"'magnetic',\", \"'magnitude',\", \"'magnitude',\", \"'magnitude',\", \"'magnitude',\", \"'magnitude',\", \"'magnitude',\", \"'many',\", \"'many',\", \"'many',\", \"'many',\", \"'many',\", \"'many',\", \"'many',\", \"'many',\", \"'many',\", \"'many',\", \"'many',\", \"'many',\", \"'many',\", \"'many',\", \"'many',\", \"'many',\", \"'many',\", \"'many',\", \"'many',\", \"'many',\", \"'many',\", \"'marginal',\", \"'mass',\", \"'mass',\", \"'mass',\", \"'mass',\", \"'mass',\", \"'mass',\", \"'mass,',\", \"'mass,',\", \"'mass,',\", \"'mass.',\", \"'mass.',\", \"'mass.',\", \"'matrix',\", \"'matrix,',\", \"'matrix.',\", \"'maybe',\", \"'maybe',\", \"'maybe',\", \"'maybe',\", \"'maybe',\", \"'maybe',\", \"'maybe',\", \"'maybe',\", \"'maybe',\", \"'maybe',\", \"'maybe',\", \"'maybe',\", \"'maybe',\", \"'maybe',\", \"'maybe',\", \"'maybe',\", \"'maybe',\", \"'maybe',\", \"'maybe',\", \"'mean',\", \"'mean',\", \"'mean',\", \"'mean',\", \"'mean',\", \"'mean',\", \"'mean',\", \"'mean',\", \"'mean',\", \"'mean',\", \"'mean',\", \"'mean',\", \"'mean',\", \"'mean',\", \"'mean',\", \"'mean',\", \"'mean',\", \"'mean',\", \"'mechanism.',\", \"'median',\", \"'median',\", \"'membrane',\", \"'mercury',\", \"'mercury',\", \"'meters',\", \"'meters',\", \"'meters',\", \"'mg',\", \"'million',\", \"'million',\", \"'million',\", \"'million',\", \"'million',\", \"'million',\", \"'million',\", \"'million',\", \"'minus',\", \"'minus',\", \"'minus',\", \"'minus',\", \"'minus',\", \"'minus',\", \"'minus',\", \"'minus',\", \"'minus',\", \"'mirror',\", \"'mirror.',\", \"'model',\", \"'model',\", \"'model',\", \"'model',\", \"'model',\", \"'model',\", \"'model',\", \"'model',\", \"'model',\", \"'model',\", \"'model',\", \"'model',\", \"'model',\", \"'molecule.',\", \"'molecules',\", \"'molecules',\", \"'molten',\", \"'momentum',\", \"'momentum',\", \"'momentum',\", \"'momentum,',\", \"'momentum.',\", \"'momentum.',\", \"'money',\", \"'money',\", \"'money',\", \"'money,',\", \"'money,',\", \"'money.',\", \"'money.',\", \"'n',\", \"'n',\", \"'n',\", \"'n',\", \"'n,',\", \"'n,',\", \"'n,',\", \"'n,',\", \"'n.',\", \"'n.',\", \"'n.',\", \"'n.',\", \"'na',\", \"'native',\", \"'native',\", \"'natural',\", \"'natural',\", \"'natural',\", \"'natural',\", \"'natural',\", \"'natural',\", \"'natural',\", \"'need',\", \"'need',\", \"'need',\", \"'need',\", \"'need',\", \"'need',\", \"'need',\", \"'need',\", \"'need',\", \"'need',\", \"'need',\", \"'need',\", \"'need',\", \"'need',\", \"'need',\", \"'need',\", \"'need',\", \"'need',\", \"'need',\", \"'need',\", \"'need',\", \"'need',\", \"'negative',\", \"'negative',\", \"'negative',\", \"'negative',\", \"'negative',\", \"'negative',\", \"'negative',\", \"'negative',\", \"'negative',\", \"'negative',\", \"'negative',\", \"'negatively',\", \"'net',\", \"'net',\", \"'net',\", \"'net',\", \"'net',\", \"'net',\", \"'net',\", \"'neutrons',\", \"'neutrons,',\", \"'neutrons.',\", \"'new',\", \"'new',\", \"'new',\", \"'new',\", \"'new',\", \"'new',\", \"'new',\", \"'new',\", \"'new',\", \"'new',\", \"'new',\", \"'new',\", \"'new',\", \"'new',\", \"'new',\", \"'new',\", \"'new',\", \"'new',\", \"'new',\", \"'new',\", \"'new',\", \"'new',\", \"'newtons',\", \"'newtons',\", \"'nine',\", \"'nine',\", \"'nine',\", \"'nine',\", \"'nine',\", \"'nine',\", \"'north',\", \"'north',\", \"'north',\", \"'north',\", \"'nth',\", \"'nucleus',\", \"'nucleus',\", \"'nucleus',\", \"'null',\", \"'number',\", \"'number',\", \"'number',\", \"'number',\", \"'number',\", \"'number',\", \"'number',\", \"'number',\", \"'number',\", \"'number',\", \"'number',\", \"'number',\", \"'number',\", \"'number',\", \"'number',\", \"'number',\", \"'number',\", \"'number',\", \"'number',\", \"'object',\", \"'object',\", \"'object',\", \"'one,',\", \"'one,',\", \"'one,',\", \"'one,',\", \"'one,',\", \"'one,',\", \"'one,',\", \"'one,',\", \"'one,',\", \"'one,',\", \"'one,',\", \"'one,',\", \"'one,',\", \"'one,',\", \"'one,',\", \"'one,',\", \"'one,',\", \"'one,',\", \"'opportunity',\", \"'opportunity',\", \"'opportunity',\", \"'opportunity',\", \"'opportunity',\", \"'opportunity',\", \"'orbital',\", \"'oxygen',\", \"'oxygen',\", \"'oxygen',\", \"'oxygens',\", \"'p',\", \"'p',\", \"'p',\", \"'p',\", \"'p',\", \"'p',\", \"'p',\", \"'p',\", \"'p',\", \"'p',\", \"'p1',\", \"'p2',\", \"'parabolic',\", \"'parallel',\", \"'parallel',\", \"'parallel',\", \"'parallel',\", \"'part',\", \"'part',\", \"'part',\", \"'part',\", \"'part',\", \"'part',\", \"'part',\", \"'part',\", \"'part',\", \"'part',\", \"'part',\", \"'part',\", \"'part',\", \"'part',\", \"'part',\", \"'part',\", \"'part',\", \"'part',\", \"'part',\", \"'part',\", \"'part',\", \"'part',\", \"'partial',\", \"'partial',\", \"'partial',\", \"'particles,',\", \"'party',\", \"'party',\", \"'party',\", \"'path',\", \"'path',\", \"'path',\", \"'path',\", \"'path',\", \"'path',\", \"'pay',\", \"'pay',\", \"'pay',\", \"'pay',\", \"'pay',\", \"'pay',\", \"'pay',\", \"'pay',\", \"'people',\", \"'people',\", \"'people',\", \"'people',\", \"'people',\", \"'people',\", \"'people',\", \"'people',\", \"'people',\", \"'people',\", \"'people',\", \"'people',\", \"'people',\", \"'people',\", \"'people',\", \"'people',\", \"'people',\", \"'people',\", \"'people',\", \"'per',\", \"'per',\", \"'per',\", \"'per',\", \"'per',\", \"'per',\", \"'per',\", \"'per',\", \"'perimeter',\", \"'pi',\", \"'pi',\", \"'pi',\", \"'pi',\", \"'pi',\", \"'plug',\", \"'plug',\", \"'plug',\", \"'plug',\", \"'plug',\", \"'plus',\", \"'plus',\", \"'plus',\", \"'plus',\", \"'plus',\", \"'plus',\", \"'plus',\", \"'plus',\", \"'plus',\", \"'plus',\", \"'plus',\", \"'plus',\", \"'plus',\", \"'point',\", \"'point',\", \"'point',\", \"'point',\", \"'point',\", \"'point',\", \"'point',\", \"'point',\", \"'point',\", \"'point',\", \"'point',\", \"'point',\", \"'point',\", \"'point',\", \"'point',\", \"'point',\", \"'point',\", \"'point',\", \"'point',\", \"'point',\", \"'point',\", \"'point',\", \"'pole.',\", \"'pole.',\", \"'political',\", \"'political',\", \"'political',\", \"'population',\", \"'population',\", \"'population',\", \"'population',\", \"'populations',\", \"'populations',\", \"'positive',\", \"'positive',\", \"'positive',\", \"'positive',\", \"'positive',\", \"'positive',\", \"'positive',\", \"'positive',\", \"'positive',\", \"'positive',\", \"'positive',\", \"'positive',\", \"'positive',\", \"'positive',\", \"'positive',\", \"'potential',\", \"'potential',\", \"'potential',\", \"'potential',\", \"'potential',\", \"'potential',\", \"'potential',\", \"'potential',\", \"'potential',\", \"'potential',\", \"'pound',\", \"'power',\", \"'power',\", \"'power',\", \"'power',\", \"'power',\", \"'power',\", \"'power',\", \"'power',\", \"'power',\", \"'power.',\", \"'power.',\", \"'power.',\", \"'power.',\", \"'power.',\", \"'power.',\", \"'power.',\", \"'predator',\", \"'president',\", \"'president',\", \"'pressure',\", \"'pressure',\", \"'pressure',\", \"'pressure',\", \"'pressure',\", \"'price',\", \"'price',\", \"'probability',\", \"'probability',\", \"'probability',\", \"'probably',\", \"'probably',\", \"'probably',\", \"'probably',\", \"'probably',\", \"'probably',\", \"'probably',\", \"'probably',\", \"'probably',\", \"'probably',\", \"'probably',\", \"'probably',\", \"'probably',\", \"'probably',\", \"'probably',\", \"'probably',\", \"'probably',\", \"'probably',\", \"'probably',\", \"'probably',\", \"'produce',\", \"'produce',\", \"'produce',\", \"'produce',\", \"'produce',\", \"'produce',\", \"'produce',\", \"'produce',\", \"'produce',\", \"'propensity',\", \"'proportion',\", \"'proportion',\", \"'proportion',\", \"'proteins',\", \"'protons',\", \"'protons',\", \"'protons',\", \"'protons',\", \"'q1',\", \"'q1.',\", \"'q2',\", \"'quantity',\", \"'quantity',\", \"'quantity',\", \"'quantity',\", \"'quantity',\", \"'quantity',\", \"'quantity',\", \"'quantum',\", \"'r',\", \"'r',\", \"'r',\", \"'r',\", \"'r',\", \"'r',\", \"'r',\", \"'r1',\", \"'r2',\", \"'r2.',\", \"'rabbit',\", \"'radius',\", \"'radius',\", \"'radius',\", \"'radius.',\", \"'random',\", \"'random',\", \"'random',\", \"'random',\", \"'random',\", \"'rate',\", \"'rate',\", \"'rate',\", \"'rate',\", \"'rate',\", \"'rate',\", \"'rate',\", \"'rate',\", \"'ray',\", \"'ray',\", \"'rays',\", \"'rays',\", \"'reference,',\", \"'reflection',\", \"'refraction',\", \"'reserve',\", \"'resistance',\", \"'resistance',\", \"'resistance',\", \"'respect',\", \"'respect',\", \"'respect',\", \"'respect',\", \"'revenue',\", \"'revenue',\", \"'rights',\", \"'rights',\", \"'ring.',\", \"'rna',\", \"'rna',\", \"'roman',\", \"'root',\", \"'root',\", \"'root',\", \"'root',\", \"'root',\", \"'root',\", \"'root',\", \"'root',\", \"'rope',\", \"'rotational',\", \"'sample',\", \"'sample',\", \"'sample',\", \"'sample',\", \"'sample',\", \"'samples',\", \"'sampling',\", \"'say,',\", \"'say,',\", \"'say,',\", \"'say,',\", \"'say,',\", \"'say,',\", \"'say,',\", \"'say,',\", \"'say,',\", \"'say,',\", \"'say,',\", \"'say,',\", \"'say,',\", \"'say,',\", \"'say,',\", \"'say,',\", \"'say,',\", \"'say,',\", \"'say,',\", \"'say,',\", \"'say,',\", \"'score',\", \"'scores',\", \"'seven',\", \"'seven',\", \"'seven',\", \"'seven',\", \"'seven',\", \"'seven',\", \"'seven',\", \"'seven',\", \"'seven',\", \"'seven',\", \"'side',\", \"'side',\", \"'side',\", \"'side',\", \"'side',\", \"'side',\", \"'side',\", \"'side',\", \"'side',\", \"'side',\", \"'side',\", \"'side',\", \"'side',\", \"'side',\", \"'side',\", \"'silver',\", \"'silver',\", \"'sine',\", \"'six',\", \"'six',\", \"'six',\", \"'six',\", \"'six',\", \"'six',\", \"'six',\", \"'six',\", \"'six',\", \"'sixth,',\", \"'slope',\", \"'slope',\", \"'slope',\", \"'slope,',\", \"'slope,',\", \"'so,',\", \"'so,',\", \"'so,',\", \"'so,',\", \"'so,',\", \"'so,',\", \"'so,',\", \"'so,',\", \"'so,',\", \"'so,',\", \"'so,',\", \"'so,',\", \"'so,',\", \"'so,',\", \"'so,',\", \"'so,',\", \"'so,',\", \"'so,',\", \"'so,',\", \"'so,',\", \"'solar',\", \"'solar',\", \"'species',\", \"'species',\", \"'species',\", \"'speed',\", \"'speed',\", \"'speed',\", \"'speeding',\", \"'spin',\", \"'spin',\", \"'spin',\", \"'spin',\", \"'square',\", \"'square',\", \"'square',\", \"'square',\", \"'square',\", \"'square',\", \"'square',\", \"'square',\", \"'square',\", \"'square',\", \"'square',\", \"'squared',\", \"'squared',\", \"'squared',\", \"'squared',\", \"'squared',\", \"'standard',\", \"'standard',\", \"'standard',\", \"'standard',\", \"'standard',\", \"'standard',\", \"'standard',\", \"'standard',\", \"'standard',\", \"'standard',\", \"'star',\", \"'star',\", \"'star,',\", \"'star.',\", \"'state',\", \"'state',\", \"'state',\", \"'state',\", \"'state',\", \"'state',\", \"'state',\", \"'state',\", \"'state',\", \"'state',\", \"'state',\", \"'states',\", \"'states',\", \"'states',\", \"'states',\", \"'states',\", \"'states',\", \"'states',\", \"'states',\", \"'states',\", \"'stock',\", \"'stock',\", \"'stretch.',\", \"'sub',\", \"'sub',\", \"'sub',\", \"'sub',\", \"'sub',\", \"'sub',\", \"'sun',\", \"'sun',\", \"'sun',\", \"'sun',\", \"'sun.',\", \"'sun.',\", \"'sun.',\", \"'super',\", \"'super',\", \"'super',\", \"'super',\", \"'super',\", \"'super',\", \"'super',\", \"'super',\", \"'super',\", \"'super',\", \"'super',\", \"'supply',\", \"'supply',\", \"'supply',\", \"'supply',\", \"'supreme',\", \"'system',\", \"'system',\", \"'system',\", \"'system',\", \"'system',\", \"'system',\", \"'system',\", \"'system',\", \"'system',\", \"'system',\", \"'system',\", \"'system',\", \"'system',\", \"'t,',\", \"'t,',\", \"'t,',\", \"'t,',\", \"'t,',\", \"'t,',\", \"'tails,',\", \"'tangent',\", \"'tangent',\", \"'temperature',\", \"'temperature',\", \"'temperature',\", \"'temperature,',\", \"'temperature.',\", \"'tennis',\", \"'tennis',\", \"'tension,',\", \"'theta',\", \"'theta,',\", \"'theta.',\", \"'things',\", \"'things',\", \"'things',\", \"'things',\", \"'things',\", \"'things',\", \"'things',\", \"'things',\", \"'things',\", \"'things',\", \"'things',\", \"'things',\", \"'things',\", \"'things',\", \"'things',\", \"'things',\", \"'things',\", \"'things',\", \"'things',\", \"'things',\", \"'things',\", \"'things',\", \"'three',\", \"'three',\", \"'three',\", \"'three',\", \"'three',\", \"'three',\", \"'three',\", \"'three',\", \"'three',\", \"'three',\", \"'three',\", \"'three',\", \"'three',\", \"'three',\", \"'three',\", \"'three',\", \"'three',\", \"'three',\", \"'three',\", \"'three',\", \"'time',\", \"'time',\", \"'time',\", \"'time',\", \"'time',\", \"'time',\", \"'time',\", \"'time',\", \"'time',\", \"'time',\", \"'time',\", \"'time',\", \"'time',\", \"'time',\", \"'time',\", \"'time',\", \"'time',\", \"'time',\", \"'time',\", \"'time',\", \"'time',\", \"'time',\", \"'times',\", \"'times',\", \"'times',\", \"'times',\", \"'times',\", \"'times',\", \"'times',\", \"'times',\", \"'times',\", \"'times',\", \"'times',\", \"'times',\", \"'times',\", \"'times',\", \"'times',\", \"'times',\", \"'times',\", \"'times',\", \"'total',\", \"'total',\", \"'total',\", \"'total',\", \"'total',\", \"'total',\", \"'total',\", \"'total',\", \"'total',\", \"'total',\", \"'total',\", \"'total',\", \"'total',\", \"'total',\", \"'triangle',\", \"'triangle',\", \"'triangle',\", \"'truck',\", \"'tube',\", \"'two,',\", \"'two,',\", \"'two,',\", \"'two,',\", \"'two,',\", \"'two,',\", \"'two,',\", \"'two,',\", \"'two,',\", \"'two,',\", \"'two,',\", \"'two,',\", \"'type',\", \"'type',\", \"'type',\", \"'type',\", \"'type',\", \"'type',\", \"'type',\", \"'type',\", \"'type',\", \"'type',\", \"'type',\", \"'type',\", \"'type',\", \"'type',\", \"'type',\", \"'type',\", \"'type',\", \"'united',\", \"'united',\", \"'united',\", \"'use',\", \"'use',\", \"'use',\", \"'use',\", \"'use',\", \"'use',\", \"'use',\", \"'use',\", \"'use',\", \"'use',\", \"'use',\", \"'use',\", \"'use',\", \"'use',\", \"'use',\", \"'use',\", \"'use',\", \"'use',\", \"'use',\", \"'use',\", \"'use',\", \"'use',\", \"'utility',\", \"'v',\", \"'v',\", \"'v',\", \"'v',\", \"'valence',\", \"'value',\", \"'value',\", \"'value',\", \"'value',\", \"'value',\", \"'value',\", \"'value',\", \"'value',\", \"'value',\", \"'value',\", \"'value',\", \"'value',\", \"'value',\", \"'variance',\", \"'variance',\", \"'vector',\", \"'vector',\", \"'vector',\", \"'vector',\", \"'velocities',\", \"'velocities',\", \"'velocity',\", \"'velocity',\", \"'velocity,',\", \"'velocity,',\", \"'vi',\", \"'voiceover:',\", \"'voltage',\", \"'volume',\", \"'volume',\", \"'volume',\", \"'volume.',\", \"'volume.',\", \"'vote',\", \"'vote',\", \"'voting',\", \"'war',\", \"'war',\", \"'war',\", \"'war.',\", \"'war.',\", \"'war.',\", \"'water',\", \"'water',\", \"'water',\", \"'water',\", \"'water',\", \"'water',\", \"'water',\", \"'water',\", \"'wave',\", \"'wave',\", \"'wave,',\", \"'wave.',\", \"'wavelength',\", \"'wavelength,',\", \"'wavelength.',\", \"'waves',\", \"'whole',\", \"'whole',\", \"'whole',\", \"'whole',\", \"'whole',\", \"'whole',\", \"'whole',\", \"'whole',\", \"'whole',\", \"'whole',\", \"'whole',\", \"'whole',\", \"'whole',\", \"'whole',\", \"'whole',\", \"'whole',\", \"'whole',\", \"'whole',\", \"'whole',\", \"'whole',\", \"'whole',\", \"'whole',\", \"'wire',\", \"'wire,',\", \"'wire.',\", \"'world',\", \"'world',\", \"'world',\", \"'world',\", \"'world',\", \"'world',\", \"'world',\", \"'world',\", \"'world',\", \"'world',\", \"'worth',\", \"'worth',\", \"'worth',\", \"'worth',\", \"'worth',\", \"'worth',\", \"'worth',\", \"'worth',\", \"'worth',\", \"'worth',\", \"'x',\", \"'x',\", \"'x',\", \"'x',\", \"'x',\", \"'x1',\", \"'year',\", \"'year',\", \"'year',\", \"'year',\", \"'year',\", \"'year',\", \"'year',\", \"'year',\", \"'years',\", \"'years',\", \"'years',\", \"'years',\", \"'years',\", \"'years',\", \"'years',\", \"'years',\", \"'zero',\", \"'zero',\", \"'zero',\", \"'zero',\", \"'zero',\", \"'zero',\", \"'zero',\", \"'zero',\", \"'zero',\", \"'zero',\", \"'zero',\", \"'zucker:',\"]}, \"R\": 10, \"lambda.step\": 0.01, \"plot.opts\": {\"xlab\": \"PC1\", \"ylab\": \"PC2\"}, \"topic.order\": [22, 16, 19, 3, 2, 17, 18, 4, 5, 15, 7, 11, 6, 13, 9, 8, 20, 10, 12, 21, 1, 14]};\n",
       "\n",
       "function LDAvis_load_lib(url, callback){\n",
       "  var s = document.createElement('script');\n",
       "  s.src = url;\n",
       "  s.async = true;\n",
       "  s.onreadystatechange = s.onload = callback;\n",
       "  s.onerror = function(){console.warn(\"failed to load library \" + url);};\n",
       "  document.getElementsByTagName(\"head\")[0].appendChild(s);\n",
       "}\n",
       "\n",
       "if(typeof(LDAvis) !== \"undefined\"){\n",
       "   // already loaded: just create the visualization\n",
       "   !function(LDAvis){\n",
       "       new LDAvis(\"#\" + \"ldavis_el1513618990422977761101739462\", ldavis_el1513618990422977761101739462_data);\n",
       "   }(LDAvis);\n",
       "}else if(typeof define === \"function\" && define.amd){\n",
       "   // require.js is available: use it to load d3/LDAvis\n",
       "   require.config({paths: {d3: \"https://d3js.org/d3.v5\"}});\n",
       "   require([\"d3\"], function(d3){\n",
       "      window.d3 = d3;\n",
       "      LDAvis_load_lib(\"https://cdn.jsdelivr.net/gh/bmabey/pyLDAvis@3.3.1/pyLDAvis/js/ldavis.v3.0.0.js\", function(){\n",
       "        new LDAvis(\"#\" + \"ldavis_el1513618990422977761101739462\", ldavis_el1513618990422977761101739462_data);\n",
       "      });\n",
       "    });\n",
       "}else{\n",
       "    // require.js not available: dynamically load d3 & LDAvis\n",
       "    LDAvis_load_lib(\"https://d3js.org/d3.v5.js\", function(){\n",
       "         LDAvis_load_lib(\"https://cdn.jsdelivr.net/gh/bmabey/pyLDAvis@3.3.1/pyLDAvis/js/ldavis.v3.0.0.js\", function(){\n",
       "                 new LDAvis(\"#\" + \"ldavis_el1513618990422977761101739462\", ldavis_el1513618990422977761101739462_data);\n",
       "            })\n",
       "         });\n",
       "}\n",
       "</script>"
      ],
      "text/plain": [
       "PreparedData(topic_coordinates=              x         y  topics  cluster       Freq\n",
       "topic                                                \n",
       "21     0.046855  0.352133       1        1  10.587495\n",
       "15    -0.203032 -0.043992       2        1   9.230212\n",
       "18    -0.079421  0.346920       3        1   8.912244\n",
       "2     -0.081495  0.007397       4        1   7.694979\n",
       "1     -0.340482 -0.145893       5        1   6.263166\n",
       "16     0.196006 -0.313863       6        1   6.135380\n",
       "17     0.067137  0.114214       7        1   5.556487\n",
       "3      0.154371  0.357653       8        1   5.399918\n",
       "4     -0.170629 -0.244389       9        1   4.857525\n",
       "14    -0.288003  0.216200      10        1   4.719675\n",
       "6     -0.083157  0.225440      11        1   4.687601\n",
       "10    -0.383329  0.099563      12        1   4.381133\n",
       "5      0.144060 -0.140873      13        1   2.723212\n",
       "12     0.363959  0.026880      14        1   2.645609\n",
       "8      0.382587 -0.203900      15        1   2.631814\n",
       "7      0.332774  0.116491      16        1   2.493057\n",
       "19     0.238906  0.270542      17        1   2.453210\n",
       "9      0.175689 -0.013008      18        1   2.400632\n",
       "11    -0.360694 -0.040432      19        1   2.220980\n",
       "20     0.042640 -0.193278      20        1   2.131307\n",
       "0     -0.183470 -0.426774      21        1   1.117528\n",
       "13     0.028727 -0.367032      22        1   0.756837, topic_info=             Term          Freq         Total Category  logprob  loglift\n",
       "314          'x',  28332.000000  28332.000000  Default  10.0000  10.0000\n",
       "595      'times',  37100.000000  37100.000000  Default   9.0000   9.0000\n",
       "2862  'negative',  26597.000000  26597.000000  Default   8.0000   8.0000\n",
       "2549    'energy',  11465.000000  11465.000000  Default   7.0000   7.0000\n",
       "667       'plus',  24112.000000  24112.000000  Default   6.0000   6.0000\n",
       "...           ...           ...           ...      ...      ...      ...\n",
       "5055    'bright',    227.898290    257.294896  Topic22  -4.8135   4.7625\n",
       "1798      'path',    254.106364    801.142098  Topic22  -4.7046   3.7355\n",
       "1299     'speed',    281.722428   1894.968058  Topic22  -4.6015   2.9777\n",
       "46         'got',    300.570247   6758.566860  Topic22  -4.5367   1.7709\n",
       "1577    'length',    276.787831   3435.869209  Topic22  -4.6191   2.3650\n",
       "\n",
       "[544 rows x 6 columns], token_table=       Topic      Freq        Term\n",
       "term                              \n",
       "7765      10  0.998179     '$100',\n",
       "104        2  0.334948        '-',\n",
       "104        5  0.161758        '-',\n",
       "104       10  0.000131        '-',\n",
       "104       12  0.502093        '-',\n",
       "...      ...       ...         ...\n",
       "965       16  0.005319     'zero',\n",
       "965       18  0.000367     'zero',\n",
       "965       20  0.028981     'zero',\n",
       "965       22  0.020176     'zero',\n",
       "12793     12  0.997288  'zucker:',\n",
       "\n",
       "[2224 rows x 3 columns], R=10, lambda_step=0.01, plot_opts={'xlab': 'PC1', 'ylab': 'PC2'}, topic_order=[22, 16, 19, 3, 2, 17, 18, 4, 5, 15, 7, 11, 6, 13, 9, 8, 20, 10, 12, 21, 1, 14])"
      ]
     },
     "execution_count": 26,
     "metadata": {},
     "output_type": "execute_result"
    }
   ],
   "source": [
    "vis"
   ]
  },
  {
   "attachments": {},
   "cell_type": "markdown",
   "metadata": {},
   "source": [
    "## Run a simple prediction as a test"
   ]
  },
  {
   "cell_type": "code",
   "execution_count": 28,
   "metadata": {},
   "outputs": [
    {
     "name": "stdout",
     "output_type": "stream",
     "text": [
      "0\n",
      "[(2, 0.098402314), (21, 0.0809694), (18, 0.075872764), (17, 0.073218636), (15, 0.06998841), (3, 0.06832001), (5, 0.056444004), (4, 0.053440616), (6, 0.04724776), (12, 0.042431854), (9, 0.040600665), (19, 0.03880761), (11, 0.03551189), (20, 0.03448599), (7, 0.03177102), (16, 0.028411347), (1, 0.02583002), (0, 0.0225086), (14, 0.021515336), (10, 0.02058558), (13, 0.018438345), (8, 0.015197829)]\n",
      "Predicted Topic: 2\n"
     ]
    },
    {
     "data": {
      "text/plain": [
       "[(\"'maybe',\", 0.02533247),\n",
       " (\"'kind',\", 0.01516013),\n",
       " (\"'say,',\", 0.012839129),\n",
       " (\"'things',\", 0.0116827525),\n",
       " (\"'lot',\", 0.009117131),\n",
       " (\"'is,',\", 0.008418298),\n",
       " (\"'know,',\", 0.008062178),\n",
       " (\"'whole',\", 0.007447749),\n",
       " (\"'essentially',\", 0.0072026076),\n",
       " (\"'it,',\", 0.006912621)]"
      ]
     },
     "execution_count": 28,
     "metadata": {},
     "output_type": "execute_result"
    }
   ],
   "source": [
    "new_text_corpus = words.doc2bow(khan['transcript'][0].split())\n",
    "print(len(new_text_corpus))\n",
    "prediction = lda_model.get_document_topics(new_text_corpus)\n",
    "prediction.sort(key = lambda x: x[1], reverse = True)\n",
    "print(prediction)\n",
    "prediction = prediction[0][0]\n",
    "print(\"Predicted Topic: %d\" % prediction)\n",
    "lda_model.show_topic(prediction)"
   ]
  },
  {
   "cell_type": "code",
   "execution_count": null,
   "metadata": {},
   "outputs": [],
   "source": []
  }
 ],
 "metadata": {
  "kernelspec": {
   "display_name": "Python 3",
   "language": "python",
   "name": "python3"
  },
  "language_info": {
   "codemirror_mode": {
    "name": "ipython",
    "version": 3
   },
   "file_extension": ".py",
   "mimetype": "text/x-python",
   "name": "python",
   "nbconvert_exporter": "python",
   "pygments_lexer": "ipython3",
   "version": "3.10.1 (tags/v3.10.1:2cd268a, Dec  6 2021, 19:10:37) [MSC v.1929 64 bit (AMD64)]"
  },
  "orig_nbformat": 4,
  "vscode": {
   "interpreter": {
    "hash": "369f2c481f4da34e4445cda3fffd2e751bd1c4d706f27375911949ba6bb62e1c"
   }
  }
 },
 "nbformat": 4,
 "nbformat_minor": 2
}
