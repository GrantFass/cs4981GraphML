{
 "cells": [
  {
   "cell_type": "code",
   "execution_count": 1,
   "metadata": {},
   "outputs": [],
   "source": [
    "import numpy as np\n",
    "import contractions\n",
    "import unidecode\n",
    "from bs4 import BeautifulSoup\n",
    "from nltk.corpus import stopwords\n",
    "import re\n",
    "from collections import Counter\n",
    "\n",
    "import pandas as pd\n",
    "from functools import reduce\n",
    "from tqdm import tqdm\n",
    "\n",
    "from Preprocessing import Preprocessor\n",
    "preprocessor = Preprocessor(0)\n",
    "tqdm.pandas()\n",
    "\n",
    "\n",
    "\n",
    "import spacy\n",
    "from spacy.lang.en.stop_words import STOP_WORDS\n",
    "from spacy.pipeline.ner import DEFAULT_NER_MODEL\n",
    "from spacy.language import Language\n",
    "import en_core_web_sm # 12.8 Mb\n",
    "import en_core_web_md # 42.8 Mb\n",
    "import en_core_web_lg # 587.7 Mb\n",
    "nlp = spacy.load('en_core_web_sm')"
   ]
  },
  {
   "cell_type": "code",
   "execution_count": 2,
   "metadata": {},
   "outputs": [
    {
     "name": "stdout",
     "output_type": "stream",
     "text": [
      "<class 'pandas.core.frame.DataFrame'>\n",
      "Int64Index: 819 entries, 0 to 819\n",
      "Data columns (total 6 columns):\n",
      " #   Column       Non-Null Count  Dtype \n",
      "---  ------       --------------  ----- \n",
      " 0   course       819 non-null    object\n",
      " 1   unit         819 non-null    object\n",
      " 2   lesson       819 non-null    object\n",
      " 3   video_title  819 non-null    object\n",
      " 4   about        819 non-null    object\n",
      " 5   transcript   819 non-null    object\n",
      "dtypes: object(6)\n",
      "memory usage: 44.8+ KB\n"
     ]
    }
   ],
   "source": [
    "economics = pd.read_csv(\"Datasets\\\\KhanAcademy\\\\Economics.csv\")\n",
    "economics = economics.dropna()\n",
    "khan = economics.head(1)\n",
    "economics.info()"
   ]
  },
  {
   "cell_type": "code",
   "execution_count": 3,
   "metadata": {},
   "outputs": [
    {
     "data": {
      "text/plain": [
       "macroeconomics    1\n",
       "Name: course, dtype: int64"
      ]
     },
     "execution_count": 3,
     "metadata": {},
     "output_type": "execute_result"
    }
   ],
   "source": [
    "# remap the courses to more broad categories: https://stackoverflow.com/a/16476974\n",
    "labels = ['physics', 'chemistry', 'biology', 'algebra', 'geometry', 'statistics', 'calculus', 'history', 'macroeconomics', 'microeconomics']\n",
    "for lbl in labels:\n",
    "    for index, row in khan.iterrows():\n",
    "        if lbl in row['course'].lower():\n",
    "            row['course'] = lbl\n",
    "khan['course'].value_counts()"
   ]
  },
  {
   "cell_type": "code",
   "execution_count": 4,
   "metadata": {},
   "outputs": [
    {
     "name": "stderr",
     "output_type": "stream",
     "text": [
      "100%|██████████| 1/1 [00:00<00:00,  7.63it/s]\n",
      "<magic-timeit>:1: SettingWithCopyWarning: \n",
      "A value is trying to be set on a copy of a slice from a DataFrame.\n",
      "Try using .loc[row_indexer,col_indexer] = value instead\n",
      "\n",
      "See the caveats in the documentation: https://pandas.pydata.org/pandas-docs/stable/user_guide/indexing.html#returning-a-view-versus-a-copy\n",
      "100%|██████████| 1/1 [00:00<00:00, 10.75it/s]\n",
      "100%|██████████| 1/1 [00:00<00:00, 10.52it/s]\n",
      "100%|██████████| 1/1 [00:00<00:00, 10.64it/s]\n",
      "100%|██████████| 1/1 [00:00<00:00, 10.64it/s]\n",
      "100%|██████████| 1/1 [00:00<00:00, 10.75it/s]\n",
      "100%|██████████| 1/1 [00:00<00:00, 10.75it/s]\n",
      "100%|██████████| 1/1 [00:00<00:00, 10.64it/s]\n",
      "100%|██████████| 1/1 [00:00<00:00, 10.41it/s]\n",
      "100%|██████████| 1/1 [00:00<00:00, 10.75it/s]\n",
      "100%|██████████| 1/1 [00:00<00:00, 10.52it/s]\n",
      "100%|██████████| 1/1 [00:00<00:00, 10.87it/s]\n",
      "100%|██████████| 1/1 [00:00<00:00, 10.75it/s]\n",
      "100%|██████████| 1/1 [00:00<00:00, 10.31it/s]\n",
      "100%|██████████| 1/1 [00:00<00:00, 10.87it/s]\n",
      "100%|██████████| 1/1 [00:00<00:00, 10.64it/s]\n",
      "100%|██████████| 1/1 [00:00<00:00, 10.75it/s]\n",
      "100%|██████████| 1/1 [00:00<00:00, 10.64it/s]\n",
      "100%|██████████| 1/1 [00:00<00:00, 10.64it/s]\n",
      "100%|██████████| 1/1 [00:00<00:00, 10.52it/s]\n",
      "100%|██████████| 1/1 [00:00<00:00, 10.52it/s]\n",
      "100%|██████████| 1/1 [00:00<00:00, 10.75it/s]\n",
      "100%|██████████| 1/1 [00:00<00:00, 10.64it/s]\n",
      "100%|██████████| 1/1 [00:00<00:00, 10.75it/s]\n",
      "100%|██████████| 1/1 [00:00<00:00, 10.64it/s]\n",
      "100%|██████████| 1/1 [00:00<00:00, 10.52it/s]\n",
      "100%|██████████| 1/1 [00:00<00:00, 10.87it/s]\n",
      "100%|██████████| 1/1 [00:00<00:00, 10.87it/s]\n",
      "100%|██████████| 1/1 [00:00<00:00, 10.99it/s]\n",
      "100%|██████████| 1/1 [00:00<00:00, 10.75it/s]\n",
      "100%|██████████| 1/1 [00:00<00:00, 10.87it/s]\n",
      "100%|██████████| 1/1 [00:00<00:00, 10.75it/s]\n",
      "100%|██████████| 1/1 [00:00<00:00, 10.87it/s]\n",
      "100%|██████████| 1/1 [00:00<00:00, 10.75it/s]\n",
      "100%|██████████| 1/1 [00:00<00:00, 10.87it/s]\n",
      "100%|██████████| 1/1 [00:00<00:00, 10.75it/s]\n",
      "100%|██████████| 1/1 [00:00<00:00, 10.64it/s]\n",
      "100%|██████████| 1/1 [00:00<00:00, 10.75it/s]\n",
      "100%|██████████| 1/1 [00:00<00:00, 10.00it/s]\n",
      "100%|██████████| 1/1 [00:00<00:00, 10.75it/s]\n",
      "100%|██████████| 1/1 [00:00<00:00, 10.75it/s]\n",
      "100%|██████████| 1/1 [00:00<00:00, 10.75it/s]\n",
      "100%|██████████| 1/1 [00:00<00:00, 10.41it/s]\n",
      "100%|██████████| 1/1 [00:00<00:00, 10.64it/s]\n",
      "100%|██████████| 1/1 [00:00<00:00, 10.87it/s]\n",
      "100%|██████████| 1/1 [00:00<00:00, 10.87it/s]\n",
      "100%|██████████| 1/1 [00:00<00:00, 10.87it/s]\n",
      "100%|██████████| 1/1 [00:00<00:00, 10.75it/s]\n",
      "100%|██████████| 1/1 [00:00<00:00, 10.75it/s]\n",
      "100%|██████████| 1/1 [00:00<00:00, 10.75it/s]\n",
      "100%|██████████| 1/1 [00:00<00:00, 10.52it/s]\n",
      "100%|██████████| 1/1 [00:00<00:00, 10.75it/s]\n",
      "100%|██████████| 1/1 [00:00<00:00, 10.87it/s]\n",
      "100%|██████████| 1/1 [00:00<00:00, 10.87it/s]\n",
      "100%|██████████| 1/1 [00:00<00:00, 10.87it/s]\n",
      "100%|██████████| 1/1 [00:00<00:00, 10.87it/s]\n",
      "100%|██████████| 1/1 [00:00<00:00, 10.87it/s]\n",
      "100%|██████████| 1/1 [00:00<00:00, 10.75it/s]\n",
      "100%|██████████| 1/1 [00:00<00:00, 10.75it/s]\n",
      "100%|██████████| 1/1 [00:00<00:00, 10.87it/s]\n",
      "100%|██████████| 1/1 [00:00<00:00, 10.75it/s]\n",
      "100%|██████████| 1/1 [00:00<00:00, 10.00it/s]\n",
      "100%|██████████| 1/1 [00:00<00:00, 10.52it/s]\n",
      "100%|██████████| 1/1 [00:00<00:00, 10.87it/s]\n",
      "100%|██████████| 1/1 [00:00<00:00,  9.71it/s]\n",
      "100%|██████████| 1/1 [00:00<00:00, 10.75it/s]\n",
      "100%|██████████| 1/1 [00:00<00:00, 10.20it/s]\n",
      "100%|██████████| 1/1 [00:00<00:00, 10.87it/s]\n",
      "100%|██████████| 1/1 [00:00<00:00, 10.87it/s]\n",
      "100%|██████████| 1/1 [00:00<00:00, 10.52it/s]\n",
      "100%|██████████| 1/1 [00:00<00:00, 10.52it/s]\n",
      "100%|██████████| 1/1 [00:00<00:00, 10.64it/s]\n",
      "100%|██████████| 1/1 [00:00<00:00, 10.75it/s]\n",
      "100%|██████████| 1/1 [00:00<00:00, 10.75it/s]\n",
      "100%|██████████| 1/1 [00:00<00:00,  9.90it/s]\n",
      "100%|██████████| 1/1 [00:00<00:00, 10.64it/s]\n",
      "100%|██████████| 1/1 [00:00<00:00, 10.75it/s]\n",
      "100%|██████████| 1/1 [00:00<00:00, 10.52it/s]\n",
      "100%|██████████| 1/1 [00:00<00:00, 10.75it/s]\n",
      "100%|██████████| 1/1 [00:00<00:00, 10.64it/s]\n",
      "100%|██████████| 1/1 [00:00<00:00, 10.52it/s]"
     ]
    },
    {
     "name": "stdout",
     "output_type": "stream",
     "text": [
      "95.3 ms ± 896 µs per loop (mean ± std. dev. of 7 runs, 10 loops each)\n"
     ]
    },
    {
     "name": "stderr",
     "output_type": "stream",
     "text": [
      "\n"
     ]
    }
   ],
   "source": [
    "%%timeit\n",
    "khan['transcript_cleaned'] = khan['transcript'].progress_apply(lambda x: preprocessor.clean(x))"
   ]
  },
  {
   "cell_type": "code",
   "execution_count": 5,
   "metadata": {},
   "outputs": [
    {
     "data": {
      "text/plain": [
       "begin journey world economics, thought would begin quote one famous economists time, scottish philosopher adam smith. really kind first real economist way view now. wealth nations, published 1776, coincidentally, year american declaration independence, one most-famous excerpts. generally indeed, economic actor, neither intends promote public interest, knows much promoting it. directing industry, industry control individual actor manner, produce may greatest value, intends gain. he intends gain. this, many cases, led invisible hand promote end part intention. term the invisible hand famous. led invisible hand promote end part intention. saying, look, individual actors act self-interest, often aggregate leads things individual actors intend. says: always worst society part it. so, necessarily bad thing. pursuing interest, frequently promotes society effectually really intends promote it. so, really pretty strong statement. really core capitalism. point published year american declaration independence, obviously america, founding fathers, wrote declaration independence, constitution, really talks means democratic country, rights citizens. united states, overall experience american, least influenced work adam smith, kind foundational ideas capitalism. happened happen around time. idea always intuitive. individual actors, essentially pursuing self-interested ends might society actually tried promote overall well-being society. think adam smith would say always good someone act self-interested, never good people actually think implications aggregate sense, saying frequently .. frequently, self-interested action *could* lead greater good. could lead innovation. could lead better investment. could lead productivity. could lead wealth, more, larger pie everyone. economics frequently .. makes statement, actually making mix micro-economic macro-economic statements. micro people, individual actors acting self-interest. macro might good economy, nation whole. so, now, modern economists tend divide two schools, two subjects: microeconomics, study individual actors. microeconomics .. actors could firms, could people, could households. macro-economics, study economy aggregate. macro-economics. get words. micro -- prefix refers small things. macro refers larger, bigger picture. so, micro-economics essentially actors .. actors make decisions or, could actually say allocations, allocations .. decisions allocations. allocation .. scarce resources. hear words scarce resources lot people talk economics. scarce resource one infinite amount of. example, love might scarce resource. might infinite amount love. resource would scarce something like food, water, money, time, labor. scarce resources. microeconomics people decide put scarce resource, decide deploy them. .. affect prices markets, whatever else. macro-economics study happens aggregate economy. so, aggregate, happens aggregate economy, millions individual actors. aggregate economy. millions actors. often focuses policy-related questions. so, raise lower taxes. or, going happen raise lower taxes. regulate de-regulate? affect overall productivity this. so, policy, top-down .. top-down questions. macro- micro-economics, especially modern sense it, attempt make rigorous, make mathematical. so, either case could start ideas, philosophical ideas, logical ideas, say someone like adam smith might have. so, basic ideas people think, people make decisions. so, philosophy, philosophy people, decision-making, case micro-economics -- decision-making make assumptions it. simplify .. let write .. simplify it. really simplifying. say oh, people rational, all people going act self-interest, people going maximize gain, true -- human beings motivated whole bunch things. simplify things, start deal kind mathematical way. simplify it, start dealing mathematical sense. so, valuable clarify thinking. allow prove things based assumptions. so, start visualize things mathematically, charts graphs think would actually happen markets. valuable mathematical, rigorous, thinking. time, could little bit dangerous, making huge simplifications, sometimes math might lead strong conclusions. conclusions, might feel strongly about, looks like proven way might prove relativity, based assumptions either might wrong, might over-simplifications, might relevant context trying make conclusions about. important take grain salt, remember based simplifying assumption. macro-economics probably guilty it. micro-economics taking deeply complicated things human brain, people act respond other, aggregating millions people, ultra-complicated. millions infinitely complicated people, interacting other. so, complicated. many millions interactions, fundamentally unpredictable interactions, trying make assumptions those, trying make assumptions math -- could lead conclusions might leading predictions. and, again, important. valuable, valuable make mathematical models, mathematical assumptions mathematical conclusions, always need taken grain salt. so, proper grain salt, always focused true intuition. really important thing get course economics. truly reason likely happen, maybe even without mathematics. leave two quotes. thse quotes little bit .. little bit funny, really think helpful things keep mind, especially go deep mathematical side economics. so, right quote aflred knopf, publisher 1900s. an economist man states obvious terms incomprehensible. assuming talking incomprehensible, referring mathy stuff see economics, hopefully going make comprehensible possible. see value this. important statement making. oftentimes, taking common-sense thing. taking something obvious .. obvious. important always keep mind, always make sure intuition happening math, know math going direction might strange based over-simplifications wrong assumptions. quote lawrence j. peter, famous peters principals, professor usc. an economist expert know know tomorrow things predicted yesterday happen today. -- important keep back ones mind, especially relevant macro-economics, macro-economics always sorts prediction state economy: need done, long recession last, economic growth next year, inflation ... often prove wrong. fact, economists even tend agree many things. important realize that, oftentimes deep mathematics, economics might *seem* science, like physics, science like physics. open .. open subjectivity, lot subjectivity around assumptions choose make."
      ]
     },
     "execution_count": 5,
     "metadata": {},
     "output_type": "execute_result"
    }
   ],
   "source": [
    "khan['transcript_cleaned'][0]"
   ]
  },
  {
   "cell_type": "code",
   "execution_count": null,
   "metadata": {},
   "outputs": [],
   "source": [
    "preprocessor.clean(khan['transcript'][0])"
   ]
  }
 ],
 "metadata": {
  "kernelspec": {
   "display_name": "Python 3.9.7 64-bit",
   "language": "python",
   "name": "python3"
  },
  "language_info": {
   "codemirror_mode": {
    "name": "ipython",
    "version": 3
   },
   "file_extension": ".py",
   "mimetype": "text/x-python",
   "name": "python",
   "nbconvert_exporter": "python",
   "pygments_lexer": "ipython3",
   "version": "3.9.7"
  },
  "orig_nbformat": 4,
  "vscode": {
   "interpreter": {
    "hash": "81794d4967e6c3204c66dcd87b604927b115b27c00565d3d43f05ba2f3a2cb0d"
   }
  }
 },
 "nbformat": 4,
 "nbformat_minor": 2
}
