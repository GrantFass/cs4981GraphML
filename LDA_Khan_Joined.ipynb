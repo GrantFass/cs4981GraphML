{
 "cells": [
  {
   "cell_type": "code",
   "execution_count": 1,
   "metadata": {},
   "outputs": [],
   "source": [
    "# !nvidia-smi\n",
    "\n",
    "# Add this in a Google Colab cell to install the correct version of Pytorch Geometric.\n",
    "import torch\n",
    "\n",
    "def format_pytorch_version(version):\n",
    "  return version.split('+')[0]\n",
    "\n",
    "TORCH_version = torch.__version__\n",
    "TORCH = format_pytorch_version(TORCH_version)\n",
    "\n",
    "def format_cuda_version(version):\n",
    "  return 'cu' + version.replace('.', '')\n",
    "\n",
    "CUDA_version = torch.version.cuda\n",
    "# CUDA = format_cuda_version(CUDA_version)"
   ]
  },
  {
   "cell_type": "code",
   "execution_count": 2,
   "metadata": {},
   "outputs": [
    {
     "name": "stderr",
     "output_type": "stream",
     "text": [
      "c:\\Python39\\lib\\site-packages\\past\\builtins\\misc.py:45: DeprecationWarning: the imp module is deprecated in favour of importlib; see the module's documentation for alternative uses\n",
      "  from imp import reload\n"
     ]
    }
   ],
   "source": [
    "import json\n",
    "import os\n",
    "# import uuid  # https://docs.python.org/3/library/uuid.html\n",
    "# import structlog  # for event logging\n",
    "# # from dotenv import load_dotenv # enviornment vars if we want\n",
    "\n",
    "# from pygtail import Pygtail\n",
    "# import boto3\n",
    "# from minio import Minio\n",
    "# from dotenv import load_dotenv\n",
    "from datetime import timedelta, datetime\n",
    "from time import sleep\n",
    "from sys import argv\n",
    "# import threading\n",
    "# from smart_open import smart_open\n",
    "import gensim\n",
    "import gensim.corpora as corpora\n",
    "\n",
    "# setup to import the preprocessor\n",
    "import sys\n",
    "# from botocore.errorfactory import ClientError\n",
    "import numpy as np\n",
    "import pandas as pd\n",
    "import matplotlib.pyplot as plt\n",
    "import seaborn as sns\n",
    "import pyLDAvis\n",
    "import pyLDAvis.gensim_models\n",
    "pyLDAvis.enable_notebook()\n",
    "import torch_geometric\n",
    "from functools import reduce\n",
    "from tqdm import tqdm\n",
    "\n",
    "from Preprocessing import Preprocessor\n",
    "preprocessor = Preprocessor(0)\n",
    "tqdm.pandas()\n"
   ]
  },
  {
   "cell_type": "code",
   "execution_count": 3,
   "metadata": {},
   "outputs": [
    {
     "data": {
      "text/html": [
       "<div>\n",
       "<style scoped>\n",
       "    .dataframe tbody tr th:only-of-type {\n",
       "        vertical-align: middle;\n",
       "    }\n",
       "\n",
       "    .dataframe tbody tr th {\n",
       "        vertical-align: top;\n",
       "    }\n",
       "\n",
       "    .dataframe thead th {\n",
       "        text-align: right;\n",
       "    }\n",
       "</style>\n",
       "<table border=\"1\" class=\"dataframe\">\n",
       "  <thead>\n",
       "    <tr style=\"text-align: right;\">\n",
       "      <th></th>\n",
       "    </tr>\n",
       "  </thead>\n",
       "  <tbody>\n",
       "  </tbody>\n",
       "</table>\n",
       "</div>"
      ],
      "text/plain": [
       "Empty DataFrame\n",
       "Columns: []\n",
       "Index: []"
      ]
     },
     "execution_count": 3,
     "metadata": {},
     "output_type": "execute_result"
    }
   ],
   "source": [
    "joined_exists = os.path.exists('khan_joined.csv')\n",
    "khan = pd.DataFrame([])\n",
    "if joined_exists:\n",
    "    khan = pd.read_csv('khan_joined.csv')\n",
    "khan.head(5)"
   ]
  },
  {
   "cell_type": "code",
   "execution_count": 4,
   "metadata": {},
   "outputs": [
    {
     "name": "stdout",
     "output_type": "stream",
     "text": [
      "<class 'pandas.core.frame.DataFrame'>\n",
      "Int64Index: 263 entries, 0 to 277\n",
      "Data columns (total 7 columns):\n",
      " #   Column       Non-Null Count  Dtype \n",
      "---  ------       --------------  ----- \n",
      " 0   course       263 non-null    object\n",
      " 1   unit         263 non-null    object\n",
      " 2   lesson       263 non-null    object\n",
      " 3   video_title  263 non-null    object\n",
      " 4   about        263 non-null    object\n",
      " 5   transcript   263 non-null    object\n",
      " 6   topic        263 non-null    object\n",
      "dtypes: object(7)\n",
      "memory usage: 16.4+ KB\n"
     ]
    }
   ],
   "source": [
    "if not joined_exists:\n",
    "    computing = pd.read_csv(\"Datasets\\\\KhanAcademy\\\\Computing.csv\")\n",
    "    computing = computing.dropna()\n",
    "    computing['topic'] = 'Computing'\n",
    "    computing.info()"
   ]
  },
  {
   "cell_type": "code",
   "execution_count": 5,
   "metadata": {},
   "outputs": [
    {
     "name": "stdout",
     "output_type": "stream",
     "text": [
      "<class 'pandas.core.frame.DataFrame'>\n",
      "Int64Index: 819 entries, 0 to 819\n",
      "Data columns (total 7 columns):\n",
      " #   Column       Non-Null Count  Dtype \n",
      "---  ------       --------------  ----- \n",
      " 0   course       819 non-null    object\n",
      " 1   unit         819 non-null    object\n",
      " 2   lesson       819 non-null    object\n",
      " 3   video_title  819 non-null    object\n",
      " 4   about        819 non-null    object\n",
      " 5   transcript   819 non-null    object\n",
      " 6   topic        819 non-null    object\n",
      "dtypes: object(7)\n",
      "memory usage: 51.2+ KB\n"
     ]
    }
   ],
   "source": [
    "if not joined_exists:\n",
    "    economics = pd.read_csv(\"Datasets\\\\KhanAcademy\\\\Economics.csv\")\n",
    "    economics = economics.dropna()\n",
    "    economics['topic'] = 'Economics'\n",
    "    economics.info()"
   ]
  },
  {
   "cell_type": "code",
   "execution_count": 6,
   "metadata": {},
   "outputs": [
    {
     "name": "stdout",
     "output_type": "stream",
     "text": [
      "<class 'pandas.core.frame.DataFrame'>\n",
      "Int64Index: 1064 entries, 0 to 1152\n",
      "Data columns (total 7 columns):\n",
      " #   Column       Non-Null Count  Dtype \n",
      "---  ------       --------------  ----- \n",
      " 0   course       1064 non-null   object\n",
      " 1   unit         1064 non-null   object\n",
      " 2   lesson       1064 non-null   object\n",
      " 3   video_title  1064 non-null   object\n",
      " 4   about        1064 non-null   object\n",
      " 5   transcript   1064 non-null   object\n",
      " 6   topic        1064 non-null   object\n",
      "dtypes: object(7)\n",
      "memory usage: 66.5+ KB\n"
     ]
    }
   ],
   "source": [
    "if not joined_exists:\n",
    "    humanities = pd.read_csv(\"Datasets\\\\KhanAcademy\\\\Humanities.csv\")\n",
    "    humanities = humanities.dropna()\n",
    "    humanities['topic'] = 'Humanities'\n",
    "    humanities.info()"
   ]
  },
  {
   "cell_type": "code",
   "execution_count": 7,
   "metadata": {},
   "outputs": [
    {
     "name": "stdout",
     "output_type": "stream",
     "text": [
      "<class 'pandas.core.frame.DataFrame'>\n",
      "Int64Index: 3351 entries, 0 to 3366\n",
      "Data columns (total 7 columns):\n",
      " #   Column       Non-Null Count  Dtype \n",
      "---  ------       --------------  ----- \n",
      " 0   course       3351 non-null   object\n",
      " 1   unit         3351 non-null   object\n",
      " 2   lesson       3351 non-null   object\n",
      " 3   video_title  3351 non-null   object\n",
      " 4   about        3351 non-null   object\n",
      " 5   transcript   3351 non-null   object\n",
      " 6   topic        3351 non-null   object\n",
      "dtypes: object(7)\n",
      "memory usage: 209.4+ KB\n"
     ]
    }
   ],
   "source": [
    "if not joined_exists:\n",
    "    math = pd.read_csv(\"Datasets\\\\KhanAcademy\\\\Math.csv\")\n",
    "    math = math.dropna()\n",
    "    math['topic'] = 'Math'\n",
    "    math.info()"
   ]
  },
  {
   "cell_type": "code",
   "execution_count": 8,
   "metadata": {},
   "outputs": [
    {
     "name": "stdout",
     "output_type": "stream",
     "text": [
      "<class 'pandas.core.frame.DataFrame'>\n",
      "Int64Index: 2764 entries, 0 to 2789\n",
      "Data columns (total 7 columns):\n",
      " #   Column       Non-Null Count  Dtype \n",
      "---  ------       --------------  ----- \n",
      " 0   course       2764 non-null   object\n",
      " 1   unit         2764 non-null   object\n",
      " 2   lesson       2764 non-null   object\n",
      " 3   video_title  2764 non-null   object\n",
      " 4   about        2764 non-null   object\n",
      " 5   transcript   2764 non-null   object\n",
      " 6   topic        2764 non-null   object\n",
      "dtypes: object(7)\n",
      "memory usage: 172.8+ KB\n"
     ]
    }
   ],
   "source": [
    "if not joined_exists:\n",
    "    science = pd.read_csv(\"Datasets\\\\KhanAcademy\\\\Science.csv\")\n",
    "    science = science.dropna()\n",
    "    science['topic'] = 'Science'\n",
    "    science.info()"
   ]
  },
  {
   "cell_type": "code",
   "execution_count": 9,
   "metadata": {},
   "outputs": [
    {
     "name": "stdout",
     "output_type": "stream",
     "text": [
      "<class 'pandas.core.frame.DataFrame'>\n",
      "Int64Index: 2461 entries, 0 to 2466\n",
      "Data columns (total 19 columns):\n",
      " #   Column              Non-Null Count  Dtype \n",
      "---  ------              --------------  ----- \n",
      " 0   comments            2461 non-null   int64 \n",
      " 1   description         2461 non-null   object\n",
      " 2   duration            2461 non-null   int64 \n",
      " 3   event               2461 non-null   object\n",
      " 4   film_date           2461 non-null   int64 \n",
      " 5   languages           2461 non-null   int64 \n",
      " 6   main_speaker        2461 non-null   object\n",
      " 7   name                2461 non-null   object\n",
      " 8   num_speaker         2461 non-null   int64 \n",
      " 9   published_date      2461 non-null   int64 \n",
      " 10  ratings             2461 non-null   object\n",
      " 11  related_talks       2461 non-null   object\n",
      " 12  speaker_occupation  2461 non-null   object\n",
      " 13  tags                2461 non-null   object\n",
      " 14  title               2461 non-null   object\n",
      " 15  urlurl              2461 non-null   object\n",
      " 16  views               2461 non-null   int64 \n",
      " 17  transcript          2461 non-null   object\n",
      " 18  urlurl              2461 non-null   object\n",
      "dtypes: int64(7), object(12)\n",
      "memory usage: 384.5+ KB\n"
     ]
    }
   ],
   "source": [
    "ted_main = pd.read_csv(\"Datasets\\\\TEDTalksDataset\\\\ted_main.csv\")\n",
    "transcripts = pd.read_csv(\"Datasets\\\\TEDTalksDataset\\\\transcripts.csv\")\n",
    "validation = ted_main.join(transcripts, lsuffix='url', rsuffix='url', sort=True)\n",
    "validation = validation.dropna()\n",
    "validation.info(verbose=True, show_counts=True)"
   ]
  },
  {
   "cell_type": "code",
   "execution_count": 10,
   "metadata": {},
   "outputs": [],
   "source": [
    "if not joined_exists:\n",
    "    computing['course'].value_counts()"
   ]
  },
  {
   "cell_type": "code",
   "execution_count": 11,
   "metadata": {},
   "outputs": [],
   "source": [
    "if not joined_exists:\n",
    "    economics['course'].value_counts()"
   ]
  },
  {
   "cell_type": "code",
   "execution_count": 12,
   "metadata": {},
   "outputs": [],
   "source": [
    "if not joined_exists:\n",
    "    humanities['course'].value_counts()"
   ]
  },
  {
   "cell_type": "code",
   "execution_count": 13,
   "metadata": {},
   "outputs": [],
   "source": [
    "if not joined_exists:\n",
    "    math['course'].value_counts()"
   ]
  },
  {
   "cell_type": "code",
   "execution_count": 14,
   "metadata": {},
   "outputs": [],
   "source": [
    "if not joined_exists:\n",
    "    science['course'].value_counts()"
   ]
  },
  {
   "cell_type": "code",
   "execution_count": 15,
   "metadata": {},
   "outputs": [
    {
     "name": "stdout",
     "output_type": "stream",
     "text": [
      "<class 'pandas.core.frame.DataFrame'>\n",
      "Int64Index: 8261 entries, 0 to 2789\n",
      "Data columns (total 7 columns):\n",
      " #   Column       Non-Null Count  Dtype \n",
      "---  ------       --------------  ----- \n",
      " 0   course       8261 non-null   object\n",
      " 1   unit         8261 non-null   object\n",
      " 2   lesson       8261 non-null   object\n",
      " 3   video_title  8261 non-null   object\n",
      " 4   about        8261 non-null   object\n",
      " 5   transcript   8261 non-null   object\n",
      " 6   topic        8261 non-null   object\n",
      "dtypes: object(7)\n",
      "memory usage: 516.3+ KB\n"
     ]
    }
   ],
   "source": [
    "if not joined_exists:\n",
    "    khan_dfs = [computing, economics, humanities, math, science]\n",
    "    khan = pd.concat(khan_dfs, axis=0)\n",
    "    khan.info()"
   ]
  },
  {
   "cell_type": "code",
   "execution_count": 16,
   "metadata": {},
   "outputs": [
    {
     "data": {
      "text/plain": [
       "algebra                                         1287\n",
       "calculus                                         947\n",
       "chemistry                                        909\n",
       "history                                          769\n",
       "biology                                          757\n",
       "physics                                          743\n",
       "statistics                                       626\n",
       "economics                                        502\n",
       "geometry                                         345\n",
       "Finance and capital markets                      317\n",
       "Electrical engineering                           198\n",
       "Pixar in a Box                                   175\n",
       "US government and civics                         139\n",
       "Cosmology and astronomy                           89\n",
       "AP®︎/College US Government and Politics           87\n",
       "Trigonometry                                      76\n",
       "computer                                          75\n",
       "Differential equations                            70\n",
       "Storytelling                                      69\n",
       "AP®︎/College Environmental science                49\n",
       "Middle school Earth and space science - NGSS      19\n",
       "Code.org                                          13\n",
       "Name: course, dtype: int64"
      ]
     },
     "execution_count": 16,
     "metadata": {},
     "output_type": "execute_result"
    }
   ],
   "source": [
    "# if not joined_exists:\n",
    "# remap the courses to more broad categories: https://stackoverflow.com/a/16476974\n",
    "labels = ['physics', 'chemistry', 'biology', 'algebra', 'geometry', 'statistics', 'calculus', 'history', 'economics', 'computer']\n",
    "for lbl in labels:\n",
    "    # print(lbl)\n",
    "    for index, row in khan.iterrows():\n",
    "        if lbl in row['course'].lower():\n",
    "            row['course'] = lbl\n",
    "khan['course'].value_counts()"
   ]
  },
  {
   "cell_type": "code",
   "execution_count": 17,
   "metadata": {},
   "outputs": [
    {
     "data": {
      "text/html": [
       "<div>\n",
       "<style scoped>\n",
       "    .dataframe tbody tr th:only-of-type {\n",
       "        vertical-align: middle;\n",
       "    }\n",
       "\n",
       "    .dataframe tbody tr th {\n",
       "        vertical-align: top;\n",
       "    }\n",
       "\n",
       "    .dataframe thead th {\n",
       "        text-align: right;\n",
       "    }\n",
       "</style>\n",
       "<table border=\"1\" class=\"dataframe\">\n",
       "  <thead>\n",
       "    <tr style=\"text-align: right;\">\n",
       "      <th></th>\n",
       "      <th>course</th>\n",
       "      <th>unit</th>\n",
       "      <th>lesson</th>\n",
       "      <th>video_title</th>\n",
       "      <th>about</th>\n",
       "      <th>transcript</th>\n",
       "      <th>topic</th>\n",
       "    </tr>\n",
       "  </thead>\n",
       "  <tbody>\n",
       "    <tr>\n",
       "      <th>2788</th>\n",
       "      <td>physics</td>\n",
       "      <td>Review for AP Physics 1 exam</td>\n",
       "      <td>AP Physics 1 free response questions 2015</td>\n",
       "      <td>Question 4: 2015 AP Physics 1 free response</td>\n",
       "      <td>Identical spheres falling from the same height...</td>\n",
       "      <td>- [Voiceover] Two identical\\r\\nspheres are rel...</td>\n",
       "      <td>Science</td>\n",
       "    </tr>\n",
       "    <tr>\n",
       "      <th>2789</th>\n",
       "      <td>physics</td>\n",
       "      <td>Review for AP Physics 1 exam</td>\n",
       "      <td>AP Physics 1 free response questions 2015</td>\n",
       "      <td>Question 5: 2015 AP Physics 1 free response</td>\n",
       "      <td>Fundamental frequencies (first harmonics) of s...</td>\n",
       "      <td>- [Voiceover] The figure\\r\\nabove shows a stri...</td>\n",
       "      <td>Science</td>\n",
       "    </tr>\n",
       "  </tbody>\n",
       "</table>\n",
       "</div>"
      ],
      "text/plain": [
       "       course                          unit  \\\n",
       "2788  physics  Review for AP Physics 1 exam   \n",
       "2789  physics  Review for AP Physics 1 exam   \n",
       "\n",
       "                                         lesson  \\\n",
       "2788  AP Physics 1 free response questions 2015   \n",
       "2789  AP Physics 1 free response questions 2015   \n",
       "\n",
       "                                      video_title  \\\n",
       "2788  Question 4: 2015 AP Physics 1 free response   \n",
       "2789  Question 5: 2015 AP Physics 1 free response   \n",
       "\n",
       "                                                  about  \\\n",
       "2788  Identical spheres falling from the same height...   \n",
       "2789  Fundamental frequencies (first harmonics) of s...   \n",
       "\n",
       "                                             transcript    topic  \n",
       "2788  - [Voiceover] Two identical\\r\\nspheres are rel...  Science  \n",
       "2789  - [Voiceover] The figure\\r\\nabove shows a stri...  Science  "
      ]
     },
     "execution_count": 17,
     "metadata": {},
     "output_type": "execute_result"
    }
   ],
   "source": [
    "khan.tail(2)"
   ]
  },
  {
   "attachments": {},
   "cell_type": "markdown",
   "metadata": {},
   "source": [
    "# Dataset Identification\n",
    "It is necessary to now identify components of the dataset that can be used for the graphical machine learning. This means identifying Nodes, Edges, Node Features, and Labels. It also includes optionally including edge weights and edge features. For the sake of simplicity I think that I will be forgoing the edge weights and edge features.\n",
    "\n",
    "I am attempting to basically do topic modeling, but without the keywords and topics that would be customary of Latent Dirchlet Allocation. Instead the goal is to train a Graph ML model using the Khan academy data.\n",
    "\n",
    "There are two basic routes I could take. I could perform node level prediction by treating each transcript individually and seeing which is the closest match during prediction. The other option would be to perform graph level prediction by storing all of the similarly labeled transcripts together and then using the shape of the graph for comparison. \n",
    "\n",
    "- Nodes (Items, People, Locations, Cars, ETC)\n",
    "- Edges (Connections, Interactions, Similarity, ETC)\n",
    "    - Levenshtein distance over titles?\n",
    "    - Number of similar named entities from SpaCy NER?\n",
    "- Node Features (Attributes)\n",
    "- Labels (Node-Level, Edge-Level, Graph-Level, etc)\n",
    "    - I am going to first try node-level prediction as it makes more sense to me. For this I am going to use the 'course' feature in the above pandas dataframe. This will be the target that I try to predict."
   ]
  },
  {
   "cell_type": "code",
   "execution_count": 18,
   "metadata": {},
   "outputs": [
    {
     "name": "stderr",
     "output_type": "stream",
     "text": [
      "100%|██████████| 8261/8261 [00:08<00:00, 1010.66it/s]"
     ]
    },
    {
     "name": "stdout",
     "output_type": "stream",
     "text": [
      "0    hi, welcome programming! never learned program...\n",
      "0    begin journey world economics, thought would b...\n",
      "0    david christian: earth place humans call home....\n",
      "0    - given information three triangles here. say,...\n",
      "0    - hi everyone, sal khan welcome middle school ...\n",
      "Name: transcript_cleaned, dtype: object\n"
     ]
    },
    {
     "name": "stderr",
     "output_type": "stream",
     "text": [
      "\n"
     ]
    }
   ],
   "source": [
    "if not joined_exists:\n",
    "    # It takes 21 min to run SpaCy preprocessing over each record in the data\n",
    "    khan['transcript_cleaned'] = khan['transcript'].progress_apply(lambda x: preprocessor.clean(x, fast=True))\n",
    "    print(khan['transcript_cleaned'][0])"
   ]
  },
  {
   "cell_type": "code",
   "execution_count": 19,
   "metadata": {},
   "outputs": [
    {
     "name": "stderr",
     "output_type": "stream",
     "text": [
      "100%|██████████| 8261/8261 [00:08<00:00, 979.96it/s] "
     ]
    },
    {
     "name": "stdout",
     "output_type": "stream",
     "text": [
      "5\n",
      "0    [hi,, welcome, programming!, never, learned, p...\n",
      "0    [begin, journey, world, economics,, thought, w...\n",
      "0    [david, christian:, earth, place, humans, call...\n",
      "0    [-, given, information, three, triangles, here...\n",
      "0    [-, hi, everyone,, sal, khan, welcome, middle,...\n",
      "Name: tokens, dtype: object\n"
     ]
    },
    {
     "name": "stderr",
     "output_type": "stream",
     "text": [
      "\n"
     ]
    }
   ],
   "source": [
    "if not joined_exists:\n",
    "    # clear up the lists to be unique only.\n",
    "    khan['tokens'] = khan['transcript'].progress_apply(lambda x: preprocessor.clean(x, tokenize=True, fast=True))\n",
    "    print(len(khan['tokens'][0]))\n",
    "    print(khan['tokens'][0])"
   ]
  },
  {
   "cell_type": "code",
   "execution_count": 20,
   "metadata": {},
   "outputs": [
    {
     "name": "stderr",
     "output_type": "stream",
     "text": [
      "100%|██████████| 8261/8261 [00:00<00:00, 917687.99it/s]\n"
     ]
    }
   ],
   "source": [
    "if not joined_exists:\n",
    "# if not False:\n",
    "    khan['transcript_n_entries'] = khan['tokens'].progress_apply(lambda x: len(x))\n",
    "    khan.head(5)"
   ]
  },
  {
   "cell_type": "code",
   "execution_count": 21,
   "metadata": {},
   "outputs": [],
   "source": [
    "# khan = khan.drop(columns=[\"Unnamed: 0.1\", \"Unnamed: 0\"])"
   ]
  },
  {
   "cell_type": "code",
   "execution_count": 22,
   "metadata": {},
   "outputs": [
    {
     "data": {
      "text/html": [
       "<div>\n",
       "<style scoped>\n",
       "    .dataframe tbody tr th:only-of-type {\n",
       "        vertical-align: middle;\n",
       "    }\n",
       "\n",
       "    .dataframe tbody tr th {\n",
       "        vertical-align: top;\n",
       "    }\n",
       "\n",
       "    .dataframe thead th {\n",
       "        text-align: right;\n",
       "    }\n",
       "</style>\n",
       "<table border=\"1\" class=\"dataframe\">\n",
       "  <thead>\n",
       "    <tr style=\"text-align: right;\">\n",
       "      <th></th>\n",
       "      <th>course</th>\n",
       "      <th>unit</th>\n",
       "      <th>lesson</th>\n",
       "      <th>video_title</th>\n",
       "      <th>about</th>\n",
       "      <th>transcript</th>\n",
       "      <th>topic</th>\n",
       "      <th>transcript_cleaned</th>\n",
       "      <th>tokens</th>\n",
       "      <th>transcript_n_entries</th>\n",
       "    </tr>\n",
       "  </thead>\n",
       "  <tbody>\n",
       "    <tr>\n",
       "      <th>0</th>\n",
       "      <td>computer</td>\n",
       "      <td>Intro to JS: Drawing &amp; Animation</td>\n",
       "      <td>Intro to programming</td>\n",
       "      <td>What is Programming?</td>\n",
       "      <td>Programming is the process of creating a set o...</td>\n",
       "      <td>Hi, welcome to programming! If you've never le...</td>\n",
       "      <td>Computing</td>\n",
       "      <td>hi, welcome programming! never learned program...</td>\n",
       "      <td>[hi,, welcome, programming!, never, learned, p...</td>\n",
       "      <td>183</td>\n",
       "    </tr>\n",
       "  </tbody>\n",
       "</table>\n",
       "</div>"
      ],
      "text/plain": [
       "     course                              unit                lesson  \\\n",
       "0  computer  Intro to JS: Drawing & Animation  Intro to programming   \n",
       "\n",
       "            video_title                                              about  \\\n",
       "0  What is Programming?  Programming is the process of creating a set o...   \n",
       "\n",
       "                                          transcript      topic  \\\n",
       "0  Hi, welcome to programming! If you've never le...  Computing   \n",
       "\n",
       "                                  transcript_cleaned  \\\n",
       "0  hi, welcome programming! never learned program...   \n",
       "\n",
       "                                              tokens  transcript_n_entries  \n",
       "0  [hi,, welcome, programming!, never, learned, p...                   183  "
      ]
     },
     "execution_count": 22,
     "metadata": {},
     "output_type": "execute_result"
    }
   ],
   "source": [
    "khan.head(1)"
   ]
  },
  {
   "cell_type": "code",
   "execution_count": 23,
   "metadata": {},
   "outputs": [],
   "source": [
    "if not joined_exists:\n",
    "# if not False:\n",
    "    khan.to_csv(\"khan_joined.csv\", index=False)"
   ]
  },
  {
   "cell_type": "code",
   "execution_count": 24,
   "metadata": {},
   "outputs": [
    {
     "data": {
      "text/plain": [
       "'\\n    nodes closer to yourself are more important. Take the incoming embeddings and dotproduct them with your own embedding.\\n    Softmax across all the dot products of the nodes coming in to have it be a probability.\\n    \\n    Need to build the corpus of all input words.\\n    \\n    Use spacy to get corpus for each doc with stopwords stripped and bigrams / trigrams joined. \\n    \\n    Could use skipgram or bag of words with word2vec to embed words.\\n'"
      ]
     },
     "execution_count": 24,
     "metadata": {},
     "output_type": "execute_result"
    }
   ],
   "source": [
    "# https://www.kaggle.com/code/pavansanagapati/knowledge-graph-nlp-tutorial-bert-spacy-nltk/notebook\n",
    "\n",
    "\"\"\"\n",
    "    nodes closer to yourself are more important. Take the incoming embeddings and dotproduct them with your own embedding.\n",
    "    Softmax across all the dot products of the nodes coming in to have it be a probability.\n",
    "    \n",
    "    Need to build the corpus of all input words.\n",
    "    \n",
    "    Use spacy to get corpus for each doc with stopwords stripped and bigrams / trigrams joined. \n",
    "    \n",
    "    Could use skipgram or bag of words with word2vec to embed words.\n",
    "\"\"\""
   ]
  },
  {
   "cell_type": "code",
   "execution_count": 25,
   "metadata": {},
   "outputs": [
    {
     "data": {
      "text/html": [
       "<div>\n",
       "<style scoped>\n",
       "    .dataframe tbody tr th:only-of-type {\n",
       "        vertical-align: middle;\n",
       "    }\n",
       "\n",
       "    .dataframe tbody tr th {\n",
       "        vertical-align: top;\n",
       "    }\n",
       "\n",
       "    .dataframe thead th {\n",
       "        text-align: right;\n",
       "    }\n",
       "</style>\n",
       "<table border=\"1\" class=\"dataframe\">\n",
       "  <thead>\n",
       "    <tr style=\"text-align: right;\">\n",
       "      <th></th>\n",
       "      <th>course</th>\n",
       "      <th>unit</th>\n",
       "      <th>lesson</th>\n",
       "      <th>video_title</th>\n",
       "      <th>about</th>\n",
       "      <th>transcript</th>\n",
       "      <th>topic</th>\n",
       "      <th>transcript_cleaned</th>\n",
       "      <th>tokens</th>\n",
       "      <th>transcript_n_entries</th>\n",
       "    </tr>\n",
       "  </thead>\n",
       "  <tbody>\n",
       "    <tr>\n",
       "      <th>0</th>\n",
       "      <td>computer</td>\n",
       "      <td>Intro to JS: Drawing &amp; Animation</td>\n",
       "      <td>Intro to programming</td>\n",
       "      <td>What is Programming?</td>\n",
       "      <td>Programming is the process of creating a set o...</td>\n",
       "      <td>Hi, welcome to programming! If you've never le...</td>\n",
       "      <td>Computing</td>\n",
       "      <td>hi, welcome programming! never learned program...</td>\n",
       "      <td>[hi,, welcome, programming!, never, learned, p...</td>\n",
       "      <td>183</td>\n",
       "    </tr>\n",
       "    <tr>\n",
       "      <th>1</th>\n",
       "      <td>computer</td>\n",
       "      <td>Intro to JS: Drawing &amp; Animation</td>\n",
       "      <td>Coloring</td>\n",
       "      <td>The Power of the Docs</td>\n",
       "      <td>Created by Pamela Fox.</td>\n",
       "      <td>Voiceover: Ok so you've\\r\\nmade a few programs...</td>\n",
       "      <td>Computing</td>\n",
       "      <td>voiceover: ok made programs, might wondering e...</td>\n",
       "      <td>[voiceover:, ok, made, programs,, might, wonde...</td>\n",
       "      <td>542</td>\n",
       "    </tr>\n",
       "    <tr>\n",
       "      <th>5</th>\n",
       "      <td>computer</td>\n",
       "      <td>Intro to HTML/CSS: Making webpages</td>\n",
       "      <td>Further learning</td>\n",
       "      <td>HTML validation</td>\n",
       "      <td>Learn how to validate your webpages with the W...</td>\n",
       "      <td>- [Voiceover] On Khan Academy, we pop up the o...</td>\n",
       "      <td>Computing</td>\n",
       "      <td>- khan academy, pop oh noes guide tell somethi...</td>\n",
       "      <td>[-, khan, academy,, pop, oh, noes, guide, tell...</td>\n",
       "      <td>172</td>\n",
       "    </tr>\n",
       "    <tr>\n",
       "      <th>6</th>\n",
       "      <td>computer</td>\n",
       "      <td>Intro to SQL: Querying and managing data</td>\n",
       "      <td>SQL basics</td>\n",
       "      <td>Welcome to SQL</td>\n",
       "      <td>SQL is useful for creating and querying relati...</td>\n",
       "      <td>- [Instructor] The world is full of data. Ever...</td>\n",
       "      <td>Computing</td>\n",
       "      <td>- world full data. every app use full data. kh...</td>\n",
       "      <td>[-, world, full, data., every, app, use, full,...</td>\n",
       "      <td>203</td>\n",
       "    </tr>\n",
       "    <tr>\n",
       "      <th>7</th>\n",
       "      <td>computer</td>\n",
       "      <td>Intro to SQL: Querying and managing data</td>\n",
       "      <td>SQL basics</td>\n",
       "      <td>S-Q-L or SEQUEL?</td>\n",
       "      <td>How is it pronounced? Why? Let's discuss...</td>\n",
       "      <td>At this point, you've probably heard me\\r\\npro...</td>\n",
       "      <td>Computing</td>\n",
       "      <td>point, probably heard pronounce sql two ways--...</td>\n",
       "      <td>[point,, probably, heard, pronounce, sql, two,...</td>\n",
       "      <td>129</td>\n",
       "    </tr>\n",
       "  </tbody>\n",
       "</table>\n",
       "</div>"
      ],
      "text/plain": [
       "     course                                      unit                lesson  \\\n",
       "0  computer          Intro to JS: Drawing & Animation  Intro to programming   \n",
       "1  computer          Intro to JS: Drawing & Animation              Coloring   \n",
       "5  computer        Intro to HTML/CSS: Making webpages      Further learning   \n",
       "6  computer  Intro to SQL: Querying and managing data            SQL basics   \n",
       "7  computer  Intro to SQL: Querying and managing data            SQL basics   \n",
       "\n",
       "             video_title                                              about  \\\n",
       "0   What is Programming?  Programming is the process of creating a set o...   \n",
       "1  The Power of the Docs                             Created by Pamela Fox.   \n",
       "5        HTML validation  Learn how to validate your webpages with the W...   \n",
       "6         Welcome to SQL  SQL is useful for creating and querying relati...   \n",
       "7       S-Q-L or SEQUEL?       How is it pronounced? Why? Let's discuss...    \n",
       "\n",
       "                                          transcript      topic  \\\n",
       "0  Hi, welcome to programming! If you've never le...  Computing   \n",
       "1  Voiceover: Ok so you've\\r\\nmade a few programs...  Computing   \n",
       "5  - [Voiceover] On Khan Academy, we pop up the o...  Computing   \n",
       "6  - [Instructor] The world is full of data. Ever...  Computing   \n",
       "7  At this point, you've probably heard me\\r\\npro...  Computing   \n",
       "\n",
       "                                  transcript_cleaned  \\\n",
       "0  hi, welcome programming! never learned program...   \n",
       "1  voiceover: ok made programs, might wondering e...   \n",
       "5  - khan academy, pop oh noes guide tell somethi...   \n",
       "6  - world full data. every app use full data. kh...   \n",
       "7  point, probably heard pronounce sql two ways--...   \n",
       "\n",
       "                                              tokens  transcript_n_entries  \n",
       "0  [hi,, welcome, programming!, never, learned, p...                   183  \n",
       "1  [voiceover:, ok, made, programs,, might, wonde...                   542  \n",
       "5  [-, khan, academy,, pop, oh, noes, guide, tell...                   172  \n",
       "6  [-, world, full, data., every, app, use, full,...                   203  \n",
       "7  [point,, probably, heard, pronounce, sql, two,...                   129  "
      ]
     },
     "execution_count": 25,
     "metadata": {},
     "output_type": "execute_result"
    }
   ],
   "source": [
    "khan.head(5)"
   ]
  },
  {
   "cell_type": "code",
   "execution_count": 26,
   "metadata": {},
   "outputs": [
    {
     "data": {
      "text/plain": [
       "algebra                                         1287\n",
       "calculus                                         947\n",
       "chemistry                                        909\n",
       "history                                          769\n",
       "biology                                          757\n",
       "physics                                          743\n",
       "statistics                                       626\n",
       "economics                                        502\n",
       "geometry                                         345\n",
       "Finance and capital markets                      317\n",
       "Electrical engineering                           198\n",
       "Pixar in a Box                                   175\n",
       "US government and civics                         139\n",
       "Cosmology and astronomy                           89\n",
       "AP®︎/College US Government and Politics           87\n",
       "Trigonometry                                      76\n",
       "computer                                          75\n",
       "Differential equations                            70\n",
       "Storytelling                                      69\n",
       "AP®︎/College Environmental science                49\n",
       "Middle school Earth and space science - NGSS      19\n",
       "Code.org                                          13\n",
       "Name: course, dtype: int64"
      ]
     },
     "execution_count": 26,
     "metadata": {},
     "output_type": "execute_result"
    }
   ],
   "source": [
    "khan['course'].value_counts()"
   ]
  },
  {
   "cell_type": "code",
   "execution_count": 27,
   "metadata": {},
   "outputs": [],
   "source": [
    "# khan['transcript_cleaned'] = khan['transcript']"
   ]
  },
  {
   "cell_type": "code",
   "execution_count": 28,
   "metadata": {},
   "outputs": [],
   "source": [
    "# corpus = khan['tokens'].sum(axis=0)\n",
    "# if isinstance(corpus, str):\n",
    "#     # means it performed string concatenation so it needs to be cleaned up\n",
    "#     print(corpus[0:100])\n",
    "#     # corpus = str_to_list(corpus)\n",
    "#     print(corpus[0: 25])\n",
    "#     print(len(corpus))\n",
    "#     print(type(corpus))"
   ]
  },
  {
   "cell_type": "code",
   "execution_count": 29,
   "metadata": {},
   "outputs": [
    {
     "name": "stdout",
     "output_type": "stream",
     "text": [
      "101429\n",
      "['oscillation.', 'brawl,', 'winter.', 'snacks.', '5.28.', 'adiabatically,', 'super-intuitive', 'exponentially', 'penalized', 'validation', 'guide.', 'tackles', 'breach', 'trialscase', 'bit-zees', 'mug', 'tian,', 'patience', 'presumed', 'mid-range.', 'ese', 'kalinga.', 'spends,', 'ministers.', 'game']\n"
     ]
    }
   ],
   "source": [
    "# # convert the corpus to a set since there should be no unique values\n",
    "# corpus = set(corpus)\n",
    "# print(len(corpus))\n",
    "# corpus = list(corpus)\n",
    "# print(corpus[0:25])"
   ]
  },
  {
   "cell_type": "code",
   "execution_count": 30,
   "metadata": {},
   "outputs": [
    {
     "name": "stdout",
     "output_type": "stream",
     "text": [
      "22\n"
     ]
    }
   ],
   "source": [
    "num_topics = len(khan['course'].value_counts())\n",
    "print(num_topics)"
   ]
  },
  {
   "cell_type": "code",
   "execution_count": 41,
   "metadata": {},
   "outputs": [
    {
     "name": "stdout",
     "output_type": "stream",
     "text": [
      "<class 'pandas.core.series.Series'>\n",
      "CPU times: total: 3.92 s\n",
      "Wall time: 3.93 s\n"
     ]
    }
   ],
   "source": [
    "%%time\n",
    "# LDA Normal\n",
    "# temp = [d.split() for d in corpus]\n",
    "temp = khan['tokens']\n",
    "print(type(temp))\n",
    "words = corpora.Dictionary(temp)\n",
    "words.filter_extremes(no_below=15, no_above=0.5, keep_n=100000)\n",
    "corpus = [words.doc2bow(doc) for doc in temp]"
   ]
  },
  {
   "cell_type": "code",
   "execution_count": 36,
   "metadata": {},
   "outputs": [
    {
     "name": "stdout",
     "output_type": "stream",
     "text": [
      "CPU times: total: 1min 51s\n",
      "Wall time: 1min 43s\n"
     ]
    }
   ],
   "source": [
    "%%time\n",
    "lda_model = gensim.models.ldamodel.LdaModel(corpus=corpus,\n",
    "                                           id2word=words,\n",
    "                                           num_topics=num_topics,\n",
    "                                           random_state=2,\n",
    "                                           update_every=1,\n",
    "                                           passes=15,\n",
    "                                           alpha='auto')"
   ]
  },
  {
   "cell_type": "code",
   "execution_count": 37,
   "metadata": {},
   "outputs": [
    {
     "name": "stderr",
     "output_type": "stream",
     "text": [
      "c:\\Python39\\lib\\site-packages\\pyLDAvis\\_prepare.py:246: FutureWarning: In a future version of pandas all arguments of DataFrame.drop except for the argument 'labels' will be keyword-only.\n",
      "  default_term_info = default_term_info.sort_values(\n"
     ]
    }
   ],
   "source": [
    "vis = pyLDAvis.gensim_models.prepare(lda_model, corpus, words, mds='mmds', R=10)"
   ]
  },
  {
   "cell_type": "code",
   "execution_count": 38,
   "metadata": {},
   "outputs": [
    {
     "data": {
      "text/html": [
       "\n",
       "<link rel=\"stylesheet\" type=\"text/css\" href=\"https://cdn.jsdelivr.net/gh/bmabey/pyLDAvis@3.3.1/pyLDAvis/js/ldavis.v1.0.0.css\">\n",
       "\n",
       "\n",
       "<div id=\"ldavis_el506824447352223842957444060\"></div>\n",
       "<script type=\"text/javascript\">\n",
       "\n",
       "var ldavis_el506824447352223842957444060_data = {\"mdsDat\": {\"x\": [-0.23842581499836496, -0.21512897391227406, 0.0019541533053001265, 0.13774504788761727, 0.14954757157550547, 0.37389573417711436, 0.22829056156776467, -0.3182985616192906, -0.11038879376980824, 0.10687816903203062, 0.27284364283033197, -0.27993062217860293, 0.007416179797557991, -0.3060249390977335, 0.025872293753172012, -0.14499188301435675, -0.14062554579897749, -0.37131475004579545, 0.14380681055603278, 0.37026347586437275, 0.02745880892581134, 0.27915743516259267], \"y\": [-0.12209127507503781, -0.2245563855793228, 0.3218239630368774, 0.31985945805927646, 0.14670647736261855, -0.1273818924013967, 0.2954312410405316, -0.13472711869565213, 0.1522204740497312, -0.0343048996600827, 0.13934898213842783, 0.2274381347248399, 0.026179273885994902, 0.09317698667577935, -0.2183511296034383, 0.30482604865923146, -0.3337929147187878, 0.02771175035352019, -0.23765863179750904, 0.032002128874365515, -0.39669281449419574, -0.2571678568357716], \"topics\": [1, 2, 3, 4, 5, 6, 7, 8, 9, 10, 11, 12, 13, 14, 15, 16, 17, 18, 19, 20, 21, 22], \"cluster\": [1, 1, 1, 1, 1, 1, 1, 1, 1, 1, 1, 1, 1, 1, 1, 1, 1, 1, 1, 1, 1, 1], \"Freq\": [9.372457616577561, 7.911314476829976, 7.735496999943048, 7.686943823728804, 6.82139796854205, 6.727303653409734, 6.569947667244615, 5.870018634940863, 4.887923957118608, 4.482200764522842, 4.480524200508429, 4.241752740220854, 3.475331646495186, 3.064087390304744, 3.030401280759156, 2.832139901644516, 2.8127055922295865, 2.496729228036453, 1.63809310206952, 1.513222110667013, 1.3007524861351478, 1.0492547580712792]}, \"tinfo\": {\"Term\": [\"x\", \"times\", \"negative\", \"minus\", \"plus\", \"2\", \"b\", \"carbon\", \"angle\", \"point\", \"matrix\", \"5.\", \"6.\", \"matrix.\", \"determinant\", \"7.\", \"3.\", \"matrix,\", \"9.\", \"8.\", \"4\", \"3\", \"4.\", \"3,\", \"2,\", \"2\", \"1.\", \"1,\", \"1\", \"2.\", \"0\", \"5\", \"minus\", \"plus\", \"times\", \"negative\", \"x\", \"one-half\", \"exponents.\", \"undefined.\", \"fourths\", \"g?\", \"approaches\", \"values?\", \"ax.\", \"fifteen\", \"odd.\", \"g\", \"five.\", \"nine.\", \"f\", \"seven.\", \"x\", \"limit\", \"zero,\", \"zero.\", \"prime\", \"zero\", \"x,\", \"function\", \"negative\", \"three\", \"four\", \"five\", \"plus\", \"minus\", \"one,\", \"so,\", \"marginal\", \"bank\", \"money.\", \"$1\", \"income\", \"stock\", \"dollar\", \"money,\", \"debt\", \"market\", \"cost\", \"money\", \"buy\", \"company\", \"pay\", \"revenue\", \"interest\", \"price\", \"people\", \"maybe\", \"per\", \"roman\", \"ancient\", \"[steven]\", \"[beth]\", \"zucker:\", \"harris:\", \"painting\", \"steven\", \"[dr.\", \"stories\", \"death\", \"years\", \"modern\", \"art\", \"dr.\", \"city\", \"life\", \"history\", \"human\", \"land\", \"years.\", \"great\", \"people\", \"many\", \"new\", \"time\", \"much\", \"world\", \"around\", \"dna\", \"amino\", \"proteins\", \"protons.\", \"rna\", \"genetic\", \"chromosomes\", \"acid\", \"bacteria\", \"cell.\", \"cell\", \"dna,\", \"cells\", \"reaction,\", \"things\", \"molecule\", \"talk\", \"maybe\", \"called\", \"able\", \"lot\", \"electron\", \"carbon,\", \"protons\", \"proton\", \"bonded\", \"valence\", \"carbons\", \"electron.\", \"hydrogen.\", \"hydrogen,\", \"hydrogen\", \"carbon\", \"sodium\", \"carbon.\", \"electrons\", \"bond\", \"electrons.\", \"concentration\", \"oxygen\", \"ahead\", \"reaction\", \"group\", \"draw\", \"energy\", \"war\", \"flux.\", \"president\", \"war,\", \"americans\", \"destructive.\", \"vote\", \"constitution\", \"slavery\", \"congress\", \"united\", \"supreme\", \"civil\", \"war.\", \"british\", \"american\", \"states\", \"north\", \"people\", \"government\", \"world\", \"kind\", \"so,\", \"log\", \"integral\", \"8th\", \"v2\", \"v1\", \"hooked\", \"logarithm\", \"integrate\", \"nth\", \"dy\", \"r1\", \"n\", \"k\", \"differential\", \"e\", \"respect\", \"v.\", \"v\", \"natural\", \"squared\", \"times\", \"c\", \"minus\", \"plus\", \"write\", \"grams\", \"proportion\", \"variance\", \"median\", \"data\", \"regression\", \"sample,\", \"samples\", \"95%\", \"configurations\", \"probability\", \"sample\", \"sampling\", \"distribution\", \"random\", \"population\", \"estimate\", \"mean\", \"number\", \"so,\", \"quantum\", \"wavelength.\", \"reference.\", \"configuration\", \"potassium\", \"ether\", \"neutrons.\", \"decay.\", \"nitrogen.\", \"charge?\", \"alpha\", \"l\", \"polar\", \"start\", \"number\", \"kind\", \"so,\", \"right,\", \"one,\", \"three\", \"back\", \"inch\", \"pole.\", \"magnets\", \"drill\", \"lewis\", \"glue\", \"tertiary\", \"dioxide.\", \"discharge\", \"camera\", \"solar\", \"motor\", \"star\", \"sun\", \"outer\", \"sun.\", \"earths\", \"earth\", \"piece\", \"cut\", \"around\", \"use\", \"sure\", \"need\", \"kind\", \"things\", \"got\", \"back\", \"put\", \"called\", \"sine\", \"cosine\", \"theta,\", \"angle.\", \"hypotenuse\", \"angles\", \"pythagorean\", \"angles.\", \"phi\", \"perpendicular.\", \"angle\", \"theta.\", \"vector\", \"triangle\", \"degrees.\", \"theta\", \"vectors\", \"component\", \"length\", \"magnitude\", \"side\", \"pressure\", \"volume\", \"volume.\", \"entropy\", \"volume,\", \"temperature\", \"pressure.\", \"container\", \"container.\", \"engine.\", \"heat\", \"temperature.\", \"temperature,\", \"internal\", \"energy\", \"gas\", \"system\", \"energy.\", \"water\", \"work\", \"molecules\", \"wavelength\", \"reference,\", \"seconds,\", \"kilograms\", \"acceleration,\", \"wavelength,\", \"displacement,\", \"mg\", \"impulse\", \"wavelengths.\", \"frame\", \"seconds\", \"seconds.\", \"refraction\", \"meters\", \"speed\", \"per\", \"delta\", \"rate\", \"10\", \"velocity\", \"change\", \"time\", \"times\", \"focal\", \"lens\", \"rays\", \"mirror.\", \"parabolic\", \"lens.\", \"concave\", \"lens,\", \"di\", \"focus.\", \"mirror\", \"image\", \"image.\", \"ray\", \"line\", \"point\", \"point.\", \"parallel\", \"distance\", \"object\", \"points\", \"draw\", \"light\", \"null\", \"congruent\", \"1.2\", \"hypotenuse,\", \"deviation.\", \"statistic\", \"deviation,\", \"29\", \"permutations\", \"rank\", \"deviation\", \"orthogonal\", \"factorial\", \"bs\", \"standard\", \"b\", \"b,\", \"b.\", \"a.\", \"a,\", \"c\", \"set\", \"number\", \"angular\", \"acceleration\", \"velocity,\", \"inertia\", \"displacement\", \"acceleration.\", \"accelerating\", \"kinematic\", \"displacement.\", \"friction.\", \"momentum\", \"gravity\", \"force\", \"gravitational\", \"mass\", \"mass,\", \"newtons\", \"velocity\", \"object\", \"net\", \"times\", \"magnitude\", \"energy\", \"spaceship\", \"deviations\", \"p1\", \"p2\", \"si\", \"rectangle,\", \"elasticity\", \"width.\", \"marbles\", \"rectangles.\", \"cards\", \"curve\", \"meter\", \"output\", \"area\", \"curve.\", \"curve,\", \"rectangle\", \"quantity\", \"height\", \"input\", \"average\", \"area,\", \"change\", \"total\", \"electric\", \"voltage\", \"capacitor\", \"circuit\", \"current.\", \"capacitors\", \"current,\", \"volts,\", \"electrostatic\", \"resistance,\", \"field,\", \"resistance\", \"charge\", \"field\", \"potential\", \"current\", \"charges\", \"positive\", \"force\", \"point\", \"negative\", \"waves\", \"constructive\", \"membrane\", \"interference\", \"interference.\", \"hybrid\", \"wave\", \"waves,\", \"concentration.\", \"waves.\", \"wave,\", \"destructive\", \"bright\", \"wave.\", \"light\", \"source\", \"red\", \"got\", \"blue\", \"length\", \"pi\", \"rotational\", \"ball,\", \"magnet\", \"circumference\", \"rotate.\", \"radius\", \"equilateral\", \"rotating\", \"rub\", \"circle,\", \"arc\", \"circle.\", \"rotate\", \"circle\", \"r\", \"ball\", \"center\", \"point\", \"around\", \"magnetic\", \"thumb\", \"fingers\", \"polarized\", \"thermodynamics\", \"sperm\", \"polarization\", \"vi\", \"speeds.\", \"curly\", \"page.\", \"popping\", \"page\", \"finger\", \"wire.\", \".\", \"cross\", \"field.\", \"field\", \"direction\", \"hand\", \"wire\", \"current\", \"draw\", \"maybe\"], \"Freq\": [32254.0, 37611.0, 28542.0, 23899.0, 25072.0, 10816.0, 8014.0, 8028.0, 6664.0, 11262.0, 1778.0206436691556, 1350.8862219601626, 997.7675055900913, 619.3203147609662, 525.8256667972123, 541.2270517642343, 2169.0247718338533, 420.5688161805151, 389.2937973630393, 686.924179422268, 3929.8172847052874, 6237.871675096401, 1841.2424121904269, 2248.2681587268694, 3572.7109493717167, 10510.57940321397, 4234.1617418769065, 3931.8228569555968, 9395.58859256891, 3541.6996025106414, 3284.732181657675, 3955.9463145984223, 12251.903119353728, 12466.995407510545, 12873.049735304658, 8571.967784108869, 5989.82552596893, 238.8764259387344, 97.49993999875204, 136.82601822231152, 60.72843781299499, 41.37679255471105, 1196.7990690596557, 35.183287333767325, 22.126317991237126, 19.576418555047567, 55.50606634257426, 3105.7472955657713, 1105.2483975364194, 444.854177195922, 5399.796029007958, 509.12116679218667, 25319.64552568931, 1300.4302065064717, 2884.271086107244, 2780.6046001203754, 2933.97550080825, 4575.726569712795, 3326.180791333175, 3982.7890670253273, 14462.819950422054, 6664.030149385766, 4764.01527689176, 3539.6679577781374, 5605.787121268197, 5199.392462731309, 3733.7647439936827, 3739.135538388069, 2091.827681492621, 1934.9550344198235, 904.0509307538605, 747.7374965231692, 747.6138571726831, 684.8421656033131, 664.305622780867, 635.9559137285975, 576.7320643308643, 1755.7096033344146, 2629.5771860771783, 2895.150507488346, 1692.4445553929486, 1035.6851365961984, 2253.5136558537956, 868.7568671191925, 1438.9490570309863, 2353.943771761812, 2996.886543184659, 2339.121995852711, 1715.9444391942322, 574.8349112256171, 488.2804963587105, 447.3173858258281, 360.14676472995916, 278.7483983786474, 272.93190157175894, 257.98902484144145, 246.66277508807633, 236.50021258078672, 231.57047986774256, 239.13718205164145, 2918.419005442052, 710.4903238912867, 354.9061440892185, 549.5170470989976, 432.50731816385, 1134.565128181585, 746.4933174097937, 1160.9260374674884, 745.1503080841755, 802.9764903644033, 1010.9253225739519, 2045.1363249831943, 1582.201706645948, 1282.6991562548733, 1487.1846754007336, 1208.7110452593292, 910.8795154075896, 1011.6362456047727, 2066.3545590456215, 824.9507892068793, 799.3771133938619, 752.1376822312785, 681.8560712585014, 679.7558074564191, 596.7750583445238, 2462.059910574387, 598.3260585916981, 730.1770838529345, 2722.1478245573135, 656.2566827327369, 1890.240363832076, 798.0680597709811, 2983.620577000691, 1177.8121713129958, 1520.9403796373372, 1978.4850995188274, 1520.3666978311935, 1540.5888932390228, 1580.6695403700064, 6341.432135518047, 1760.7373150885692, 1690.5815638886734, 1674.9635695297036, 1620.9268224057191, 1450.6328420483962, 1285.39294373024, 979.4499732219374, 969.5159497691016, 899.4831008833686, 4502.183104527293, 7965.218438677928, 1533.130817333834, 1597.1200986935712, 7186.167245809682, 3144.189593591346, 1849.0648523595721, 2707.083741481605, 2980.6940029047923, 3384.5774677987547, 2285.681996589294, 2495.0838646894395, 2985.4854523311633, 2889.379092197656, 2257.5545423889957, 1122.276515643145, 648.1410601260179, 657.1090675293062, 637.5736487900475, 585.3491406382883, 550.3296013117572, 507.2419778520009, 476.6040674546096, 469.52589891845383, 2221.618588755148, 519.104247298656, 869.3239520931141, 590.9267381248218, 805.5803127440848, 1504.6717075455333, 2323.1757231650063, 1019.0839917038484, 2906.9792965901693, 1253.9364234580016, 1336.8797670971805, 1592.9109976226175, 1276.568473635929, 2643.9561689706725, 1250.672521124122, 613.2535360251843, 484.04320873735884, 473.67648283135316, 436.1729684501589, 274.3463127552603, 197.94660155973548, 183.98008105751225, 150.04656382795537, 319.99893455864765, 5601.184391791161, 1803.9098518693577, 616.6406725632254, 2286.1808594890417, 1851.3356368149687, 943.678639480385, 2752.2049939955277, 2304.916034414388, 4653.027983731516, 12074.54469530184, 2466.0508931928903, 5504.923202771454, 4372.95975149092, 2894.4353615280784, 1422.8242043272583, 702.7675320951229, 432.5652484585161, 426.11814316156256, 1800.2867587898343, 297.4675638948418, 262.7466297057254, 258.24250151031134, 242.3702244274126, 229.6519543648119, 3369.7034501402727, 2870.585839263877, 610.6561078209186, 1641.5765099684668, 1605.7079148082444, 2331.2696326125524, 545.3013468388783, 2215.5988309918084, 3196.8289134268734, 1549.686898091867, 803.3317552675704, 570.9586809447009, 560.6255640436159, 377.00462147344706, 353.0854438477611, 348.04364768914957, 332.15050910697323, 314.7833815629539, 237.296835378517, 234.59030167953148, 923.830091929701, 1243.8584771524716, 337.51289061565956, 1796.838977555332, 2325.25936160439, 1770.132037356986, 1962.5734071988347, 1076.1060454669393, 1230.4093572515517, 1199.669969873659, 1007.9242841597948, 329.6393188285256, 215.36054071302155, 205.82337032250496, 202.32996084353286, 193.8024961891488, 183.49861649578196, 172.276200622722, 162.2235492895224, 159.85112148791993, 146.9762622353382, 298.79720668019047, 350.1057054990849, 370.8812338745865, 683.1059307017701, 473.72443558776325, 357.3390571405929, 292.97309908531554, 746.2898729457198, 590.7248510511172, 414.6836646573078, 1064.8269504394425, 1248.8400430417619, 737.6377699617398, 987.4934466590396, 1069.857546659661, 977.1288709977254, 859.2299774300458, 808.2713355037619, 811.8303105412331, 749.4570391815028, 4688.172898473847, 3475.415741499062, 992.9057713060416, 1428.0017501917473, 456.9336239911264, 1297.3847136379788, 377.21493013538117, 386.14788523904735, 197.58875289178252, 190.08488766480727, 6542.053017970032, 1334.0370876074594, 6119.591819564067, 1694.496589289968, 1576.6295853501877, 2832.328150850501, 1429.409655628524, 1674.3535896137362, 2186.229662223686, 1993.9955417830356, 1848.2907934529471, 2193.6308733360297, 1599.1290176653395, 479.40827394086597, 475.5302889712696, 444.2271127590298, 1810.0452353079988, 244.13843659287804, 213.73721076725914, 179.22353423989298, 173.31200907480306, 2337.398791237057, 454.24473348488175, 382.40852802299776, 811.1847642158444, 4406.635573828017, 696.2580948681228, 1377.7220210642297, 1139.6175510201879, 1728.2676408350055, 1672.3003123444842, 1131.2455520845492, 961.9460010700383, 603.9516974933233, 558.3219859578951, 445.85115149727955, 361.65168863087484, 250.14107599552923, 154.3675055793881, 125.87466530044932, 184.04519473192937, 49.984080701831545, 1317.9467032517982, 583.5003020350678, 448.3148336878155, 457.99010396564626, 2061.7203468639686, 1760.3826461443675, 4060.692915753632, 1329.6016199791177, 1376.9820428548855, 2546.9346464876, 1643.773430317955, 2642.6150385699493, 2543.6082949409542, 4354.4191451948245, 1197.3796986805894, 1027.7083271869017, 535.6891724788014, 409.9374225069445, 337.48371913353253, 296.16526720877175, 256.57605773410927, 234.00896671891363, 214.78103490238473, 209.1529003051626, 558.1729054080872, 2310.991657038584, 389.14910783109104, 968.8057105301018, 2196.1844917781395, 5020.129344550301, 1247.583902993589, 1016.5007554255242, 2075.186087008052, 1286.0060992655142, 1202.5776464797993, 1960.337935394924, 1103.2156445314863, 1044.3593279112997, 601.3277079421193, 375.92849888349645, 312.07584286954847, 155.66970134844826, 150.9812040673564, 134.62522596361728, 110.88023379759444, 108.47368480044048, 95.88410862030376, 700.3693105206756, 526.8990762847909, 293.8266325976824, 370.2651943168802, 2184.2013268642145, 5611.068859795607, 1827.7081940471544, 1848.6416024497998, 1782.5977767521122, 1898.2559672586578, 1529.9255590385744, 941.2559448435741, 861.1208179400949, 2215.614364210895, 1580.3066547687447, 580.3705402890321, 464.50138353800304, 457.7048686372762, 417.50732698889976, 186.28193763716044, 180.78804603916845, 143.27359396560146, 99.79802264762004, 1238.8023062221403, 620.2664631763573, 4867.01620970418, 546.0598534845249, 3156.4240306838674, 660.1139116199423, 755.34819154912, 1807.2949580139136, 1345.120396298415, 920.0000099250419, 2000.1972357904292, 886.5897152907512, 899.5410773804704, 335.5217103346311, 248.7321441543036, 178.58783998603175, 185.70496254145073, 157.60111943214716, 129.03164702821792, 94.60652174801028, 132.9633513600568, 106.35690452545481, 66.99389805448028, 249.851691764549, 1673.1517033824434, 1285.1673481060895, 1425.4791291506958, 5028.552077867798, 801.9555674143027, 574.7770998663472, 478.8564745186531, 1038.8654955497657, 1378.728233706745, 1401.72693109894, 1370.5619646402033, 717.0754022279535, 1844.0412079457808, 946.0177091213801, 2337.3606078231464, 1145.267234263283, 386.68929387721795, 315.44795305689365, 195.87329056320766, 188.84323457114678, 170.57300725222217, 150.2597444003965, 138.32546774600272, 130.421817378785, 388.01426018234685, 413.0836648789719, 2453.2491250956364, 1656.086027239158, 1035.3089910398467, 1101.2550446488995, 641.3991027302586, 1126.8367342318313, 748.4284373726946, 814.6241903007792, 976.0081721828235, 676.4812194327453, 521.384103829211, 316.12098175458493, 240.53017766949017, 213.94615595331297, 181.45134697247488, 2159.4370954086257, 121.02194162000575, 103.26819973009718, 100.43659659212581, 322.60562489066064, 442.8911670894568, 347.54865245544454, 250.3716263915311, 2110.7631533608974, 454.57602908842046, 421.4725400017781, 580.5708922633461, 432.6014150861783, 402.35711572648114, 2684.777203033369, 801.8057686876748, 420.30499774400664, 160.9113940042182, 126.15336567402439, 174.91506803220864, 1489.4904027654052, 57.86573306501792, 769.1527221874576, 29.09952364323223, 393.6377506931449, 401.13221844082864, 540.3841065312646, 634.9217697985855, 968.0395986798733, 2091.280127469412, 919.4311821550107, 957.7376956215659, 986.5251835225562, 735.5791528568318, 2526.4950321292076, 349.4930288532455, 157.6288846782419, 144.13799243364193, 126.66542804323889, 111.89699916071953, 77.20721298784807, 66.05933557173236, 53.445607136266894, 29.942040950613634, 194.6364663772544, 215.13754632767967, 151.45053120115057, 331.8557900662391, 256.8732879016431, 233.90155802088694, 810.7449005240311, 454.9810489268574, 1095.523670024923, 1162.7042350531217, 773.76371017102, 475.6698730753118, 632.8269717163929, 627.5015673549427, 452.68941848346327], \"Total\": [32254.0, 37611.0, 28542.0, 23899.0, 25072.0, 10816.0, 8014.0, 8028.0, 6664.0, 11262.0, 1778.9675339088099, 1351.83283022421, 998.7141024895245, 620.3325719517316, 526.772263465397, 542.2272135720697, 2173.5296554015367, 421.5154145846009, 390.2403943760717, 689.0778197643009, 3955.237710619112, 6329.696953053498, 1847.9710523359624, 2273.4263863691613, 3636.3966794531048, 10816.097451156198, 4351.610106253615, 4082.7745885752906, 10165.955753259877, 3670.753637794089, 3415.0944326053614, 4185.193490948971, 23899.48774789349, 25072.80319849434, 37611.99579077432, 28542.90385556501, 32254.58938718019, 240.57494174506854, 98.44571839836685, 138.35857436803434, 61.67422190066597, 42.32257096074166, 1224.6341834930947, 36.12908250753548, 23.072096853074154, 20.522197391273142, 58.35368734773429, 3301.9032194380734, 1175.8183208546204, 477.4790050379703, 6097.585753834574, 549.9889884858956, 32254.58938718019, 1512.1018582822774, 3569.045695671487, 3435.9906726731815, 3740.1670715149735, 6120.171164134793, 4392.179423647205, 5631.852600246433, 28542.90385556501, 13160.323671903918, 8572.656409324672, 5702.004562764272, 25072.80319849434, 23899.48774789349, 8075.248506388471, 14132.85354838793, 2092.7352028441624, 1935.8625550557633, 904.9584516476866, 748.6450918125715, 748.5213778936495, 685.7496860015268, 665.213143201725, 636.8634901317748, 577.6395847295835, 1758.493255363327, 2645.410001457259, 2970.1335529414105, 1725.4741488617312, 1047.9798063933883, 2351.0725428301107, 882.8058430173921, 1540.1271537143232, 2880.474071955589, 10908.96462663226, 10482.739129950864, 7250.199138982087, 575.7592453690671, 489.2040865264823, 448.2409759453486, 361.07035517049866, 279.67203828832294, 273.8555346620567, 258.91261528104724, 247.586373505844, 237.42380264382552, 232.4940818470542, 240.09239962453262, 3745.443551007891, 844.1846940527748, 381.01886668362823, 643.0548047111259, 482.6022791817027, 1654.2399991239172, 980.9579881070052, 1896.9520241517266, 1035.2790734511952, 1191.8110479563152, 1858.4644520248848, 10908.96462663226, 7253.087548039059, 4974.126096703422, 8017.93317066746, 8727.016937289995, 2829.7643693770765, 6186.139227781143, 2067.4035170849643, 825.8980269765997, 800.3853937355859, 753.0911458265765, 682.8033088230097, 680.7132431962374, 597.722679733344, 2466.152762895226, 599.3860730895295, 731.5102193481094, 2729.570281807012, 657.5535399684974, 1920.4515517514542, 885.6209053488724, 10059.698323505605, 2079.9713518750054, 4845.600430004706, 10482.739129950864, 5753.650556796833, 6162.886935343396, 6746.13986066085, 6342.388504674344, 1761.693987340067, 1691.5379392757623, 1675.9199269345213, 1621.8879383866974, 1451.5891970675152, 1286.3492987525456, 980.406328241057, 970.4723047882212, 900.4394581613891, 4507.59337234526, 8028.798781758599, 1535.789586042059, 1601.6661691985885, 7353.1588333373475, 3286.790773848823, 1874.7166383819847, 2844.201732193357, 3379.64357935781, 3958.613389570919, 2606.12464697365, 3489.125200874536, 9812.731050119366, 9215.759989561531, 2258.4680241593783, 1123.188740712282, 649.0539153985745, 658.0366289529179, 638.5012418897198, 586.261365726771, 551.2508694214937, 508.16171662613147, 477.51629570225435, 470.4921825271799, 2258.039570501303, 520.5123426149006, 883.7898273264848, 594.3542092269058, 818.6113310881407, 1597.7601257407628, 2648.3183753019134, 1278.24726677951, 10908.96462663226, 2323.1203909646333, 2829.7643693770765, 10714.562770177603, 14132.85354838793, 2644.9168738605276, 1251.6556594299877, 614.2279657560986, 485.00407078978213, 474.6372484439382, 437.1336717656353, 275.30701602762133, 198.90730587400571, 184.9408061847111, 151.0082190877963, 323.0525385532064, 5916.08666091702, 1880.864174147821, 629.7253603676946, 2493.26609861812, 2117.148539555919, 1052.441124467133, 3750.5984793011617, 3286.4258158027947, 9287.733357900883, 37611.99579077432, 4739.75022172596, 23899.48774789349, 25072.80319849434, 11886.020464133035, 1423.7597097864536, 704.0821921091626, 433.5007546449844, 427.0536488989, 1805.3353644196634, 298.4031850526037, 263.68213516963937, 259.17800697561006, 243.30573091672534, 230.58745981404314, 3386.076824560986, 2896.224637585426, 613.611558224403, 1706.6674526323454, 1748.3740080109665, 2929.989886066445, 568.6766074525999, 3693.911609165019, 11501.653078377558, 14132.85354838793, 804.2989194887384, 571.9261198325745, 561.59260015978, 377.97166152924905, 354.0525136970571, 349.0106836556709, 333.11856263356555, 315.7504175809421, 238.2638713554979, 235.55733765036496, 941.9139511579447, 1450.909495090964, 352.32022642729925, 6997.262729482438, 11501.653078377558, 10714.562770177603, 14132.85354838793, 4725.280020012958, 8075.248506388471, 13160.323671903918, 6752.458500027497, 330.5946435988964, 216.31586335533953, 206.7786948235531, 203.28528345578033, 194.75781879249385, 184.4539390860355, 173.23152322734208, 163.17887188626293, 160.8065915192445, 147.93158486925145, 305.59055908433305, 366.01715774503504, 390.41920166469265, 756.0282646927858, 549.5742622930206, 403.8316674703012, 318.57941951328615, 1268.6014745712762, 989.9672908730754, 639.9284390594327, 6186.139227781143, 9291.65179562859, 2765.9584595732067, 6403.77499518707, 10714.562770177603, 10059.698323505605, 7109.405321098367, 6752.458500027497, 8798.620645219748, 5753.650556796833, 4689.134258474491, 3476.377148355162, 993.8671311105112, 1430.2459762527772, 457.8949838910221, 1300.5052178144574, 378.1784025562746, 387.8479711399735, 198.55011280016308, 191.0495101500172, 6664.239268795732, 1355.6006473918733, 6331.844520459978, 1744.7086326813742, 1627.6244389534427, 2993.1494212645484, 1487.0689627821052, 1906.2861411965093, 3463.2488384465832, 3135.283887629059, 6992.120842601295, 2194.6146998108247, 1600.1221967268166, 480.39476272452674, 476.514014407414, 445.2293930504014, 1815.8188524576656, 245.12219288705867, 214.72093650149796, 180.20725964536078, 174.2957470104985, 2377.642007618558, 464.82276138038316, 390.4760731519459, 883.7986573317324, 9215.759989561531, 862.1304220234056, 2625.1480180376084, 1949.311026775116, 3826.2529668736884, 4580.506650277257, 2440.0889652947476, 962.9247017880413, 604.9303982938353, 559.3017871471948, 446.82985221842205, 362.6303894281607, 251.11977681789097, 155.37491878748818, 126.85336610222723, 186.88759619581276, 50.96278153982537, 1362.9512236267888, 599.132228075826, 460.42104062979723, 478.34708127746603, 2822.475285974134, 2473.980158876504, 7250.199138982087, 1809.4332549236858, 2137.702067303237, 6415.952537353707, 3452.0292871809716, 8271.84580581294, 8017.93317066746, 37611.99579077432, 1198.3543391969138, 1028.6829677143794, 536.6908950851844, 410.9120951214962, 338.45836142149403, 297.1399077282831, 257.5507049921112, 234.98360723523834, 215.7556756375474, 210.1275412275909, 564.7658588025058, 2385.809272749774, 395.45884737137885, 1013.0403599354936, 3671.288624773605, 11262.860239280288, 2001.7792660426844, 1516.5536329861268, 4425.43719488128, 2632.6750076555945, 2328.8648025951497, 9812.731050119366, 4502.546475338454, 1045.3032369932764, 602.2716141254206, 376.87240507024035, 313.0197490581783, 156.61360753174947, 151.92541281390413, 135.5691321469185, 111.82415338954685, 109.41759112768591, 96.82801588076582, 708.0791405226963, 532.6861583692961, 299.3165066880339, 383.0754125228415, 2754.856454150129, 8014.216665387082, 2420.021162936761, 2814.3617441089855, 2706.00918333984, 3262.5277592185857, 4739.75022172596, 3589.209265367249, 11501.653078377558, 2216.5998930575192, 1581.2917970120375, 581.3556698029724, 465.4865165219343, 458.6899981535762, 418.492456535103, 187.2670673487273, 181.77317555310879, 144.2587234795418, 100.78360420873501, 1276.0502866800275, 646.8657670004012, 5760.761237951166, 582.3095858531327, 4285.930980056885, 750.362635598839, 932.6924071700926, 3452.0292871809716, 2632.6750076555945, 2030.0254363244492, 37611.99579077432, 3135.283887629059, 9215.759989561531, 336.4692846403527, 249.68006419802504, 179.54135936273966, 186.73601676131102, 158.56941383111504, 129.97932672894473, 95.55409586138867, 134.50373499675453, 107.64359106925038, 67.96824529310047, 253.81848009273122, 1771.9794084293492, 1355.6655762616895, 1546.4534559653957, 5730.301344249877, 869.9945590857699, 617.6230514517015, 509.1551794898734, 1356.9612115716188, 1899.3106998975443, 1950.5961658576086, 2704.060848195985, 968.2790706875738, 8271.84580581294, 4570.3224016472, 2338.3507197238796, 1146.2573460259073, 387.6794056038157, 316.4380701333026, 196.8634051144161, 189.83334629774458, 171.5631190243643, 151.2498561269943, 139.31557947260052, 131.41192939958773, 424.91701696645805, 491.05935278892207, 4167.41144171267, 2842.135915378653, 1833.8672466824596, 2063.2484442223563, 1042.9461259488005, 7671.581501551237, 5760.761237951166, 11262.860239280288, 28542.90385556501, 677.4603725984338, 522.3632240537062, 317.1001048241977, 241.5092970366684, 214.9252753510908, 182.43046632195717, 2173.504262391046, 122.00114117199993, 104.24731907957947, 101.41571998921141, 326.82389158120446, 465.493909006622, 368.5087393466016, 262.11768065773225, 4502.546475338454, 769.7085429358859, 1210.5627250007656, 7109.405321098367, 1849.4729292810612, 3463.2488384465832, 2685.7568354761747, 802.7833259558167, 421.2825629595289, 161.88893535385208, 127.1309048609397, 176.92804984050997, 1513.7897989316536, 58.84327227934547, 792.7151791900142, 30.077062802413078, 412.9993602979517, 435.11369188109643, 595.0135410211531, 754.6072328768414, 1325.661379200088, 4247.65715282926, 1486.2247358698442, 2573.9206870791522, 11262.860239280288, 6186.139227781143, 2527.4815489492494, 350.64105900401586, 158.61145876194496, 145.11987517251498, 127.6473107876009, 112.87891389205954, 78.18909632771997, 67.04121844803586, 54.42748988747024, 30.923925109891847, 201.25512471463773, 228.6240109464226, 160.23505897408114, 374.28292539857887, 298.54797195402364, 280.9501634557338, 1451.3156653855585, 723.3208579638051, 2842.135915378653, 3541.826533348708, 2022.6950167046473, 1125.682929967118, 2063.2484442223563, 9812.731050119366, 10482.739129950864], \"Category\": [\"Default\", \"Default\", \"Default\", \"Default\", \"Default\", \"Default\", \"Default\", \"Default\", \"Default\", \"Default\", \"Topic1\", \"Topic1\", \"Topic1\", \"Topic1\", \"Topic1\", \"Topic1\", \"Topic1\", \"Topic1\", \"Topic1\", \"Topic1\", \"Topic1\", \"Topic1\", \"Topic1\", \"Topic1\", \"Topic1\", \"Topic1\", \"Topic1\", \"Topic1\", \"Topic1\", \"Topic1\", \"Topic1\", \"Topic1\", \"Topic1\", \"Topic1\", \"Topic1\", \"Topic1\", \"Topic1\", \"Topic2\", \"Topic2\", \"Topic2\", \"Topic2\", \"Topic2\", \"Topic2\", \"Topic2\", \"Topic2\", \"Topic2\", \"Topic2\", \"Topic2\", \"Topic2\", \"Topic2\", \"Topic2\", \"Topic2\", \"Topic2\", \"Topic2\", \"Topic2\", \"Topic2\", \"Topic2\", \"Topic2\", \"Topic2\", \"Topic2\", \"Topic2\", \"Topic2\", \"Topic2\", \"Topic2\", \"Topic2\", \"Topic2\", \"Topic2\", \"Topic2\", \"Topic3\", \"Topic3\", \"Topic3\", \"Topic3\", \"Topic3\", \"Topic3\", \"Topic3\", \"Topic3\", \"Topic3\", \"Topic3\", \"Topic3\", \"Topic3\", \"Topic3\", \"Topic3\", \"Topic3\", \"Topic3\", \"Topic3\", \"Topic3\", \"Topic3\", \"Topic3\", \"Topic3\", \"Topic4\", \"Topic4\", \"Topic4\", \"Topic4\", \"Topic4\", \"Topic4\", \"Topic4\", \"Topic4\", \"Topic4\", \"Topic4\", \"Topic4\", \"Topic4\", \"Topic4\", \"Topic4\", \"Topic4\", \"Topic4\", \"Topic4\", \"Topic4\", \"Topic4\", \"Topic4\", \"Topic4\", \"Topic4\", \"Topic4\", \"Topic4\", \"Topic4\", \"Topic4\", \"Topic4\", \"Topic4\", \"Topic4\", \"Topic5\", \"Topic5\", \"Topic5\", \"Topic5\", \"Topic5\", \"Topic5\", \"Topic5\", \"Topic5\", \"Topic5\", \"Topic5\", \"Topic5\", \"Topic5\", \"Topic5\", \"Topic5\", \"Topic5\", \"Topic5\", \"Topic5\", \"Topic5\", \"Topic5\", \"Topic5\", \"Topic5\", \"Topic6\", \"Topic6\", \"Topic6\", \"Topic6\", \"Topic6\", \"Topic6\", \"Topic6\", \"Topic6\", \"Topic6\", \"Topic6\", \"Topic6\", \"Topic6\", \"Topic6\", \"Topic6\", \"Topic6\", \"Topic6\", \"Topic6\", \"Topic6\", \"Topic6\", \"Topic6\", \"Topic6\", \"Topic6\", \"Topic6\", \"Topic6\", \"Topic7\", \"Topic7\", \"Topic7\", \"Topic7\", \"Topic7\", \"Topic7\", \"Topic7\", \"Topic7\", \"Topic7\", \"Topic7\", \"Topic7\", \"Topic7\", \"Topic7\", \"Topic7\", \"Topic7\", \"Topic7\", \"Topic7\", \"Topic7\", \"Topic7\", \"Topic7\", \"Topic7\", \"Topic7\", \"Topic7\", \"Topic8\", \"Topic8\", \"Topic8\", \"Topic8\", \"Topic8\", \"Topic8\", \"Topic8\", \"Topic8\", \"Topic8\", \"Topic8\", \"Topic8\", \"Topic8\", \"Topic8\", \"Topic8\", \"Topic8\", \"Topic8\", \"Topic8\", \"Topic8\", \"Topic8\", \"Topic8\", \"Topic8\", \"Topic8\", \"Topic8\", \"Topic8\", \"Topic8\", \"Topic9\", \"Topic9\", \"Topic9\", \"Topic9\", \"Topic9\", \"Topic9\", \"Topic9\", \"Topic9\", \"Topic9\", \"Topic9\", \"Topic9\", \"Topic9\", \"Topic9\", \"Topic9\", \"Topic9\", \"Topic9\", \"Topic9\", \"Topic9\", \"Topic9\", \"Topic9\", \"Topic10\", \"Topic10\", \"Topic10\", \"Topic10\", \"Topic10\", \"Topic10\", \"Topic10\", \"Topic10\", \"Topic10\", \"Topic10\", \"Topic10\", \"Topic10\", \"Topic10\", \"Topic10\", \"Topic10\", \"Topic10\", \"Topic10\", \"Topic10\", \"Topic10\", \"Topic10\", \"Topic10\", \"Topic11\", \"Topic11\", \"Topic11\", \"Topic11\", \"Topic11\", \"Topic11\", \"Topic11\", \"Topic11\", \"Topic11\", \"Topic11\", \"Topic11\", \"Topic11\", \"Topic11\", \"Topic11\", \"Topic11\", \"Topic11\", \"Topic11\", \"Topic11\", \"Topic11\", \"Topic11\", \"Topic11\", \"Topic11\", \"Topic11\", \"Topic11\", \"Topic11\", \"Topic11\", \"Topic11\", \"Topic11\", \"Topic11\", \"Topic11\", \"Topic12\", \"Topic12\", \"Topic12\", \"Topic12\", \"Topic12\", \"Topic12\", \"Topic12\", \"Topic12\", \"Topic12\", \"Topic12\", \"Topic12\", \"Topic12\", \"Topic12\", \"Topic12\", \"Topic12\", \"Topic12\", \"Topic12\", \"Topic12\", \"Topic12\", \"Topic12\", \"Topic12\", \"Topic13\", \"Topic13\", \"Topic13\", \"Topic13\", \"Topic13\", \"Topic13\", \"Topic13\", \"Topic13\", \"Topic13\", \"Topic13\", \"Topic13\", \"Topic13\", \"Topic13\", \"Topic13\", \"Topic13\", \"Topic13\", \"Topic13\", \"Topic13\", \"Topic13\", \"Topic13\", \"Topic13\", \"Topic14\", \"Topic14\", \"Topic14\", \"Topic14\", \"Topic14\", \"Topic14\", \"Topic14\", \"Topic14\", \"Topic14\", \"Topic14\", \"Topic14\", \"Topic14\", \"Topic14\", \"Topic14\", \"Topic14\", \"Topic14\", \"Topic14\", \"Topic14\", \"Topic14\", \"Topic14\", \"Topic14\", \"Topic14\", \"Topic14\", \"Topic14\", \"Topic15\", \"Topic15\", \"Topic15\", \"Topic15\", \"Topic15\", \"Topic15\", \"Topic15\", \"Topic15\", \"Topic15\", \"Topic15\", \"Topic15\", \"Topic15\", \"Topic15\", \"Topic15\", \"Topic15\", \"Topic15\", \"Topic15\", \"Topic15\", \"Topic15\", \"Topic15\", \"Topic15\", \"Topic15\", \"Topic15\", \"Topic16\", \"Topic16\", \"Topic16\", \"Topic16\", \"Topic16\", \"Topic16\", \"Topic16\", \"Topic16\", \"Topic16\", \"Topic16\", \"Topic16\", \"Topic16\", \"Topic16\", \"Topic16\", \"Topic16\", \"Topic16\", \"Topic16\", \"Topic16\", \"Topic16\", \"Topic16\", \"Topic16\", \"Topic16\", \"Topic16\", \"Topic17\", \"Topic17\", \"Topic17\", \"Topic17\", \"Topic17\", \"Topic17\", \"Topic17\", \"Topic17\", \"Topic17\", \"Topic17\", \"Topic17\", \"Topic17\", \"Topic17\", \"Topic17\", \"Topic17\", \"Topic17\", \"Topic17\", \"Topic17\", \"Topic17\", \"Topic17\", \"Topic17\", \"Topic17\", \"Topic17\", \"Topic18\", \"Topic18\", \"Topic18\", \"Topic18\", \"Topic18\", \"Topic18\", \"Topic18\", \"Topic18\", \"Topic18\", \"Topic18\", \"Topic18\", \"Topic18\", \"Topic18\", \"Topic18\", \"Topic18\", \"Topic18\", \"Topic18\", \"Topic18\", \"Topic18\", \"Topic18\", \"Topic18\", \"Topic18\", \"Topic18\", \"Topic18\", \"Topic18\", \"Topic19\", \"Topic19\", \"Topic19\", \"Topic19\", \"Topic19\", \"Topic19\", \"Topic19\", \"Topic19\", \"Topic19\", \"Topic19\", \"Topic19\", \"Topic19\", \"Topic19\", \"Topic19\", \"Topic19\", \"Topic19\", \"Topic19\", \"Topic19\", \"Topic19\", \"Topic19\", \"Topic19\", \"Topic20\", \"Topic20\", \"Topic20\", \"Topic20\", \"Topic20\", \"Topic20\", \"Topic20\", \"Topic20\", \"Topic20\", \"Topic20\", \"Topic20\", \"Topic20\", \"Topic20\", \"Topic20\", \"Topic20\", \"Topic20\", \"Topic20\", \"Topic20\", \"Topic20\", \"Topic20\", \"Topic21\", \"Topic21\", \"Topic21\", \"Topic21\", \"Topic21\", \"Topic21\", \"Topic21\", \"Topic21\", \"Topic21\", \"Topic21\", \"Topic21\", \"Topic21\", \"Topic21\", \"Topic21\", \"Topic21\", \"Topic21\", \"Topic21\", \"Topic21\", \"Topic21\", \"Topic21\", \"Topic22\", \"Topic22\", \"Topic22\", \"Topic22\", \"Topic22\", \"Topic22\", \"Topic22\", \"Topic22\", \"Topic22\", \"Topic22\", \"Topic22\", \"Topic22\", \"Topic22\", \"Topic22\", \"Topic22\", \"Topic22\", \"Topic22\", \"Topic22\", \"Topic22\", \"Topic22\", \"Topic22\", \"Topic22\", \"Topic22\", \"Topic22\", \"Topic22\"], \"logprob\": [10.0, 9.0, 8.0, 7.0, 6.0, 5.0, 4.0, 3.0, 2.0, 1.0, -5.2745, -5.5492, -5.8522, -6.3291, -6.4927, -6.4639, -5.0757, -6.7161, -6.7934, -6.2255, -4.4814, -4.0193, -5.2395, -5.0398, -4.5766, -3.4976, -4.4068, -4.4809, -3.6097, -4.5854, -4.6607, -4.4747, -3.3443, -3.3269, -3.2948, -3.7015, -4.0599, -7.1123, -8.0084, -7.6695, -8.4818, -8.8655, -5.5008, -9.0277, -9.4915, -9.6139, -8.5717, -4.5472, -5.5804, -6.4905, -3.9941, -6.3556, -2.4489, -5.4178, -4.6212, -4.6578, -4.6041, -4.1597, -4.4787, -4.2985, -3.0089, -3.7838, -4.1194, -4.4164, -3.9567, -4.0319, -4.3631, -4.3616, -4.92, -4.9979, -5.7589, -5.9487, -5.9489, -6.0366, -6.067, -6.1106, -6.2084, -5.0951, -4.6912, -4.595, -5.1318, -5.6229, -4.8455, -5.7987, -5.2941, -4.8019, -4.5604, -4.8082, -5.118, -6.2054, -6.3686, -6.4562, -6.673, -6.9292, -6.9502, -7.0065, -7.0514, -7.0935, -7.1146, -7.0824, -4.5807, -5.9935, -6.6876, -6.2504, -6.4899, -5.5255, -5.9441, -5.5025, -5.9459, -5.8711, -5.6408, -4.9362, -5.1929, -5.4027, -5.2548, -5.4622, -5.7451, -5.6401, -4.8065, -5.7247, -5.7562, -5.8171, -5.9152, -5.9183, -6.0485, -4.6313, -6.0459, -5.8467, -4.5308, -5.9535, -4.8955, -5.7578, -4.4391, -5.3686, -5.1129, -4.8499, -5.1133, -5.1001, -5.0744, -3.6713, -4.9526, -4.9933, -5.0026, -5.0354, -5.1464, -5.2673, -5.5391, -5.5493, -5.6243, -4.0138, -3.4433, -5.091, -5.0502, -3.5462, -4.3728, -4.9037, -4.5225, -4.4262, -4.2991, -4.6917, -4.604, -4.4246, -4.4573, -4.6804, -5.3793, -5.9283, -5.9146, -5.9448, -6.0302, -6.0919, -6.1735, -6.2358, -6.2507, -4.6965, -6.1503, -5.6347, -6.0208, -5.7109, -5.0861, -4.6518, -5.4758, -4.4276, -5.2684, -5.2044, -5.0291, -5.2505, -4.4098, -5.1584, -5.871, -6.1076, -6.1293, -6.2118, -6.6754, -7.0018, -7.075, -7.2789, -6.5215, -3.6591, -4.7921, -5.8655, -4.5552, -4.7661, -5.44, -4.3696, -4.547, -3.8445, -2.8909, -4.4794, -3.6764, -3.9066, -4.3193, -4.8463, -5.5517, -6.037, -6.052, -4.611, -6.4114, -6.5355, -6.5528, -6.6162, -6.6701, -3.9841, -4.1444, -5.6922, -4.7033, -4.7254, -4.3525, -5.8054, -4.4034, -4.0368, -4.7609, -5.3313, -5.6727, -5.691, -6.0878, -6.1533, -6.1677, -6.2145, -6.2682, -6.5507, -6.5622, -5.1915, -4.8941, -6.1985, -4.5263, -4.2685, -4.5412, -4.438, -5.039, -4.905, -4.9303, -5.1044, -6.2217, -6.6474, -6.6927, -6.7098, -6.7528, -6.8075, -6.8706, -6.9307, -6.9454, -7.0294, -6.3199, -6.1614, -6.1038, -5.493, -5.8591, -6.141, -6.3396, -5.4046, -5.6383, -5.9922, -5.0491, -4.8897, -5.4162, -5.1245, -5.0444, -5.1351, -5.2636, -5.3248, -5.3204, -5.4003, -3.5121, -3.8114, -5.0643, -4.7009, -5.8404, -4.7968, -6.0321, -6.0087, -6.6787, -6.7174, -3.1789, -4.769, -3.2457, -4.5298, -4.6019, -4.0161, -4.6999, -4.5417, -4.275, -4.367, -4.4429, -4.0723, -4.3884, -5.5931, -5.6012, -5.6693, -4.2645, -6.2679, -6.4009, -6.577, -6.6105, -4.0088, -5.647, -5.8191, -5.0671, -3.3748, -5.2199, -4.5374, -4.7272, -4.3108, -4.3437, -4.7346, -4.7707, -5.2362, -5.3148, -5.5397, -5.749, -6.1177, -6.6004, -6.8044, -6.4245, -7.728, -4.4559, -5.2706, -5.5342, -5.5128, -4.0084, -4.1664, -3.3306, -4.4471, -4.412, -3.797, -4.2349, -3.7602, -3.7984, -3.2607, -4.5407, -4.6936, -5.3451, -5.6126, -5.8071, -5.9377, -6.0812, -6.1733, -6.259, -6.2856, -5.304, -3.8832, -5.6647, -4.7526, -3.9342, -3.1074, -4.4997, -4.7045, -3.9908, -4.4693, -4.5364, -4.0478, -4.6227, -4.6098, -5.1618, -5.6316, -5.8177, -6.5132, -6.5438, -6.6585, -6.8525, -6.8745, -6.9978, -5.0094, -5.294, -5.878, -5.6468, -3.872, -2.9285, -4.0502, -4.0388, -4.0751, -4.0123, -4.228, -4.7138, -4.8027, -3.8508, -4.1887, -5.1904, -5.4131, -5.4279, -5.5198, -6.3268, -6.3568, -6.5893, -6.9509, -4.4322, -5.1239, -3.0639, -5.2514, -3.4969, -5.0617, -4.9269, -4.0545, -4.3499, -4.7297, -3.9531, -4.7667, -4.7522, -5.6192, -5.9185, -6.2498, -6.2108, -6.3749, -6.5749, -6.8852, -6.5449, -6.7681, -7.2303, -5.9141, -4.0125, -4.2763, -4.1727, -2.912, -4.7479, -5.0809, -5.2635, -4.489, -4.206, -4.1895, -4.2119, -4.8597, -3.9152, -4.5827, -3.2567, -3.9701, -5.0559, -5.2595, -5.736, -5.7726, -5.8743, -6.0011, -6.0839, -6.1427, -5.0524, -4.9898, -3.2083, -3.6013, -4.071, -4.0093, -4.5498, -3.9863, -4.3955, -4.3107, -4.13, -4.4173, -4.6777, -5.1781, -5.4513, -5.5685, -5.7332, -3.2566, -6.1382, -6.2969, -6.3247, -5.1578, -4.8409, -5.0833, -5.4112, -3.2794, -4.8148, -4.8904, -4.5702, -4.8644, -4.9368, -2.8875, -4.096, -4.7419, -5.702, -5.9454, -5.6186, -3.4767, -6.7248, -4.1376, -7.4122, -4.8075, -4.7886, -4.4906, -4.3294, -3.9076, -3.1374, -3.9591, -3.9183, -3.8887, -4.1822, -2.7334, -4.7115, -5.5078, -5.5973, -5.7265, -5.8504, -6.2215, -6.3775, -6.5894, -7.1688, -5.2969, -5.1967, -5.5478, -4.7633, -5.0194, -5.1131, -3.8701, -4.4478, -3.569, -3.5095, -3.9168, -4.4033, -4.1178, -4.1263, -4.4528], \"loglift\": [10.0, 9.0, 8.0, 7.0, 6.0, 5.0, 4.0, 3.0, 2.0, 1.0, 2.3669, 2.3667, 2.3664, 2.3658, 2.3656, 2.3655, 2.3653, 2.3651, 2.365, 2.3643, 2.3609, 2.3528, 2.3637, 2.3563, 2.3497, 2.3387, 2.34, 2.3297, 2.2886, 2.3316, 2.3285, 2.3111, 1.6992, 1.6687, 1.2952, 1.1645, 0.6838, 2.5298, 2.5272, 2.5257, 2.5214, 2.5143, 2.5139, 2.5103, 2.495, 2.4897, 2.4868, 2.4756, 2.475, 2.4661, 2.4153, 2.4597, 2.2948, 2.3861, 2.3239, 2.3252, 2.2941, 2.2461, 2.2589, 2.1904, 1.857, 1.8564, 1.9494, 2.0601, 1.0389, 1.0116, 1.7655, 1.2072, 2.5589, 2.5589, 2.5583, 2.5581, 2.5581, 2.558, 2.558, 2.5579, 2.5578, 2.5578, 2.5533, 2.5338, 2.54, 2.5475, 2.517, 2.5433, 2.4914, 2.3575, 1.2673, 1.0594, 1.1183, 2.564, 2.5638, 2.5636, 2.5631, 2.5623, 2.5623, 2.5621, 2.5619, 2.5617, 2.5617, 2.5617, 2.3161, 2.3932, 2.4947, 2.4085, 2.4561, 2.1886, 2.2925, 2.0746, 2.2368, 2.1707, 1.9568, 0.8915, 1.043, 1.2104, 0.8809, 0.5888, 1.4321, 0.7549, 2.6846, 2.684, 2.6838, 2.6838, 2.6837, 2.6837, 2.6835, 2.6834, 2.6833, 2.6833, 2.6824, 2.6831, 2.6692, 2.581, 1.4697, 2.1164, 1.5264, 1.0177, 1.3542, 1.2987, 1.234, 2.6988, 2.6985, 2.6984, 2.6984, 2.6984, 2.6983, 2.6983, 2.698, 2.698, 2.6979, 2.6978, 2.691, 2.6973, 2.6962, 2.676, 2.6546, 2.6852, 2.6496, 2.5734, 2.5423, 2.5678, 2.3637, 1.5091, 1.5391, 2.7223, 2.7219, 2.7213, 2.7213, 2.7212, 2.7211, 2.721, 2.7209, 2.7208, 2.7206, 2.7064, 2.72, 2.7062, 2.7169, 2.7066, 2.6626, 2.5917, 2.4961, 1.4002, 2.106, 1.9728, 0.8166, 0.3183, 2.8349, 2.8345, 2.8337, 2.8333, 2.8333, 2.8331, 2.8318, 2.8305, 2.8301, 2.8289, 2.8258, 2.7806, 2.7935, 2.8143, 2.7486, 2.7011, 2.7262, 2.5258, 2.4806, 2.1441, 1.6991, 2.1819, 1.3671, 1.089, 1.4227, 3.0177, 3.0165, 3.0162, 3.0162, 3.0156, 3.0153, 3.0148, 3.0148, 3.0146, 3.0143, 3.0136, 3.0095, 3.0136, 2.9795, 2.9333, 2.7898, 2.9764, 2.5072, 1.7381, 0.808, 3.1039, 3.1034, 3.1033, 3.1025, 3.1023, 3.1023, 3.1021, 3.102, 3.101, 3.1009, 3.0857, 2.9511, 3.0621, 1.7456, 1.5064, 1.3045, 1.1308, 1.6255, 1.2236, 0.7099, 1.203, 3.1025, 3.101, 3.1008, 3.1007, 3.1005, 3.1002, 3.0999, 3.0996, 3.0995, 3.099, 3.0829, 3.061, 3.0541, 3.004, 2.9569, 2.9831, 3.0216, 2.5749, 2.5891, 2.6716, 1.3459, 1.0985, 1.7837, 1.236, 0.8014, 0.7738, 0.9923, 0.9827, 0.7224, 1.0672, 3.16, 3.1599, 3.1592, 3.1586, 3.1581, 3.1578, 3.1576, 3.1558, 3.1553, 3.1551, 3.1417, 3.1442, 3.1261, 3.131, 3.1284, 3.105, 3.1206, 3.0305, 2.7002, 2.7076, 1.8297, 3.359, 3.3589, 3.3574, 3.3574, 3.3572, 3.3563, 3.3555, 3.3549, 3.354, 3.3538, 3.3424, 3.3365, 3.3386, 3.2737, 2.6217, 3.1458, 2.7148, 2.8227, 2.5647, 2.3519, 2.5908, 3.4844, 3.4838, 3.4837, 3.4832, 3.4827, 3.4815, 3.4789, 3.4777, 3.4701, 3.466, 3.4518, 3.459, 3.4588, 3.4419, 3.1713, 3.1451, 2.9057, 3.1773, 3.0456, 2.5615, 2.7435, 2.3443, 2.3373, 1.3293, 3.4957, 3.4955, 3.4946, 3.4941, 3.4936, 3.4932, 3.4927, 3.4923, 3.4919, 3.4918, 3.4847, 3.4646, 3.4804, 3.4518, 2.9827, 2.6884, 3.0236, 3.0964, 2.7392, 2.78, 2.8356, 1.8859, 2.0901, 3.5632, 3.5626, 3.5616, 3.5611, 3.5581, 3.5579, 3.5572, 3.5557, 3.5555, 3.5543, 3.5532, 3.5532, 3.5456, 3.5301, 3.332, 3.2077, 3.2834, 3.1439, 3.1467, 3.0226, 2.4334, 2.2257, 0.9721, 3.5706, 3.5704, 3.5693, 3.5689, 3.5689, 3.5687, 3.5657, 3.5656, 3.5642, 3.5612, 3.5414, 3.529, 3.4024, 3.5067, 3.2651, 3.4429, 3.3601, 2.9239, 2.8995, 2.7796, 0.6369, 2.3079, 1.2442, 3.6874, 3.6864, 3.6849, 3.6847, 3.6841, 3.6829, 3.6802, 3.6787, 3.6782, 3.6757, 3.6744, 3.6328, 3.6368, 3.6087, 3.5596, 3.6088, 3.6183, 3.6288, 3.4231, 3.3699, 3.3598, 3.0107, 3.3898, 2.1893, 2.1151, 4.1112, 4.1108, 4.1091, 4.1085, 4.1066, 4.1064, 4.1058, 4.1051, 4.1045, 4.1041, 4.0208, 3.9387, 3.5818, 3.5715, 3.5399, 3.4838, 3.6255, 2.1935, 2.0708, 1.4851, 0.7359, 4.1895, 4.1891, 4.1878, 4.1869, 4.1864, 4.1855, 4.1844, 4.1829, 4.1815, 4.1812, 4.1779, 4.1412, 4.1324, 4.1451, 3.4333, 3.6643, 3.1358, 1.6858, 2.7381, 2.0383, 4.3419, 4.341, 4.3399, 4.3362, 4.3345, 4.3308, 4.326, 4.3255, 4.3121, 4.3092, 4.2942, 4.2609, 4.2459, 4.1695, 4.0278, 3.6336, 3.862, 3.3536, 1.9072, 2.2128, 4.5567, 4.5538, 4.5509, 4.5503, 4.5494, 4.5484, 4.5445, 4.5423, 4.5389, 4.5248, 4.5237, 4.4963, 4.5007, 4.4368, 4.4067, 4.3738, 3.9748, 4.0935, 3.6038, 3.4432, 3.5962, 3.6957, 3.3753, 1.8074, 1.4148]}, \"token.table\": {\"Topic\": [3, 1, 2, 7, 8, 22, 1, 8, 1, 3, 6, 8, 12, 13, 14, 18, 19, 20, 1, 8, 18, 1, 8, 12, 13, 16, 1, 2, 3, 4, 5, 6, 7, 8, 9, 10, 12, 13, 14, 16, 17, 18, 19, 1, 3, 8, 12, 13, 18, 19, 21, 22, 1, 7, 8, 12, 13, 14, 18, 1, 8, 12, 13, 18, 16, 1, 11, 12, 14, 18, 1, 12, 18, 21, 22, 1, 22, 1, 18, 1, 8, 18, 1, 5, 12, 14, 16, 17, 18, 1, 1, 1, 1, 18, 8, 1, 9, 4, 4, 4, 1, 2, 3, 5, 7, 8, 10, 12, 13, 14, 15, 16, 17, 18, 19, 22, 1, 2, 5, 8, 12, 13, 14, 16, 17, 19, 1, 2, 3, 4, 5, 6, 7, 8, 9, 10, 11, 12, 13, 14, 15, 16, 18, 19, 21, 22, 17, 17, 14, 17, 5, 7, 2, 6, 7, 8, 9, 10, 11, 14, 15, 16, 20, 5, 10, 12, 3, 4, 7, 7, 5, 4, 12, 15, 17, 21, 12, 15, 12, 21, 12, 21, 17, 2, 8, 15, 12, 21, 4, 5, 7, 12, 13, 18, 19, 4, 5, 7, 9, 13, 18, 19, 21, 1, 2, 3, 4, 5, 6, 7, 8, 9, 10, 11, 12, 13, 15, 16, 19, 21, 22, 1, 4, 11, 12, 13, 2, 3, 4, 7, 9, 10, 13, 14, 17, 18, 2, 1, 2, 8, 12, 16, 17, 22, 1, 2, 8, 12, 13, 14, 16, 17, 1, 2, 7, 8, 12, 13, 14, 16, 17, 18, 1, 2, 3, 4, 5, 6, 7, 8, 10, 11, 12, 13, 14, 15, 16, 17, 18, 19, 20, 21, 22, 5, 5, 11, 13, 17, 21, 21, 3, 1, 2, 4, 5, 6, 7, 8, 9, 10, 12, 13, 15, 16, 18, 19, 20, 3, 5, 6, 6, 8, 11, 20, 4, 7, 1, 13, 14, 16, 3, 5, 13, 14, 1, 2, 3, 5, 8, 12, 14, 16, 1, 2, 3, 4, 5, 6, 7, 8, 9, 10, 11, 12, 13, 14, 15, 16, 17, 18, 19, 20, 21, 22, 11, 19, 19, 5, 6, 10, 19, 6, 5, 6, 6, 12, 18, 5, 9, 20, 22, 5, 5, 22, 4, 6, 7, 10, 11, 15, 17, 19, 20, 21, 1, 2, 3, 4, 5, 6, 7, 8, 9, 10, 11, 12, 13, 14, 15, 17, 18, 19, 22, 3, 6, 7, 19, 10, 6, 19, 5, 1, 2, 3, 4, 5, 6, 9, 12, 15, 19, 21, 22, 12, 15, 16, 21, 1, 12, 17, 21, 19, 21, 3, 4, 7, 7, 16, 3, 4, 16, 12, 17, 19, 15, 6, 20, 20, 10, 9, 7, 16, 7, 20, 13, 13, 12, 3, 11, 1, 4, 8, 9, 12, 15, 18, 19, 22, 22, 3, 4, 7, 11, 19, 20, 22, 19, 19, 3, 13, 15, 18, 21, 3, 13, 18, 3, 13, 18, 21, 3, 5, 7, 8, 10, 11, 12, 13, 15, 18, 19, 20, 21, 9, 12, 4, 3, 10, 12, 21, 2, 8, 13, 14, 18, 19, 7, 20, 7, 1, 15, 16, 16, 16, 18, 15, 2, 8, 11, 4, 10, 11, 12, 13, 14, 15, 17, 19, 22, 11, 17, 14, 17, 1, 12, 13, 14, 15, 17, 18, 19, 20, 21, 9, 11, 16, 5, 5, 3, 4, 7, 8, 12, 1, 2, 3, 5, 6, 7, 9, 10, 11, 12, 13, 15, 16, 17, 18, 19, 20, 21, 22, 11, 8, 2, 8, 10, 16, 19, 4, 5, 11, 17, 19, 4, 11, 17, 18, 19, 6, 6, 6, 19, 6, 19, 19, 5, 6, 10, 13, 14, 17, 19, 5, 6, 13, 17, 19, 13, 13, 21, 4, 9, 15, 10, 2, 1, 2, 8, 12, 15, 17, 19, 1, 16, 7, 11, 17, 19, 22, 7, 17, 19, 11, 17, 19, 22, 2, 11, 22, 22, 2, 3, 4, 5, 6, 7, 9, 10, 14, 15, 16, 17, 18, 19, 20, 21, 2, 9, 10, 19, 7, 15, 15, 7, 11, 13, 17, 19, 2, 3, 4, 5, 6, 7, 9, 10, 12, 14, 16, 17, 19, 20, 21, 2, 4, 10, 11, 14, 17, 1, 2, 3, 5, 6, 7, 8, 10, 11, 12, 13, 14, 15, 18, 20, 2, 5, 14, 17, 2, 6, 13, 5, 11, 1, 2, 3, 4, 5, 7, 8, 9, 10, 11, 12, 13, 14, 15, 16, 17, 19, 20, 21, 22, 3, 4, 7, 11, 9, 11, 17, 19, 11, 17, 1, 3, 4, 6, 7, 10, 11, 12, 13, 16, 17, 19, 20, 22, 1, 4, 5, 6, 7, 9, 16, 1, 2, 3, 4, 5, 7, 8, 10, 12, 15, 16, 17, 21, 22, 4, 6, 11, 13, 19, 12, 15, 17, 18, 21, 4, 7, 9, 11, 8, 4, 5, 11, 15, 19, 22, 20, 5, 6, 6, 6, 12, 16, 4, 15, 13, 15, 7, 14, 11, 3, 17, 1, 2, 13, 14, 18, 8, 8, 3, 4, 7, 8, 20, 20, 5, 7, 13, 17, 19, 2, 8, 14, 19, 14, 1, 2, 3, 4, 5, 6, 7, 8, 9, 10, 11, 12, 13, 14, 15, 16, 17, 18, 19, 20, 21, 22, 17, 2, 8, 10, 12, 14, 19, 3, 4, 7, 11, 18, 10, 12, 14, 15, 17, 18, 19, 20, 21, 15, 15, 15, 11, 4, 5, 11, 14, 16, 17, 22, 5, 7, 11, 12, 13, 14, 15, 19, 20, 2, 3, 4, 7, 8, 9, 11, 16, 1, 2, 3, 4, 5, 6, 7, 9, 11, 12, 15, 18, 20, 21, 22, 8, 8, 1, 2, 3, 4, 5, 6, 7, 8, 9, 10, 11, 12, 13, 14, 15, 16, 17, 18, 19, 20, 21, 22, 21, 22, 11, 12, 17, 19, 1, 2, 3, 4, 5, 6, 7, 8, 9, 10, 11, 12, 13, 14, 16, 18, 19, 20, 21, 18, 3, 3, 20, 4, 6, 7, 10, 14, 17, 10, 14, 17, 1, 1, 1, 1, 2, 3, 4, 5, 7, 8, 9, 10, 11, 12, 13, 14, 15, 16, 17, 18, 19, 20, 22, 1, 2, 3, 4, 5, 7, 8, 9, 10, 11, 12, 13, 14, 15, 16, 17, 18, 19, 20, 21, 9, 20, 13, 15, 18, 14, 17, 19, 14, 1, 2, 3, 8, 9, 12, 13, 14, 15, 16, 17, 19, 15, 21, 15, 4, 5, 7, 13, 19, 5, 10, 13, 5, 6, 13, 7, 13, 17, 3, 4, 7, 3, 3, 11, 22, 1, 2, 3, 4, 5, 6, 7, 8, 9, 10, 11, 12, 13, 14, 15, 16, 17, 18, 19, 20, 21, 22, 8, 9, 10, 12, 16, 4, 5, 7, 8, 11, 13, 18, 22, 1, 2, 3, 4, 5, 6, 7, 8, 9, 10, 11, 12, 13, 14, 15, 16, 17, 18, 19, 20, 21, 22, 1, 2, 3, 6, 8, 10, 12, 14, 15, 17, 19, 21, 3, 5, 6, 13, 17, 18, 19, 22, 10, 1, 2, 3, 4, 5, 6, 7, 8, 9, 10, 11, 12, 13, 14, 16, 17, 18, 19, 21, 22, 14, 17, 19, 2, 9, 10, 4, 7, 11, 22, 8, 16, 1, 2, 3, 4, 6, 7, 8, 9, 10, 11, 13, 14, 16, 18, 19, 21, 15, 17, 21, 1, 2, 1, 2, 3, 4, 5, 6, 7, 8, 9, 10, 12, 13, 14, 15, 16, 18, 19, 20, 21, 22, 2, 20, 16, 17, 2, 10, 11, 12, 2, 3, 13, 18, 5, 6, 18, 18, 10, 14, 21, 22, 16, 22, 4, 15, 6, 7, 12, 15, 17, 19, 3, 4, 7, 12, 14, 16, 17, 20, 1, 2, 3, 4, 5, 7, 8, 9, 10, 11, 13, 14, 15, 16, 17, 18, 19, 20, 21, 22, 3, 5, 9, 13, 14, 17, 18, 19, 21, 16, 12, 12, 21, 1, 3, 4, 5, 6, 7, 8, 11, 12, 13, 14, 15, 17, 19, 20, 21, 1, 2, 3, 5, 6, 8, 9, 10, 12, 14, 16, 17, 18, 19, 20, 21, 1, 2, 3, 4, 5, 6, 7, 8, 9, 10, 11, 12, 13, 14, 15, 16, 17, 18, 19, 20, 21, 22, 1, 3, 5, 6, 7, 8, 9, 10, 12, 13, 15, 17, 18, 19, 20, 21, 1, 3, 7, 9, 11, 12, 15, 17, 18, 19, 20, 21, 10, 12, 22, 22, 11, 12, 16, 21, 22, 4, 5, 7, 9, 1, 2, 3, 5, 6, 7, 8, 10, 12, 13, 14, 15, 17, 19, 21, 10, 2, 5, 13, 17, 19, 7, 13, 13, 3, 18, 2, 5, 6, 7, 8, 10, 14, 9, 10, 16, 9, 5, 6, 6, 5, 1, 2, 3, 4, 5, 6, 7, 8, 9, 10, 11, 12, 13, 14, 15, 16, 17, 18, 19, 20, 21, 22, 12, 1, 3, 8, 12, 17, 18, 21, 10, 6, 8, 12, 17, 19, 21, 5, 8, 14, 15, 19, 21, 9, 10, 12, 13, 15, 16, 22, 16, 3, 4, 5, 8, 9, 14, 12, 15, 21, 15, 5, 6, 7, 11, 13, 14, 5, 12, 13, 2, 13, 18, 18, 18, 2, 4, 5, 6, 7, 9, 10, 11, 12, 13, 15, 20, 14, 10, 14, 15, 9, 7, 17, 19, 19, 2, 4, 7, 8, 14, 3, 18, 1, 2, 3, 4, 5, 6, 7, 8, 9, 10, 11, 12, 14, 15, 16, 17, 18, 19, 20, 5, 4, 10, 12, 21, 12, 21, 10, 11, 17, 21, 21, 21, 9, 14, 19, 9, 9, 7, 9, 10, 11, 14, 17, 14, 1, 7, 14, 20, 1, 2, 3, 4, 5, 7, 8, 9, 10, 11, 12, 13, 14, 15, 16, 18, 19, 20, 21, 22, 2, 9, 18, 1, 2, 3, 4, 5, 6, 7, 8, 10, 11, 12, 13, 14, 15, 16, 17, 18, 19, 21, 22, 12, 7, 1, 2, 3, 4, 5, 6, 7, 8, 9, 10, 11, 12, 13, 14, 15, 16, 17, 18, 19, 20, 21, 22, 6, 20, 11, 13, 4, 5, 6, 7, 12, 13, 14, 15, 19, 20, 22, 18, 11, 14, 17, 22, 22, 1, 2, 8, 12, 17, 21, 1, 2, 9, 16, 19, 10, 11, 16, 18, 1, 2, 3, 4, 5, 6, 7, 8, 9, 10, 11, 12, 13, 14, 15, 16, 17, 18, 19, 20, 21, 22, 3, 6, 7, 8, 13, 17, 19, 16, 4, 3, 4, 4, 5, 11, 13, 5, 6, 11, 13, 4, 7, 1, 2, 3, 4, 5, 6, 7, 8, 9, 10, 11, 12, 13, 14, 15, 16, 17, 18, 19, 20, 21, 22, 1, 3, 4, 5, 7, 11, 13, 17, 22, 1, 2, 3, 4, 5, 6, 7, 8, 9, 10, 11, 12, 13, 14, 15, 16, 17, 18, 19, 20, 21, 22, 13, 14, 5, 13, 14, 6, 13, 14, 11, 22, 12, 21, 12, 12, 21, 1, 2, 3, 4, 5, 6, 7, 8, 9, 10, 11, 12, 13, 14, 15, 16, 17, 18, 19, 20, 21, 22, 1, 2, 3, 4, 5, 6, 7, 8, 9, 10, 11, 12, 14, 15, 16, 17, 18, 19, 20, 21, 22, 1, 2, 3, 4, 5, 6, 7, 8, 9, 10, 11, 12, 13, 14, 15, 16, 17, 18, 19, 20, 21, 22, 1, 2, 3, 4, 5, 7, 8, 9, 10, 12, 13, 14, 16, 17, 18, 19, 21, 22, 1, 2, 3, 6, 7, 8, 9, 10, 13, 14, 16, 17, 18, 19, 20, 21, 12, 17, 18, 2, 12, 3, 4, 7, 1, 2, 3, 4, 5, 6, 7, 8, 9, 10, 11, 12, 13, 14, 15, 16, 17, 18, 19, 20, 21, 22, 8, 12, 14, 17, 19, 1, 8, 13, 17, 19, 8, 8, 6, 2, 9, 12, 17, 19, 12, 17, 14, 17, 17, 22, 19, 19, 13, 13, 13, 7, 7, 7, 4, 7, 4, 5, 6, 7, 11, 13, 11, 20, 14, 20, 10, 20, 14, 14, 10, 14, 20, 20, 20, 9, 18, 11, 19, 22, 19, 22, 1, 2, 3, 4, 5, 7, 8, 9, 10, 11, 12, 13, 14, 15, 17, 18, 19, 20, 1, 3, 4, 5, 7, 9, 11, 13, 14, 16, 17, 1, 2, 3, 4, 5, 6, 7, 8, 9, 10, 12, 13, 14, 15, 16, 17, 18, 19, 20, 21, 22, 1, 2, 8, 12, 15, 1, 2, 8, 12, 13, 15, 1, 3, 4, 5, 7, 8, 9, 11, 19, 3, 4, 7, 8, 9, 11, 1, 2, 3, 6, 8, 9, 10, 13, 14, 15, 16, 17, 18, 19, 20, 21, 2, 3, 8, 10, 13, 14, 15, 17, 18, 20, 2, 3, 8, 10, 13, 14, 15, 17, 19, 20, 4], \"Freq\": [0.9991383209218541, 0.056949602033319134, 0.007118700254164892, 0.010678050381247337, 0.08898375317706114, 0.8328879297372923, 0.9619060511582653, 0.037773479634525486, 0.9242613511264812, 0.00531184684555449, 0.01868983149361765, 0.02282126792904892, 0.00019673506835387, 0.01318124957970929, 0.0023608208202464402, 0.00845960793921641, 0.00413143643543127, 0.000491837670884675, 0.9630705577042634, 0.02718739366866054, 0.009552327505205054, 0.9729731976482452, 0.01631579996056339, 0.001378799996667329, 0.008962199978337639, 0.9976851447373077, 0.14401602795850926, 0.0046758450635879635, 0.09429620878235727, 0.005299291072066358, 0.00031172300423919756, 0.01792407274375386, 0.0031172300423919757, 0.05844806329484954, 0.13014435426986498, 0.0023379225317939818, 0.00031172300423919756, 0.0031172300423919757, 0.3969792458986181, 0.021197164288265433, 0.05595427926093596, 0.00514342956994676, 0.056577725269414354, 0.9717922797447074, 0.000924547882927131, 0.0041604654731720895, 0.0011094574595125572, 9.24547882927131e-05, 0.016272042739517503, 9.24547882927131e-05, 0.001017002671219844, 0.004530284626342942, 0.9825660715698818, 0.0021999800091125257, 0.0010999900045562628, 0.0002749975011390657, 0.009349915038728234, 0.0005499950022781314, 0.0038499650159469203, 0.9649244676982837, 0.0002724236215974827, 0.00817270864792448, 0.025607820430163374, 0.0008172708647924481, 0.9926299161266542, 0.9855132159195611, 0.007109345097207479, 0.0058454615243705935, 0.00031597089320922127, 0.0011058981262322743, 0.9888158303600192, 0.003518917545765193, 0.0008797293864412982, 0.00483851162542714, 0.0017594587728825964, 0.9979159909825569, 0.001380243417679885, 0.9936191671738583, 0.006320732615609785, 0.9962277264423863, 0.0005411340176221545, 0.0027056700881107724, 0.9452370621705706, 0.006690252209498477, 0.0002389375789106599, 0.0002389375789106599, 0.0014336254734639594, 0.007646002525141117, 0.03846895020461625, 0.9993839251380868, 0.9992849780655501, 0.997736717115349, 0.9969846369964257, 0.0014512149010137202, 0.9980007980349983, 0.9968214608381203, 0.9946333737729661, 0.997035604958504, 0.9982149951306217, 0.9972314535887056, 0.07724072210204182, 0.028505504585277338, 0.0055171944358601305, 0.06620633323032156, 0.0021455756139456064, 0.06498029002235264, 0.0003065108019922295, 0.11371550753911713, 0.01777762651554931, 0.019923202129494916, 0.005210683633867901, 0.5817575021812516, 0.012873453683673637, 0.000613021603984459, 0.0009195324059766884, 0.0015325540099611473, 0.07945279761934894, 0.00036954789590394854, 0.004065026854943434, 0.09349561766369897, 0.12971131146228593, 0.006282314230367125, 0.022911969546044807, 0.6589038983967402, 0.0018477394795197426, 0.0029563831672315883, 0.03780695677926099, 0.04121445073790683, 0.1327300027701094, 0.09362495305422143, 0.2500451519177734, 0.01833556272985619, 0.15706924533186542, 0.038456003247574484, 0.03375041635230166, 0.009897958641780774, 0.06961023372662217, 0.03699564869386913, 0.024014719327599257, 0.01492806877121035, 0.02174305668850203, 0.007626296002683548, 0.005030110129429575, 0.0011358313195486136, 0.0021094010220188537, 0.004218802044037707, 0.9932339018992177, 0.9991830748667144, 0.998261619967497, 0.9988232606647675, 0.9983160966515511, 0.0012164696547338153, 0.002778750768887868, 0.8550973956986757, 0.005557501537775736, 0.01389375384443934, 0.014146367550701873, 0.07199490628482202, 0.02930318992645388, 0.0005052274125250669, 0.003031364475150401, 0.0022735233563628008, 0.0015156822375752006, 0.0010616681054258163, 0.9809813294134543, 0.01698668968681306, 0.05445122743920309, 0.0031293808873105225, 0.9419436470804673, 0.9992149711592786, 0.9989126660347075, 0.9975386826078422, 0.98165743097369, 0.00015005463634571844, 0.0012004370907657475, 0.01695617390706618, 0.9984296573526034, 0.0006991804323197503, 0.9973047260661145, 0.0015378638798243863, 0.9952353208538338, 0.00257832984677159, 0.9997293634004955, 0.9774347442970502, 0.01388169645200489, 0.008165703795296995, 0.07584224678688786, 0.9215982109558192, 0.01465891494245596, 0.00732945747122798, 0.012913806020735013, 0.00017451089217209478, 0.08289267378174502, 0.8776152767334646, 0.004537283196474464, 0.03408108364520028, 0.05370352574395196, 0.02272072243013352, 0.01136036121506676, 0.12186569303435252, 0.7404889992002607, 0.012393121325527376, 0.002065520220921229, 0.014710305838467212, 0.0037179893877444603, 0.004041292812765718, 0.16359153306075624, 0.0805025528302931, 0.09876919634399414, 0.03685659045242334, 0.0064660685004251485, 0.012770485288339668, 0.13805056248407693, 0.17215907382381956, 0.0008082585625531436, 0.04962707574076301, 0.03443181476476392, 0.008567540763063321, 0.025379318864168707, 0.11897566040782273, 0.030713825377019454, 0.020996335613592196, 0.9317123928531537, 0.0026245419516990245, 0.028869961468689267, 0.013122709758495122, 0.00036981416326749836, 0.020339778979712408, 0.0025886991428724884, 0.004807584122477479, 0.23002440955238398, 0.014422752367432436, 0.11612164726599448, 0.10058945240875955, 0.0036981416326749834, 0.5070152178397402, 0.9535327517086378, 0.13463574108997275, 0.0017468956211859302, 0.05540154684332521, 0.09283502444016657, 0.7001308093195896, 0.004741573828933239, 0.010481373727115582, 0.07107375862419045, 0.002479317161308969, 0.037602976946519366, 0.11032961367824912, 0.006611512430157251, 0.005785073376387595, 0.7553652951454659, 0.010743707699005532, 0.07568323455428252, 0.0007106407000402115, 0.002842562800160846, 0.036953316402091, 0.2103496472119026, 0.010304290150583066, 0.002842562800160846, 0.6569873271871756, 0.001421281400080423, 0.0021319221001206345, 0.04931537157890625, 0.03554261014695946, 0.10055596787410614, 0.09374363426260558, 0.016882739819805745, 0.09389172847155125, 0.08663511223321368, 0.028285993908621906, 0.14927896261722975, 0.11966012082809685, 0.01599417456613176, 0.08145181492011544, 0.01303229038721847, 0.03968924799743807, 0.0050352031041525904, 0.004146637850478604, 0.0014809420894566442, 0.006219956775717906, 0.033321197012774494, 0.024879827102871625, 0.001036659462619651, 0.9976875120197821, 0.000672845751968143, 0.10429109155506217, 0.09621694253144444, 0.1796498157754942, 0.6183452460587234, 0.9969555754918532, 0.999554433731098, 0.02541264554668023, 0.11949350352800704, 0.015680142996887803, 0.0367672318547714, 0.18221407551555824, 0.015680142996887803, 0.0070290296192945315, 0.02433125637448107, 0.02433125637448107, 0.1205748927002062, 0.02595334013277981, 0.06542404491804911, 0.03352306433817392, 0.038930010199169716, 0.030278896821576445, 0.23412075578111788, 0.029816318330856902, 0.013082670288029048, 0.9565561717572867, 0.9994525279054849, 0.040704597743316265, 0.013568199247772087, 0.9443466676449372, 0.014658971289890377, 0.9845942383043037, 0.002610452060637991, 0.02349406854574192, 0.002610452060637991, 0.9658672624360567, 0.9806000287608982, 0.010431915199584023, 0.0046364067553706775, 0.003477305066528008, 0.011182023845277712, 0.08544754070448062, 0.00021098158198637191, 0.008650244861441248, 0.5202805811783932, 0.02447386351041914, 0.027005642494255605, 0.322801820439149, 0.014947032175669325, 0.0012166188980195962, 0.02780843195473363, 0.10515063332883653, 0.26418010356996946, 0.04953376941936928, 0.08099205806816169, 0.00834252958642009, 0.003997462093492959, 0.15746524594367917, 0.1301782220880968, 0.0187706915694452, 0.01616365107368892, 0.0187706915694452, 0.0375413831388904, 0.02016111316718188, 0.010949570082176367, 0.004171264793210045, 0.010254359283308026, 0.009559148484439684, 0.001911829696887937, 0.007994924186985919, 0.9937025965747962, 0.9982475065892202, 0.9956101163784075, 0.007099443085994855, 0.9920537575429652, 0.0002491032661752581, 0.0003736548992628871, 0.9996060681678803, 0.0024973993188614606, 0.9970866780554382, 0.9989510634834146, 0.011819470351031832, 0.984955862585986, 0.9972265664462024, 0.00036635803322784805, 0.0007327160664556961, 0.0014654321329113922, 0.9979354774435615, 0.9841435459677791, 0.015100615255590262, 0.02913842698280999, 0.017483056189685993, 0.012820907872436395, 0.0011655370793123997, 0.09052337982659638, 0.20940816191646114, 0.26613096644299794, 0.0007770247195415998, 0.0007770247195415998, 0.3721948406604263, 0.02792605247037699, 0.10336266174100575, 0.0018133800305439604, 0.01837558430951213, 0.025387320427615444, 0.00012089200203626403, 0.02188145236856379, 0.06455632908736499, 0.0016924880285076964, 0.00628638410588573, 0.00870422414661101, 0.004231220071269241, 0.13636617829690584, 0.31951756138184584, 0.0018133800305439604, 0.009792252164937386, 0.22292485175487087, 0.003264084054979129, 0.02224412837467258, 0.023035882427905205, 0.3762527463224517, 0.011757898322576616, 0.5886147874547029, 0.9976339618373842, 0.38448774104721645, 0.6146050922974208, 0.998790944767787, 0.039980043796690005, 0.0045260426939649065, 0.009806425836923965, 0.009806425836923965, 0.03922570334769586, 0.0339453202047368, 0.0045260426939649065, 0.11315106734912267, 0.0045260426939649065, 0.003017361795976604, 0.7302015546263383, 0.006034723591953208, 0.016949178795216447, 0.021791801308135433, 0.007263933769378477, 0.9539966350450401, 0.011764438147049071, 0.0655447268192734, 0.01344507216805608, 0.9075423713437855, 0.9954554452544323, 0.9911044064212654, 0.0020720996214431344, 0.8972191360848771, 0.09946078182927044, 0.9832654474297076, 0.01584087026929333, 0.9885686667621806, 0.0038168674392362184, 0.007633734878472437, 0.8781472853541749, 0.12012886997975272, 0.0005245802182521953, 0.9978617608826655, 0.9517608998544729, 0.047816580118288994, 0.9880350008941017, 0.9974292741278069, 0.9974523340752489, 0.9989538986077595, 0.9978886367950993, 0.9977138840095147, 0.9973902755957299, 0.9966424489700708, 0.9933007158105805, 0.9996038553078703, 0.994174815454402, 0.00567019856723043, 0.0027561199092668476, 0.02549410916071834, 0.0034451498865835594, 0.015158659500967661, 0.3183318495203209, 0.004823209841216983, 0.049610158366803256, 0.02135992929681807, 0.5588033116038533, 0.9701226443082963, 0.11632142540665122, 0.030534374169245947, 0.0024233630293052336, 0.0029080356351662805, 0.5336245390530124, 0.007270089087915701, 0.3067977595100426, 0.9967177151618214, 0.9956141919118269, 0.029345713473099482, 0.006207747080847967, 0.014108516092836289, 0.9441418969326044, 0.005643406437134515, 0.030763100495263512, 0.037239542704792676, 0.9309885676198169, 0.0183909196131221, 0.05057502893608578, 0.9218448456077454, 0.00919545980656105, 0.06563233861231677, 0.010938723102052794, 0.05938163969685803, 0.00625069891545874, 0.07813373644323425, 0.6485100124788442, 0.01875209674637622, 0.023440120932970276, 0.01562674728864685, 0.04531756713707586, 0.010938723102052794, 0.00937604837318811, 0.00937604837318811, 0.9970446685281776, 0.0022156548189515056, 0.9954500866073188, 0.9988927615999813, 0.9976233837260097, 0.9688967321073195, 0.030719617378164855, 0.0049739331227111674, 0.09837334398250976, 0.15032331215304862, 0.7350367836895392, 0.011053184717135928, 0.0005526592358567964, 0.04726162807790259, 0.9516773290232203, 0.9978484583830501, 0.9985339709036375, 0.00988590059980114, 0.9885900599801141, 0.995801904623084, 0.9960820292602922, 0.9972762575169571, 0.9964975399357889, 0.019055926210424873, 0.9797922059860121, 0.9927755850212973, 0.00028234019667093215, 0.04489209127067821, 0.0005646803933418643, 0.19989685924301995, 0.007623185310115168, 0.020893174553648978, 0.0948663060814332, 0.21401386907656655, 0.0886548217546727, 0.3283616487282941, 0.9949840891991795, 0.9984957200803294, 0.9911509605397206, 0.9912745416763631, 0.0018077309987029684, 0.1100456245460432, 0.011072352367055682, 0.06756394607652344, 0.4688802277885824, 0.19252335136186613, 0.027567897730220267, 0.046097140466925694, 0.0171734444876782, 0.0569435264591435, 0.9621089319230861, 0.012890619063524905, 0.024609363666729365, 0.9993211208777746, 0.9976373939549138, 0.9981763090309882, 0.8552925753304523, 0.003110154819383463, 0.1384018894625641, 0.003110154819383463, 0.019668326688486205, 0.00020381685687550472, 0.019566418260048454, 0.0410690966604142, 0.3041966588866908, 0.0005095421421887618, 0.004076337137510095, 0.08183246803551515, 0.00020381685687550472, 0.12116912141248756, 0.03261069710008076, 0.19974051973799464, 0.03128588753038997, 0.003362978138445828, 0.05064848893356293, 0.005808780420951885, 0.01375763783909657, 0.006114505706265142, 0.06399849305890848, 0.9936774397342938, 0.9933234158121544, 0.0008021606683331915, 0.9168696439048378, 0.033690748069994045, 0.009224847685831702, 0.03890479241415979, 0.2073149095848882, 0.006306156945547931, 0.5880491351723446, 0.1907612476028249, 0.0070944265637414225, 0.021972543018297732, 0.9197078720516051, 0.053361890187294495, 0.9942012337996222, 0.9994223622177433, 0.999781075430286, 0.9985655659285878, 0.9772670715911246, 0.022575331740067726, 0.9862823864388487, 0.013335348653851388, 0.990556838814576, 0.049154925965205494, 0.31348472651982046, 0.00010850977034261698, 0.478202557899913, 0.0059680373688439335, 0.09765879330835528, 0.05544849264507728, 0.03539712188164842, 0.16929058291223156, 0.5848220136967999, 0.14415349635859717, 0.06566422609928982, 0.992565813952876, 0.9989213026440509, 0.9856691810859495, 0.03165243613700134, 0.9583654274814295, 0.008792343371389262, 0.9971041469416219, 0.9853145629704619, 0.0052479786741623504, 0.8855964012648966, 0.0003279986671351469, 0.03525985671702829, 0.030339876710001087, 0.04280382606113667, 0.0004919980007027203, 0.01670472522656864, 0.982237843322236, 0.0035184805715625734, 0.01301837811478152, 0.015129466457719065, 0.5826603826507621, 0.38562547064325803, 0.023534006878310962, 0.06118841788360851, 0.9131194668784653, 0.019355172529395743, 0.027650246470565347, 0.32350788370561456, 0.6290431072053616, 0.9745545088902029, 0.10954280096090024, 0.8870295102199727, 0.9961449269383325, 0.6208342980146345, 0.02104523044117405, 0.027358799573526268, 0.006138192212009098, 0.1057522829668996, 0.0075412075747540355, 0.061908052881120335, 0.049456291536759026, 0.03139246874141796, 0.0008768846017155855, 0.020343722759801584, 0.02490352268872263, 0.0010522615220587026, 0.011925630583331962, 0.0001753769203431171, 0.009294976778185205, 0.9397710346925471, 0.035719804033562876, 0.020411316590607357, 0.0025514145738259196, 0.9989416376169084, 0.9988698341111516, 0.9946340150319959, 0.02343440292415473, 0.00017358816980855352, 0.0015622935282769818, 0.84485362245823, 0.12984395101679805, 0.5557203943013614, 0.002916248920557102, 0.026829490069125342, 0.011548345725406126, 0.17929098363585064, 0.0051325981001805, 0.06800692482739162, 0.06847352465468076, 0.00011664995682228408, 0.004199398445602227, 0.018663993091565453, 0.017264193609698046, 0.0076988971502707495, 0.0036161486614908066, 0.030562288687438433, 0.9890680112389275, 0.005135913801356094, 0.0029348078864891965, 0.024212165063535872, 0.9670191985981902, 0.99222488404848, 0.02041956850841017, 0.707227316252154, 0.0008878073264526161, 0.012961986966208195, 0.02698934272415953, 0.00035512293058104644, 0.1628238636714098, 0.009588319125688255, 0.00603708981987779, 0.00017756146529052322, 0.002308299048776802, 0.005859528354587266, 0.03142837935642261, 0.011008810848012439, 0.0021307375834862786, 0.9406696058549491, 0.011205658537228949, 0.000605711272282646, 0.047548334874187706, 0.9687502216732421, 0.19138635615333904, 0.8073024477740848, 0.9989522119580215, 0.992117603488222, 0.07061068786023915, 0.02869438311451949, 0.06681290185978804, 0.028131748151489697, 0.03980642363435792, 0.05316900400631553, 0.020817493632102377, 0.09452267378900539, 0.053450321487830424, 0.12082585831064825, 0.013081262890442709, 0.06273379837782203, 0.012799945408927814, 0.06428104452615396, 0.014206532816502297, 0.07905021230568605, 0.04191630474571965, 0.08172272838007758, 0.050074511709651666, 0.003516468518936212, 0.4532696644114776, 0.0004304555217582883, 0.5397912242848936, 0.006026377304616037, 0.9994664058961413, 0.02919409264934831, 0.9376455639143634, 0.03091139221695703, 0.040193810410721384, 0.9584677867172022, 0.006995022146286353, 0.03981781837116847, 0.5439974915304232, 0.01560428017248494, 0.3067048171833247, 0.0053807862663741175, 0.03336087485151953, 0.002152314506549647, 0.002152314506549647, 0.0016142358799122352, 0.01237580841266047, 0.006995022146286353, 0.019908909185584234, 0.003766550386461882, 0.02006233539067465, 0.06305305408497747, 0.0802493415626986, 0.7150789542819036, 0.02120875455585606, 0.09543939550135226, 0.004585676660725634, 0.17451963696193, 0.12705820594678757, 0.012359747660193343, 0.03460729344854136, 0.061798738300966716, 0.003460729344854136, 0.09047335287261528, 0.003460729344854136, 0.0014831697192232013, 0.01582047700504748, 0.020764376069124818, 0.03164095401009496, 0.040045582419026435, 0.3826577875595859, 0.9968759635874715, 0.0004205847628851402, 0.014720466700979908, 0.9829065908625726, 0.0016823390515405608, 0.04001451684766464, 0.19112196862766137, 0.00842410881003466, 0.7260528780648623, 0.03369643524013864, 0.7604810899594046, 0.17839703852935096, 0.025485291218478708, 0.03465999605713104, 0.9974065787221188, 0.6120344559157591, 0.3305302358821542, 0.04111859393749286, 0.01054322921474176, 0.002108645842948352, 0.00263580730368544, 0.9921588408405828, 0.001109239362777425, 0.9987591222447934, 0.9984013826267362, 0.9995133248152566, 0.9980454385339257, 0.9967422213414758, 0.031016729143110003, 0.968644068239557, 0.012643540619295986, 0.9836674601812276, 0.01070161980094434, 0.9845490216868793, 0.9982012908847432, 0.9993034562418021, 0.9989548214509639, 0.00153799133439853, 0.2660725008509457, 0.012816594453321084, 0.0010253275562656866, 0.7187546169422464, 0.9994761662881896, 0.9954385492779213, 0.9343384385695461, 0.024023990428820852, 0.03311414896945577, 0.008440861502018136, 0.9978911907619396, 0.9956948974494539, 0.009051835430654217, 0.03168142400728975, 0.9176298167825712, 0.03168142400728975, 0.009051835430654217, 0.0005316705021791797, 0.9591335859312401, 0.030305218624213242, 0.010101739541404415, 0.998142800409816, 0.03723903705250179, 0.0027999275979324655, 0.07522472146445223, 0.054878580919476325, 0.12263682878944199, 0.00037332367972432875, 0.14867615545021393, 0.07485139778472791, 0.0034532440374500407, 0.16519572827801546, 0.09986408432625794, 0.030519210817463876, 0.03751902981229504, 0.0011199710391729862, 0.05926513415623719, 0.025292679301323274, 0.00018666183986216437, 0.00298658943779463, 0.010173070272487959, 0.007373142674555492, 0.0017732874786905615, 0.03854566993153694, 0.9957464815655218, 0.004135337193877715, 0.002756891462585144, 0.8573932448639797, 0.12612778441327033, 0.006892228656462859, 0.0020676685969388577, 0.09466046645114563, 0.7196127296541173, 0.14102477654966594, 0.006761461889367545, 0.03767100195504775, 0.012127341106346496, 0.6311992299636533, 0.006641162986808795, 0.07391903150535006, 0.004042447035448832, 0.04475566360675492, 0.008951132721350985, 0.11607597916074502, 0.10192741453667412, 0.9993360756075345, 0.9958141453065121, 0.9961637339898298, 0.9961089172327336, 0.6861156788622534, 0.2853274012537301, 0.007858593678598497, 0.00725408647255246, 0.0012090144120920766, 0.005440564854414345, 0.006649579266506421, 0.0075512824101264244, 0.0002220965414743066, 0.08639555463350528, 0.0008883861658972264, 0.004441930829486132, 0.17945400551123974, 0.2449724852461602, 0.007107089327177811, 0.46884579905226126, 0.8597304426811422, 0.010581297756075596, 0.010581297756075596, 0.04497051546332128, 0.027114575499943713, 0.025791913280434266, 0.008597304426811421, 0.011903959975585045, 0.07218173973350885, 0.004085758852840123, 0.05148056154578556, 0.006809598088066872, 0.0005447678470453498, 0.027510776275790166, 0.026148856658176792, 0.015798267564315144, 0.023152633499427366, 0.10078205170338972, 0.5981550960557941, 0.024242169193518067, 0.011440124787952347, 0.030234615511016916, 0.007081982011589548, 0.9996533449237709, 0.9952525146417257, 0.008893975108621957, 0.0020752608586784567, 0.14052480671622694, 0.1313343657706509, 0.23435624411218858, 0.012006866396639643, 0.11428758014579216, 0.04921332893437483, 0.027423089918251035, 0.03246300914647014, 0.08389983185800047, 0.01749148438028985, 0.06477778537446326, 0.004150521717356913, 0.027867788673682132, 0.01852911480962908, 0.008893975108621957, 0.0007411645923851632, 0.006522248412989436, 0.0013340962662932935, 0.002371726695632522, 0.010969235967300414, 0.9945089801726779, 0.999413824029748, 0.996234163175188, 0.6359870657543193, 0.2829089906339424, 0.08101339754342883, 0.02095659248468532, 0.01475233813066664, 0.041361695693457864, 0.21811400862350114, 0.09196083675845465, 0.06686807470442355, 0.1046450901044484, 0.010340423923364466, 0.16723912292054796, 0.03736339844309027, 0.019302124656947004, 0.001102978551825543, 0.020405103208772545, 0.05073701338397498, 0.07900083877450452, 0.016958295234317723, 0.0037225526124112077, 0.01764765682920869, 0.017371912191252302, 0.9847311757911067, 0.9996486880694876, 0.9985821638179602, 0.001137337316421367, 0.01936568749851832, 0.010266147589575978, 0.003033179969647448, 0.06789656701287748, 0.16262511068032856, 0.7363627680159497, 0.014659578553270143, 0.1039497388322792, 0.8795747131962086, 0.9994561261572413, 0.9987772343151227, 0.9978518426857083, 0.045503374078740035, 0.01306910324693372, 0.22312870433998522, 0.039779679226068336, 0.1886911403097438, 0.03739480637078846, 0.011256599876921016, 0.08690476684639868, 0.059908006124630486, 0.045503374078740035, 0.0327204555744399, 0.05351654687248042, 0.002671057597913461, 0.03605927757183173, 0.03758559619921085, 0.007345408394262018, 0.02833228952072493, 0.002194083026857486, 0.005055930453193337, 0.043213896137671355, 0.009475050760056353, 0.023822984768141688, 0.013806502536082114, 0.03844163451222864, 0.010828629440064404, 0.03898306598423185, 0.0051435989840305915, 0.5999060709795679, 0.05333099999231719, 0.017867238576106267, 0.002707157360016101, 0.005414314720032202, 0.008121472080048302, 0.02653014212815779, 0.05441386293632363, 0.04087807613624313, 0.0013535786800080505, 0.019491532992115927, 0.02788372080816584, 0.0016242944160096606, 0.9975327481649748, 0.9965307333316475, 0.037619897482854776, 0.013277610876301686, 0.9478738875582037, 0.7305644128211852, 0.25828392674425027, 0.010983267118068256, 0.9932728146800651, 0.5126469708991941, 0.2175360432341585, 0.001506308435551011, 0.23033966493634211, 0.006234443247141685, 0.014686507246622358, 0.0022176207523389884, 8.368380197505617e-05, 0.00046026091086280894, 0.011464680870582696, 0.0026360397622142693, 8.368380197505617e-05, 0.9880200640724782, 0.010623871656693314, 0.997780315711499, 0.8410481793876422, 0.036721821916925225, 0.11016546575077567, 0.005922874502729875, 0.0047382996021839, 0.5663539543167666, 0.3692358547667884, 0.06394318839060267, 0.34097117434384183, 0.19507485455248644, 0.46350769012366, 0.010971354456903571, 0.01724069986084847, 0.970964869435966, 0.9747036449364361, 0.0006733703937384705, 0.02424133417458494, 0.9986441519334133, 0.9989408887823065, 0.9562393253810455, 0.040981685373473374, 0.025552832268164283, 0.0016042136849968608, 0.15125443315684686, 0.1385353103686575, 0.0668040413109407, 0.03529270106993094, 0.07895023064020265, 0.03884488851528113, 0.06611652116022776, 0.06554358770130031, 0.033344727309577604, 0.030365473323154864, 0.08307535154448029, 0.05442867859810778, 0.006760614815343913, 0.00022917338357098012, 0.047668063782763864, 0.04102203565920544, 0.02245899158995605, 0.006875201507129404, 0.003781360828921172, 0.0014896269932113708, 0.9467406955008701, 0.026030720783276916, 0.01149408450170669, 0.010986992538396101, 0.00439479701535844, 0.12171277321295312, 0.12840697573966556, 0.017952634048910586, 0.7013698556396424, 0.012475559254327695, 0.010345585723101016, 0.006694202526712422, 0.0009128457990971484, 0.061838524979035726, 0.03419857820810309, 0.07620505098426625, 0.028733052010461044, 0.08057747194237988, 0.20722152183631415, 0.03060694670679546, 0.03263699929449108, 0.040444893862551144, 0.028108420445016238, 0.1541278387735057, 0.043099578015691566, 0.003279315718585228, 0.08822920861907875, 0.012180315526173702, 0.0349793676649091, 0.017177368049732144, 0.0021862104790568186, 0.01780199961517695, 0.0009369473481672079, 0.0035916315013076305, 0.0018738946963344158, 0.3003198288224874, 0.5067108824381282, 0.0008408394647386488, 0.08474961105011632, 0.023788749856564272, 0.0001401399107897748, 3.50349776974437e-05, 0.01051049330923311, 0.028658611756508946, 0.007532520204950396, 0.034194138232705056, 0.0025225183942159464, 0.1866971680346109, 0.004926046649989734, 0.0886688396998152, 0.11329907294976387, 0.45319629179905546, 0.0004926046649989733, 0.08719102570481828, 0.06502381577986448, 0.9966421485950154, 0.044831995744497144, 0.005428089170858398, 0.11982004243820761, 0.25793475578560465, 0.03779558385634737, 0.00844369426577973, 0.2050611464546506, 0.030357091288874746, 0.02693940551463057, 0.037594543516685945, 0.030357091288874746, 0.021109235664449326, 0.03236749468548897, 0.007840573246795464, 0.010856178341716797, 0.010052016983071108, 0.09951496813240397, 0.0034176857742441768, 0.009850976643409686, 0.0004020806793228443, 0.05039174720270746, 0.8094844497456198, 0.13830926359892048, 0.931978150462579, 0.06701865351641018, 0.9946954972723826, 0.015646425006946546, 0.7971853541039265, 0.04146302626840835, 0.14472943131425556, 0.9949129334725, 0.9987532450420559, 0.11659193603404734, 0.025648487047012652, 0.027126535453111687, 0.0080857942216006, 0.1463267922038044, 0.01651936453875391, 0.028517639835322545, 0.27796004437050664, 0.202144855540015, 0.0015649924299872128, 0.027735143620328938, 0.030343464336974293, 0.07485880456772168, 0.012259107368233166, 0.003564704979415318, 0.0006086081672172494, 0.48847654809667795, 0.5108872139891383, 0.0003798417947874634, 0.034273755282709734, 0.9596651479158724, 0.0002476703965726584, 0.46240063040115326, 0.025633886045270147, 0.0055725839228848145, 0.015355564587504821, 0.13423735494238087, 0.010525991854337982, 0.03380700913216787, 0.07355810778207955, 0.15231729389218493, 0.002229033569153926, 0.005201078328025827, 0.0002476703965726584, 0.015727070182363807, 0.02043280771724432, 0.00458190233659418, 0.003715055948589876, 0.02489087485555217, 0.007306276698893423, 0.001857527974294938, 0.9934534256409071, 0.004156708893895009, 0.989325500052971, 0.009386389943576576, 0.02729385458739394, 0.08188156376218181, 0.8624858049616484, 0.025474264281567675, 0.04979134658270827, 0.02586563458841988, 0.001293281729420994, 0.9214632322124582, 0.11776389748046355, 0.882045674344879, 0.9969847651557215, 0.9960585173975741, 0.031204157392351797, 0.006240831478470359, 0.012481662956940719, 0.9423655532490243, 0.029812905427911356, 0.968919426407119, 0.9964751996342217, 0.995691164445254, 0.007253287823616737, 0.007253287823616737, 0.23803971857505837, 0.6705994287834748, 0.02373803287729114, 0.053410573973905064, 0.9587113791421938, 0.016162836028129266, 0.007656080223850705, 0.004678715692353209, 0.004253377902139281, 0.002552026741283568, 0.001276013370641784, 0.004678715692353209, 0.0015583513726405878, 0.0005500063668143251, 0.2747281802237554, 0.1874605033558825, 0.04216715478909826, 0.2664780847215405, 0.00018333545560477504, 0.06370907082265932, 0.006783411857376676, 0.04070047114426006, 0.007058415040783839, 0.0025666963784668506, 0.010083450058262628, 0.05280061121417521, 0.012375143253322316, 0.01255847870892709, 0.010083450058262628, 0.004583386390119376, 0.00027500318340716257, 0.0033000382008859506, 0.23668315409070584, 0.005103308101023377, 0.0004137817379208144, 0.0011034179677888384, 0.560122545898809, 0.05075722651828656, 0.08827343742310707, 0.05544675288138913, 0.002068908689604072, 0.9870442118760261, 0.9945066064331016, 0.9972293503518844, 0.9997182040212361, 0.008081075075667007, 0.05050671922291879, 0.001010134384458376, 0.0626283318364193, 0.002020268768916752, 0.012121612613500511, 0.048486450454002045, 0.5969894212149002, 0.014141881382417263, 0.013131746997958887, 0.03838510660941828, 0.011111478229042135, 0.01010134384458376, 0.02727362838037615, 0.001010134384458376, 0.10202357283029596, 0.4972319968095415, 0.22358888057385815, 0.008335725301451366, 0.0007577932092228514, 0.053922969414173426, 0.1744120896806068, 0.0017150056840306636, 3.988385311699218e-05, 0.028955677362936322, 0.00027918697181894526, 0.001076864034158789, 0.006142113380016795, 0.0001994192655849609, 0.0005982577967548827, 0.0005982577967548827, 0.0021138442152005854, 0.01731354166323747, 0.03675798076195032, 0.02992135148980014, 0.012075085467693826, 0.01837899038097516, 0.004439369657240377, 0.031164374993827446, 0.004616944443529992, 0.011098424143100942, 0.03400557157446129, 0.0015981730766065356, 0.037468279907108784, 0.04084220084661147, 0.01509385683461728, 0.4457127135869338, 0.0017757478628961508, 0.017224754270092662, 0.05904361644129701, 0.07236172541301815, 0.007014204058439795, 0.08763315703392505, 0.014472345082603628, 0.03996444630888396, 0.015486222944692533, 0.007992889261776793, 0.01049066715608204, 0.02697600125849667, 0.016485334102414633, 0.01948266757558093, 0.07693155914460162, 0.02947377915280192, 0.025477334521913524, 0.6234453624185897, 0.024977778943052475, 0.02697600125849667, 0.015486222944692533, 0.00849244484063784, 0.03197155704710717, 0.005582118801191707, 0.009017268832694297, 0.020181506435077712, 0.1215184323644041, 0.0021469687696891184, 0.037357256592590656, 0.5165606859872018, 0.11937146359471498, 0.036927862838652833, 0.08158481324818649, 0.03606907533077719, 0.013740600126010357, 0.9593545151451752, 0.03973657755039187, 0.984792044113977, 0.9922831027026194, 0.99391693547145, 0.008747987543918536, 0.02624396263175561, 0.021869968859796342, 0.9404086609712426, 0.16245789866498042, 0.039590580346928, 0.0020477886386342068, 0.7955658861093894, 0.1690655309779006, 0.3263994522503185, 0.009645990202285772, 0.0015642146273976926, 0.19305015526466524, 0.0005214048757992309, 0.0041712390063938475, 0.005865804852741348, 0.0011731609705482695, 0.001955268284247116, 0.003910536568494232, 0.10441132637879598, 0.030111131577405584, 0.1469058237564333, 0.0010428097515984619, 0.9970272384566158, 0.0021811829657987307, 0.04362365931597462, 0.2083029732337788, 0.18103818616129466, 0.5643810924004216, 0.9983762282707634, 0.9997199053615754, 0.9954219041783143, 0.8172265888169723, 0.18260882995655373, 0.7844569357196037, 0.017913638273078885, 0.04358094087331132, 0.009090503004248986, 0.1366249127991539, 0.0008021032062572635, 0.007218928856315371, 0.9952520792073078, 0.004134578370594158, 0.0002953270264710112, 0.9984629747474215, 0.9982690916820459, 0.9994510913560148, 0.9996819821398788, 0.9985511105360575, 0.1080851236059, 0.03193682411488738, 0.10285703140203943, 0.010456184407721135, 0.025117573414199686, 0.17525474300767382, 0.030459319796405048, 0.042620316879298105, 0.016138893324960882, 0.07910330812797728, 0.0922871928159735, 0.03216413247157697, 0.051371688611847315, 0.007387521592411672, 0.051144380255157725, 0.06421461076480915, 0.007614829949101262, 0.007273867414066877, 0.03080028233143943, 0.005910017273929338, 0.02204891059889022, 0.005910017273929338, 0.9968840035594068, 0.008843288885245085, 0.11275193328687483, 0.015475755549178898, 0.014001874068304717, 0.07369407404370903, 0.7656814293141369, 0.008843288885245085, 0.9983850289273495, 0.08522345071067723, 0.35219414989826836, 0.007298140806715454, 0.008946108085651201, 0.05391207241089803, 0.4922713686078069, 0.006190943457547239, 0.9905509532075581, 0.0013211873943208535, 0.00594534327444384, 0.00792712436592512, 0.9836240150718754, 0.9185677621843978, 0.012583120029923258, 0.0011439200027202963, 0.02745408006528711, 0.004575680010881185, 0.010295280024482666, 0.024594280058486368, 0.9914485918849619, 0.31295287132502975, 0.006549088488117214, 0.006549088488117214, 0.010291424767041337, 0.01964726546435164, 0.6441496320098146, 0.04047222758490167, 0.9565265495065784, 0.001974255004141545, 0.9987126759713807, 0.08326539571005946, 0.8771644912128844, 0.0034534035087121434, 0.006906807017424287, 0.013813614034848574, 0.015348460038720637, 0.901062740479962, 0.012420664342455617, 0.08581549909332972, 0.04517286856051211, 0.011784226581003159, 0.9407740887167522, 0.9924655192976419, 0.9857544462281601, 0.08425833531255929, 0.029738235992667984, 0.04047704343446475, 0.3965098132355731, 0.0206515527726861, 0.018173366439963767, 0.009086683219981883, 0.03717279499083498, 0.000826062110907444, 0.014043055885426547, 0.000826062110907444, 0.34777214869203393, 0.9984619746396289, 0.9989447863814243, 0.9574637704005061, 0.039720112745872525, 0.9952976874145752, 0.06109241139511553, 0.09571144451901432, 0.8410388635394238, 0.989255698428303, 0.08171368081537042, 0.004251000736059733, 0.02219967051053416, 0.8742891513829517, 0.016059336114003436, 0.9843614050285345, 0.01472577475876979, 0.010158128152555153, 0.1517370392787926, 0.013544170870073537, 0.010369755822400052, 0.0012697660190693941, 0.25733924653139717, 0.07131852473773097, 0.01502556455898783, 0.05290691746122475, 0.22771137275311135, 0.016083702908212323, 0.0061372024255020715, 0.064969694642384, 0.029204618438596064, 0.012697660190693941, 0.020527883974955204, 0.018199979606661316, 0.017988351936816416, 0.0025395320381387883, 0.9988235135761213, 0.9986813144987703, 0.1152917653178646, 0.042406166553697326, 0.8414973675499313, 0.005652015047367787, 0.9891026332893625, 0.015137845615951799, 0.0100918970773012, 0.0037844614039879497, 0.9700836065555777, 0.9990242373869884, 0.9641898941565975, 0.991290510667551, 0.005524433357952218, 0.002762216678976109, 0.9974130398739357, 0.9954548343458752, 0.0032593910156897385, 0.9957439552932151, 0.006676322542097938, 0.016690806355244843, 0.9747430911462989, 0.0016690806355244845, 0.9976724781198452, 0.010859625340233449, 0.010859625340233449, 0.973022430484917, 0.0021719250680466897, 0.1953076424838309, 0.06798154745514229, 0.051264773490763034, 0.03900580591688491, 0.022010419053099344, 0.058230095975921055, 0.033990773727571144, 0.03733412852044699, 0.02061735455606774, 0.11255961136015362, 0.008915612781002266, 0.0022289031952505665, 0.025910999644787838, 0.03761274141985331, 0.2621747383413479, 0.0036219676922821706, 0.0011144515976252833, 0.0002786128994063208, 0.014766483668535004, 0.004736419289907454, 0.9254730742905651, 0.07272872882440591, 0.9964090563409568, 0.1455924494035591, 0.0253142078039587, 0.021881772847489725, 0.010297304869406929, 0.04991332499198636, 0.09668025127387617, 0.036469621412482875, 0.026887407159006983, 0.003718471202841391, 0.05091445185428982, 0.26429749164811117, 0.025171189680772494, 0.00042905436955862204, 0.15088411996144876, 0.0034324349564689763, 0.007436942405682782, 0.00014301812318620735, 0.031034932731406995, 0.016447084166413845, 0.033037186456013896, 0.9997581091920239, 0.9989187893546229, 0.00247649916417568, 0.2645608678529391, 0.045143041906973824, 0.03148691794451936, 0.057525537727852225, 0.09262106874017043, 0.09035684093292409, 0.019104422123640958, 0.1096735344134944, 0.13889622455076742, 0.001698170855434752, 0.004174670019610432, 0.011462653274184576, 0.055756609753441023, 0.009976753775679168, 0.000636814070788032, 0.014646723628124735, 0.029151933018296574, 0.005023755447327808, 0.010542810727490751, 0.001556656617481856, 0.003679370186775296, 0.9981836144303803, 0.0013022617278935164, 0.978433368150898, 0.01963411441105481, 0.006495965318156126, 0.08054996994513595, 0.0831483560723984, 0.09094351445418576, 0.006495965318156126, 0.03507821271804308, 0.012991930636312252, 0.022086282081730826, 0.05846368786340513, 0.5911328439522074, 0.0103935445090498, 0.9986052675183877, 0.005254690484625238, 0.711404250226186, 0.2829448722490513, 0.973772630514073, 0.9922136574338409, 0.3132088194075225, 0.12048149498694316, 0.5009833745971819, 0.025948204014167385, 0.03197766220833076, 0.0072138160537311815, 0.019964742597438693, 0.006533915759161755, 0.17641572549736736, 0.7927817787782929, 0.003992948519487739, 0.0025613494309094952, 0.9502606388674227, 0.017929446016366465, 0.028174843740004448, 0.041016038856272634, 0.05673647186738758, 0.07803051294607966, 0.058594341223246624, 0.1241914207878081, 0.05230616801880064, 0.06316755809920734, 0.060023471496984344, 0.02658182309152164, 0.25681471019066876, 0.03158377904960367, 0.02415230162616751, 0.03329873537808894, 0.004001564766465623, 0.005001955958082029, 0.006573999259193524, 0.01886451961333794, 0.021294041078692066, 0.013005085491013275, 0.01643499814798381, 0.0011433042189901781, 0.006859825313941068, 0.00037759810501862264, 0.019635101460968377, 0.8771603979582604, 0.001132794315055868, 0.08269398499907836, 0.012083139360595924, 0.006419167785316585, 0.9939087688046128, 0.9976316406369992, 0.9989067643531883, 0.9978748626927234, 0.023808633672332807, 0.021163229930962493, 0.9034053776779615, 0.05158537295672108, 0.03962046884591258, 0.07181209978321655, 0.8840317111244246, 0.0024762793028695364, 0.001921184029904641, 0.9970945115205088, 0.10339996213975332, 0.06073843929887608, 0.01952306977463874, 0.0108461498747993, 0.059653824311396146, 0.00650768992487958, 0.09110765894831412, 0.01843845478715881, 0.05820767099475624, 0.028923066332798134, 0.2668152869200628, 0.06146151595719603, 0.01409999483723909, 0.052784596057356595, 0.01518460982471902, 0.04555382947415706, 0.013738456508079113, 0.029646142991118087, 0.01301537984975916, 0.010123073216479346, 0.013738456508079113, 0.007230766583199533, 0.04228333002074925, 0.04685450083380322, 0.06399639138275562, 0.0281888866804995, 0.10399413599697789, 0.06894849309689742, 0.5249227816990313, 0.11999323384266679, 0.0007618618021756621, 0.006397555978417703, 0.0028892188289628335, 0.1085520788596036, 0.11556875315851334, 0.3138929884894621, 0.03590886258853807, 0.08791480150986908, 0.008874029260385847, 0.02146276844372391, 0.09823344018473634, 0.05179956614783366, 0.002476473281968143, 0.04127455469946905, 0.0020637277349734528, 0.015890703559295585, 0.001650982187978762, 0.005365692110930977, 0.03652798090903011, 0.013207857503830096, 0.013620603050824787, 0.0037147099229522147, 0.013001484730332752, 0.9967954664366493, 0.0027535786365653295, 0.010243905516954635, 0.9782929768691676, 0.007682929137715976, 0.012908145853662185, 0.976716369593772, 0.008605430569108122, 0.992890882650002, 0.9949289116738386, 0.9461605825223166, 0.053455400142503766, 0.9991275180722172, 0.9840656262348118, 0.015491287969213677, 0.037376866373958165, 0.02554748579283843, 0.10497332683749953, 0.08260685094882776, 0.29662917356354035, 0.0016899115115885342, 0.0743561065098955, 0.03678042701692692, 0.021471816853124905, 0.0743561065098955, 0.09712020863658812, 0.02177003653164053, 0.032207725279687356, 0.012624633057161402, 0.0066602394868489284, 0.04363947962278626, 0.002783383666145821, 0.01232641337864578, 0.008847183795963503, 0.0004970327975260395, 0.0011928787140624948, 0.004572701737239563, 0.0041032425452639165, 0.5063705244747915, 0.00813049911746739, 0.03609333720371037, 0.015273180585149022, 0.15318772168985287, 0.010865994147643334, 0.00030394389224177156, 0.021352058429984454, 0.09118316767253147, 0.00030394389224177156, 0.030166431304995828, 0.02416353943322084, 0.0017476773803901866, 0.04528763994402397, 0.0034193687877199304, 0.00015197194612088578, 0.01496923669290725, 0.011169938039885105, 0.02158001634916578, 0.9953198321706043, 0.0072337844136922055, 0.0021202471557373705, 0.05101065215862262, 0.18545926591655706, 0.027687933445511546, 0.02369687997588826, 0.1045157127357598, 0.040534136800861494, 0.04564767405881633, 0.05263201763065708, 0.055625307732874545, 0.003492171785920375, 0.015590052615715961, 0.3172887508350512, 0.012222601250721313, 0.004864096416103379, 0.01883278355978488, 0.012596762513498496, 0.009354031569429577, 0.005861859783509201, 0.0014966450511087323, 0.0022449675766630984, 0.34225782836968094, 0.07082846692898548, 0.0022067427759406137, 0.001781346578168929, 0.0009837287073470205, 7.976178708219086e-05, 0.3210411930058182, 0.009571414449862902, 0.00023928536124657256, 0.036291613122396836, 0.007072211787954256, 0.11576094031861965, 0.013399980229808062, 0.053174524721460566, 0.019993621295269173, 0.0046527709131278, 0.00023928536124657256, 0.00039880893541095427, 0.00218802944763719, 0.001094014723818595, 0.20195511801691265, 0.12296725495721009, 0.000218802944763719, 0.000437605889527438, 0.13084416096870397, 0.005688876563856695, 0.034789668217431326, 0.004157255950510661, 0.00875211779054876, 0.18970215311014438, 0.2069875857464782, 0.07636222772253794, 0.010940147238185951, 0.003063241226692066, 0.9709357587097841, 0.013182716912824695, 0.01490220172754096, 0.9901807721405069, 0.007227596876938007, 0.015500171235807759, 0.0004428620353087931, 0.9840394424561383, 0.03164130624635731, 0.04918393521967786, 0.04304939625354736, 0.03723772775931847, 0.05747094399848572, 0.0742602085373692, 0.01076234906338684, 0.1099912074278135, 0.058116684942288936, 0.02550676728022681, 0.13442173980170163, 0.08179385288173999, 0.020986580673604337, 0.07910326561589327, 0.03626911634361365, 0.019910345767265653, 0.039820691534531306, 0.005273551041059551, 0.026475378695931626, 0.0045201866066224726, 0.04993729965411493, 0.004089692644086999, 0.7337495642862769, 0.00026662411492960644, 0.07678774509972665, 0.10611639774198335, 0.0829200997431076, 0.004750859581367629, 0.8969622889622083, 0.012352234911555834, 0.05986083072523212, 0.025654641739385194, 0.998657399000969, 0.997929768325146, 0.9995941020581405, 0.9687486526318517, 0.9988448586545264, 0.9665430002623329, 0.023689779418194435, 0.009633843630065737, 0.9609507264051386, 0.038330434853109094, 0.47624161420210276, 0.5234602170700728, 0.9976680887907537, 0.984468980842839, 0.9989030857422493, 0.9917364805560881, 0.9992986806075735, 0.9972387423885506, 0.9970966321185176, 0.9977308527008648, 0.9997927691893922, 0.9984246637537983, 0.005047495169424625, 0.9943565483766511, 0.003136227558368893, 0.09382547445453604, 0.36301833988119936, 0.005227045930614822, 0.08258732570371417, 0.45161676840512055, 0.005981124686499973, 0.9933267844733418, 0.00917925548675686, 0.9882998407408219, 0.041965883310113555, 0.9537700752298535, 0.99903969460299, 0.995540865669441, 0.9983807002330203, 0.9811081438113225, 0.9978443424036266, 0.9917940015775057, 0.9860404285512935, 0.007434737779022487, 0.9888201246099908, 0.4406214101643066, 0.13591749144181234, 0.4228544178189717, 0.13733136330369713, 0.8608331797329307, 0.04824793780981039, 0.11417950893452866, 0.03842369707930601, 0.08798153365318365, 0.024014810674566258, 0.028381139888123758, 0.02030343084304238, 0.032965785562359136, 0.0013098987640672503, 0.056107330394213895, 0.02728955758473438, 0.3650251222534071, 0.005894544438302627, 0.002401481067456626, 0.10893991387825966, 0.020958380225076005, 0.012225721797961003, 0.005239595056269001, 0.0028270905120489098, 0.090113510071559, 0.32193493205956963, 0.009188044164158957, 0.4724775018261741, 0.010954975734189526, 0.04028603979669697, 0.010954975734189526, 0.010248203106177299, 0.025090428294434076, 0.0056541810240978195, 0.16355347913678653, 0.1096245798946671, 0.032222727628286645, 0.002187443651006404, 0.04467432994940002, 0.08901213010633752, 0.009675231533297557, 0.2434793048466359, 0.03533562820856499, 0.02902569459989267, 0.07605573309653035, 0.015985165141969876, 0.05973403816209796, 0.001177854273618833, 0.06966166703974241, 0.005721006471862904, 0.004795549542590963, 0.0002523973443468928, 0.0020191787547751425, 0.005552741575631641, 0.0002523973443468928, 0.18571000635279417, 0.7850045677550498, 0.025701768825787372, 0.0032243473557079455, 0.00034103673954603267, 0.11907528121100937, 0.7572550388294783, 0.07832102626498513, 0.039160513132492566, 0.005236580244461215, 0.0006830322057992889, 0.0008009732249716342, 0.05580113467302385, 0.7790799568224095, 0.005339821499810895, 0.03657777727370463, 0.013349553749527237, 0.08223325109708778, 0.02429618782413957, 0.0024029196749149025, 0.0788715628716386, 0.6737645211268701, 0.010068710153826205, 0.0738372077947255, 0.13089323199974065, 0.03104518964096413, 0.002124123599055878, 0.7476915068676692, 0.0057187943051504415, 0.02810378915673931, 0.02532608906566624, 0.025652877311674836, 0.021894812482575975, 0.009967041503262197, 0.07761220842704171, 0.00882328264223211, 0.0022875177220601766, 0.018953718268498607, 0.004084853075107458, 0.003431276583090265, 0.01764656528446422, 0.0004901823690128949, 0.8080591412706468, 0.009806542976585519, 0.033902620004767084, 0.01344897322503157, 0.0016811216531289462, 0.07032692248922758, 0.005323551901574996, 0.04258841521259997, 0.0008405608265644731, 0.01344897322503157, 0.8093735591652225, 0.008440069477091496, 0.011059401383775065, 0.0331782041513252, 0.005820737570407929, 0.0494762693484674, 0.0029103687852039643, 0.04511071617066145, 0.004947626934846739, 0.029976798487600834, 0.9975970486987686], \"Term\": [\"$1\", \".\", \".\", \".\", \".\", \".\", \"0\", \"0\", \"1\", \"1\", \"1\", \"1\", \"1\", \"1\", \"1\", \"1\", \"1\", \"1\", \"1,\", \"1,\", \"1,\", \"1.\", \"1.\", \"1.\", \"1.\", \"1.2\", \"10\", \"10\", \"10\", \"10\", \"10\", \"10\", \"10\", \"10\", \"10\", \"10\", \"10\", \"10\", \"10\", \"10\", \"10\", \"10\", \"10\", \"2\", \"2\", \"2\", \"2\", \"2\", \"2\", \"2\", \"2\", \"2\", \"2,\", \"2,\", \"2,\", \"2,\", \"2,\", \"2,\", \"2,\", \"2.\", \"2.\", \"2.\", \"2.\", \"2.\", \"29\", \"3\", \"3\", \"3\", \"3\", \"3\", \"3,\", \"3,\", \"3,\", \"3,\", \"3,\", \"3.\", \"3.\", \"4\", \"4\", \"4.\", \"4.\", \"4.\", \"5\", \"5\", \"5\", \"5\", \"5\", \"5\", \"5\", \"5.\", \"6.\", \"7.\", \"8.\", \"8.\", \"8th\", \"9.\", \"95%\", \"[beth]\", \"[dr.\", \"[steven]\", \"a,\", \"a,\", \"a,\", \"a,\", \"a,\", \"a,\", \"a,\", \"a,\", \"a,\", \"a,\", \"a,\", \"a,\", \"a,\", \"a,\", \"a,\", \"a,\", \"a.\", \"a.\", \"a.\", \"a.\", \"a.\", \"a.\", \"a.\", \"a.\", \"a.\", \"a.\", \"able\", \"able\", \"able\", \"able\", \"able\", \"able\", \"able\", \"able\", \"able\", \"able\", \"able\", \"able\", \"able\", \"able\", \"able\", \"able\", \"able\", \"able\", \"able\", \"able\", \"accelerating\", \"acceleration\", \"acceleration,\", \"acceleration.\", \"acid\", \"acid\", \"ahead\", \"ahead\", \"ahead\", \"ahead\", \"ahead\", \"ahead\", \"ahead\", \"ahead\", \"ahead\", \"ahead\", \"ahead\", \"alpha\", \"alpha\", \"alpha\", \"american\", \"american\", \"american\", \"americans\", \"amino\", \"ancient\", \"angle\", \"angle\", \"angle\", \"angle\", \"angle.\", \"angle.\", \"angles\", \"angles\", \"angles.\", \"angles.\", \"angular\", \"approaches\", \"approaches\", \"approaches\", \"arc\", \"arc\", \"area\", \"area\", \"area\", \"area\", \"area\", \"area\", \"area\", \"area,\", \"area,\", \"area,\", \"area,\", \"area,\", \"area,\", \"area,\", \"area,\", \"around\", \"around\", \"around\", \"around\", \"around\", \"around\", \"around\", \"around\", \"around\", \"around\", \"around\", \"around\", \"around\", \"around\", \"around\", \"around\", \"around\", \"around\", \"art\", \"art\", \"art\", \"art\", \"art\", \"average\", \"average\", \"average\", \"average\", \"average\", \"average\", \"average\", \"average\", \"average\", \"average\", \"ax.\", \"b\", \"b\", \"b\", \"b\", \"b\", \"b\", \"b\", \"b,\", \"b,\", \"b,\", \"b,\", \"b,\", \"b,\", \"b,\", \"b,\", \"b.\", \"b.\", \"b.\", \"b.\", \"b.\", \"b.\", \"b.\", \"b.\", \"b.\", \"b.\", \"back\", \"back\", \"back\", \"back\", \"back\", \"back\", \"back\", \"back\", \"back\", \"back\", \"back\", \"back\", \"back\", \"back\", \"back\", \"back\", \"back\", \"back\", \"back\", \"back\", \"back\", \"bacteria\", \"ball\", \"ball\", \"ball\", \"ball\", \"ball\", \"ball,\", \"bank\", \"blue\", \"blue\", \"blue\", \"blue\", \"blue\", \"blue\", \"blue\", \"blue\", \"blue\", \"blue\", \"blue\", \"blue\", \"blue\", \"blue\", \"blue\", \"blue\", \"bond\", \"bond\", \"bond\", \"bonded\", \"bright\", \"bright\", \"bright\", \"british\", \"british\", \"bs\", \"bs\", \"bs\", \"bs\", \"buy\", \"buy\", \"buy\", \"buy\", \"c\", \"c\", \"c\", \"c\", \"c\", \"c\", \"c\", \"c\", \"called\", \"called\", \"called\", \"called\", \"called\", \"called\", \"called\", \"called\", \"called\", \"called\", \"called\", \"called\", \"called\", \"called\", \"called\", \"called\", \"called\", \"called\", \"called\", \"called\", \"called\", \"called\", \"camera\", \"capacitor\", \"capacitors\", \"carbon\", \"carbon\", \"carbon\", \"carbon\", \"carbon,\", \"carbon.\", \"carbon.\", \"carbons\", \"cards\", \"cards\", \"cell\", \"cell\", \"cell\", \"cell\", \"cell.\", \"cells\", \"cells\", \"center\", \"center\", \"center\", \"center\", \"center\", \"center\", \"center\", \"center\", \"center\", \"center\", \"change\", \"change\", \"change\", \"change\", \"change\", \"change\", \"change\", \"change\", \"change\", \"change\", \"change\", \"change\", \"change\", \"change\", \"change\", \"change\", \"change\", \"change\", \"change\", \"charge\", \"charge\", \"charge\", \"charge\", \"charge?\", \"charges\", \"charges\", \"chromosomes\", \"circle\", \"circle\", \"circle\", \"circle\", \"circle\", \"circle\", \"circle\", \"circle\", \"circle\", \"circle\", \"circle\", \"circle\", \"circle,\", \"circle,\", \"circle,\", \"circle,\", \"circle.\", \"circle.\", \"circle.\", \"circle.\", \"circuit\", \"circumference\", \"city\", \"city\", \"city\", \"civil\", \"civil\", \"company\", \"company\", \"company\", \"component\", \"component\", \"component\", \"concave\", \"concentration\", \"concentration\", \"concentration.\", \"configuration\", \"configurations\", \"congress\", \"congruent\", \"constitution\", \"constructive\", \"container\", \"container.\", \"cosine\", \"cost\", \"cost\", \"cross\", \"cross\", \"cross\", \"cross\", \"cross\", \"cross\", \"cross\", \"cross\", \"cross\", \"curly\", \"current\", \"current\", \"current\", \"current\", \"current\", \"current\", \"current\", \"current,\", \"current.\", \"curve\", \"curve\", \"curve\", \"curve\", \"curve\", \"curve,\", \"curve,\", \"curve,\", \"curve.\", \"curve.\", \"curve.\", \"curve.\", \"cut\", \"cut\", \"cut\", \"cut\", \"cut\", \"cut\", \"cut\", \"cut\", \"cut\", \"cut\", \"cut\", \"cut\", \"cut\", \"data\", \"data\", \"death\", \"debt\", \"decay.\", \"degrees.\", \"degrees.\", \"delta\", \"delta\", \"delta\", \"delta\", \"delta\", \"delta\", \"destructive\", \"destructive\", \"destructive.\", \"determinant\", \"deviation\", \"deviation\", \"deviation,\", \"deviation.\", \"deviations\", \"di\", \"differential\", \"differential\", \"dioxide.\", \"direction\", \"direction\", \"direction\", \"direction\", \"direction\", \"direction\", \"direction\", \"direction\", \"direction\", \"direction\", \"discharge\", \"displacement\", \"displacement,\", \"displacement.\", \"distance\", \"distance\", \"distance\", \"distance\", \"distance\", \"distance\", \"distance\", \"distance\", \"distance\", \"distance\", \"distribution\", \"distribution\", \"distribution\", \"dna\", \"dna,\", \"dollar\", \"dr.\", \"dr.\", \"dr.\", \"dr.\", \"draw\", \"draw\", \"draw\", \"draw\", \"draw\", \"draw\", \"draw\", \"draw\", \"draw\", \"draw\", \"draw\", \"draw\", \"draw\", \"draw\", \"draw\", \"draw\", \"draw\", \"draw\", \"draw\", \"drill\", \"dy\", \"e\", \"e\", \"e\", \"e\", \"e\", \"earth\", \"earth\", \"earth\", \"earth\", \"earth\", \"earths\", \"earths\", \"earths\", \"elasticity\", \"electric\", \"electron\", \"electron.\", \"electrons\", \"electrons\", \"electrons.\", \"electrons.\", \"electrostatic\", \"energy\", \"energy\", \"energy\", \"energy\", \"energy\", \"energy\", \"energy\", \"energy.\", \"energy.\", \"energy.\", \"energy.\", \"energy.\", \"engine.\", \"entropy\", \"equilateral\", \"estimate\", \"estimate\", \"estimate\", \"ether\", \"exponents.\", \"f\", \"f\", \"f\", \"f\", \"f\", \"f\", \"f\", \"factorial\", \"factorial\", \"field\", \"field\", \"field\", \"field\", \"field\", \"field,\", \"field,\", \"field,\", \"field.\", \"field.\", \"field.\", \"field.\", \"fifteen\", \"finger\", \"finger\", \"fingers\", \"five\", \"five\", \"five\", \"five\", \"five\", \"five\", \"five\", \"five\", \"five\", \"five\", \"five\", \"five\", \"five\", \"five\", \"five\", \"five\", \"five.\", \"five.\", \"five.\", \"five.\", \"flux.\", \"focal\", \"focus.\", \"force\", \"force\", \"force\", \"force\", \"force\", \"four\", \"four\", \"four\", \"four\", \"four\", \"four\", \"four\", \"four\", \"four\", \"four\", \"four\", \"four\", \"four\", \"four\", \"four\", \"fourths\", \"frame\", \"frame\", \"frame\", \"frame\", \"friction.\", \"function\", \"function\", \"function\", \"function\", \"function\", \"function\", \"function\", \"function\", \"function\", \"function\", \"function\", \"function\", \"function\", \"function\", \"function\", \"g\", \"g\", \"g\", \"g\", \"g?\", \"gas\", \"gas\", \"genetic\", \"glue\", \"got\", \"got\", \"got\", \"got\", \"got\", \"got\", \"got\", \"got\", \"got\", \"got\", \"got\", \"got\", \"got\", \"got\", \"got\", \"got\", \"got\", \"got\", \"got\", \"got\", \"government\", \"government\", \"government\", \"government\", \"grams\", \"gravitational\", \"gravitational\", \"gravitational\", \"gravity\", \"gravity\", \"great\", \"great\", \"great\", \"great\", \"great\", \"great\", \"great\", \"great\", \"great\", \"great\", \"great\", \"great\", \"great\", \"great\", \"group\", \"group\", \"group\", \"group\", \"group\", \"group\", \"group\", \"hand\", \"hand\", \"hand\", \"hand\", \"hand\", \"hand\", \"hand\", \"hand\", \"hand\", \"hand\", \"hand\", \"hand\", \"hand\", \"hand\", \"harris:\", \"heat\", \"heat\", \"heat\", \"heat\", \"height\", \"height\", \"height\", \"height\", \"height\", \"history\", \"history\", \"history\", \"history\", \"hooked\", \"human\", \"human\", \"human\", \"human\", \"human\", \"human\", \"hybrid\", \"hydrogen\", \"hydrogen\", \"hydrogen,\", \"hydrogen.\", \"hypotenuse\", \"hypotenuse,\", \"image\", \"image\", \"image.\", \"image.\", \"impulse\", \"impulse\", \"inch\", \"income\", \"inertia\", \"input\", \"input\", \"input\", \"input\", \"input\", \"integral\", \"integrate\", \"interest\", \"interest\", \"interest\", \"interest\", \"interference\", \"interference.\", \"internal\", \"internal\", \"internal\", \"internal\", \"internal\", \"k\", \"k\", \"k\", \"k\", \"kilograms\", \"kind\", \"kind\", \"kind\", \"kind\", \"kind\", \"kind\", \"kind\", \"kind\", \"kind\", \"kind\", \"kind\", \"kind\", \"kind\", \"kind\", \"kind\", \"kind\", \"kind\", \"kind\", \"kind\", \"kind\", \"kind\", \"kind\", \"kinematic\", \"l\", \"l\", \"l\", \"l\", \"l\", \"l\", \"land\", \"land\", \"land\", \"land\", \"land\", \"length\", \"length\", \"length\", \"length\", \"length\", \"length\", \"length\", \"length\", \"length\", \"lens\", \"lens,\", \"lens.\", \"lewis\", \"life\", \"life\", \"life\", \"life\", \"life\", \"life\", \"life\", \"light\", \"light\", \"light\", \"light\", \"light\", \"light\", \"light\", \"light\", \"light\", \"limit\", \"limit\", \"limit\", \"limit\", \"limit\", \"limit\", \"limit\", \"limit\", \"line\", \"line\", \"line\", \"line\", \"line\", \"line\", \"line\", \"line\", \"line\", \"line\", \"line\", \"line\", \"line\", \"line\", \"line\", \"log\", \"logarithm\", \"lot\", \"lot\", \"lot\", \"lot\", \"lot\", \"lot\", \"lot\", \"lot\", \"lot\", \"lot\", \"lot\", \"lot\", \"lot\", \"lot\", \"lot\", \"lot\", \"lot\", \"lot\", \"lot\", \"lot\", \"lot\", \"lot\", \"magnet\", \"magnetic\", \"magnets\", \"magnitude\", \"magnitude\", \"magnitude\", \"many\", \"many\", \"many\", \"many\", \"many\", \"many\", \"many\", \"many\", \"many\", \"many\", \"many\", \"many\", \"many\", \"many\", \"many\", \"many\", \"many\", \"many\", \"many\", \"marbles\", \"marginal\", \"market\", \"market\", \"mass\", \"mass\", \"mass\", \"mass\", \"mass\", \"mass\", \"mass,\", \"mass,\", \"mass,\", \"matrix\", \"matrix,\", \"matrix.\", \"maybe\", \"maybe\", \"maybe\", \"maybe\", \"maybe\", \"maybe\", \"maybe\", \"maybe\", \"maybe\", \"maybe\", \"maybe\", \"maybe\", \"maybe\", \"maybe\", \"maybe\", \"maybe\", \"maybe\", \"maybe\", \"maybe\", \"maybe\", \"mean\", \"mean\", \"mean\", \"mean\", \"mean\", \"mean\", \"mean\", \"mean\", \"mean\", \"mean\", \"mean\", \"mean\", \"mean\", \"mean\", \"mean\", \"mean\", \"mean\", \"mean\", \"mean\", \"mean\", \"median\", \"membrane\", \"meter\", \"meter\", \"meter\", \"meters\", \"meters\", \"meters\", \"mg\", \"minus\", \"minus\", \"minus\", \"minus\", \"minus\", \"minus\", \"minus\", \"minus\", \"minus\", \"minus\", \"minus\", \"minus\", \"mirror\", \"mirror\", \"mirror.\", \"modern\", \"modern\", \"modern\", \"modern\", \"modern\", \"molecule\", \"molecule\", \"molecule\", \"molecules\", \"molecules\", \"molecules\", \"momentum\", \"momentum\", \"momentum\", \"money\", \"money\", \"money\", \"money,\", \"money.\", \"motor\", \"motor\", \"much\", \"much\", \"much\", \"much\", \"much\", \"much\", \"much\", \"much\", \"much\", \"much\", \"much\", \"much\", \"much\", \"much\", \"much\", \"much\", \"much\", \"much\", \"much\", \"much\", \"much\", \"much\", \"n\", \"n\", \"n\", \"n\", \"n\", \"natural\", \"natural\", \"natural\", \"natural\", \"natural\", \"natural\", \"natural\", \"natural\", \"need\", \"need\", \"need\", \"need\", \"need\", \"need\", \"need\", \"need\", \"need\", \"need\", \"need\", \"need\", \"need\", \"need\", \"need\", \"need\", \"need\", \"need\", \"need\", \"need\", \"need\", \"need\", \"negative\", \"negative\", \"negative\", \"negative\", \"negative\", \"negative\", \"negative\", \"negative\", \"negative\", \"negative\", \"negative\", \"negative\", \"net\", \"net\", \"net\", \"net\", \"net\", \"net\", \"net\", \"net\", \"neutrons.\", \"new\", \"new\", \"new\", \"new\", \"new\", \"new\", \"new\", \"new\", \"new\", \"new\", \"new\", \"new\", \"new\", \"new\", \"new\", \"new\", \"new\", \"new\", \"new\", \"new\", \"newtons\", \"newtons\", \"newtons\", \"nine.\", \"nine.\", \"nitrogen.\", \"north\", \"north\", \"north\", \"north\", \"nth\", \"null\", \"number\", \"number\", \"number\", \"number\", \"number\", \"number\", \"number\", \"number\", \"number\", \"number\", \"number\", \"number\", \"number\", \"number\", \"number\", \"number\", \"object\", \"object\", \"object\", \"odd.\", \"odd.\", \"one,\", \"one,\", \"one,\", \"one,\", \"one,\", \"one,\", \"one,\", \"one,\", \"one,\", \"one,\", \"one,\", \"one,\", \"one,\", \"one,\", \"one,\", \"one,\", \"one,\", \"one,\", \"one,\", \"one,\", \"one-half\", \"one-half\", \"orthogonal\", \"orthogonal\", \"outer\", \"outer\", \"outer\", \"outer\", \"output\", \"output\", \"output\", \"output\", \"oxygen\", \"oxygen\", \"p1\", \"p2\", \"page\", \"page\", \"page\", \"page\", \"page.\", \"page.\", \"painting\", \"parabolic\", \"parallel\", \"parallel\", \"parallel\", \"parallel\", \"parallel\", \"parallel\", \"pay\", \"pay\", \"pay\", \"pay\", \"pay\", \"pay\", \"pay\", \"pay\", \"people\", \"people\", \"people\", \"people\", \"people\", \"people\", \"people\", \"people\", \"people\", \"people\", \"people\", \"people\", \"people\", \"people\", \"people\", \"people\", \"people\", \"people\", \"people\", \"people\", \"per\", \"per\", \"per\", \"per\", \"per\", \"per\", \"per\", \"per\", \"per\", \"permutations\", \"perpendicular.\", \"phi\", \"pi\", \"piece\", \"piece\", \"piece\", \"piece\", \"piece\", \"piece\", \"piece\", \"piece\", \"piece\", \"piece\", \"piece\", \"piece\", \"piece\", \"piece\", \"piece\", \"piece\", \"plus\", \"plus\", \"plus\", \"plus\", \"plus\", \"plus\", \"plus\", \"plus\", \"plus\", \"plus\", \"plus\", \"plus\", \"plus\", \"plus\", \"plus\", \"plus\", \"point\", \"point\", \"point\", \"point\", \"point\", \"point\", \"point\", \"point\", \"point\", \"point\", \"point\", \"point\", \"point\", \"point\", \"point\", \"point\", \"point\", \"point\", \"point\", \"point\", \"point\", \"point\", \"point.\", \"point.\", \"point.\", \"point.\", \"point.\", \"point.\", \"point.\", \"point.\", \"point.\", \"point.\", \"point.\", \"point.\", \"point.\", \"point.\", \"point.\", \"point.\", \"points\", \"points\", \"points\", \"points\", \"points\", \"points\", \"points\", \"points\", \"points\", \"points\", \"points\", \"points\", \"polar\", \"polar\", \"polarization\", \"polarized\", \"pole.\", \"popping\", \"popping\", \"popping\", \"popping\", \"population\", \"population\", \"population\", \"population\", \"positive\", \"positive\", \"positive\", \"positive\", \"positive\", \"positive\", \"positive\", \"positive\", \"positive\", \"positive\", \"positive\", \"positive\", \"positive\", \"positive\", \"positive\", \"potassium\", \"potential\", \"potential\", \"potential\", \"potential\", \"potential\", \"president\", \"pressure\", \"pressure.\", \"price\", \"price\", \"prime\", \"prime\", \"prime\", \"prime\", \"prime\", \"prime\", \"prime\", \"probability\", \"probability\", \"probability\", \"proportion\", \"proteins\", \"proton\", \"protons\", \"protons.\", \"put\", \"put\", \"put\", \"put\", \"put\", \"put\", \"put\", \"put\", \"put\", \"put\", \"put\", \"put\", \"put\", \"put\", \"put\", \"put\", \"put\", \"put\", \"put\", \"put\", \"put\", \"put\", \"pythagorean\", \"quantity\", \"quantity\", \"quantity\", \"quantity\", \"quantity\", \"quantity\", \"quantity\", \"quantum\", \"r\", \"r\", \"r\", \"r\", \"r\", \"r\", \"r1\", \"r1\", \"radius\", \"radius\", \"radius\", \"radius\", \"random\", \"random\", \"random\", \"random\", \"random\", \"random\", \"random\", \"rank\", \"rate\", \"rate\", \"rate\", \"rate\", \"rate\", \"rate\", \"ray\", \"ray\", \"ray\", \"rays\", \"reaction\", \"reaction\", \"reaction\", \"reaction\", \"reaction\", \"reaction\", \"reaction,\", \"reaction,\", \"reaction,\", \"rectangle\", \"rectangle\", \"rectangle\", \"rectangle,\", \"rectangles.\", \"red\", \"red\", \"red\", \"red\", \"red\", \"red\", \"red\", \"red\", \"red\", \"red\", \"red\", \"red\", \"reference,\", \"reference.\", \"refraction\", \"refraction\", \"regression\", \"resistance\", \"resistance\", \"resistance\", \"resistance,\", \"respect\", \"respect\", \"respect\", \"respect\", \"respect\", \"revenue\", \"revenue\", \"right,\", \"right,\", \"right,\", \"right,\", \"right,\", \"right,\", \"right,\", \"right,\", \"right,\", \"right,\", \"right,\", \"right,\", \"right,\", \"right,\", \"right,\", \"right,\", \"right,\", \"right,\", \"right,\", \"rna\", \"roman\", \"rotate\", \"rotate\", \"rotate\", \"rotate.\", \"rotate.\", \"rotating\", \"rotating\", \"rotating\", \"rotating\", \"rotational\", \"rub\", \"sample\", \"sample\", \"sample\", \"sample,\", \"samples\", \"sampling\", \"sampling\", \"seconds\", \"seconds\", \"seconds\", \"seconds\", \"seconds,\", \"seconds.\", \"seconds.\", \"seconds.\", \"seconds.\", \"set\", \"set\", \"set\", \"set\", \"set\", \"set\", \"set\", \"set\", \"set\", \"set\", \"set\", \"set\", \"set\", \"set\", \"set\", \"set\", \"set\", \"set\", \"set\", \"set\", \"seven.\", \"seven.\", \"si\", \"side\", \"side\", \"side\", \"side\", \"side\", \"side\", \"side\", \"side\", \"side\", \"side\", \"side\", \"side\", \"side\", \"side\", \"side\", \"side\", \"side\", \"side\", \"side\", \"side\", \"sine\", \"slavery\", \"so,\", \"so,\", \"so,\", \"so,\", \"so,\", \"so,\", \"so,\", \"so,\", \"so,\", \"so,\", \"so,\", \"so,\", \"so,\", \"so,\", \"so,\", \"so,\", \"so,\", \"so,\", \"so,\", \"so,\", \"so,\", \"so,\", \"sodium\", \"sodium\", \"solar\", \"solar\", \"source\", \"source\", \"source\", \"source\", \"source\", \"source\", \"source\", \"source\", \"source\", \"source\", \"source\", \"spaceship\", \"speed\", \"speed\", \"speed\", \"speeds.\", \"sperm\", \"squared\", \"squared\", \"squared\", \"squared\", \"squared\", \"squared\", \"standard\", \"standard\", \"standard\", \"standard\", \"standard\", \"star\", \"star\", \"star\", \"star\", \"start\", \"start\", \"start\", \"start\", \"start\", \"start\", \"start\", \"start\", \"start\", \"start\", \"start\", \"start\", \"start\", \"start\", \"start\", \"start\", \"start\", \"start\", \"start\", \"start\", \"start\", \"start\", \"states\", \"states\", \"states\", \"states\", \"states\", \"states\", \"states\", \"statistic\", \"steven\", \"stock\", \"stories\", \"sun\", \"sun\", \"sun\", \"sun\", \"sun.\", \"sun.\", \"sun.\", \"sun.\", \"supreme\", \"supreme\", \"sure\", \"sure\", \"sure\", \"sure\", \"sure\", \"sure\", \"sure\", \"sure\", \"sure\", \"sure\", \"sure\", \"sure\", \"sure\", \"sure\", \"sure\", \"sure\", \"sure\", \"sure\", \"sure\", \"sure\", \"sure\", \"sure\", \"system\", \"system\", \"system\", \"system\", \"system\", \"system\", \"system\", \"system\", \"system\", \"talk\", \"talk\", \"talk\", \"talk\", \"talk\", \"talk\", \"talk\", \"talk\", \"talk\", \"talk\", \"talk\", \"talk\", \"talk\", \"talk\", \"talk\", \"talk\", \"talk\", \"talk\", \"talk\", \"talk\", \"talk\", \"talk\", \"temperature\", \"temperature\", \"temperature,\", \"temperature,\", \"temperature,\", \"temperature.\", \"temperature.\", \"temperature.\", \"tertiary\", \"thermodynamics\", \"theta\", \"theta\", \"theta,\", \"theta.\", \"theta.\", \"things\", \"things\", \"things\", \"things\", \"things\", \"things\", \"things\", \"things\", \"things\", \"things\", \"things\", \"things\", \"things\", \"things\", \"things\", \"things\", \"things\", \"things\", \"things\", \"things\", \"things\", \"things\", \"three\", \"three\", \"three\", \"three\", \"three\", \"three\", \"three\", \"three\", \"three\", \"three\", \"three\", \"three\", \"three\", \"three\", \"three\", \"three\", \"three\", \"three\", \"three\", \"three\", \"thumb\", \"time\", \"time\", \"time\", \"time\", \"time\", \"time\", \"time\", \"time\", \"time\", \"time\", \"time\", \"time\", \"time\", \"time\", \"time\", \"time\", \"time\", \"time\", \"time\", \"time\", \"time\", \"time\", \"times\", \"times\", \"times\", \"times\", \"times\", \"times\", \"times\", \"times\", \"times\", \"times\", \"times\", \"times\", \"times\", \"times\", \"times\", \"times\", \"times\", \"times\", \"total\", \"total\", \"total\", \"total\", \"total\", \"total\", \"total\", \"total\", \"total\", \"total\", \"total\", \"total\", \"total\", \"total\", \"total\", \"total\", \"triangle\", \"triangle\", \"triangle\", \"undefined.\", \"undefined.\", \"united\", \"united\", \"united\", \"use\", \"use\", \"use\", \"use\", \"use\", \"use\", \"use\", \"use\", \"use\", \"use\", \"use\", \"use\", \"use\", \"use\", \"use\", \"use\", \"use\", \"use\", \"use\", \"use\", \"use\", \"use\", \"v\", \"v\", \"v\", \"v\", \"v\", \"v.\", \"v.\", \"v.\", \"v.\", \"v.\", \"v1\", \"v2\", \"valence\", \"values?\", \"variance\", \"vector\", \"vector\", \"vector\", \"vectors\", \"vectors\", \"velocity\", \"velocity\", \"velocity,\", \"vi\", \"voltage\", \"volts,\", \"volume\", \"volume,\", \"volume.\", \"vote\", \"war\", \"war,\", \"war.\", \"war.\", \"water\", \"water\", \"water\", \"water\", \"water\", \"water\", \"wave\", \"wave\", \"wave,\", \"wave,\", \"wave.\", \"wave.\", \"wavelength\", \"wavelength,\", \"wavelength.\", \"wavelengths.\", \"waves\", \"waves,\", \"waves.\", \"width.\", \"width.\", \"wire\", \"wire\", \"wire\", \"wire.\", \"wire.\", \"work\", \"work\", \"work\", \"work\", \"work\", \"work\", \"work\", \"work\", \"work\", \"work\", \"work\", \"work\", \"work\", \"work\", \"work\", \"work\", \"work\", \"work\", \"world\", \"world\", \"world\", \"world\", \"world\", \"world\", \"world\", \"world\", \"world\", \"world\", \"world\", \"write\", \"write\", \"write\", \"write\", \"write\", \"write\", \"write\", \"write\", \"write\", \"write\", \"write\", \"write\", \"write\", \"write\", \"write\", \"write\", \"write\", \"write\", \"write\", \"write\", \"write\", \"x\", \"x\", \"x\", \"x\", \"x\", \"x,\", \"x,\", \"x,\", \"x,\", \"x,\", \"x,\", \"years\", \"years\", \"years\", \"years\", \"years\", \"years\", \"years\", \"years\", \"years\", \"years.\", \"years.\", \"years.\", \"years.\", \"years.\", \"years.\", \"zero\", \"zero\", \"zero\", \"zero\", \"zero\", \"zero\", \"zero\", \"zero\", \"zero\", \"zero\", \"zero\", \"zero\", \"zero\", \"zero\", \"zero\", \"zero\", \"zero,\", \"zero,\", \"zero,\", \"zero,\", \"zero,\", \"zero,\", \"zero,\", \"zero,\", \"zero,\", \"zero,\", \"zero.\", \"zero.\", \"zero.\", \"zero.\", \"zero.\", \"zero.\", \"zero.\", \"zero.\", \"zero.\", \"zero.\", \"zucker:\"]}, \"R\": 10, \"lambda.step\": 0.01, \"plot.opts\": {\"xlab\": \"PC1\", \"ylab\": \"PC2\"}, \"topic.order\": [21, 14, 2, 7, 3, 9, 6, 12, 18, 11, 4, 15, 17, 16, 22, 19, 1, 5, 20, 8, 10, 13]};\n",
       "\n",
       "function LDAvis_load_lib(url, callback){\n",
       "  var s = document.createElement('script');\n",
       "  s.src = url;\n",
       "  s.async = true;\n",
       "  s.onreadystatechange = s.onload = callback;\n",
       "  s.onerror = function(){console.warn(\"failed to load library \" + url);};\n",
       "  document.getElementsByTagName(\"head\")[0].appendChild(s);\n",
       "}\n",
       "\n",
       "if(typeof(LDAvis) !== \"undefined\"){\n",
       "   // already loaded: just create the visualization\n",
       "   !function(LDAvis){\n",
       "       new LDAvis(\"#\" + \"ldavis_el506824447352223842957444060\", ldavis_el506824447352223842957444060_data);\n",
       "   }(LDAvis);\n",
       "}else if(typeof define === \"function\" && define.amd){\n",
       "   // require.js is available: use it to load d3/LDAvis\n",
       "   require.config({paths: {d3: \"https://d3js.org/d3.v5\"}});\n",
       "   require([\"d3\"], function(d3){\n",
       "      window.d3 = d3;\n",
       "      LDAvis_load_lib(\"https://cdn.jsdelivr.net/gh/bmabey/pyLDAvis@3.3.1/pyLDAvis/js/ldavis.v3.0.0.js\", function(){\n",
       "        new LDAvis(\"#\" + \"ldavis_el506824447352223842957444060\", ldavis_el506824447352223842957444060_data);\n",
       "      });\n",
       "    });\n",
       "}else{\n",
       "    // require.js not available: dynamically load d3 & LDAvis\n",
       "    LDAvis_load_lib(\"https://d3js.org/d3.v5.js\", function(){\n",
       "         LDAvis_load_lib(\"https://cdn.jsdelivr.net/gh/bmabey/pyLDAvis@3.3.1/pyLDAvis/js/ldavis.v3.0.0.js\", function(){\n",
       "                 new LDAvis(\"#\" + \"ldavis_el506824447352223842957444060\", ldavis_el506824447352223842957444060_data);\n",
       "            })\n",
       "         });\n",
       "}\n",
       "</script>"
      ],
      "text/plain": [
       "PreparedData(topic_coordinates=              x         y  topics  cluster      Freq\n",
       "topic                                               \n",
       "20    -0.238426 -0.122091       1        1  9.372458\n",
       "13    -0.215129 -0.224556       2        1  7.911314\n",
       "1      0.001954  0.321824       3        1  7.735497\n",
       "6      0.137745  0.319859       4        1  7.686944\n",
       "2      0.149548  0.146706       5        1  6.821398\n",
       "8      0.373896 -0.127382       6        1  6.727304\n",
       "5      0.228291  0.295431       7        1  6.569948\n",
       "11    -0.318299 -0.134727       8        1  5.870019\n",
       "17    -0.110389  0.152220       9        1  4.887924\n",
       "10     0.106878 -0.034305      10        1  4.482201\n",
       "3      0.272844  0.139349      11        1  4.480524\n",
       "14    -0.279931  0.227438      12        1  4.241753\n",
       "16     0.007416  0.026179      13        1  3.475332\n",
       "15    -0.306025  0.093177      14        1  3.064087\n",
       "21     0.025872 -0.218351      15        1  3.030401\n",
       "18    -0.144992  0.304826      16        1  2.832140\n",
       "0     -0.140626 -0.333793      17        1  2.812706\n",
       "4     -0.371315  0.027712      18        1  2.496729\n",
       "19     0.143807 -0.237659      19        1  1.638093\n",
       "7      0.370263  0.032002      20        1  1.513222\n",
       "9      0.027459 -0.396693      21        1  1.300752\n",
       "12     0.279157 -0.257168      22        1  1.049255, topic_info=          Term          Freq         Total Category  logprob  loglift\n",
       "314          x  32254.000000  32254.000000  Default  10.0000  10.0000\n",
       "596      times  37611.000000  37611.000000  Default   9.0000   9.0000\n",
       "2859  negative  28542.000000  28542.000000  Default   8.0000   8.0000\n",
       "1066     minus  23899.000000  23899.000000  Default   7.0000   7.0000\n",
       "668       plus  25072.000000  25072.000000  Default   6.0000   6.0000\n",
       "...        ...           ...           ...      ...      ...      ...\n",
       "2331      hand    773.763710   2022.695017  Topic22  -3.9168   3.5962\n",
       "957       wire    475.669873   1125.682930  Topic22  -4.4033   3.6957\n",
       "1932   current    632.826972   2063.248444  Topic22  -4.1178   3.3753\n",
       "166       draw    627.501567   9812.731050  Topic22  -4.1263   1.8074\n",
       "231      maybe    452.689418  10482.739130  Topic22  -4.4528   1.4148\n",
       "\n",
       "[528 rows x 6 columns], token_table=       Topic      Freq     Term\n",
       "term                           \n",
       "7523       3  0.999138       $1\n",
       "7258       1  0.056950        .\n",
       "7258       2  0.007119        .\n",
       "7258       7  0.010678        .\n",
       "7258       8  0.088984        .\n",
       "...      ...       ...      ...\n",
       "984       15  0.002910    zero.\n",
       "984       17  0.045111    zero.\n",
       "984       19  0.004948    zero.\n",
       "984       20  0.029977    zero.\n",
       "12743      4  0.997597  zucker:\n",
       "\n",
       "[2110 rows x 3 columns], R=10, lambda_step=0.01, plot_opts={'xlab': 'PC1', 'ylab': 'PC2'}, topic_order=[21, 14, 2, 7, 3, 9, 6, 12, 18, 11, 4, 15, 17, 16, 22, 19, 1, 5, 20, 8, 10, 13])"
      ]
     },
     "execution_count": 38,
     "metadata": {},
     "output_type": "execute_result"
    }
   ],
   "source": [
    "vis"
   ]
  },
  {
   "cell_type": "code",
   "execution_count": 39,
   "metadata": {},
   "outputs": [
    {
     "data": {
      "text/html": [
       "<div>\n",
       "<style scoped>\n",
       "    .dataframe tbody tr th:only-of-type {\n",
       "        vertical-align: middle;\n",
       "    }\n",
       "\n",
       "    .dataframe tbody tr th {\n",
       "        vertical-align: top;\n",
       "    }\n",
       "\n",
       "    .dataframe thead th {\n",
       "        text-align: right;\n",
       "    }\n",
       "</style>\n",
       "<table border=\"1\" class=\"dataframe\">\n",
       "  <thead>\n",
       "    <tr style=\"text-align: right;\">\n",
       "      <th></th>\n",
       "      <th>comments</th>\n",
       "      <th>description</th>\n",
       "      <th>duration</th>\n",
       "      <th>event</th>\n",
       "      <th>film_date</th>\n",
       "      <th>languages</th>\n",
       "      <th>main_speaker</th>\n",
       "      <th>name</th>\n",
       "      <th>num_speaker</th>\n",
       "      <th>published_date</th>\n",
       "      <th>ratings</th>\n",
       "      <th>related_talks</th>\n",
       "      <th>speaker_occupation</th>\n",
       "      <th>tags</th>\n",
       "      <th>title</th>\n",
       "      <th>urlurl</th>\n",
       "      <th>views</th>\n",
       "      <th>transcript</th>\n",
       "      <th>urlurl</th>\n",
       "    </tr>\n",
       "  </thead>\n",
       "  <tbody>\n",
       "    <tr>\n",
       "      <th>0</th>\n",
       "      <td>4553</td>\n",
       "      <td>Sir Ken Robinson makes an entertaining and pro...</td>\n",
       "      <td>1164</td>\n",
       "      <td>TED2006</td>\n",
       "      <td>1140825600</td>\n",
       "      <td>60</td>\n",
       "      <td>Ken Robinson</td>\n",
       "      <td>Ken Robinson: Do schools kill creativity?</td>\n",
       "      <td>1</td>\n",
       "      <td>1151367060</td>\n",
       "      <td>[{'id': 7, 'name': 'Funny', 'count': 19645}, {...</td>\n",
       "      <td>[{'id': 865, 'hero': 'https://pe.tedcdn.com/im...</td>\n",
       "      <td>Author/educator</td>\n",
       "      <td>['children', 'creativity', 'culture', 'dance',...</td>\n",
       "      <td>Do schools kill creativity?</td>\n",
       "      <td>https://www.ted.com/talks/ken_robinson_says_sc...</td>\n",
       "      <td>47227110</td>\n",
       "      <td>Good morning. How are you?(Laughter)It's been ...</td>\n",
       "      <td>https://www.ted.com/talks/ken_robinson_says_sc...</td>\n",
       "    </tr>\n",
       "    <tr>\n",
       "      <th>1</th>\n",
       "      <td>265</td>\n",
       "      <td>With the same humor and humanity he exuded in ...</td>\n",
       "      <td>977</td>\n",
       "      <td>TED2006</td>\n",
       "      <td>1140825600</td>\n",
       "      <td>43</td>\n",
       "      <td>Al Gore</td>\n",
       "      <td>Al Gore: Averting the climate crisis</td>\n",
       "      <td>1</td>\n",
       "      <td>1151367060</td>\n",
       "      <td>[{'id': 7, 'name': 'Funny', 'count': 544}, {'i...</td>\n",
       "      <td>[{'id': 243, 'hero': 'https://pe.tedcdn.com/im...</td>\n",
       "      <td>Climate advocate</td>\n",
       "      <td>['alternative energy', 'cars', 'climate change...</td>\n",
       "      <td>Averting the climate crisis</td>\n",
       "      <td>https://www.ted.com/talks/al_gore_on_averting_...</td>\n",
       "      <td>3200520</td>\n",
       "      <td>Thank you so much, Chris. And it's truly a gre...</td>\n",
       "      <td>https://www.ted.com/talks/al_gore_on_averting_...</td>\n",
       "    </tr>\n",
       "    <tr>\n",
       "      <th>2</th>\n",
       "      <td>124</td>\n",
       "      <td>New York Times columnist David Pogue takes aim...</td>\n",
       "      <td>1286</td>\n",
       "      <td>TED2006</td>\n",
       "      <td>1140739200</td>\n",
       "      <td>26</td>\n",
       "      <td>David Pogue</td>\n",
       "      <td>David Pogue: Simplicity sells</td>\n",
       "      <td>1</td>\n",
       "      <td>1151367060</td>\n",
       "      <td>[{'id': 7, 'name': 'Funny', 'count': 964}, {'i...</td>\n",
       "      <td>[{'id': 1725, 'hero': 'https://pe.tedcdn.com/i...</td>\n",
       "      <td>Technology columnist</td>\n",
       "      <td>['computers', 'entertainment', 'interface desi...</td>\n",
       "      <td>Simplicity sells</td>\n",
       "      <td>https://www.ted.com/talks/david_pogue_says_sim...</td>\n",
       "      <td>1636292</td>\n",
       "      <td>(Music: \"The Sound of Silence,\" Simon &amp; Garfun...</td>\n",
       "      <td>https://www.ted.com/talks/david_pogue_says_sim...</td>\n",
       "    </tr>\n",
       "    <tr>\n",
       "      <th>3</th>\n",
       "      <td>200</td>\n",
       "      <td>In an emotionally charged talk, MacArthur-winn...</td>\n",
       "      <td>1116</td>\n",
       "      <td>TED2006</td>\n",
       "      <td>1140912000</td>\n",
       "      <td>35</td>\n",
       "      <td>Majora Carter</td>\n",
       "      <td>Majora Carter: Greening the ghetto</td>\n",
       "      <td>1</td>\n",
       "      <td>1151367060</td>\n",
       "      <td>[{'id': 3, 'name': 'Courageous', 'count': 760}...</td>\n",
       "      <td>[{'id': 1041, 'hero': 'https://pe.tedcdn.com/i...</td>\n",
       "      <td>Activist for environmental justice</td>\n",
       "      <td>['MacArthur grant', 'activism', 'business', 'c...</td>\n",
       "      <td>Greening the ghetto</td>\n",
       "      <td>https://www.ted.com/talks/majora_carter_s_tale...</td>\n",
       "      <td>1697550</td>\n",
       "      <td>If you're here today — and I'm very happy that...</td>\n",
       "      <td>https://www.ted.com/talks/majora_carter_s_tale...</td>\n",
       "    </tr>\n",
       "    <tr>\n",
       "      <th>4</th>\n",
       "      <td>593</td>\n",
       "      <td>You've never seen data presented like this. Wi...</td>\n",
       "      <td>1190</td>\n",
       "      <td>TED2006</td>\n",
       "      <td>1140566400</td>\n",
       "      <td>48</td>\n",
       "      <td>Hans Rosling</td>\n",
       "      <td>Hans Rosling: The best stats you've ever seen</td>\n",
       "      <td>1</td>\n",
       "      <td>1151440680</td>\n",
       "      <td>[{'id': 9, 'name': 'Ingenious', 'count': 3202}...</td>\n",
       "      <td>[{'id': 2056, 'hero': 'https://pe.tedcdn.com/i...</td>\n",
       "      <td>Global health expert; data visionary</td>\n",
       "      <td>['Africa', 'Asia', 'Google', 'demo', 'economic...</td>\n",
       "      <td>The best stats you've ever seen</td>\n",
       "      <td>https://www.ted.com/talks/hans_rosling_shows_t...</td>\n",
       "      <td>12005869</td>\n",
       "      <td>About 10 years ago, I took on the task to teac...</td>\n",
       "      <td>https://www.ted.com/talks/hans_rosling_shows_t...</td>\n",
       "    </tr>\n",
       "  </tbody>\n",
       "</table>\n",
       "</div>"
      ],
      "text/plain": [
       "   comments                                        description  duration  \\\n",
       "0      4553  Sir Ken Robinson makes an entertaining and pro...      1164   \n",
       "1       265  With the same humor and humanity he exuded in ...       977   \n",
       "2       124  New York Times columnist David Pogue takes aim...      1286   \n",
       "3       200  In an emotionally charged talk, MacArthur-winn...      1116   \n",
       "4       593  You've never seen data presented like this. Wi...      1190   \n",
       "\n",
       "     event   film_date  languages   main_speaker  \\\n",
       "0  TED2006  1140825600         60   Ken Robinson   \n",
       "1  TED2006  1140825600         43        Al Gore   \n",
       "2  TED2006  1140739200         26    David Pogue   \n",
       "3  TED2006  1140912000         35  Majora Carter   \n",
       "4  TED2006  1140566400         48   Hans Rosling   \n",
       "\n",
       "                                            name  num_speaker  published_date  \\\n",
       "0      Ken Robinson: Do schools kill creativity?            1      1151367060   \n",
       "1           Al Gore: Averting the climate crisis            1      1151367060   \n",
       "2                  David Pogue: Simplicity sells            1      1151367060   \n",
       "3             Majora Carter: Greening the ghetto            1      1151367060   \n",
       "4  Hans Rosling: The best stats you've ever seen            1      1151440680   \n",
       "\n",
       "                                             ratings  \\\n",
       "0  [{'id': 7, 'name': 'Funny', 'count': 19645}, {...   \n",
       "1  [{'id': 7, 'name': 'Funny', 'count': 544}, {'i...   \n",
       "2  [{'id': 7, 'name': 'Funny', 'count': 964}, {'i...   \n",
       "3  [{'id': 3, 'name': 'Courageous', 'count': 760}...   \n",
       "4  [{'id': 9, 'name': 'Ingenious', 'count': 3202}...   \n",
       "\n",
       "                                       related_talks  \\\n",
       "0  [{'id': 865, 'hero': 'https://pe.tedcdn.com/im...   \n",
       "1  [{'id': 243, 'hero': 'https://pe.tedcdn.com/im...   \n",
       "2  [{'id': 1725, 'hero': 'https://pe.tedcdn.com/i...   \n",
       "3  [{'id': 1041, 'hero': 'https://pe.tedcdn.com/i...   \n",
       "4  [{'id': 2056, 'hero': 'https://pe.tedcdn.com/i...   \n",
       "\n",
       "                     speaker_occupation  \\\n",
       "0                       Author/educator   \n",
       "1                      Climate advocate   \n",
       "2                  Technology columnist   \n",
       "3    Activist for environmental justice   \n",
       "4  Global health expert; data visionary   \n",
       "\n",
       "                                                tags  \\\n",
       "0  ['children', 'creativity', 'culture', 'dance',...   \n",
       "1  ['alternative energy', 'cars', 'climate change...   \n",
       "2  ['computers', 'entertainment', 'interface desi...   \n",
       "3  ['MacArthur grant', 'activism', 'business', 'c...   \n",
       "4  ['Africa', 'Asia', 'Google', 'demo', 'economic...   \n",
       "\n",
       "                             title  \\\n",
       "0      Do schools kill creativity?   \n",
       "1      Averting the climate crisis   \n",
       "2                 Simplicity sells   \n",
       "3              Greening the ghetto   \n",
       "4  The best stats you've ever seen   \n",
       "\n",
       "                                              urlurl     views  \\\n",
       "0  https://www.ted.com/talks/ken_robinson_says_sc...  47227110   \n",
       "1  https://www.ted.com/talks/al_gore_on_averting_...   3200520   \n",
       "2  https://www.ted.com/talks/david_pogue_says_sim...   1636292   \n",
       "3  https://www.ted.com/talks/majora_carter_s_tale...   1697550   \n",
       "4  https://www.ted.com/talks/hans_rosling_shows_t...  12005869   \n",
       "\n",
       "                                          transcript  \\\n",
       "0  Good morning. How are you?(Laughter)It's been ...   \n",
       "1  Thank you so much, Chris. And it's truly a gre...   \n",
       "2  (Music: \"The Sound of Silence,\" Simon & Garfun...   \n",
       "3  If you're here today — and I'm very happy that...   \n",
       "4  About 10 years ago, I took on the task to teac...   \n",
       "\n",
       "                                              urlurl  \n",
       "0  https://www.ted.com/talks/ken_robinson_says_sc...  \n",
       "1  https://www.ted.com/talks/al_gore_on_averting_...  \n",
       "2  https://www.ted.com/talks/david_pogue_says_sim...  \n",
       "3  https://www.ted.com/talks/majora_carter_s_tale...  \n",
       "4  https://www.ted.com/talks/hans_rosling_shows_t...  "
      ]
     },
     "execution_count": 39,
     "metadata": {},
     "output_type": "execute_result"
    }
   ],
   "source": [
    "validation.head(5)"
   ]
  },
  {
   "cell_type": "code",
   "execution_count": 40,
   "metadata": {},
   "outputs": [
    {
     "name": "stdout",
     "output_type": "stream",
     "text": [
      "621\n",
      "[(5, 0.6481136), (6, 0.22089048), (17, 0.059130847), (3, 0.030549446), (10, 0.0153239565)]\n",
      "Predicted Topic: 5\n"
     ]
    },
    {
     "data": {
      "text/plain": [
       "[('use', 0.007523589),\n",
       " ('kind', 0.0064453157),\n",
       " ('around', 0.006415009),\n",
       " ('need', 0.0059491163),\n",
       " ('things', 0.0058866753),\n",
       " ('got', 0.005176398),\n",
       " ('put', 0.0048908405),\n",
       " ('back', 0.0048693996),\n",
       " ('called', 0.004515075),\n",
       " ('earth', 0.0044959947)]"
      ]
     },
     "execution_count": 40,
     "metadata": {},
     "output_type": "execute_result"
    }
   ],
   "source": [
    "new_text_corpus = words.doc2bow(validation['transcript'][0].split())\n",
    "print(len(new_text_corpus))\n",
    "prediction = lda_model.get_document_topics(new_text_corpus)\n",
    "prediction.sort(key = lambda x: x[1], reverse = True)\n",
    "print(prediction)\n",
    "prediction = prediction[0][0]\n",
    "print(\"Predicted Topic: %d\" % prediction)\n",
    "lda_model.show_topic(3)"
   ]
  },
  {
   "cell_type": "code",
   "execution_count": null,
   "metadata": {},
   "outputs": [],
   "source": []
  }
 ],
 "metadata": {
  "kernelspec": {
   "display_name": "Python 3",
   "language": "python",
   "name": "python3"
  },
  "language_info": {
   "codemirror_mode": {
    "name": "ipython",
    "version": 3
   },
   "file_extension": ".py",
   "mimetype": "text/x-python",
   "name": "python",
   "nbconvert_exporter": "python",
   "pygments_lexer": "ipython3",
   "version": "3.9.7"
  },
  "orig_nbformat": 4,
  "vscode": {
   "interpreter": {
    "hash": "81794d4967e6c3204c66dcd87b604927b115b27c00565d3d43f05ba2f3a2cb0d"
   }
  }
 },
 "nbformat": 4,
 "nbformat_minor": 2
}
