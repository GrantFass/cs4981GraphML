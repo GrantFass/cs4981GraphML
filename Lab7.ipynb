{
 "cells": [
  {
   "cell_type": "code",
   "execution_count": 1,
   "metadata": {},
   "outputs": [],
   "source": [
    "# !nvidia-smi\n",
    "\n",
    "# Add this in a Google Colab cell to install the correct version of Pytorch Geometric.\n",
    "import torch\n",
    "\n",
    "def format_pytorch_version(version):\n",
    "  return version.split('+')[0]\n",
    "\n",
    "TORCH_version = torch.__version__\n",
    "TORCH = format_pytorch_version(TORCH_version)\n",
    "\n",
    "def format_cuda_version(version):\n",
    "  return 'cu' + version.replace('.', '')\n",
    "\n",
    "CUDA_version = torch.version.cuda\n",
    "# CUDA = format_cuda_version(CUDA_version)"
   ]
  },
  {
   "cell_type": "code",
   "execution_count": 2,
   "metadata": {},
   "outputs": [
    {
     "name": "stderr",
     "output_type": "stream",
     "text": [
      "c:\\Python310\\lib\\site-packages\\past\\builtins\\misc.py:45: DeprecationWarning: the imp module is deprecated in favour of importlib and slated for removal in Python 3.12; see the module's documentation for alternative uses\n",
      "  from imp import reload\n",
      "c:\\Python310\\lib\\site-packages\\joblib\\backports.py:7: DeprecationWarning: The distutils package is deprecated and slated for removal in Python 3.12. Use setuptools or check PEP 632 for potential alternatives\n",
      "  from distutils.version import LooseVersion\n"
     ]
    }
   ],
   "source": [
    "import json\n",
    "import os\n",
    "# import uuid  # https://docs.python.org/3/library/uuid.html\n",
    "# import structlog  # for event logging\n",
    "# # from dotenv import load_dotenv # enviornment vars if we want\n",
    "\n",
    "# from pygtail import Pygtail\n",
    "# import boto3\n",
    "# from minio import Minio\n",
    "# from dotenv import load_dotenv\n",
    "from datetime import timedelta, datetime\n",
    "from time import sleep\n",
    "from sys import argv\n",
    "# import threading\n",
    "# from smart_open import smart_open\n",
    "import gensim\n",
    "import gensim.corpora as corpora\n",
    "\n",
    "# setup to import the preprocessor\n",
    "import sys\n",
    "# from botocore.errorfactory import ClientError\n",
    "import numpy as np\n",
    "import pandas as pd\n",
    "import matplotlib.pyplot as plt\n",
    "import seaborn as sns\n",
    "import pyLDAvis\n",
    "import pyLDAvis.gensim_models\n",
    "pyLDAvis.enable_notebook()\n",
    "import torch_geometric\n",
    "from functools import reduce\n",
    "from tqdm import tqdm\n",
    "\n",
    "from Preprocessing import Preprocessor\n",
    "preprocessor = Preprocessor(0)\n",
    "tqdm.pandas()\n"
   ]
  },
  {
   "cell_type": "code",
   "execution_count": 3,
   "metadata": {},
   "outputs": [
    {
     "data": {
      "text/html": [
       "<div>\n",
       "<style scoped>\n",
       "    .dataframe tbody tr th:only-of-type {\n",
       "        vertical-align: middle;\n",
       "    }\n",
       "\n",
       "    .dataframe tbody tr th {\n",
       "        vertical-align: top;\n",
       "    }\n",
       "\n",
       "    .dataframe thead th {\n",
       "        text-align: right;\n",
       "    }\n",
       "</style>\n",
       "<table border=\"1\" class=\"dataframe\">\n",
       "  <thead>\n",
       "    <tr style=\"text-align: right;\">\n",
       "      <th></th>\n",
       "      <th>course</th>\n",
       "      <th>unit</th>\n",
       "      <th>lesson</th>\n",
       "      <th>video_title</th>\n",
       "      <th>about</th>\n",
       "      <th>transcript</th>\n",
       "      <th>transcript_n_entries</th>\n",
       "    </tr>\n",
       "  </thead>\n",
       "  <tbody>\n",
       "    <tr>\n",
       "      <th>0</th>\n",
       "      <td>Computer programming</td>\n",
       "      <td>Intro to JS: Drawing &amp; Animation</td>\n",
       "      <td>Intro to programming</td>\n",
       "      <td>What is Programming?</td>\n",
       "      <td>Programming is the process of creating a set o...</td>\n",
       "      <td>['welcome', 'programming', 'learn', 'program',...</td>\n",
       "      <td>1423</td>\n",
       "    </tr>\n",
       "    <tr>\n",
       "      <th>1</th>\n",
       "      <td>Computer programming</td>\n",
       "      <td>Intro to JS: Drawing &amp; Animation</td>\n",
       "      <td>Coloring</td>\n",
       "      <td>The Power of the Docs</td>\n",
       "      <td>Created by Pamela Fox.</td>\n",
       "      <td>['voiceover', 'a few program', 'wonder', 'eart...</td>\n",
       "      <td>4018</td>\n",
       "    </tr>\n",
       "    <tr>\n",
       "      <th>2</th>\n",
       "      <td>Computer programming</td>\n",
       "      <td>Intro to HTML/CSS: Making webpages</td>\n",
       "      <td>Further learning</td>\n",
       "      <td>HTML validation</td>\n",
       "      <td>Learn how to validate your webpages with the W...</td>\n",
       "      <td>['voiceover', 'khan academy', 'the oh no', 'gu...</td>\n",
       "      <td>1188</td>\n",
       "    </tr>\n",
       "    <tr>\n",
       "      <th>3</th>\n",
       "      <td>Computer programming</td>\n",
       "      <td>Intro to SQL: Querying and managing data</td>\n",
       "      <td>SQL basics</td>\n",
       "      <td>Welcome to SQL</td>\n",
       "      <td>SQL is useful for creating and querying relati...</td>\n",
       "      <td>['- instructor', 'the world', 'datum', 'datum'...</td>\n",
       "      <td>1721</td>\n",
       "    </tr>\n",
       "    <tr>\n",
       "      <th>4</th>\n",
       "      <td>Computer programming</td>\n",
       "      <td>Intro to SQL: Querying and managing data</td>\n",
       "      <td>SQL basics</td>\n",
       "      <td>S-Q-L or SEQUEL?</td>\n",
       "      <td>How is it pronounced? Why? Let's discuss...</td>\n",
       "      <td>['this point', 'probably', 'hear', 'pronounce'...</td>\n",
       "      <td>932</td>\n",
       "    </tr>\n",
       "  </tbody>\n",
       "</table>\n",
       "</div>"
      ],
      "text/plain": [
       "                 course                                      unit  \\\n",
       "0  Computer programming          Intro to JS: Drawing & Animation   \n",
       "1  Computer programming          Intro to JS: Drawing & Animation   \n",
       "2  Computer programming        Intro to HTML/CSS: Making webpages   \n",
       "3  Computer programming  Intro to SQL: Querying and managing data   \n",
       "4  Computer programming  Intro to SQL: Querying and managing data   \n",
       "\n",
       "                 lesson            video_title  \\\n",
       "0  Intro to programming   What is Programming?   \n",
       "1              Coloring  The Power of the Docs   \n",
       "2      Further learning        HTML validation   \n",
       "3            SQL basics         Welcome to SQL   \n",
       "4            SQL basics       S-Q-L or SEQUEL?   \n",
       "\n",
       "                                               about  \\\n",
       "0  Programming is the process of creating a set o...   \n",
       "1                             Created by Pamela Fox.   \n",
       "2  Learn how to validate your webpages with the W...   \n",
       "3  SQL is useful for creating and querying relati...   \n",
       "4       How is it pronounced? Why? Let's discuss...    \n",
       "\n",
       "                                          transcript  transcript_n_entries  \n",
       "0  ['welcome', 'programming', 'learn', 'program',...                  1423  \n",
       "1  ['voiceover', 'a few program', 'wonder', 'eart...                  4018  \n",
       "2  ['voiceover', 'khan academy', 'the oh no', 'gu...                  1188  \n",
       "3  ['- instructor', 'the world', 'datum', 'datum'...                  1721  \n",
       "4  ['this point', 'probably', 'hear', 'pronounce'...                   932  "
      ]
     },
     "execution_count": 3,
     "metadata": {},
     "output_type": "execute_result"
    }
   ],
   "source": [
    "joined_exists = os.path.exists('khan_joined.csv')\n",
    "khan = pd.DataFrame([])\n",
    "if joined_exists:\n",
    "    khan = pd.read_csv('khan_joined.csv')\n",
    "khan.head(5)"
   ]
  },
  {
   "cell_type": "code",
   "execution_count": 4,
   "metadata": {},
   "outputs": [],
   "source": [
    "if not joined_exists:\n",
    "    computing = pd.read_csv(\"Datasets\\\\KhanAcademy\\\\Computing.csv\")\n",
    "    computing = computing.dropna()\n",
    "    computing.info()"
   ]
  },
  {
   "cell_type": "code",
   "execution_count": 5,
   "metadata": {},
   "outputs": [],
   "source": [
    "if not joined_exists:\n",
    "    economics = pd.read_csv(\"Datasets\\\\KhanAcademy\\\\Economics.csv\")\n",
    "    economics = economics.dropna()\n",
    "    economics.info()"
   ]
  },
  {
   "cell_type": "code",
   "execution_count": 6,
   "metadata": {},
   "outputs": [],
   "source": [
    "if not joined_exists:\n",
    "    humanities = pd.read_csv(\"Datasets\\\\KhanAcademy\\\\Humanities.csv\")\n",
    "    humanities = humanities.dropna()\n",
    "    humanities.info()"
   ]
  },
  {
   "cell_type": "code",
   "execution_count": 7,
   "metadata": {},
   "outputs": [],
   "source": [
    "if not joined_exists:\n",
    "    math = pd.read_csv(\"Datasets\\\\KhanAcademy\\\\Math.csv\")\n",
    "    math = math.dropna()\n",
    "    math.info()"
   ]
  },
  {
   "cell_type": "code",
   "execution_count": 8,
   "metadata": {},
   "outputs": [],
   "source": [
    "if not joined_exists:\n",
    "    science = pd.read_csv(\"Datasets\\\\KhanAcademy\\\\Science.csv\")\n",
    "    science = science.dropna()\n",
    "    science.info()"
   ]
  },
  {
   "cell_type": "code",
   "execution_count": 9,
   "metadata": {},
   "outputs": [
    {
     "name": "stdout",
     "output_type": "stream",
     "text": [
      "<class 'pandas.core.frame.DataFrame'>\n",
      "Int64Index: 2461 entries, 0 to 2466\n",
      "Data columns (total 19 columns):\n",
      " #   Column              Non-Null Count  Dtype \n",
      "---  ------              --------------  ----- \n",
      " 0   comments            2461 non-null   int64 \n",
      " 1   description         2461 non-null   object\n",
      " 2   duration            2461 non-null   int64 \n",
      " 3   event               2461 non-null   object\n",
      " 4   film_date           2461 non-null   int64 \n",
      " 5   languages           2461 non-null   int64 \n",
      " 6   main_speaker        2461 non-null   object\n",
      " 7   name                2461 non-null   object\n",
      " 8   num_speaker         2461 non-null   int64 \n",
      " 9   published_date      2461 non-null   int64 \n",
      " 10  ratings             2461 non-null   object\n",
      " 11  related_talks       2461 non-null   object\n",
      " 12  speaker_occupation  2461 non-null   object\n",
      " 13  tags                2461 non-null   object\n",
      " 14  title               2461 non-null   object\n",
      " 15  urlurl              2461 non-null   object\n",
      " 16  views               2461 non-null   int64 \n",
      " 17  transcript          2461 non-null   object\n",
      " 18  urlurl              2461 non-null   object\n",
      "dtypes: int64(7), object(12)\n",
      "memory usage: 384.5+ KB\n"
     ]
    }
   ],
   "source": [
    "ted_main = pd.read_csv(\"Datasets\\\\TEDTalksDataset\\\\ted_main.csv\")\n",
    "transcripts = pd.read_csv(\"Datasets\\\\TEDTalksDataset\\\\transcripts.csv\")\n",
    "validation = ted_main.join(transcripts, lsuffix='url', rsuffix='url', sort=True)\n",
    "validation = validation.dropna()\n",
    "validation.info(verbose=True, show_counts=True)"
   ]
  },
  {
   "cell_type": "code",
   "execution_count": 10,
   "metadata": {},
   "outputs": [],
   "source": [
    "if not joined_exists:\n",
    "    computing['course'].value_counts()"
   ]
  },
  {
   "cell_type": "code",
   "execution_count": 11,
   "metadata": {},
   "outputs": [],
   "source": [
    "if not joined_exists:\n",
    "    economics['course'].value_counts()"
   ]
  },
  {
   "cell_type": "code",
   "execution_count": 12,
   "metadata": {},
   "outputs": [],
   "source": [
    "if not joined_exists:\n",
    "    humanities['course'].value_counts()"
   ]
  },
  {
   "cell_type": "code",
   "execution_count": 13,
   "metadata": {},
   "outputs": [],
   "source": [
    "if not joined_exists:\n",
    "    math['course'].value_counts()"
   ]
  },
  {
   "cell_type": "code",
   "execution_count": 14,
   "metadata": {},
   "outputs": [],
   "source": [
    "if not joined_exists:\n",
    "    science['course'].value_counts()"
   ]
  },
  {
   "cell_type": "code",
   "execution_count": 15,
   "metadata": {},
   "outputs": [],
   "source": [
    "if not joined_exists:\n",
    "    khan_dfs = [computing, economics, humanities, math, science]\n",
    "    khan = pd.concat(khan_dfs, axis=0)\n",
    "    khan.info()"
   ]
  },
  {
   "cell_type": "code",
   "execution_count": 16,
   "metadata": {},
   "outputs": [],
   "source": [
    "if not joined_exists:\n",
    "    # remap the courses to more broad categories: https://stackoverflow.com/a/16476974\n",
    "    labels = ['physics', 'chemistry', 'biology', 'algebra', 'geometry', 'statistics', 'calculus', 'history', 'macroeconomics', 'microeconomics']\n",
    "    for lbl in labels:\n",
    "        for index, row in khan.iterrows():\n",
    "            if lbl in row['course'].lower():\n",
    "                row['course'] = lbl\n",
    "    khan['course'].value_counts()"
   ]
  },
  {
   "cell_type": "code",
   "execution_count": 17,
   "metadata": {},
   "outputs": [],
   "source": [
    "if not joined_exists:\n",
    "    khan.tail(2)"
   ]
  },
  {
   "attachments": {},
   "cell_type": "markdown",
   "metadata": {},
   "source": [
    "# Dataset Identification\n",
    "It is necessary to now identify components of the dataset that can be used for the graphical machine learning. This means identifying Nodes, Edges, Node Features, and Labels. It also includes optionally including edge weights and edge features. For the sake of simplicity I think that I will be forgoing the edge weights and edge features.\n",
    "\n",
    "I am attempting to basically do topic modeling, but without the keywords and topics that would be customary of Latent Dirchlet Allocation. Instead the goal is to train a Graph ML model using the Khan academy data.\n",
    "\n",
    "There are two basic routes I could take. I could perform node level prediction by treating each transcript individually and seeing which is the closest match during prediction. The other option would be to perform graph level prediction by storing all of the similarly labeled transcripts together and then using the shape of the graph for comparison. \n",
    "\n",
    "- Nodes (Items, People, Locations, Cars, ETC)\n",
    "- Edges (Connections, Interactions, Similarity, ETC)\n",
    "    - Levenshtein distance over titles?\n",
    "    - Number of similar named entities from SpaCy NER?\n",
    "- Node Features (Attributes)\n",
    "- Labels (Node-Level, Edge-Level, Graph-Level, etc)\n",
    "    - I am going to first try node-level prediction as it makes more sense to me. For this I am going to use the 'course' feature in the above pandas dataframe. This will be the target that I try to predict."
   ]
  },
  {
   "cell_type": "code",
   "execution_count": 18,
   "metadata": {},
   "outputs": [],
   "source": [
    "if not joined_exists:\n",
    "    # It takes 21 min to run SpaCy preprocessing over each record in the data\n",
    "    khan['transcript_cleaned'] = khan['transcript'].progress_apply(lambda x: preprocessor.clean(x))\n",
    "    print(khan['transcript_cleaned'][0])"
   ]
  },
  {
   "cell_type": "code",
   "execution_count": 47,
   "metadata": {},
   "outputs": [],
   "source": [
    "def str_to_list(s: str) -> list:\n",
    "    s = s.replace('[', '')\n",
    "    s = s.replace(']', '')\n",
    "    s = s.replace('\\'', '')\n",
    "    s = s.split(', ')\n",
    "    return s"
   ]
  },
  {
   "cell_type": "code",
   "execution_count": 48,
   "metadata": {},
   "outputs": [
    {
     "name": "stderr",
     "output_type": "stream",
     "text": [
      "100%|██████████| 8261/8261 [00:00<00:00, 11492.19it/s]"
     ]
    },
    {
     "name": "stdout",
     "output_type": "stream",
     "text": [
      "86\n",
      "['tell', 'my favorite robot', 'give', 'the app', 'believe', 'other programming language', 'khan academy', 'cure', 'actually', 'game', 'water', 'listen', 'look', 'possible', 'self-drive car', 'think', 'your favorite movie', 'the website', 'such cool special effect', 'course', 'patient', 'google map', 'learn', 'a drawing program', 'cool', 'wonder', 'important', 'a weird form', 'a very obedient dog', 'wikipedia', 'angry bird minecraft program', 'a great start', 'not the same basic concept', 'doctor', 'every program', 'every programmer', 'pixar', 'javascript', 'know', 'disease', 'mar', 'youtube', 'turn--', 'jump', 'process', 'really fun game', 'depend', 'create', 'easily', 'robot', 'write', 'harry potter', 'the surface program', 'welcome', 'programming', 'care', 'able', 'the computer', 'doodle', 'your every command', 'huge amount', 'pretty', 'your head', 'help', 'javascript program', 'relate', 'medical datum program', 'movie', 'a series', 'like', 'a program', 'command', 'what programming', 'time', 'imagine', 'hard', 'that kind', 'go', 'roam', 'program', 'turn', 'drawing animation', 'control', 'english', 'a computer', 'their awesome 3-d animate movie']\n"
     ]
    },
    {
     "name": "stderr",
     "output_type": "stream",
     "text": [
      "\n"
     ]
    }
   ],
   "source": [
    "if not joined_exists:\n",
    "    # clear up the lists to be unique only.\n",
    "    khan['transcript_cleaned'] = khan['transcript'].progress_apply(lambda x: list(set(str_to_list(x))))\n",
    "    print(len(khan['transcript_cleaned'][0]))\n",
    "    print(khan['transcript_cleaned'][0])"
   ]
  },
  {
   "cell_type": "code",
   "execution_count": 53,
   "metadata": {},
   "outputs": [
    {
     "name": "stderr",
     "output_type": "stream",
     "text": [
      "100%|██████████| 8261/8261 [00:00<00:00, 634413.82it/s]\n"
     ]
    }
   ],
   "source": [
    "if not joined_exists:\n",
    "# if not False:\n",
    "    khan['transcript_n_entries'] = khan['transcript_cleaned'].progress_apply(lambda x: len(x))\n",
    "    khan.head(5)"
   ]
  },
  {
   "cell_type": "code",
   "execution_count": 20,
   "metadata": {},
   "outputs": [],
   "source": [
    "# khan = khan.drop(columns=[\"Unnamed: 0.1\", \"Unnamed: 0\"])"
   ]
  },
  {
   "cell_type": "code",
   "execution_count": 54,
   "metadata": {},
   "outputs": [],
   "source": [
    "if not joined_exists:\n",
    "# if not False:\n",
    "    khan.to_csv(\"khan_joined.csv\", index=False)"
   ]
  },
  {
   "cell_type": "code",
   "execution_count": 22,
   "metadata": {},
   "outputs": [
    {
     "data": {
      "text/plain": [
       "'\\n    nodes closer to yourself are more important. Take the incoming embeddings and dotproduct them with your own embedding.\\n    Softmax across all the dot products of the nodes coming in to have it be a probability.\\n    \\n    Need to build the corpus of all input words.\\n    \\n    Use spacy to get corpus for each doc with stopwords stripped and bigrams / trigrams joined. \\n    \\n    Could use skipgram or bag of words with word2vec to embed words.\\n'"
      ]
     },
     "execution_count": 22,
     "metadata": {},
     "output_type": "execute_result"
    }
   ],
   "source": [
    "# https://www.kaggle.com/code/pavansanagapati/knowledge-graph-nlp-tutorial-bert-spacy-nltk/notebook\n",
    "\n",
    "\"\"\"\n",
    "    nodes closer to yourself are more important. Take the incoming embeddings and dotproduct them with your own embedding.\n",
    "    Softmax across all the dot products of the nodes coming in to have it be a probability.\n",
    "    \n",
    "    Need to build the corpus of all input words.\n",
    "    \n",
    "    Use spacy to get corpus for each doc with stopwords stripped and bigrams / trigrams joined. \n",
    "    \n",
    "    Could use skipgram or bag of words with word2vec to embed words.\n",
    "\"\"\""
   ]
  },
  {
   "cell_type": "code",
   "execution_count": 55,
   "metadata": {},
   "outputs": [
    {
     "data": {
      "text/html": [
       "<div>\n",
       "<style scoped>\n",
       "    .dataframe tbody tr th:only-of-type {\n",
       "        vertical-align: middle;\n",
       "    }\n",
       "\n",
       "    .dataframe tbody tr th {\n",
       "        vertical-align: top;\n",
       "    }\n",
       "\n",
       "    .dataframe thead th {\n",
       "        text-align: right;\n",
       "    }\n",
       "</style>\n",
       "<table border=\"1\" class=\"dataframe\">\n",
       "  <thead>\n",
       "    <tr style=\"text-align: right;\">\n",
       "      <th></th>\n",
       "      <th>course</th>\n",
       "      <th>unit</th>\n",
       "      <th>lesson</th>\n",
       "      <th>video_title</th>\n",
       "      <th>about</th>\n",
       "      <th>transcript</th>\n",
       "      <th>transcript_n_entries</th>\n",
       "      <th>transcript_cleaned</th>\n",
       "    </tr>\n",
       "  </thead>\n",
       "  <tbody>\n",
       "    <tr>\n",
       "      <th>0</th>\n",
       "      <td>Computer programming</td>\n",
       "      <td>Intro to JS: Drawing &amp; Animation</td>\n",
       "      <td>Intro to programming</td>\n",
       "      <td>What is Programming?</td>\n",
       "      <td>Programming is the process of creating a set o...</td>\n",
       "      <td>['welcome', 'programming', 'learn', 'program',...</td>\n",
       "      <td>86</td>\n",
       "      <td>[tell, my favorite robot, give, the app, belie...</td>\n",
       "    </tr>\n",
       "    <tr>\n",
       "      <th>1</th>\n",
       "      <td>Computer programming</td>\n",
       "      <td>Intro to JS: Drawing &amp; Animation</td>\n",
       "      <td>Coloring</td>\n",
       "      <td>The Power of the Docs</td>\n",
       "      <td>Created by Pamela Fox.</td>\n",
       "      <td>['voiceover', 'a few program', 'wonder', 'eart...</td>\n",
       "      <td>205</td>\n",
       "      <td>[line, the docs machine, example, finally, the...</td>\n",
       "    </tr>\n",
       "    <tr>\n",
       "      <th>2</th>\n",
       "      <td>Computer programming</td>\n",
       "      <td>Intro to HTML/CSS: Making webpages</td>\n",
       "      <td>Further learning</td>\n",
       "      <td>HTML validation</td>\n",
       "      <td>Learn how to validate your webpages with the W...</td>\n",
       "      <td>['voiceover', 'khan academy', 'the oh no', 'gu...</td>\n",
       "      <td>75</td>\n",
       "      <td>[try, the w3 validation service, the html spec...</td>\n",
       "    </tr>\n",
       "    <tr>\n",
       "      <th>3</th>\n",
       "      <td>Computer programming</td>\n",
       "      <td>Intro to SQL: Querying and managing data</td>\n",
       "      <td>SQL basics</td>\n",
       "      <td>Welcome to SQL</td>\n",
       "      <td>SQL is useful for creating and querying relati...</td>\n",
       "      <td>['- instructor', 'the world', 'datum', 'datum'...</td>\n",
       "      <td>103</td>\n",
       "      <td>[an item, example, column, a badge table, datu...</td>\n",
       "    </tr>\n",
       "    <tr>\n",
       "      <th>4</th>\n",
       "      <td>Computer programming</td>\n",
       "      <td>Intro to SQL: Querying and managing data</td>\n",
       "      <td>SQL basics</td>\n",
       "      <td>S-Q-L or SEQUEL?</td>\n",
       "      <td>How is it pronounced? Why? Let's discuss...</td>\n",
       "      <td>['this point', 'probably', 'hear', 'pronounce'...</td>\n",
       "      <td>58</td>\n",
       "      <td>[our video, your query, figure, like, example,...</td>\n",
       "    </tr>\n",
       "  </tbody>\n",
       "</table>\n",
       "</div>"
      ],
      "text/plain": [
       "                 course                                      unit  \\\n",
       "0  Computer programming          Intro to JS: Drawing & Animation   \n",
       "1  Computer programming          Intro to JS: Drawing & Animation   \n",
       "2  Computer programming        Intro to HTML/CSS: Making webpages   \n",
       "3  Computer programming  Intro to SQL: Querying and managing data   \n",
       "4  Computer programming  Intro to SQL: Querying and managing data   \n",
       "\n",
       "                 lesson            video_title  \\\n",
       "0  Intro to programming   What is Programming?   \n",
       "1              Coloring  The Power of the Docs   \n",
       "2      Further learning        HTML validation   \n",
       "3            SQL basics         Welcome to SQL   \n",
       "4            SQL basics       S-Q-L or SEQUEL?   \n",
       "\n",
       "                                               about  \\\n",
       "0  Programming is the process of creating a set o...   \n",
       "1                             Created by Pamela Fox.   \n",
       "2  Learn how to validate your webpages with the W...   \n",
       "3  SQL is useful for creating and querying relati...   \n",
       "4       How is it pronounced? Why? Let's discuss...    \n",
       "\n",
       "                                          transcript  transcript_n_entries  \\\n",
       "0  ['welcome', 'programming', 'learn', 'program',...                    86   \n",
       "1  ['voiceover', 'a few program', 'wonder', 'eart...                   205   \n",
       "2  ['voiceover', 'khan academy', 'the oh no', 'gu...                    75   \n",
       "3  ['- instructor', 'the world', 'datum', 'datum'...                   103   \n",
       "4  ['this point', 'probably', 'hear', 'pronounce'...                    58   \n",
       "\n",
       "                                  transcript_cleaned  \n",
       "0  [tell, my favorite robot, give, the app, belie...  \n",
       "1  [line, the docs machine, example, finally, the...  \n",
       "2  [try, the w3 validation service, the html spec...  \n",
       "3  [an item, example, column, a badge table, datu...  \n",
       "4  [our video, your query, figure, like, example,...  "
      ]
     },
     "execution_count": 55,
     "metadata": {},
     "output_type": "execute_result"
    }
   ],
   "source": [
    "khan.head(5)"
   ]
  },
  {
   "cell_type": "code",
   "execution_count": 25,
   "metadata": {},
   "outputs": [],
   "source": [
    "# khan['transcript_cleaned'] = khan['transcript']"
   ]
  },
  {
   "cell_type": "code",
   "execution_count": 49,
   "metadata": {},
   "outputs": [],
   "source": [
    "corpus = khan['transcript_cleaned'].sum(axis=0)\n",
    "if isinstance(corpus, str):\n",
    "    # means it performed string concatenation so it needs to be cleaned up\n",
    "    print(corpus[0:100])\n",
    "    corpus = str_to_list(corpus)\n",
    "    print(corpus[0: 25])\n",
    "    print(len(corpus))\n",
    "    print(type(corpus))"
   ]
  },
  {
   "cell_type": "code",
   "execution_count": 52,
   "metadata": {},
   "outputs": [
    {
     "name": "stdout",
     "output_type": "stream",
     "text": [
      "272850\n",
      "['', 'then this molecule', 'not a procedural one', 'just the angle', 'an irishman', 'little pie piece', 'the actual remainder', '2sin', '\"158 centimeter pritis height eric\"', 'kind of a quick way', 'any single direction', 'the prophase', 'another notch', 'not all palestinians', 'other military structure', 'another resonance form', 'these two culture', 'a legitimate g', 'overweight', 'all us asset', '\"anyas rate 1a deck\"', 'a remarkably early image', 'my own body', '\"benfords law vi hart\"', 'a different transaction']\n"
     ]
    }
   ],
   "source": [
    "# convert the corpus to a set since there should be no unique values\n",
    "corpus = set(corpus)\n",
    "print(len(corpus))\n",
    "corpus = list(corpus)\n",
    "print(corpus[0:25])"
   ]
  },
  {
   "cell_type": "code",
   "execution_count": 67,
   "metadata": {},
   "outputs": [
    {
     "name": "stdout",
     "output_type": "stream",
     "text": [
      "26\n"
     ]
    }
   ],
   "source": [
    "num_topics = len(khan['course'].value_counts())\n",
    "print(num_topics)"
   ]
  },
  {
   "cell_type": "code",
   "execution_count": 62,
   "metadata": {},
   "outputs": [
    {
     "name": "stdout",
     "output_type": "stream",
     "text": [
      "<class 'list'>\n",
      "CPU times: total: 3.14 s\n",
      "Wall time: 3.15 s\n"
     ]
    }
   ],
   "source": [
    "%%time\n",
    "# LDA Normal\n",
    "temp = [d.split() for d in corpus]\n",
    "print(type(temp))\n",
    "words = corpora.Dictionary(temp)\n",
    "words.filter_extremes(no_below=15, no_above=0.5, keep_n=100000)\n",
    "corpus = [words.doc2bow(doc) for doc in temp]"
   ]
  },
  {
   "cell_type": "code",
   "execution_count": 68,
   "metadata": {},
   "outputs": [
    {
     "name": "stdout",
     "output_type": "stream",
     "text": [
      "CPU times: total: 5min 18s\n",
      "Wall time: 5min 23s\n"
     ]
    }
   ],
   "source": [
    "%%time\n",
    "lda_model = gensim.models.ldamodel.LdaModel(corpus=corpus,\n",
    "                                           id2word=words,\n",
    "                                           num_topics=num_topics,\n",
    "                                           random_state=2,\n",
    "                                           update_every=1,\n",
    "                                           passes=15,\n",
    "                                           alpha='auto')"
   ]
  },
  {
   "cell_type": "code",
   "execution_count": 69,
   "metadata": {},
   "outputs": [
    {
     "name": "stderr",
     "output_type": "stream",
     "text": [
      "c:\\Python310\\lib\\site-packages\\pyLDAvis\\_prepare.py:247: FutureWarning: In a future version of pandas all arguments of DataFrame.drop except for the argument 'labels' will be keyword-only.\n",
      "  by='saliency', ascending=False).head(R).drop('saliency', 1)\n"
     ]
    }
   ],
   "source": [
    "vis = pyLDAvis.gensim_models.prepare(lda_model, corpus, words, mds='mmds', R=10)"
   ]
  },
  {
   "cell_type": "code",
   "execution_count": 70,
   "metadata": {},
   "outputs": [
    {
     "data": {
      "text/html": [
       "\n",
       "<link rel=\"stylesheet\" type=\"text/css\" href=\"https://cdn.jsdelivr.net/gh/bmabey/pyLDAvis@3.3.1/pyLDAvis/js/ldavis.v1.0.0.css\">\n",
       "\n",
       "\n",
       "<div id=\"ldavis_el703621646046654402922235879\"></div>\n",
       "<script type=\"text/javascript\">\n",
       "\n",
       "var ldavis_el703621646046654402922235879_data = {\"mdsDat\": {\"x\": [0.5104879347118156, -0.5064903378455007, 0.2138719782809632, -0.11746524023542669, -0.44524606491634955, 0.1031246936225431, -0.4717249677747029, 0.3181418755751523, 0.46767239813490746, 0.47887063183546075, 0.35233630666476595, 0.16613375569207348, -0.3323761046281787, -0.2121416764787512, -0.22387493979757395, -0.4166216499851498, 0.021697584192176805, -0.060191189618102284, 0.03971400055442871, -0.10830491180783786, -0.2751973269669248, -0.3090783726766335, -0.012923261656080251, 0.3230230145405423, 0.3091005839715707, 0.18746128661081193], \"y\": [-0.022515784452621635, -0.056411903892576734, 0.048481992101613046, -0.013250106477704623, -0.23730601354865927, -0.2052407969491903, 0.12268045674958801, -0.18772379305522335, -0.20084036345494138, 0.16958943045383024, 0.37418432396005424, -0.45819664140824135, -0.3517520180594193, -0.4288554476036397, 0.23971626970551327, 0.28413564687591697, 0.2027492876836637, -0.3438851152300796, 0.48941501076812755, 0.4604184992216199, 0.42629591559332897, -0.06681553809723677, -0.5159904633779703, -0.39181834884059374, 0.21706173130055723, 0.44587377003428424], \"topics\": [1, 2, 3, 4, 5, 6, 7, 8, 9, 10, 11, 12, 13, 14, 15, 16, 17, 18, 19, 20, 21, 22, 23, 24, 25, 26], \"cluster\": [1, 1, 1, 1, 1, 1, 1, 1, 1, 1, 1, 1, 1, 1, 1, 1, 1, 1, 1, 1, 1, 1, 1, 1, 1, 1], \"Freq\": [13.149146847218201, 8.878734758139732, 6.332498452292136, 4.947942644723793, 4.6052676040117095, 4.1921670266055004, 4.145266360496451, 4.014496862538569, 3.7235142088700037, 3.6490147854963046, 3.387924531374638, 3.375089269086458, 3.288444256222145, 3.144113493896536, 2.89674519268048, 2.7732632166464453, 2.7548275642138753, 2.5974443699430503, 2.4551033593967646, 2.4412137803211365, 2.4064001354295934, 2.2769260850039132, 2.198156319228983, 2.191061271162827, 2.183358234614806, 1.9918793703859496]}, \"tinfo\": {\"Term\": [\"the\", \"a\", \"this\", \"our\", \"these\", \"an\", \"one\", \"two\", \"that\", \"time\", \"the\", \"value\", \"low\", \"unit\", \"next\", \"idea\", \"maybe\", \"pressure\", \"specific\", \"chain\", \"a\", \"good\", \"cell\", \"space\", \"pretty\", \"product\", \"end\", \"speed\", \"useful\", \"trade\", \"this\", \"so\", \"different\", \"its\", \"second\", \"big\", \"angle\", \"part\", \"about\", \"simple\", \"two\", \"time\", \"only\", \"function\", \"3\", \"state\", \"form\", \"5\", \"price\", \"curve\", \"an\", \"more\", \"and\", \"large\", \"electron\", \"over\", \"human\", \"zero\", \"cost\", \"current\", \"that\", \"very\", \"same\", \"high\", \"meter\", \"prime\", \"few\", \"derivative\", \"world\", \"place\", \"our\", \"their\", \"x\", \"then\", \"own\", \"original\", \"component\", \"word\", \"field\", \"such\", \"other\", \"first\", \"1\", \"new\", \"vector\", \"000\", \"plus\", \"total\", \"long\", \"mass\", \"one\", \"thing\", \"those\", \"really\", \"degree\", \"0\", \"water\", \"base\", \"definition\", \"common\", \"little\", \"point\", \"many\", \"no\", \"carbon\", \"how\", \"system\", \"structure\", \"distance\", \"government\", \"your\", \"2\", \"square\", \"any\", \"energy\", \"every\", \"root\", \"potential\", \"general\", \"single\", \"another\", \"four\", \"right\", \"most\", \"of\", \"kind\", \"molecule\", \"f\", \"example\", \"her\", \"just\", \"-\", \"much\", \"voiceover\", \"not\", \"real\", \"v\", \"average\", \"beth\", \"result\", \"these\", \"force\", \"charge\", \"million\", \"triangle\", \"half\", \"car\", \"figure\", \"basis\", \"g\", \"all\", \"minus\", \"term\", \"five\", \"six\", \"entire\", \"area\", \"level\", \"war\", \"property\", \"number\", \"positive\", \"both\", \"important\", \"hydrogen\", \"matrix\", \"particular\", \"oxygen\", \"100\", \"least\", \"line\", \"y\", \"people\", \"year\", \"t\", \"equation\", \"12\", \"to\", \"c\", \"times\", \"three\", \"his\", \"change\", \"problem\", \"each\", \"blue\", \"last\", \"capital\", \"interesting\", \"random\", \"my\", \"constant\", \"exact\", \"third\", \"case\", \"p\", \"piece\", \"orbital\", \"white\", \"vertical\", \"or\", \"small\", \"bond\", \"b\", \"reaction\", \"population\", \"early\", \"significant\", \"length\", \"scale\", \"some\", \"whole\", \"color\", \"equilibrium\", \"short\", \"version\", \"name\", \"concentration\", \"something\", \"percent\", \"rate\", \"what\", \"light\", \"american\", \"huge\", \"strong\", \"process\", \"economic\", \"expression\", \"dot\", \"\\\"the\", \"way\", \"4\", \"sine\", \"initial\", \"velocity\", \"video\", \"linear\", \"type\", \"9\", \"power\", \"actual\", \"side\", \"great\", \"less\", \"than\", \"income\", \"various\", \"k\", \"free\", \"group\", \"acid\", \"r\", \"cosine\", \"pi\", \"d\", \"period\", \"final\", \"amount\", \"interest\", \"negative\", \"even\", \"10\", \"well\", \"dollar\", \"market\", \"distribution\", \"bit\", \"traditional\", \"male\"], \"Freq\": [77153.0, 49879.0, 18399.0, 9814.0, 7910.0, 7739.0, 7183.0, 7847.0, 7342.0, 6932.0, 77152.26561862405, 1914.3209706356497, 1267.6344330640402, 1009.2831628392087, 939.7263365911206, 743.9731058248731, 619.7117727655452, 599.5657012533063, 554.7664645938765, 546.9055938992329, 49878.58528779041, 1957.806270222483, 1458.9857199251035, 862.9306843326897, 794.5748792328704, 713.3798887770241, 379.5927691509274, 362.92290945015696, 352.26889681426553, 325.1551173064594, 18398.072102565962, 4640.163169127492, 3706.911799811137, 2435.724489170199, 2116.983511572612, 1774.6317626329046, 1579.4023039702395, 1446.013208231947, 895.8195965467098, 874.7907091474133, 7846.272444878552, 6930.984511123279, 1886.0288934114565, 1725.215747263882, 1400.815975750285, 1347.755070861778, 1334.4683763932826, 1241.9595527575225, 893.7247650059103, 845.747181448869, 7738.271620109465, 5551.282991133546, 4824.446967296832, 1666.267401983678, 1583.0307558356135, 1191.749835352824, 814.1126842031764, 769.3887256427689, 685.2797059489645, 637.6058416908523, 7341.316107266875, 4283.247221665382, 3062.6937488952053, 1651.8522628368346, 882.5893526919824, 847.9822682493234, 844.0434238065906, 796.9287845108249, 678.1305585999132, 611.9687277109496, 9813.59194508382, 3523.645264290762, 1859.388334092279, 1422.1732252321958, 1044.7984135662102, 860.4199108897137, 691.9685096807449, 571.1644754443903, 487.8641045071265, 465.18238413057065, 4124.957029865594, 3335.797710986404, 2480.5836146952124, 2150.984376593166, 2099.7116806561194, 1222.9678677193792, 1219.426012762414, 1071.0678116863694, 800.9221431852375, 773.074023490155, 7182.505872135029, 2832.700597285586, 2722.55419663738, 1525.625790436819, 1429.8080428269477, 1137.7461118493995, 901.5872367822743, 784.5795793276328, 603.0077372972228, 602.2757816802587, 2730.0712786733093, 2685.0615538902175, 2457.1298660340976, 2139.7798402490153, 1530.7317308151844, 1461.72458817849, 1054.7075441068102, 938.6307097047311, 651.9423472385305, 640.4738471747329, 4810.507131666026, 2547.201029939197, 2070.7450658822413, 2014.476123547006, 1682.8409238099473, 1158.0092434544983, 946.2477559799148, 799.4405016493013, 788.6130676217722, 657.7395250767455, 2209.2913174878095, 2100.8281128319345, 1992.440732569275, 1871.5773502405245, 1691.4089606872292, 1642.246560518169, 1408.4084221372386, 887.1863773107835, 823.6047342176436, 798.7729458959518, 4353.924556314417, 3325.604800461007, 1345.2682112869782, 1275.1234243716865, 1060.2014543106693, 1001.2651976419105, 670.1528852623219, 539.8262408948635, 508.5758311025731, 394.95265826381154, 7909.294431622924, 1286.41698620747, 1152.2123322943319, 953.4069509040827, 691.6512288599165, 622.9009212485475, 551.0394379037353, 508.3050307934577, 461.3338097490109, 453.15108356125563, 4122.411434366175, 2644.531093372461, 1482.0881650798829, 1477.7886607175215, 1168.0114530025326, 1063.8170445529927, 798.2326607257443, 628.0324362492332, 612.7459149845184, 604.2057093877632, 2618.3236484006943, 1495.6452563099808, 1190.1996323073502, 885.401795508946, 825.6351523152713, 790.155493173436, 736.1936823401578, 638.3576700753569, 622.4369541715722, 571.827068009386, 1679.4518302501958, 1588.2766401308095, 1544.20091084989, 1362.1035206776198, 1215.482913237764, 940.3479258463748, 787.2319771143698, 752.528314873318, 744.0608659864979, 522.6166597255307, 2933.840618948546, 2069.2916479062474, 1054.449226096699, 1051.1990617540384, 922.4830796977973, 827.2346127704409, 770.7361719319327, 683.0574060852623, 673.6740844613348, 547.5712927557327, 3528.7690983273683, 915.6610655278174, 870.839673940619, 856.6341787574578, 521.5067402366029, 509.23814090580436, 495.20365507332525, 463.63653905944176, 457.081435379161, 347.9505603513606, 1898.802986349126, 1889.074817736379, 1518.5299455590425, 1500.2652314089821, 975.8172612771059, 653.8444554490114, 606.1012561709473, 487.2842254667713, 464.1526088116312, 430.40471096942673, 5352.068857513817, 1229.9393065260342, 885.9136737593572, 516.4178814745641, 487.4642860055098, 395.36988679073266, 394.32338896701305, 357.0797777792341, 334.4619467614109, 324.3335445982202, 1050.1112845346474, 1001.0979169865541, 948.349245218711, 742.4839931796589, 653.0720792155537, 630.7490926709761, 551.8625650932782, 538.1732424792402, 520.1263307496623, 473.97556232470316, 1830.5546797981935, 1602.2836390204527, 1070.7936469346232, 648.6266177270629, 635.6830540102848, 623.2685100819496, 577.4032300448727, 507.66334455049537, 493.96106483875855, 461.54142405229015, 1696.9040303948218, 1300.4222812409002, 1195.4867441936722, 1084.3904583809722, 834.457408225103, 660.3189157018151, 503.4021675224484, 484.1554122405951, 458.45145491345215, 445.7207887630531, 1330.1277433724326, 1077.621106048265, 923.740637908476, 815.0344693750316, 706.0229492994645, 600.0681165402027, 582.1674133924699, 569.5607164098376, 553.9846725074781, 545.1769429300995, 3483.404179289314, 1383.2826509899196, 1118.535586215321, 1085.2096201902514, 602.4129339325259, 590.7813588605104, 482.1050866328354, 440.98374282745715, 362.44602737037644, 355.9302432475058], \"Total\": [77153.0, 49879.0, 18399.0, 9814.0, 7910.0, 7739.0, 7183.0, 7847.0, 7342.0, 6932.0, 77153.44917484465, 1915.5045268562792, 1268.8179892846697, 1010.4667190598383, 940.9098928117502, 745.1566620455027, 620.8953289861748, 600.7492574739359, 555.9500208145062, 548.0891501198626, 49879.769080687955, 1958.9900631200178, 1460.1695128226384, 864.1144772302246, 795.7586721304053, 714.563681674559, 380.7765620484624, 364.10670234769196, 353.45268971180053, 326.3389102039944, 18399.25642424235, 4641.347490803883, 3708.0961214875288, 2436.9088108465908, 2118.1678332490037, 1775.816084309296, 1580.5866256466309, 1447.1975299083383, 897.0039182231013, 875.9750308238048, 7847.456857575803, 6932.16892382053, 1887.2133061087084, 1726.4001599611338, 1402.0003884475368, 1348.93948355903, 1335.6527890905345, 1243.1439654547744, 894.9091777031623, 846.931594146121, 7739.456362246057, 5552.467733270138, 4825.631709433424, 1667.4521441202705, 1584.215497972206, 1192.9345774894166, 815.2974263397691, 770.5734677793616, 686.4644480855573, 638.7905838274451, 7342.502468171324, 4284.433582569831, 3063.880109799655, 1653.0386237412838, 883.7757135964317, 849.1686291537727, 845.2297847110399, 798.1151454152742, 679.3169195043625, 613.1550886153989, 9814.777326651449, 3524.8306458583893, 1860.5737156599057, 1423.3586067998226, 1045.983795133837, 861.6052924573406, 693.1538912483718, 572.3498570120172, 489.0494860747535, 466.3677656981976, 4126.14334665291, 3336.9840277737203, 2481.7699314825286, 2152.170693380482, 2100.8979974434355, 1224.1541845066952, 1220.61232954973, 1072.2541284736853, 802.1084599725534, 774.260340277471, 7183.691787348809, 2833.8865124993663, 2723.7401118511602, 1526.8117056505994, 1430.993958040728, 1138.93202706318, 902.7731519960548, 785.7654945414133, 604.1936525110033, 603.4616968940392, 2731.257619879228, 2686.2478950961363, 2458.3162072400164, 2140.966181454934, 1531.9180720211032, 1462.9109293844087, 1055.893885312729, 939.81705091065, 653.1286884444494, 641.6601883806518, 4811.692681022988, 2548.3865792961587, 2071.9306152392032, 2015.6616729039677, 1684.026473166909, 1159.19479281146, 947.4333053368765, 800.626051006263, 789.7986169787339, 658.9250744337072, 2210.4777716984395, 2102.0145670425645, 1993.6271867799048, 1872.7638044511543, 1692.595414897859, 1643.4330147287988, 1409.5948763478684, 888.3728315214132, 824.7911884282732, 799.9594001065815, 4355.112797158332, 3326.793041304923, 1346.4564521308937, 1276.311665215602, 1061.3896951545848, 1002.4534384858259, 671.3411261062373, 541.014481738779, 509.7640719464886, 396.1408991077271, 7910.480455244998, 1287.603009829544, 1153.3983559164058, 954.5929745261566, 692.8372524819904, 624.0869448706214, 552.2254615258092, 509.4910544155316, 462.5198333710848, 454.3371071833295, 4123.597188562386, 2645.7168475686713, 1483.2739192760935, 1478.974414913732, 1169.1972071987432, 1065.0027987492033, 799.4184149219546, 629.2181904454436, 613.9316691807288, 605.3914635839736, 2619.509899430383, 1496.8315073396698, 1191.385883337039, 886.5880465386348, 826.8214033449601, 791.3417442031248, 737.3799333698466, 639.5439211050457, 623.623205201261, 573.0133190390749, 1680.638423410998, 1589.4632332916117, 1545.3875040106923, 1363.290113838422, 1216.6695063985662, 941.5345190071768, 788.4185702751718, 753.71490803412, 745.2474591472999, 523.8032528863326, 2935.027976351349, 2070.4790053090505, 1055.6365834995022, 1052.3864191568416, 923.6704371006006, 828.4219701732442, 771.923529334736, 684.2447634880656, 674.8614418641381, 548.7586501585359, 3529.955343930562, 916.847311131011, 872.0259195438126, 857.8204243606514, 522.6929858397965, 510.424386508998, 496.3899006765189, 464.8227846626354, 458.26768098235465, 349.13680595455423, 1899.989503291551, 1890.261334678804, 1519.7164625014675, 1501.451748351407, 977.0037782195309, 655.0309723914364, 607.2877731133723, 488.47074240919636, 465.3391257540562, 431.5912279118518, 5353.255221490016, 1231.125670502233, 887.100037735556, 517.604245450763, 488.65064998170874, 396.5562507669316, 395.509752943212, 358.26614175543307, 335.64831073760985, 325.51990857441916, 1051.298069816148, 1002.2847022680547, 949.5360305002116, 743.6707784611596, 654.2588644970543, 631.9358779524767, 553.0493503747789, 539.3600277607409, 521.313116031163, 475.1623476062038, 1831.7426256490235, 1603.4715848712826, 1071.9815927854531, 649.8145635778928, 636.8709998611147, 624.4564559327795, 578.5911758957026, 508.85129040132523, 495.1490106895884, 462.72936990312, 1698.091074264753, 1301.6093251108314, 1196.6737880636033, 1085.5775022509033, 835.6444520950344, 661.5059595717464, 504.5892113923796, 485.3424561105263, 459.63849878338334, 446.9078326329843, 1331.31777611162, 1078.8111387874524, 924.9306706476634, 816.224502114219, 707.212982038652, 601.2581492793902, 583.3574461316574, 570.7507491490251, 555.1747052466656, 546.366975669287, 3484.592606913664, 1384.4710786142696, 1119.724013839671, 1086.3980478146013, 603.6013615568759, 591.9697864848604, 483.29351425718534, 442.17217045180706, 363.63445499472635, 357.1186708718557], \"Category\": [\"Default\", \"Default\", \"Default\", \"Default\", \"Default\", \"Default\", \"Default\", \"Default\", \"Default\", \"Default\", \"Topic1\", \"Topic1\", \"Topic1\", \"Topic1\", \"Topic1\", \"Topic1\", \"Topic1\", \"Topic1\", \"Topic1\", \"Topic1\", \"Topic2\", \"Topic2\", \"Topic2\", \"Topic2\", \"Topic2\", \"Topic2\", \"Topic2\", \"Topic2\", \"Topic2\", \"Topic2\", \"Topic3\", \"Topic3\", \"Topic3\", \"Topic3\", \"Topic3\", \"Topic3\", \"Topic3\", \"Topic3\", \"Topic3\", \"Topic3\", \"Topic4\", \"Topic4\", \"Topic4\", \"Topic4\", \"Topic4\", \"Topic4\", \"Topic4\", \"Topic4\", \"Topic4\", \"Topic4\", \"Topic5\", \"Topic5\", \"Topic5\", \"Topic5\", \"Topic5\", \"Topic5\", \"Topic5\", \"Topic5\", \"Topic5\", \"Topic5\", \"Topic6\", \"Topic6\", \"Topic6\", \"Topic6\", \"Topic6\", \"Topic6\", \"Topic6\", \"Topic6\", \"Topic6\", \"Topic6\", \"Topic7\", \"Topic7\", \"Topic7\", \"Topic7\", \"Topic7\", \"Topic7\", \"Topic7\", \"Topic7\", \"Topic7\", \"Topic7\", \"Topic8\", \"Topic8\", \"Topic8\", \"Topic8\", \"Topic8\", \"Topic8\", \"Topic8\", \"Topic8\", \"Topic8\", \"Topic8\", \"Topic9\", \"Topic9\", \"Topic9\", \"Topic9\", \"Topic9\", \"Topic9\", \"Topic9\", \"Topic9\", \"Topic9\", \"Topic9\", \"Topic10\", \"Topic10\", \"Topic10\", \"Topic10\", \"Topic10\", \"Topic10\", \"Topic10\", \"Topic10\", \"Topic10\", \"Topic10\", \"Topic11\", \"Topic11\", \"Topic11\", \"Topic11\", \"Topic11\", \"Topic11\", \"Topic11\", \"Topic11\", \"Topic11\", \"Topic11\", \"Topic12\", \"Topic12\", \"Topic12\", \"Topic12\", \"Topic12\", \"Topic12\", \"Topic12\", \"Topic12\", \"Topic12\", \"Topic12\", \"Topic13\", \"Topic13\", \"Topic13\", \"Topic13\", \"Topic13\", \"Topic13\", \"Topic13\", \"Topic13\", \"Topic13\", \"Topic13\", \"Topic14\", \"Topic14\", \"Topic14\", \"Topic14\", \"Topic14\", \"Topic14\", \"Topic14\", \"Topic14\", \"Topic14\", \"Topic14\", \"Topic15\", \"Topic15\", \"Topic15\", \"Topic15\", \"Topic15\", \"Topic15\", \"Topic15\", \"Topic15\", \"Topic15\", \"Topic15\", \"Topic16\", \"Topic16\", \"Topic16\", \"Topic16\", \"Topic16\", \"Topic16\", \"Topic16\", \"Topic16\", \"Topic16\", \"Topic16\", \"Topic17\", \"Topic17\", \"Topic17\", \"Topic17\", \"Topic17\", \"Topic17\", \"Topic17\", \"Topic17\", \"Topic17\", \"Topic17\", \"Topic18\", \"Topic18\", \"Topic18\", \"Topic18\", \"Topic18\", \"Topic18\", \"Topic18\", \"Topic18\", \"Topic18\", \"Topic18\", \"Topic19\", \"Topic19\", \"Topic19\", \"Topic19\", \"Topic19\", \"Topic19\", \"Topic19\", \"Topic19\", \"Topic19\", \"Topic19\", \"Topic20\", \"Topic20\", \"Topic20\", \"Topic20\", \"Topic20\", \"Topic20\", \"Topic20\", \"Topic20\", \"Topic20\", \"Topic20\", \"Topic21\", \"Topic21\", \"Topic21\", \"Topic21\", \"Topic21\", \"Topic21\", \"Topic21\", \"Topic21\", \"Topic21\", \"Topic21\", \"Topic22\", \"Topic22\", \"Topic22\", \"Topic22\", \"Topic22\", \"Topic22\", \"Topic22\", \"Topic22\", \"Topic22\", \"Topic22\", \"Topic23\", \"Topic23\", \"Topic23\", \"Topic23\", \"Topic23\", \"Topic23\", \"Topic23\", \"Topic23\", \"Topic23\", \"Topic23\", \"Topic24\", \"Topic24\", \"Topic24\", \"Topic24\", \"Topic24\", \"Topic24\", \"Topic24\", \"Topic24\", \"Topic24\", \"Topic24\", \"Topic25\", \"Topic25\", \"Topic25\", \"Topic25\", \"Topic25\", \"Topic25\", \"Topic25\", \"Topic25\", \"Topic25\", \"Topic25\", \"Topic26\", \"Topic26\", \"Topic26\", \"Topic26\", \"Topic26\", \"Topic26\", \"Topic26\", \"Topic26\", \"Topic26\", \"Topic26\"], \"logprob\": [10.0, 9.0, 8.0, 7.0, 6.0, 5.0, 4.0, 3.0, 2.0, 1.0, -0.1713, -3.8677, -4.2799, -4.5078, -4.5792, -4.8128, -4.9956, -5.0286, -5.1063, -5.1206, -0.2148, -3.4526, -3.7466, -4.2718, -4.3543, -4.4621, -5.093, -5.1379, -5.1677, -5.2478, -0.8742, -2.2517, -2.4762, -2.8962, -3.0364, -3.2128, -3.3294, -3.4176, -3.8964, -3.9202, -1.4797, -1.6037, -2.9052, -2.9943, -3.2026, -3.2413, -3.2512, -3.323, -3.6521, -3.7072, -1.4217, -1.7539, -1.8942, -2.9573, -3.0086, -3.2925, -3.6736, -3.7301, -3.8459, -3.918, -1.3804, -1.9192, -2.2546, -2.872, -3.4988, -3.5388, -3.5435, -3.6009, -3.7624, -3.865, -1.0789, -2.1032, -2.7424, -3.0105, -3.3189, -3.513, -3.7309, -3.9228, -4.0804, -4.128, -1.9136, -2.1259, -2.4221, -2.5647, -2.5888, -3.1294, -3.1323, -3.262, -3.5526, -3.588, -1.2837, -2.2142, -2.2538, -2.833, -2.8979, -3.1263, -3.359, -3.498, -3.7612, -3.7624, -2.2309, -2.2475, -2.3362, -2.4745, -2.8094, -2.8556, -3.1819, -3.2985, -3.663, -3.6807, -1.5901, -2.2259, -2.433, -2.4606, -2.6405, -3.0142, -3.2162, -3.3848, -3.3984, -3.5799, -2.3645, -2.4148, -2.4678, -2.5304, -2.6316, -2.6611, -2.8147, -3.2768, -3.3512, -3.3818, -1.6601, -1.9295, -2.8345, -2.8881, -3.0727, -3.1299, -3.5314, -3.7476, -3.8073, -4.0601, -1.0182, -2.8344, -2.9446, -3.134, -3.4549, -3.5596, -3.6822, -3.7629, -3.8599, -3.8778, -1.5879, -2.0318, -2.6109, -2.6138, -2.849, -2.9424, -3.2297, -3.4695, -3.4941, -3.5082, -1.9982, -2.5582, -2.7866, -3.0825, -3.1524, -3.1963, -3.267, -3.4096, -3.4349, -3.5197, -2.4356, -2.4914, -2.5196, -2.645, -2.7589, -3.0156, -3.1933, -3.2384, -3.2497, -3.603, -1.8189, -2.168, -2.8422, -2.8453, -2.9759, -3.0849, -3.1557, -3.2764, -3.2903, -3.4975, -1.5779, -2.927, -2.9772, -2.9936, -3.4899, -3.5137, -3.5417, -3.6075, -3.6218, -3.8946, -2.192, -2.1971, -2.4155, -2.4276, -2.8577, -3.2581, -3.3339, -3.5521, -3.6008, -3.6762, -1.1414, -2.6119, -2.94, -3.4797, -3.5374, -3.7468, -3.7494, -3.8487, -3.9141, -3.9448, -2.7147, -2.7625, -2.8166, -3.0613, -3.1896, -3.2244, -3.358, -3.3831, -3.4172, -3.5101, -2.1237, -2.2569, -2.6599, -3.1612, -3.1814, -3.2011, -3.2776, -3.4063, -3.4336, -3.5015, -2.1963, -2.4624, -2.5466, -2.6441, -2.9061, -3.1401, -3.4115, -3.4505, -3.505, -3.5332, -2.4363, -2.6468, -2.8009, -2.9261, -3.0697, -3.2323, -3.2626, -3.2845, -3.3122, -3.3282, -1.3818, -2.3053, -2.5178, -2.548, -3.1366, -3.1561, -3.3594, -3.4485, -3.6447, -3.6628], \"loglift\": [10.0, 9.0, 8.0, 7.0, 6.0, 5.0, 4.0, 3.0, 2.0, 1.0, 2.0288, 2.0282, 2.0279, 2.0276, 2.0276, 2.0272, 2.0269, 2.0268, 2.0267, 2.0267, 2.4215, 2.4209, 2.4207, 2.4201, 2.42, 2.4199, 2.4184, 2.4183, 2.4182, 2.4179, 2.7594, 2.7592, 2.7592, 2.759, 2.7589, 2.7588, 2.7587, 2.7587, 2.7582, 2.7581, 3.006, 3.006, 3.0056, 3.0055, 3.0054, 3.0053, 3.0053, 3.0052, 3.0049, 3.0048, 3.0778, 3.0778, 3.0777, 3.0773, 3.0772, 3.077, 3.0765, 3.0764, 3.0762, 3.0761, 3.1718, 3.1717, 3.1716, 3.1712, 3.1706, 3.1706, 3.1705, 3.1705, 3.1702, 3.17, 3.1831, 3.1829, 3.1826, 3.1824, 3.1821, 3.1818, 3.1815, 3.1811, 3.1808, 3.1807, 3.215, 3.2149, 3.2148, 3.2147, 3.2147, 3.2143, 3.2143, 3.2142, 3.2138, 3.2137, 3.2903, 3.2901, 3.2901, 3.2897, 3.2897, 3.2895, 3.2892, 3.289, 3.2885, 3.2885, 3.3103, 3.3103, 3.3102, 3.3102, 3.3099, 3.3099, 3.3096, 3.3094, 3.3089, 3.3089, 3.3847, 3.3845, 3.3844, 3.3844, 3.3842, 3.3839, 3.3837, 3.3835, 3.3835, 3.3832, 3.3882, 3.3882, 3.3882, 3.3881, 3.388, 3.388, 3.3879, 3.3874, 3.3873, 3.3873, 3.4145, 3.4144, 3.4139, 3.4138, 3.4136, 3.4136, 3.413, 3.4126, 3.4124, 3.4118, 3.4595, 3.4587, 3.4586, 3.4584, 3.4579, 3.4577, 3.4575, 3.4573, 3.4571, 3.457, 3.5413, 3.5411, 3.5408, 3.5408, 3.5406, 3.5405, 3.5401, 3.5397, 3.5396, 3.5396, 3.5847, 3.5844, 3.5841, 3.5838, 3.5837, 3.5836, 3.5835, 3.5833, 3.5832, 3.5831, 3.5911, 3.5911, 3.591, 3.5909, 3.5908, 3.5906, 3.5903, 3.5902, 3.5902, 3.5895, 3.6502, 3.6501, 3.6495, 3.6495, 3.6494, 3.6492, 3.6491, 3.6489, 3.6489, 3.6485, 3.7067, 3.7057, 3.7056, 3.7056, 3.7047, 3.7047, 3.7046, 3.7044, 3.7044, 3.7036, 3.7121, 3.712, 3.7119, 3.7119, 3.7115, 3.7109, 3.7107, 3.7102, 3.7101, 3.7099, 3.7268, 3.7261, 3.7257, 3.7247, 3.7246, 3.724, 3.724, 3.7237, 3.7235, 3.7234, 3.7812, 3.7812, 3.7811, 3.7807, 3.7805, 3.7805, 3.7802, 3.7801, 3.7801, 3.7798, 3.8169, 3.8168, 3.8164, 3.8157, 3.8157, 3.8156, 3.8155, 3.8152, 3.8151, 3.815, 3.8201, 3.8199, 3.8198, 3.8197, 3.8194, 3.819, 3.8184, 3.8183, 3.8182, 3.8181, 3.8234, 3.8232, 3.823, 3.8228, 3.8226, 3.8223, 3.8223, 3.8222, 3.8222, 3.8221, 3.9158, 3.9152, 3.915, 3.915, 3.9141, 3.9141, 3.9136, 3.9134, 3.9128, 3.9128]}, \"token.table\": {\"Topic\": [23, 13, 9, 8, 8, 26, 16, 17, 11, 4, 23, 4, 23, 2, 3, 25, 24, 15, 22, 25, 5, 5, 3, 12, 11, 15, 13, 20, 9, 14, 13, 3, 26, 18, 20, 16, 17, 18, 14, 10, 19, 2, 1, 18, 14, 21, 9, 7, 21, 19, 25, 5, 5, 4, 25, 9, 9, 6, 3, 10, 26, 26, 22, 18, 20, 22, 5, 2, 11, 15, 17, 21, 26, 11, 19, 12, 22, 12, 6, 7, 14, 25, 8, 15, 14, 4, 12, 24, 4, 14, 11, 2, 10, 24, 25, 14, 12, 6, 18, 10, 22, 5, 16, 1, 16, 24, 23, 25, 18, 3, 13, 24, 12, 5, 18, 16, 20, 24, 15, 22, 17, 23, 10, 8, 1, 26, 10, 26, 8, 16, 1, 6, 14, 15, 12, 5, 12, 13, 19, 21, 26, 8, 1, 10, 13, 16, 12, 9, 4, 20, 19, 7, 8, 7, 5, 7, 16, 19, 3, 16, 17, 21, 25, 25, 19, 6, 8, 10, 20, 16, 11, 24, 1, 2, 4, 6, 18, 22, 2, 15, 25, 18, 22, 20, 13, 9, 13, 12, 11, 6, 20, 3, 21, 24, 20, 3, 23, 11, 15, 20, 3, 21, 21, 2, 1, 2, 11, 4, 22, 10, 7, 10, 17, 15, 24, 6, 1, 7, 7, 14, 9, 19, 3, 9, 18, 4, 17, 17, 8, 2, 26, 14, 4, 23, 1, 2, 13, 1, 24, 8, 23, 21, 19, 6, 23, 13, 15, 9, 23, 26, 22, 19, 21, 7, 6, 7, 17, 17, 11, 5], \"Freq\": [0.9995945796977016, 0.999761619885855, 0.9991816657701836, 0.9990571575694444, 0.999689765166077, 0.9993533997389337, 0.9973971379067955, 0.9982007396468646, 0.999455899153047, 0.9992864563692136, 0.9990843193651278, 0.9990797803902335, 0.998423765702893, 0.9999845813101759, 0.9988808095453028, 0.9992481178972956, 0.9987635882136183, 0.9996126710516692, 0.9977533358717996, 0.9978840800282073, 0.9998118262862542, 0.999661866148999, 0.9989961792533948, 0.9993314695504475, 0.9991756191397073, 0.9982256914583421, 0.99812485289577, 0.9990331035592711, 0.9990257977135276, 0.9967140147050398, 0.9985011263277714, 0.9995404454794015, 0.9973490632605635, 0.9982835194810843, 0.9995285551488412, 0.9988367468874507, 0.9983261141893363, 0.9981808213164538, 0.9977808673971257, 0.9994007042296381, 0.9986742009964356, 0.9991990568133575, 0.9980128230605836, 0.9984496714825126, 0.9987876210250927, 0.9987599620237149, 0.9975778133035412, 0.9983353029349751, 0.9964659184671227, 0.9990758427049693, 0.9984997974073956, 0.9978666803653978, 0.9987623740119835, 0.9989000361392112, 0.9979074723878619, 0.9980243875352836, 0.999305407241489, 0.9986027762764808, 0.9997043977686617, 0.9982718743420419, 0.997323543107808, 0.9973469881632714, 0.9975537884850103, 0.9981915226107657, 0.9978794680703511, 0.9974784416887783, 0.9992327445516334, 0.9979605833818008, 0.999390464946208, 0.9990584074047683, 0.9983701935763387, 0.9969006331287606, 0.9989374435934465, 0.9989692907362341, 0.998823521731614, 0.9990407409301002, 0.9974811375528781, 0.9984546673730869, 0.9985450291349348, 0.9978540288771655, 0.9970734433851011, 0.9986846287102655, 0.9997051146287995, 0.9993411549896292, 0.998755043427744, 0.9987625608211698, 0.9995173358650925, 0.9979686356633408, 0.9991889713673536, 0.9970570152378287, 0.9989888346705532, 0.9994946053384054, 0.9974126673109616, 0.9985468543262619, 0.999010171624487, 0.9982583438420639, 0.9988006890018998, 0.9993716881587842, 0.9992856699801069, 0.9993773172610091, 0.9980758923335, 0.9984086465897558, 0.9990065528763079, 0.9984477599081949, 0.9982088112457248, 0.9968504847973378, 0.9986323763190589, 0.9974980631513967, 0.9987235278077844, 0.9996270640729166, 0.9997444848824448, 0.9964352446809389, 0.999128035815299, 0.9991291239599343, 0.998803599968598, 0.9982315960111117, 0.9971222584133964, 0.9980321151048014, 0.9980639618117505, 0.9983823357399061, 0.9990251184382226, 0.9983270349955213, 0.9995395454935944, 0.9986180672217428, 0.9993553139287291, 0.996867509421659, 0.999464589935119, 0.9983617635443541, 0.9983722009098137, 0.998304469323205, 0.9985580033471394, 0.9991222732368656, 0.9983312526190051, 0.999729053557137, 0.9988685569345991, 0.9997356610896911, 0.9995921512102386, 0.9989183072882983, 0.999729360901915, 0.9961827668420891, 0.9995429575008269, 0.9994560406458081, 0.9990329649855938, 0.9995487170870315, 0.9986906833927924, 0.9994235946843677, 0.999057415089385, 0.9999037003021166, 0.9993570911646389, 0.9994792059167502, 0.9982298960167528, 0.998136858638876, 0.9997229018585025, 0.999920800378289, 0.9992165727215456, 0.9990594547081763, 0.997585902931611, 0.9972094074134271, 0.9991725179986908, 0.998128599237112, 0.9991021643393057, 0.9953308275949221, 0.9976730456760964, 0.9982848419507864, 0.997199981960502, 0.9981161558684815, 0.9986790813834194, 0.9995354505075967, 0.9984260707739171, 0.9994444883504974, 0.9979690256091227, 0.9993574701137715, 0.998752795006212, 0.9990466052624042, 0.9989840558954868, 0.9986237961299427, 0.9986825949749975, 0.9981026098772781, 0.997811697243142, 0.997701547399205, 0.9989937941543102, 0.9986175158089685, 0.998765269476453, 0.9989725953554037, 0.9985501187087339, 0.9994683655832639, 0.9971199663798995, 0.9991838058837204, 0.9984871702010023, 0.9997127466584478, 0.9963131134069834, 0.9994486587744974, 0.9966220243812823, 0.9986012996354573, 0.9969890880220533, 0.9988869193875448, 0.9987464676485429, 0.9985960855496321, 0.99897604339852, 0.9993327194205037, 0.9997096768111947, 0.9997655218296005, 0.995089173146775, 0.998710266683881, 0.9982911758630492, 0.99696049992885, 0.9995508463302977, 0.9993035391353872, 0.9985190301973215, 0.9991306277005101, 0.9970671950361966, 0.9991534326269308, 0.998627806162819, 0.9991411436151219, 0.9977234376350572, 0.9997953738282231, 0.9999812169791481, 0.9997643444630836, 0.9990454922650328, 0.9998128488840377, 0.9996871743115131, 0.9990435942799301, 0.9999317133142025, 0.9997282736895712, 0.999649755859354, 0.9998313768990087, 0.99846649885829, 0.999051487470263, 0.9988303813057167, 0.9958971787852162, 0.995505225172488, 0.9987915596642775, 0.9998143529041008, 0.9976794648382955, 0.9985484736585852, 0.9958900023848029, 0.998002317966105, 0.9992145532233493, 0.9972340023139855, 0.9995725649486418, 0.9976676421246956, 0.996075586341353, 0.9967439526994407, 0.9996653974108356, 0.9972499133032243, 0.9989723002215289, 0.998482454599594, 0.9991435810930516, 0.9990822507332422, 0.9987131348243734, 0.9987182262034454, 0.9972337543427954, 0.9990856575171778, 0.9976415526351938, 0.9980614062942472, 0.9991541772053103, 0.9990794167106455, 0.9990536762312537, 0.9998560421313439, 0.9979580561164453], \"Term\": [\"\\\"the\", \"-\", \"0\", \"000\", \"1\", \"10\", \"100\", \"12\", \"2\", \"3\", \"4\", \"5\", \"9\", \"a\", \"about\", \"acid\", \"actual\", \"all\", \"american\", \"amount\", \"an\", \"and\", \"angle\", \"another\", \"any\", \"area\", \"average\", \"b\", \"base\", \"basis\", \"beth\", \"big\", \"bit\", \"blue\", \"bond\", \"both\", \"c\", \"capital\", \"car\", \"carbon\", \"case\", \"cell\", \"chain\", \"change\", \"charge\", \"color\", \"common\", \"component\", \"concentration\", \"constant\", \"cosine\", \"cost\", \"current\", \"curve\", \"d\", \"definition\", \"degree\", \"derivative\", \"different\", \"distance\", \"distribution\", \"dollar\", \"dot\", \"each\", \"early\", \"economic\", \"electron\", \"end\", \"energy\", \"entire\", \"equation\", \"equilibrium\", \"even\", \"every\", \"exact\", \"example\", \"expression\", \"f\", \"few\", \"field\", \"figure\", \"final\", \"first\", \"five\", \"force\", \"form\", \"four\", \"free\", \"function\", \"g\", \"general\", \"good\", \"government\", \"great\", \"group\", \"half\", \"her\", \"high\", \"his\", \"how\", \"huge\", \"human\", \"hydrogen\", \"idea\", \"important\", \"income\", \"initial\", \"interest\", \"interesting\", \"its\", \"just\", \"k\", \"kind\", \"large\", \"last\", \"least\", \"length\", \"less\", \"level\", \"light\", \"line\", \"linear\", \"little\", \"long\", \"low\", \"male\", \"many\", \"market\", \"mass\", \"matrix\", \"maybe\", \"meter\", \"million\", \"minus\", \"molecule\", \"more\", \"most\", \"much\", \"my\", \"name\", \"negative\", \"new\", \"next\", \"no\", \"not\", \"number\", \"of\", \"one\", \"only\", \"or\", \"orbital\", \"original\", \"other\", \"our\", \"over\", \"own\", \"oxygen\", \"p\", \"part\", \"particular\", \"people\", \"percent\", \"period\", \"pi\", \"piece\", \"place\", \"plus\", \"point\", \"population\", \"positive\", \"potential\", \"power\", \"pressure\", \"pretty\", \"price\", \"prime\", \"problem\", \"process\", \"product\", \"property\", \"r\", \"random\", \"rate\", \"reaction\", \"real\", \"really\", \"result\", \"right\", \"root\", \"same\", \"scale\", \"second\", \"short\", \"side\", \"significant\", \"simple\", \"sine\", \"single\", \"six\", \"small\", \"so\", \"some\", \"something\", \"space\", \"specific\", \"speed\", \"square\", \"state\", \"strong\", \"structure\", \"such\", \"system\", \"t\", \"term\", \"than\", \"that\", \"the\", \"their\", \"then\", \"these\", \"thing\", \"third\", \"this\", \"those\", \"three\", \"time\", \"times\", \"to\", \"total\", \"trade\", \"traditional\", \"triangle\", \"two\", \"type\", \"unit\", \"useful\", \"v\", \"value\", \"various\", \"vector\", \"velocity\", \"version\", \"vertical\", \"very\", \"video\", \"voiceover\", \"war\", \"water\", \"way\", \"well\", \"what\", \"white\", \"whole\", \"word\", \"world\", \"x\", \"y\", \"year\", \"your\", \"zero\"]}, \"R\": 10, \"lambda.step\": 0.01, \"plot.opts\": {\"xlab\": \"PC1\", \"ylab\": \"PC2\"}, \"topic.order\": [4, 26, 12, 6, 1, 21, 13, 5, 7, 24, 15, 10, 16, 18, 23, 19, 11, 22, 20, 17, 3, 25, 9, 2, 14, 8]};\n",
       "\n",
       "function LDAvis_load_lib(url, callback){\n",
       "  var s = document.createElement('script');\n",
       "  s.src = url;\n",
       "  s.async = true;\n",
       "  s.onreadystatechange = s.onload = callback;\n",
       "  s.onerror = function(){console.warn(\"failed to load library \" + url);};\n",
       "  document.getElementsByTagName(\"head\")[0].appendChild(s);\n",
       "}\n",
       "\n",
       "if(typeof(LDAvis) !== \"undefined\"){\n",
       "   // already loaded: just create the visualization\n",
       "   !function(LDAvis){\n",
       "       new LDAvis(\"#\" + \"ldavis_el703621646046654402922235879\", ldavis_el703621646046654402922235879_data);\n",
       "   }(LDAvis);\n",
       "}else if(typeof define === \"function\" && define.amd){\n",
       "   // require.js is available: use it to load d3/LDAvis\n",
       "   require.config({paths: {d3: \"https://d3js.org/d3.v5\"}});\n",
       "   require([\"d3\"], function(d3){\n",
       "      window.d3 = d3;\n",
       "      LDAvis_load_lib(\"https://cdn.jsdelivr.net/gh/bmabey/pyLDAvis@3.3.1/pyLDAvis/js/ldavis.v3.0.0.js\", function(){\n",
       "        new LDAvis(\"#\" + \"ldavis_el703621646046654402922235879\", ldavis_el703621646046654402922235879_data);\n",
       "      });\n",
       "    });\n",
       "}else{\n",
       "    // require.js not available: dynamically load d3 & LDAvis\n",
       "    LDAvis_load_lib(\"https://d3js.org/d3.v5.js\", function(){\n",
       "         LDAvis_load_lib(\"https://cdn.jsdelivr.net/gh/bmabey/pyLDAvis@3.3.1/pyLDAvis/js/ldavis.v3.0.0.js\", function(){\n",
       "                 new LDAvis(\"#\" + \"ldavis_el703621646046654402922235879\", ldavis_el703621646046654402922235879_data);\n",
       "            })\n",
       "         });\n",
       "}\n",
       "</script>"
      ],
      "text/plain": [
       "PreparedData(topic_coordinates=              x         y  topics  cluster       Freq\n",
       "topic                                                \n",
       "3      0.510488 -0.022516       1        1  13.149147\n",
       "25    -0.506490 -0.056412       2        1   8.878735\n",
       "11     0.213872  0.048482       3        1   6.332498\n",
       "5     -0.117465 -0.013250       4        1   4.947943\n",
       "0     -0.445246 -0.237306       5        1   4.605268\n",
       "20     0.103125 -0.205241       6        1   4.192167\n",
       "12    -0.471725  0.122680       7        1   4.145266\n",
       "4      0.318142 -0.187724       8        1   4.014497\n",
       "6      0.467672 -0.200840       9        1   3.723514\n",
       "23     0.478871  0.169589      10        1   3.649015\n",
       "14     0.352336  0.374184      11        1   3.387925\n",
       "9      0.166134 -0.458197      12        1   3.375089\n",
       "15    -0.332376 -0.351752      13        1   3.288444\n",
       "17    -0.212142 -0.428855      14        1   3.144113\n",
       "22    -0.223875  0.239716      15        1   2.896745\n",
       "18    -0.416622  0.284136      16        1   2.773263\n",
       "10     0.021698  0.202749      17        1   2.754828\n",
       "21    -0.060191 -0.343885      18        1   2.597444\n",
       "19     0.039714  0.489415      19        1   2.455103\n",
       "16    -0.108305  0.460418      20        1   2.441214\n",
       "2     -0.275197  0.426296      21        1   2.406400\n",
       "24    -0.309078 -0.066816      22        1   2.276926\n",
       "8     -0.012923 -0.515990      23        1   2.198156\n",
       "1      0.323023 -0.391818      24        1   2.191061\n",
       "13     0.309101  0.217062      25        1   2.183358\n",
       "7      0.187461  0.445874      26        1   1.991879, topic_info=              Term          Freq         Total Category  logprob  loglift\n",
       "8              the  77153.000000  77153.000000  Default  10.0000  10.0000\n",
       "3                a  49879.000000  49879.000000  Default   9.0000   9.0000\n",
       "2             this  18399.000000  18399.000000  Default   8.0000   8.0000\n",
       "152            our   9814.000000   9814.000000  Default   7.0000   7.0000\n",
       "33           these   7910.000000   7910.000000  Default   6.0000   6.0000\n",
       "...            ...           ...           ...      ...      ...      ...\n",
       "813         market    590.781359    591.969786  Topic26  -3.1561   3.9141\n",
       "677   distribution    482.105087    483.293514  Topic26  -3.3594   3.9136\n",
       "111            bit    440.983743    442.172170  Topic26  -3.4485   3.9134\n",
       "263    traditional    362.446027    363.634455  Topic26  -3.6447   3.9128\n",
       "1276          male    355.930243    357.118671  Topic26  -3.6628   3.9128\n",
       "\n",
       "[270 rows x 6 columns], token_table=      Topic      Freq  Term\n",
       "term                       \n",
       "213      23  0.999595  \"the\n",
       "113      13  0.999762     -\n",
       "230       9  0.999182     0\n",
       "664       8  0.999057   000\n",
       "386       8  0.999690     1\n",
       "...     ...       ...   ...\n",
       "221       7  0.999154     x\n",
       "278      17  0.999079     y\n",
       "122      17  0.999054  year\n",
       "403      11  0.999856  your\n",
       "710       5  0.997958  zero\n",
       "\n",
       "[260 rows x 3 columns], R=10, lambda_step=0.01, plot_opts={'xlab': 'PC1', 'ylab': 'PC2'}, topic_order=[4, 26, 12, 6, 1, 21, 13, 5, 7, 24, 15, 10, 16, 18, 23, 19, 11, 22, 20, 17, 3, 25, 9, 2, 14, 8])"
      ]
     },
     "execution_count": 70,
     "metadata": {},
     "output_type": "execute_result"
    }
   ],
   "source": [
    "vis"
   ]
  },
  {
   "cell_type": "code",
   "execution_count": 71,
   "metadata": {},
   "outputs": [
    {
     "data": {
      "text/html": [
       "<div>\n",
       "<style scoped>\n",
       "    .dataframe tbody tr th:only-of-type {\n",
       "        vertical-align: middle;\n",
       "    }\n",
       "\n",
       "    .dataframe tbody tr th {\n",
       "        vertical-align: top;\n",
       "    }\n",
       "\n",
       "    .dataframe thead th {\n",
       "        text-align: right;\n",
       "    }\n",
       "</style>\n",
       "<table border=\"1\" class=\"dataframe\">\n",
       "  <thead>\n",
       "    <tr style=\"text-align: right;\">\n",
       "      <th></th>\n",
       "      <th>comments</th>\n",
       "      <th>description</th>\n",
       "      <th>duration</th>\n",
       "      <th>event</th>\n",
       "      <th>film_date</th>\n",
       "      <th>languages</th>\n",
       "      <th>main_speaker</th>\n",
       "      <th>name</th>\n",
       "      <th>num_speaker</th>\n",
       "      <th>published_date</th>\n",
       "      <th>ratings</th>\n",
       "      <th>related_talks</th>\n",
       "      <th>speaker_occupation</th>\n",
       "      <th>tags</th>\n",
       "      <th>title</th>\n",
       "      <th>urlurl</th>\n",
       "      <th>views</th>\n",
       "      <th>transcript</th>\n",
       "      <th>urlurl</th>\n",
       "    </tr>\n",
       "  </thead>\n",
       "  <tbody>\n",
       "    <tr>\n",
       "      <th>0</th>\n",
       "      <td>4553</td>\n",
       "      <td>Sir Ken Robinson makes an entertaining and pro...</td>\n",
       "      <td>1164</td>\n",
       "      <td>TED2006</td>\n",
       "      <td>1140825600</td>\n",
       "      <td>60</td>\n",
       "      <td>Ken Robinson</td>\n",
       "      <td>Ken Robinson: Do schools kill creativity?</td>\n",
       "      <td>1</td>\n",
       "      <td>1151367060</td>\n",
       "      <td>[{'id': 7, 'name': 'Funny', 'count': 19645}, {...</td>\n",
       "      <td>[{'id': 865, 'hero': 'https://pe.tedcdn.com/im...</td>\n",
       "      <td>Author/educator</td>\n",
       "      <td>['children', 'creativity', 'culture', 'dance',...</td>\n",
       "      <td>Do schools kill creativity?</td>\n",
       "      <td>https://www.ted.com/talks/ken_robinson_says_sc...</td>\n",
       "      <td>47227110</td>\n",
       "      <td>Good morning. How are you?(Laughter)It's been ...</td>\n",
       "      <td>https://www.ted.com/talks/ken_robinson_says_sc...</td>\n",
       "    </tr>\n",
       "    <tr>\n",
       "      <th>1</th>\n",
       "      <td>265</td>\n",
       "      <td>With the same humor and humanity he exuded in ...</td>\n",
       "      <td>977</td>\n",
       "      <td>TED2006</td>\n",
       "      <td>1140825600</td>\n",
       "      <td>43</td>\n",
       "      <td>Al Gore</td>\n",
       "      <td>Al Gore: Averting the climate crisis</td>\n",
       "      <td>1</td>\n",
       "      <td>1151367060</td>\n",
       "      <td>[{'id': 7, 'name': 'Funny', 'count': 544}, {'i...</td>\n",
       "      <td>[{'id': 243, 'hero': 'https://pe.tedcdn.com/im...</td>\n",
       "      <td>Climate advocate</td>\n",
       "      <td>['alternative energy', 'cars', 'climate change...</td>\n",
       "      <td>Averting the climate crisis</td>\n",
       "      <td>https://www.ted.com/talks/al_gore_on_averting_...</td>\n",
       "      <td>3200520</td>\n",
       "      <td>Thank you so much, Chris. And it's truly a gre...</td>\n",
       "      <td>https://www.ted.com/talks/al_gore_on_averting_...</td>\n",
       "    </tr>\n",
       "    <tr>\n",
       "      <th>2</th>\n",
       "      <td>124</td>\n",
       "      <td>New York Times columnist David Pogue takes aim...</td>\n",
       "      <td>1286</td>\n",
       "      <td>TED2006</td>\n",
       "      <td>1140739200</td>\n",
       "      <td>26</td>\n",
       "      <td>David Pogue</td>\n",
       "      <td>David Pogue: Simplicity sells</td>\n",
       "      <td>1</td>\n",
       "      <td>1151367060</td>\n",
       "      <td>[{'id': 7, 'name': 'Funny', 'count': 964}, {'i...</td>\n",
       "      <td>[{'id': 1725, 'hero': 'https://pe.tedcdn.com/i...</td>\n",
       "      <td>Technology columnist</td>\n",
       "      <td>['computers', 'entertainment', 'interface desi...</td>\n",
       "      <td>Simplicity sells</td>\n",
       "      <td>https://www.ted.com/talks/david_pogue_says_sim...</td>\n",
       "      <td>1636292</td>\n",
       "      <td>(Music: \"The Sound of Silence,\" Simon &amp; Garfun...</td>\n",
       "      <td>https://www.ted.com/talks/david_pogue_says_sim...</td>\n",
       "    </tr>\n",
       "    <tr>\n",
       "      <th>3</th>\n",
       "      <td>200</td>\n",
       "      <td>In an emotionally charged talk, MacArthur-winn...</td>\n",
       "      <td>1116</td>\n",
       "      <td>TED2006</td>\n",
       "      <td>1140912000</td>\n",
       "      <td>35</td>\n",
       "      <td>Majora Carter</td>\n",
       "      <td>Majora Carter: Greening the ghetto</td>\n",
       "      <td>1</td>\n",
       "      <td>1151367060</td>\n",
       "      <td>[{'id': 3, 'name': 'Courageous', 'count': 760}...</td>\n",
       "      <td>[{'id': 1041, 'hero': 'https://pe.tedcdn.com/i...</td>\n",
       "      <td>Activist for environmental justice</td>\n",
       "      <td>['MacArthur grant', 'activism', 'business', 'c...</td>\n",
       "      <td>Greening the ghetto</td>\n",
       "      <td>https://www.ted.com/talks/majora_carter_s_tale...</td>\n",
       "      <td>1697550</td>\n",
       "      <td>If you're here today — and I'm very happy that...</td>\n",
       "      <td>https://www.ted.com/talks/majora_carter_s_tale...</td>\n",
       "    </tr>\n",
       "    <tr>\n",
       "      <th>4</th>\n",
       "      <td>593</td>\n",
       "      <td>You've never seen data presented like this. Wi...</td>\n",
       "      <td>1190</td>\n",
       "      <td>TED2006</td>\n",
       "      <td>1140566400</td>\n",
       "      <td>48</td>\n",
       "      <td>Hans Rosling</td>\n",
       "      <td>Hans Rosling: The best stats you've ever seen</td>\n",
       "      <td>1</td>\n",
       "      <td>1151440680</td>\n",
       "      <td>[{'id': 9, 'name': 'Ingenious', 'count': 3202}...</td>\n",
       "      <td>[{'id': 2056, 'hero': 'https://pe.tedcdn.com/i...</td>\n",
       "      <td>Global health expert; data visionary</td>\n",
       "      <td>['Africa', 'Asia', 'Google', 'demo', 'economic...</td>\n",
       "      <td>The best stats you've ever seen</td>\n",
       "      <td>https://www.ted.com/talks/hans_rosling_shows_t...</td>\n",
       "      <td>12005869</td>\n",
       "      <td>About 10 years ago, I took on the task to teac...</td>\n",
       "      <td>https://www.ted.com/talks/hans_rosling_shows_t...</td>\n",
       "    </tr>\n",
       "  </tbody>\n",
       "</table>\n",
       "</div>"
      ],
      "text/plain": [
       "   comments                                        description  duration  \\\n",
       "0      4553  Sir Ken Robinson makes an entertaining and pro...      1164   \n",
       "1       265  With the same humor and humanity he exuded in ...       977   \n",
       "2       124  New York Times columnist David Pogue takes aim...      1286   \n",
       "3       200  In an emotionally charged talk, MacArthur-winn...      1116   \n",
       "4       593  You've never seen data presented like this. Wi...      1190   \n",
       "\n",
       "     event   film_date  languages   main_speaker  \\\n",
       "0  TED2006  1140825600         60   Ken Robinson   \n",
       "1  TED2006  1140825600         43        Al Gore   \n",
       "2  TED2006  1140739200         26    David Pogue   \n",
       "3  TED2006  1140912000         35  Majora Carter   \n",
       "4  TED2006  1140566400         48   Hans Rosling   \n",
       "\n",
       "                                            name  num_speaker  published_date  \\\n",
       "0      Ken Robinson: Do schools kill creativity?            1      1151367060   \n",
       "1           Al Gore: Averting the climate crisis            1      1151367060   \n",
       "2                  David Pogue: Simplicity sells            1      1151367060   \n",
       "3             Majora Carter: Greening the ghetto            1      1151367060   \n",
       "4  Hans Rosling: The best stats you've ever seen            1      1151440680   \n",
       "\n",
       "                                             ratings  \\\n",
       "0  [{'id': 7, 'name': 'Funny', 'count': 19645}, {...   \n",
       "1  [{'id': 7, 'name': 'Funny', 'count': 544}, {'i...   \n",
       "2  [{'id': 7, 'name': 'Funny', 'count': 964}, {'i...   \n",
       "3  [{'id': 3, 'name': 'Courageous', 'count': 760}...   \n",
       "4  [{'id': 9, 'name': 'Ingenious', 'count': 3202}...   \n",
       "\n",
       "                                       related_talks  \\\n",
       "0  [{'id': 865, 'hero': 'https://pe.tedcdn.com/im...   \n",
       "1  [{'id': 243, 'hero': 'https://pe.tedcdn.com/im...   \n",
       "2  [{'id': 1725, 'hero': 'https://pe.tedcdn.com/i...   \n",
       "3  [{'id': 1041, 'hero': 'https://pe.tedcdn.com/i...   \n",
       "4  [{'id': 2056, 'hero': 'https://pe.tedcdn.com/i...   \n",
       "\n",
       "                     speaker_occupation  \\\n",
       "0                       Author/educator   \n",
       "1                      Climate advocate   \n",
       "2                  Technology columnist   \n",
       "3    Activist for environmental justice   \n",
       "4  Global health expert; data visionary   \n",
       "\n",
       "                                                tags  \\\n",
       "0  ['children', 'creativity', 'culture', 'dance',...   \n",
       "1  ['alternative energy', 'cars', 'climate change...   \n",
       "2  ['computers', 'entertainment', 'interface desi...   \n",
       "3  ['MacArthur grant', 'activism', 'business', 'c...   \n",
       "4  ['Africa', 'Asia', 'Google', 'demo', 'economic...   \n",
       "\n",
       "                             title  \\\n",
       "0      Do schools kill creativity?   \n",
       "1      Averting the climate crisis   \n",
       "2                 Simplicity sells   \n",
       "3              Greening the ghetto   \n",
       "4  The best stats you've ever seen   \n",
       "\n",
       "                                              urlurl     views  \\\n",
       "0  https://www.ted.com/talks/ken_robinson_says_sc...  47227110   \n",
       "1  https://www.ted.com/talks/al_gore_on_averting_...   3200520   \n",
       "2  https://www.ted.com/talks/david_pogue_says_sim...   1636292   \n",
       "3  https://www.ted.com/talks/majora_carter_s_tale...   1697550   \n",
       "4  https://www.ted.com/talks/hans_rosling_shows_t...  12005869   \n",
       "\n",
       "                                          transcript  \\\n",
       "0  Good morning. How are you?(Laughter)It's been ...   \n",
       "1  Thank you so much, Chris. And it's truly a gre...   \n",
       "2  (Music: \"The Sound of Silence,\" Simon & Garfun...   \n",
       "3  If you're here today — and I'm very happy that...   \n",
       "4  About 10 years ago, I took on the task to teac...   \n",
       "\n",
       "                                              urlurl  \n",
       "0  https://www.ted.com/talks/ken_robinson_says_sc...  \n",
       "1  https://www.ted.com/talks/al_gore_on_averting_...  \n",
       "2  https://www.ted.com/talks/david_pogue_says_sim...  \n",
       "3  https://www.ted.com/talks/majora_carter_s_tale...  \n",
       "4  https://www.ted.com/talks/hans_rosling_shows_t...  "
      ]
     },
     "execution_count": 71,
     "metadata": {},
     "output_type": "execute_result"
    }
   ],
   "source": [
    "validation.head(5)"
   ]
  },
  {
   "cell_type": "code",
   "execution_count": 87,
   "metadata": {},
   "outputs": [
    {
     "name": "stdout",
     "output_type": "stream",
     "text": [
      "314\n",
      "[(3, 0.13258648), (9, 0.12351883), (21, 0.104887806), (10, 0.08209654), (25, 0.074027106), (0, 0.07038231), (20, 0.052619357), (11, 0.04937543), (18, 0.037321743), (12, 0.03656352), (16, 0.026308067), (2, 0.025468623), (23, 0.023019968), (22, 0.022977022), (15, 0.02129923), (6, 0.017959973), (24, 0.01448652), (14, 0.013678219), (1, 0.01363048), (19, 0.011965354), (5, 0.011268145)]\n",
      "Predicted Topic: 3\n"
     ]
    },
    {
     "data": {
      "text/plain": [
       "[('the', 0.8425691),\n",
       " ('value', 0.020906031),\n",
       " ('low', 0.013843658),\n",
       " ('unit', 0.01102224),\n",
       " ('next', 0.01026262),\n",
       " ('idea', 0.0081248265),\n",
       " ('maybe', 0.0067677856),\n",
       " ('pressure', 0.0065477733),\n",
       " ('specific', 0.0060585267),\n",
       " ('chain', 0.0059726792)]"
      ]
     },
     "execution_count": 87,
     "metadata": {},
     "output_type": "execute_result"
    }
   ],
   "source": [
    "new_text_corpus = words.doc2bow(validation['transcript'][0].split())\n",
    "print(len(new_text_corpus))\n",
    "prediction = lda_model.get_document_topics(new_text_corpus)\n",
    "prediction.sort(key = lambda x: x[1], reverse = True)\n",
    "print(prediction)\n",
    "prediction = prediction[0][0]\n",
    "print(\"Predicted Topic: %d\" % prediction)\n",
    "lda_model.show_topic(3)"
   ]
  },
  {
   "cell_type": "code",
   "execution_count": null,
   "metadata": {},
   "outputs": [],
   "source": []
  }
 ],
 "metadata": {
  "kernelspec": {
   "display_name": "Python 3",
   "language": "python",
   "name": "python3"
  },
  "language_info": {
   "codemirror_mode": {
    "name": "ipython",
    "version": 3
   },
   "file_extension": ".py",
   "mimetype": "text/x-python",
   "name": "python",
   "nbconvert_exporter": "python",
   "pygments_lexer": "ipython3",
   "version": "3.10.1"
  },
  "orig_nbformat": 4,
  "vscode": {
   "interpreter": {
    "hash": "369f2c481f4da34e4445cda3fffd2e751bd1c4d706f27375911949ba6bb62e1c"
   }
  }
 },
 "nbformat": 4,
 "nbformat_minor": 2
}
