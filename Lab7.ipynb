{
 "cells": [
  {
   "cell_type": "code",
   "execution_count": 1,
   "metadata": {},
   "outputs": [],
   "source": [
    "# !nvidia-smi\n",
    "\n",
    "# Add this in a Google Colab cell to install the correct version of Pytorch Geometric.\n",
    "import torch\n",
    "\n",
    "def format_pytorch_version(version):\n",
    "  return version.split('+')[0]\n",
    "\n",
    "TORCH_version = torch.__version__\n",
    "TORCH = format_pytorch_version(TORCH_version)\n",
    "\n",
    "def format_cuda_version(version):\n",
    "  return 'cu' + version.replace('.', '')\n",
    "\n",
    "CUDA_version = torch.version.cuda\n",
    "# CUDA = format_cuda_version(CUDA_version)"
   ]
  },
  {
   "cell_type": "code",
   "execution_count": 2,
   "metadata": {},
   "outputs": [
    {
     "name": "stderr",
     "output_type": "stream",
     "text": [
      "c:\\Python310\\lib\\site-packages\\past\\builtins\\misc.py:45: DeprecationWarning: the imp module is deprecated in favour of importlib and slated for removal in Python 3.12; see the module's documentation for alternative uses\n",
      "  from imp import reload\n",
      "c:\\Python310\\lib\\site-packages\\joblib\\backports.py:7: DeprecationWarning: The distutils package is deprecated and slated for removal in Python 3.12. Use setuptools or check PEP 632 for potential alternatives\n",
      "  from distutils.version import LooseVersion\n"
     ]
    }
   ],
   "source": [
    "import json\n",
    "import os\n",
    "# import uuid  # https://docs.python.org/3/library/uuid.html\n",
    "# import structlog  # for event logging\n",
    "# # from dotenv import load_dotenv # enviornment vars if we want\n",
    "\n",
    "# from pygtail import Pygtail\n",
    "# import boto3\n",
    "# from minio import Minio\n",
    "# from dotenv import load_dotenv\n",
    "from datetime import timedelta, datetime\n",
    "from time import sleep\n",
    "from sys import argv\n",
    "# import threading\n",
    "# from smart_open import smart_open\n",
    "import gensim\n",
    "import gensim.corpora as corpora\n",
    "\n",
    "# setup to import the preprocessor\n",
    "import sys\n",
    "# from botocore.errorfactory import ClientError\n",
    "import numpy as np\n",
    "import pandas as pd\n",
    "import matplotlib.pyplot as plt\n",
    "import seaborn as sns\n",
    "import pyLDAvis\n",
    "import pyLDAvis.gensim_models\n",
    "pyLDAvis.enable_notebook()\n",
    "import torch_geometric\n",
    "from functools import reduce\n",
    "from tqdm import tqdm\n",
    "\n",
    "from Preprocessing import Preprocessor\n",
    "preprocessor = Preprocessor(0)\n",
    "tqdm.pandas()\n"
   ]
  },
  {
   "cell_type": "code",
   "execution_count": 3,
   "metadata": {},
   "outputs": [
    {
     "data": {
      "text/html": [
       "<div>\n",
       "<style scoped>\n",
       "    .dataframe tbody tr th:only-of-type {\n",
       "        vertical-align: middle;\n",
       "    }\n",
       "\n",
       "    .dataframe tbody tr th {\n",
       "        vertical-align: top;\n",
       "    }\n",
       "\n",
       "    .dataframe thead th {\n",
       "        text-align: right;\n",
       "    }\n",
       "</style>\n",
       "<table border=\"1\" class=\"dataframe\">\n",
       "  <thead>\n",
       "    <tr style=\"text-align: right;\">\n",
       "      <th></th>\n",
       "    </tr>\n",
       "  </thead>\n",
       "  <tbody>\n",
       "  </tbody>\n",
       "</table>\n",
       "</div>"
      ],
      "text/plain": [
       "Empty DataFrame\n",
       "Columns: []\n",
       "Index: []"
      ]
     },
     "execution_count": 3,
     "metadata": {},
     "output_type": "execute_result"
    }
   ],
   "source": [
    "joined_exists = os.path.exists('khan_joined.csv')\n",
    "khan = pd.DataFrame([])\n",
    "if joined_exists:\n",
    "    khan = pd.read_csv('khan_joined.csv')\n",
    "khan.head(5)"
   ]
  },
  {
   "cell_type": "code",
   "execution_count": 4,
   "metadata": {},
   "outputs": [
    {
     "name": "stdout",
     "output_type": "stream",
     "text": [
      "<class 'pandas.core.frame.DataFrame'>\n",
      "Int64Index: 263 entries, 0 to 277\n",
      "Data columns (total 6 columns):\n",
      " #   Column       Non-Null Count  Dtype \n",
      "---  ------       --------------  ----- \n",
      " 0   course       263 non-null    object\n",
      " 1   unit         263 non-null    object\n",
      " 2   lesson       263 non-null    object\n",
      " 3   video_title  263 non-null    object\n",
      " 4   about        263 non-null    object\n",
      " 5   transcript   263 non-null    object\n",
      "dtypes: object(6)\n",
      "memory usage: 14.4+ KB\n"
     ]
    }
   ],
   "source": [
    "if not joined_exists:\n",
    "    computing = pd.read_csv(\"Datasets\\\\KhanAcademy\\\\Computing.csv\")\n",
    "    computing = computing.dropna()\n",
    "    computing.info()"
   ]
  },
  {
   "cell_type": "code",
   "execution_count": 5,
   "metadata": {},
   "outputs": [
    {
     "name": "stdout",
     "output_type": "stream",
     "text": [
      "<class 'pandas.core.frame.DataFrame'>\n",
      "Int64Index: 819 entries, 0 to 819\n",
      "Data columns (total 6 columns):\n",
      " #   Column       Non-Null Count  Dtype \n",
      "---  ------       --------------  ----- \n",
      " 0   course       819 non-null    object\n",
      " 1   unit         819 non-null    object\n",
      " 2   lesson       819 non-null    object\n",
      " 3   video_title  819 non-null    object\n",
      " 4   about        819 non-null    object\n",
      " 5   transcript   819 non-null    object\n",
      "dtypes: object(6)\n",
      "memory usage: 44.8+ KB\n"
     ]
    }
   ],
   "source": [
    "if not joined_exists:\n",
    "    economics = pd.read_csv(\"Datasets\\\\KhanAcademy\\\\Economics.csv\")\n",
    "    economics = economics.dropna()\n",
    "    economics.info()"
   ]
  },
  {
   "cell_type": "code",
   "execution_count": 6,
   "metadata": {},
   "outputs": [
    {
     "name": "stdout",
     "output_type": "stream",
     "text": [
      "<class 'pandas.core.frame.DataFrame'>\n",
      "Int64Index: 1064 entries, 0 to 1152\n",
      "Data columns (total 6 columns):\n",
      " #   Column       Non-Null Count  Dtype \n",
      "---  ------       --------------  ----- \n",
      " 0   course       1064 non-null   object\n",
      " 1   unit         1064 non-null   object\n",
      " 2   lesson       1064 non-null   object\n",
      " 3   video_title  1064 non-null   object\n",
      " 4   about        1064 non-null   object\n",
      " 5   transcript   1064 non-null   object\n",
      "dtypes: object(6)\n",
      "memory usage: 58.2+ KB\n"
     ]
    }
   ],
   "source": [
    "if not joined_exists:\n",
    "    humanities = pd.read_csv(\"Datasets\\\\KhanAcademy\\\\Humanities.csv\")\n",
    "    humanities = humanities.dropna()\n",
    "    humanities.info()"
   ]
  },
  {
   "cell_type": "code",
   "execution_count": 7,
   "metadata": {},
   "outputs": [
    {
     "name": "stdout",
     "output_type": "stream",
     "text": [
      "<class 'pandas.core.frame.DataFrame'>\n",
      "Int64Index: 3351 entries, 0 to 3366\n",
      "Data columns (total 6 columns):\n",
      " #   Column       Non-Null Count  Dtype \n",
      "---  ------       --------------  ----- \n",
      " 0   course       3351 non-null   object\n",
      " 1   unit         3351 non-null   object\n",
      " 2   lesson       3351 non-null   object\n",
      " 3   video_title  3351 non-null   object\n",
      " 4   about        3351 non-null   object\n",
      " 5   transcript   3351 non-null   object\n",
      "dtypes: object(6)\n",
      "memory usage: 183.3+ KB\n"
     ]
    }
   ],
   "source": [
    "if not joined_exists:\n",
    "    math = pd.read_csv(\"Datasets\\\\KhanAcademy\\\\Math.csv\")\n",
    "    math = math.dropna()\n",
    "    math.info()"
   ]
  },
  {
   "cell_type": "code",
   "execution_count": 8,
   "metadata": {},
   "outputs": [
    {
     "name": "stdout",
     "output_type": "stream",
     "text": [
      "<class 'pandas.core.frame.DataFrame'>\n",
      "Int64Index: 2764 entries, 0 to 2789\n",
      "Data columns (total 6 columns):\n",
      " #   Column       Non-Null Count  Dtype \n",
      "---  ------       --------------  ----- \n",
      " 0   course       2764 non-null   object\n",
      " 1   unit         2764 non-null   object\n",
      " 2   lesson       2764 non-null   object\n",
      " 3   video_title  2764 non-null   object\n",
      " 4   about        2764 non-null   object\n",
      " 5   transcript   2764 non-null   object\n",
      "dtypes: object(6)\n",
      "memory usage: 151.2+ KB\n"
     ]
    }
   ],
   "source": [
    "if not joined_exists:\n",
    "    science = pd.read_csv(\"Datasets\\\\KhanAcademy\\\\Science.csv\")\n",
    "    science = science.dropna()\n",
    "    science.info()"
   ]
  },
  {
   "cell_type": "code",
   "execution_count": 9,
   "metadata": {},
   "outputs": [
    {
     "name": "stdout",
     "output_type": "stream",
     "text": [
      "<class 'pandas.core.frame.DataFrame'>\n",
      "Int64Index: 2461 entries, 0 to 2466\n",
      "Data columns (total 19 columns):\n",
      " #   Column              Non-Null Count  Dtype \n",
      "---  ------              --------------  ----- \n",
      " 0   comments            2461 non-null   int64 \n",
      " 1   description         2461 non-null   object\n",
      " 2   duration            2461 non-null   int64 \n",
      " 3   event               2461 non-null   object\n",
      " 4   film_date           2461 non-null   int64 \n",
      " 5   languages           2461 non-null   int64 \n",
      " 6   main_speaker        2461 non-null   object\n",
      " 7   name                2461 non-null   object\n",
      " 8   num_speaker         2461 non-null   int64 \n",
      " 9   published_date      2461 non-null   int64 \n",
      " 10  ratings             2461 non-null   object\n",
      " 11  related_talks       2461 non-null   object\n",
      " 12  speaker_occupation  2461 non-null   object\n",
      " 13  tags                2461 non-null   object\n",
      " 14  title               2461 non-null   object\n",
      " 15  urlurl              2461 non-null   object\n",
      " 16  views               2461 non-null   int64 \n",
      " 17  transcript          2461 non-null   object\n",
      " 18  urlurl              2461 non-null   object\n",
      "dtypes: int64(7), object(12)\n",
      "memory usage: 384.5+ KB\n"
     ]
    }
   ],
   "source": [
    "ted_main = pd.read_csv(\"Datasets\\\\TEDTalksDataset\\\\ted_main.csv\")\n",
    "transcripts = pd.read_csv(\"Datasets\\\\TEDTalksDataset\\\\transcripts.csv\")\n",
    "validation = ted_main.join(transcripts, lsuffix='url', rsuffix='url', sort=True)\n",
    "validation = validation.dropna()\n",
    "validation.info(verbose=True, show_counts=True)"
   ]
  },
  {
   "cell_type": "code",
   "execution_count": 10,
   "metadata": {},
   "outputs": [],
   "source": [
    "if not joined_exists:\n",
    "    computing['course'].value_counts()"
   ]
  },
  {
   "cell_type": "code",
   "execution_count": 11,
   "metadata": {},
   "outputs": [],
   "source": [
    "if not joined_exists:\n",
    "    economics['course'].value_counts()"
   ]
  },
  {
   "cell_type": "code",
   "execution_count": 12,
   "metadata": {},
   "outputs": [],
   "source": [
    "if not joined_exists:\n",
    "    humanities['course'].value_counts()"
   ]
  },
  {
   "cell_type": "code",
   "execution_count": 13,
   "metadata": {},
   "outputs": [],
   "source": [
    "if not joined_exists:\n",
    "    math['course'].value_counts()"
   ]
  },
  {
   "cell_type": "code",
   "execution_count": 14,
   "metadata": {},
   "outputs": [],
   "source": [
    "if not joined_exists:\n",
    "    science['course'].value_counts()"
   ]
  },
  {
   "cell_type": "code",
   "execution_count": 15,
   "metadata": {},
   "outputs": [
    {
     "name": "stdout",
     "output_type": "stream",
     "text": [
      "<class 'pandas.core.frame.DataFrame'>\n",
      "Int64Index: 8261 entries, 0 to 2789\n",
      "Data columns (total 6 columns):\n",
      " #   Column       Non-Null Count  Dtype \n",
      "---  ------       --------------  ----- \n",
      " 0   course       8261 non-null   object\n",
      " 1   unit         8261 non-null   object\n",
      " 2   lesson       8261 non-null   object\n",
      " 3   video_title  8261 non-null   object\n",
      " 4   about        8261 non-null   object\n",
      " 5   transcript   8261 non-null   object\n",
      "dtypes: object(6)\n",
      "memory usage: 451.8+ KB\n"
     ]
    }
   ],
   "source": [
    "if not joined_exists:\n",
    "    khan_dfs = [computing, economics, humanities, math, science]\n",
    "    khan = pd.concat(khan_dfs, axis=0)\n",
    "    khan.info()"
   ]
  },
  {
   "cell_type": "code",
   "execution_count": 16,
   "metadata": {},
   "outputs": [],
   "source": [
    "if not joined_exists:\n",
    "    # remap the courses to more broad categories: https://stackoverflow.com/a/16476974\n",
    "    labels = ['physics', 'chemistry', 'biology', 'algebra', 'geometry', 'statistics', 'calculus', 'history', 'macroeconomics', 'microeconomics']\n",
    "    for lbl in labels:\n",
    "        for index, row in khan.iterrows():\n",
    "            if lbl in row['course'].lower():\n",
    "                row['course'] = lbl\n",
    "    khan['course'].value_counts()"
   ]
  },
  {
   "cell_type": "code",
   "execution_count": 17,
   "metadata": {},
   "outputs": [],
   "source": [
    "if not joined_exists:\n",
    "    khan.tail(2)"
   ]
  },
  {
   "attachments": {},
   "cell_type": "markdown",
   "metadata": {},
   "source": [
    "# Dataset Identification\n",
    "It is necessary to now identify components of the dataset that can be used for the graphical machine learning. This means identifying Nodes, Edges, Node Features, and Labels. It also includes optionally including edge weights and edge features. For the sake of simplicity I think that I will be forgoing the edge weights and edge features.\n",
    "\n",
    "I am attempting to basically do topic modeling, but without the keywords and topics that would be customary of Latent Dirchlet Allocation. Instead the goal is to train a Graph ML model using the Khan academy data.\n",
    "\n",
    "There are two basic routes I could take. I could perform node level prediction by treating each transcript individually and seeing which is the closest match during prediction. The other option would be to perform graph level prediction by storing all of the similarly labeled transcripts together and then using the shape of the graph for comparison. \n",
    "\n",
    "- Nodes (Items, People, Locations, Cars, ETC)\n",
    "- Edges (Connections, Interactions, Similarity, ETC)\n",
    "    - Levenshtein distance over titles?\n",
    "    - Number of similar named entities from SpaCy NER?\n",
    "- Node Features (Attributes)\n",
    "- Labels (Node-Level, Edge-Level, Graph-Level, etc)\n",
    "    - I am going to first try node-level prediction as it makes more sense to me. For this I am going to use the 'course' feature in the above pandas dataframe. This will be the target that I try to predict."
   ]
  },
  {
   "cell_type": "code",
   "execution_count": 18,
   "metadata": {},
   "outputs": [
    {
     "name": "stderr",
     "output_type": "stream",
     "text": [
      "100%|██████████| 8261/8261 [19:35<00:00,  7.03it/s]  "
     ]
    },
    {
     "name": "stdout",
     "output_type": "stream",
     "text": [
      "0    [turn--, form, listen, car, drive, think, pati...\n",
      "0    [strongly, gain, real, american, smith, promot...\n",
      "0    [physicist, perfect, content, day, information...\n",
      "0    [start, code, simple, figure, information, reg...\n",
      "0    [purpose, content, call, question, think, biol...\n",
      "Name: transcript_cleaned, dtype: object\n"
     ]
    },
    {
     "name": "stderr",
     "output_type": "stream",
     "text": [
      "\n"
     ]
    }
   ],
   "source": [
    "if not joined_exists:\n",
    "    # It takes 21 min to run SpaCy preprocessing over each record in the data\n",
    "    khan['transcript_cleaned'] = khan['transcript'].progress_apply(lambda x: preprocessor.clean(x))\n",
    "    print(khan['transcript_cleaned'][0])"
   ]
  },
  {
   "cell_type": "code",
   "execution_count": 19,
   "metadata": {},
   "outputs": [],
   "source": [
    "def str_to_list(s: str) -> list:\n",
    "    s = s.replace('[', '')\n",
    "    s = s.replace(']', '')\n",
    "    s = s.replace('\\'', '')\n",
    "    s = s.split(', ')\n",
    "    return s"
   ]
  },
  {
   "cell_type": "code",
   "execution_count": 20,
   "metadata": {},
   "outputs": [
    {
     "name": "stderr",
     "output_type": "stream",
     "text": [
      "100%|██████████| 8261/8261 [00:00<00:00, 21342.69it/s]"
     ]
    },
    {
     "name": "stdout",
     "output_type": "stream",
     "text": [
      "5\n",
      "0    [youll be able to learn other\\r\\nprogramming l...\n",
      "0    [or to know when the math is going into a dire...\n",
      "0    [on this\\r\\ntiny planet buzzing with life? Why...\n",
      "0    [then that means that we definitely have the t...\n",
      "0    [a narrative thats been going on for millions ...\n",
      "Name: transcript_cleaned, dtype: object\n"
     ]
    },
    {
     "name": "stderr",
     "output_type": "stream",
     "text": [
      "\n"
     ]
    }
   ],
   "source": [
    "if not joined_exists:\n",
    "    # clear up the lists to be unique only.\n",
    "    khan['transcript_cleaned'] = khan['transcript'].progress_apply(lambda x: list(set(str_to_list(x))))\n",
    "    print(len(khan['transcript_cleaned'][0]))\n",
    "    print(khan['transcript_cleaned'][0])"
   ]
  },
  {
   "cell_type": "code",
   "execution_count": 21,
   "metadata": {},
   "outputs": [
    {
     "name": "stderr",
     "output_type": "stream",
     "text": [
      "100%|██████████| 8261/8261 [00:00<00:00, 826120.48it/s]\n"
     ]
    }
   ],
   "source": [
    "if not joined_exists:\n",
    "# if not False:\n",
    "    khan['transcript_n_entries'] = khan['transcript_cleaned'].progress_apply(lambda x: len(x))\n",
    "    khan.head(5)"
   ]
  },
  {
   "cell_type": "code",
   "execution_count": 22,
   "metadata": {},
   "outputs": [],
   "source": [
    "# khan = khan.drop(columns=[\"Unnamed: 0.1\", \"Unnamed: 0\"])"
   ]
  },
  {
   "cell_type": "code",
   "execution_count": 23,
   "metadata": {},
   "outputs": [],
   "source": [
    "if not joined_exists:\n",
    "# if not False:\n",
    "    khan.to_csv(\"khan_joined.csv\", index=False)"
   ]
  },
  {
   "cell_type": "code",
   "execution_count": 24,
   "metadata": {},
   "outputs": [
    {
     "data": {
      "text/plain": [
       "'\\n    nodes closer to yourself are more important. Take the incoming embeddings and dotproduct them with your own embedding.\\n    Softmax across all the dot products of the nodes coming in to have it be a probability.\\n    \\n    Need to build the corpus of all input words.\\n    \\n    Use spacy to get corpus for each doc with stopwords stripped and bigrams / trigrams joined. \\n    \\n    Could use skipgram or bag of words with word2vec to embed words.\\n'"
      ]
     },
     "execution_count": 24,
     "metadata": {},
     "output_type": "execute_result"
    }
   ],
   "source": [
    "# https://www.kaggle.com/code/pavansanagapati/knowledge-graph-nlp-tutorial-bert-spacy-nltk/notebook\n",
    "\n",
    "\"\"\"\n",
    "    nodes closer to yourself are more important. Take the incoming embeddings and dotproduct them with your own embedding.\n",
    "    Softmax across all the dot products of the nodes coming in to have it be a probability.\n",
    "    \n",
    "    Need to build the corpus of all input words.\n",
    "    \n",
    "    Use spacy to get corpus for each doc with stopwords stripped and bigrams / trigrams joined. \n",
    "    \n",
    "    Could use skipgram or bag of words with word2vec to embed words.\n",
    "\"\"\""
   ]
  },
  {
   "cell_type": "code",
   "execution_count": 25,
   "metadata": {},
   "outputs": [
    {
     "data": {
      "text/html": [
       "<div>\n",
       "<style scoped>\n",
       "    .dataframe tbody tr th:only-of-type {\n",
       "        vertical-align: middle;\n",
       "    }\n",
       "\n",
       "    .dataframe tbody tr th {\n",
       "        vertical-align: top;\n",
       "    }\n",
       "\n",
       "    .dataframe thead th {\n",
       "        text-align: right;\n",
       "    }\n",
       "</style>\n",
       "<table border=\"1\" class=\"dataframe\">\n",
       "  <thead>\n",
       "    <tr style=\"text-align: right;\">\n",
       "      <th></th>\n",
       "      <th>course</th>\n",
       "      <th>unit</th>\n",
       "      <th>lesson</th>\n",
       "      <th>video_title</th>\n",
       "      <th>about</th>\n",
       "      <th>transcript</th>\n",
       "      <th>transcript_cleaned</th>\n",
       "      <th>transcript_n_entries</th>\n",
       "    </tr>\n",
       "  </thead>\n",
       "  <tbody>\n",
       "    <tr>\n",
       "      <th>0</th>\n",
       "      <td>Computer programming</td>\n",
       "      <td>Intro to JS: Drawing &amp; Animation</td>\n",
       "      <td>Intro to programming</td>\n",
       "      <td>What is Programming?</td>\n",
       "      <td>Programming is the process of creating a set o...</td>\n",
       "      <td>Hi, welcome to programming! If you've never le...</td>\n",
       "      <td>[youll be able to learn other\\r\\nprogramming l...</td>\n",
       "      <td>24</td>\n",
       "    </tr>\n",
       "    <tr>\n",
       "      <th>1</th>\n",
       "      <td>Computer programming</td>\n",
       "      <td>Intro to JS: Drawing &amp; Animation</td>\n",
       "      <td>Coloring</td>\n",
       "      <td>The Power of the Docs</td>\n",
       "      <td>Created by Pamela Fox.</td>\n",
       "      <td>Voiceover: Ok so you've\\r\\nmade a few programs...</td>\n",
       "      <td>[ok, perfect, and lets go back to my smiley......</td>\n",
       "      <td>90</td>\n",
       "    </tr>\n",
       "    <tr>\n",
       "      <th>5</th>\n",
       "      <td>Computer programming</td>\n",
       "      <td>Intro to HTML/CSS: Making webpages</td>\n",
       "      <td>Further learning</td>\n",
       "      <td>HTML validation</td>\n",
       "      <td>Learn how to validate your webpages with the W...</td>\n",
       "      <td>- [Voiceover] On Khan Academy, we pop up the o...</td>\n",
       "      <td>[upload a file, we pop up the oh noes guide to...</td>\n",
       "      <td>13</td>\n",
       "    </tr>\n",
       "    <tr>\n",
       "      <th>6</th>\n",
       "      <td>Computer programming</td>\n",
       "      <td>Intro to SQL: Querying and managing data</td>\n",
       "      <td>SQL basics</td>\n",
       "      <td>Welcome to SQL</td>\n",
       "      <td>SQL is useful for creating and querying relati...</td>\n",
       "      <td>- [Instructor] The world is full of data. Ever...</td>\n",
       "      <td>[a particular\\r\\nimplementation of it. You won...</td>\n",
       "      <td>20</td>\n",
       "    </tr>\n",
       "    <tr>\n",
       "      <th>7</th>\n",
       "      <td>Computer programming</td>\n",
       "      <td>Intro to SQL: Querying and managing data</td>\n",
       "      <td>SQL basics</td>\n",
       "      <td>S-Q-L or SEQUEL?</td>\n",
       "      <td>How is it pronounced? Why? Let's discuss...</td>\n",
       "      <td>At this point, you've probably heard me\\r\\npro...</td>\n",
       "      <td>[SEQUEL,\\r\\nwas later changed to SQL, and it s...</td>\n",
       "      <td>21</td>\n",
       "    </tr>\n",
       "  </tbody>\n",
       "</table>\n",
       "</div>"
      ],
      "text/plain": [
       "                 course                                      unit  \\\n",
       "0  Computer programming          Intro to JS: Drawing & Animation   \n",
       "1  Computer programming          Intro to JS: Drawing & Animation   \n",
       "5  Computer programming        Intro to HTML/CSS: Making webpages   \n",
       "6  Computer programming  Intro to SQL: Querying and managing data   \n",
       "7  Computer programming  Intro to SQL: Querying and managing data   \n",
       "\n",
       "                 lesson            video_title  \\\n",
       "0  Intro to programming   What is Programming?   \n",
       "1              Coloring  The Power of the Docs   \n",
       "5      Further learning        HTML validation   \n",
       "6            SQL basics         Welcome to SQL   \n",
       "7            SQL basics       S-Q-L or SEQUEL?   \n",
       "\n",
       "                                               about  \\\n",
       "0  Programming is the process of creating a set o...   \n",
       "1                             Created by Pamela Fox.   \n",
       "5  Learn how to validate your webpages with the W...   \n",
       "6  SQL is useful for creating and querying relati...   \n",
       "7       How is it pronounced? Why? Let's discuss...    \n",
       "\n",
       "                                          transcript  \\\n",
       "0  Hi, welcome to programming! If you've never le...   \n",
       "1  Voiceover: Ok so you've\\r\\nmade a few programs...   \n",
       "5  - [Voiceover] On Khan Academy, we pop up the o...   \n",
       "6  - [Instructor] The world is full of data. Ever...   \n",
       "7  At this point, you've probably heard me\\r\\npro...   \n",
       "\n",
       "                                  transcript_cleaned  transcript_n_entries  \n",
       "0  [youll be able to learn other\\r\\nprogramming l...                    24  \n",
       "1  [ok, perfect, and lets go back to my smiley......                    90  \n",
       "5  [upload a file, we pop up the oh noes guide to...                    13  \n",
       "6  [a particular\\r\\nimplementation of it. You won...                    20  \n",
       "7  [SEQUEL,\\r\\nwas later changed to SQL, and it s...                    21  "
      ]
     },
     "execution_count": 25,
     "metadata": {},
     "output_type": "execute_result"
    }
   ],
   "source": [
    "khan.head(5)"
   ]
  },
  {
   "cell_type": "code",
   "execution_count": 26,
   "metadata": {},
   "outputs": [
    {
     "data": {
      "text/plain": [
       "algebra                                         1287\n",
       "calculus                                         947\n",
       "chemistry                                        909\n",
       "history                                          769\n",
       "biology                                          757\n",
       "physics                                          743\n",
       "statistics                                       626\n",
       "geometry                                         345\n",
       "Finance and capital markets                      317\n",
       "macroeconomics                                   277\n",
       "microeconomics                                   225\n",
       "Electrical engineering                           198\n",
       "Pixar in a Box                                   175\n",
       "US government and civics                         139\n",
       "Cosmology and astronomy                           89\n",
       "AP®︎/College US Government and Politics           87\n",
       "Trigonometry                                      76\n",
       "Differential equations                            70\n",
       "Storytelling                                      69\n",
       "AP®︎/College Environmental science                49\n",
       "Computer science                                  48\n",
       "Middle school Earth and space science - NGSS      19\n",
       "Code.org                                          13\n",
       "Computer programming                              12\n",
       "Computers and the Internet                         8\n",
       "AP®︎/College Computer Science Principles           7\n",
       "Name: course, dtype: int64"
      ]
     },
     "execution_count": 26,
     "metadata": {},
     "output_type": "execute_result"
    }
   ],
   "source": [
    "khan['course'].value_counts()"
   ]
  },
  {
   "cell_type": "code",
   "execution_count": 27,
   "metadata": {},
   "outputs": [],
   "source": [
    "# khan['transcript_cleaned'] = khan['transcript']"
   ]
  },
  {
   "cell_type": "code",
   "execution_count": 28,
   "metadata": {},
   "outputs": [],
   "source": [
    "corpus = khan['transcript_cleaned'].sum(axis=0)\n",
    "if isinstance(corpus, str):\n",
    "    # means it performed string concatenation so it needs to be cleaned up\n",
    "    print(corpus[0:100])\n",
    "    corpus = str_to_list(corpus)\n",
    "    print(corpus[0: 25])\n",
    "    print(len(corpus))\n",
    "    print(type(corpus))"
   ]
  },
  {
   "cell_type": "code",
   "execution_count": 29,
   "metadata": {},
   "outputs": [
    {
     "name": "stdout",
     "output_type": "stream",
     "text": [
      "380582\n",
      "['', 'if I have a boulder,\\r\\nor a rock', 'hydroxide on the left side functioned as a base', 'they push this piston open,\\r\\nyou actually have work', 'but Im gonna take the\\r\\nconstant out of the integral. So Ill put a -7 here. And to help us solve this,\\r\\nand this could be a 1', 'we get our change\\r\\nin time is equal to the horizontal component\\r\\nof our displacement divided by 5 square roots of 2. But we also know that\\r\\nthe horizontal component of our displacement\\r\\nis the square root of 3 times the vertical\\r\\ncomponent of our displacement. Here I explicitly wrote\\r\\nthe magnitude notation. When we start dealing with\\r\\neither just the vertical or the horizontal\\r\\ncomponent', 'seven triangles. And the area of each of those triangles is once again ab over two. Now', 'in your 50 visits,\\r\\nyou dont see more', 'a corgi looks pretty\\r\\ndifferent from a greyhound. They were bred to be different. Corgis were bred to herd\\r\\nanimals and guard farmhouses', 'we are a competitive supplier', 'alert', 'but weve\\r\\nall seen this. If youve ever gone to a natural\\r\\nhistory museum', 'you really just have\\r\\nto look up a t-table instead of a z-table.', 'is encoded with that second column. If this feels totally unfamiliar', 'those masks,\\r\\nwere coming to France because France had large\\r\\ncolonial possessions in Africa. And Picasso at this time knew very little about the cultures that these came from. He was interested in them\\r\\nfor their formal qualities', 'that it doesnt matter your\\r\\ninertial frame of reference. As long as youre in an\\r\\ninertial frame of reference', 'not a procedural one. The Enigma was designed\\r\\nso that an input letter would never encrypt to itself. So given an encrypted letter', 'officially moves the capital\\r\\nof the entire empire', 'the\\r\\nEgyptians have this huge pantheon of gods. Here is just the some of\\r\\nthem right over here', 'a vector,\\r\\nI can shift them around as long as Im not changing the direction or their magnitude. So vector a looks like that. And notice', 'which we set to be equal to x^4 plus 7. And then du is equal to this. Its equal to 4x^3 dx. We saw it right over here. So we could rewrite this integral -- Ill try to stay consistent with the colors -- as the indefinite integral', 'and this needs to be equal to 231. And when they ask us whats the\\r\\nlargest one', 'why its so hard for\\r\\nthem to unwind themselves from the scenario. Where I finished off this last\\r\\nvideo', 'there so this is equal to 43. And so we have the\\r\\nlast situation', 'and then C corresponds\\r\\nto Z right over there. So AB']\n"
     ]
    }
   ],
   "source": [
    "# convert the corpus to a set since there should be no unique values\n",
    "corpus = set(corpus)\n",
    "print(len(corpus))\n",
    "corpus = list(corpus)\n",
    "print(corpus[0:25])"
   ]
  },
  {
   "cell_type": "code",
   "execution_count": 30,
   "metadata": {},
   "outputs": [
    {
     "name": "stdout",
     "output_type": "stream",
     "text": [
      "26\n"
     ]
    }
   ],
   "source": [
    "num_topics = len(khan['course'].value_counts())\n",
    "print(num_topics)"
   ]
  },
  {
   "cell_type": "code",
   "execution_count": 31,
   "metadata": {},
   "outputs": [
    {
     "name": "stdout",
     "output_type": "stream",
     "text": [
      "<class 'list'>\n",
      "CPU times: total: 13.5 s\n",
      "Wall time: 13.4 s\n"
     ]
    }
   ],
   "source": [
    "%%time\n",
    "# LDA Normal\n",
    "temp = [d.split() for d in corpus]\n",
    "print(type(temp))\n",
    "words = corpora.Dictionary(temp)\n",
    "words.filter_extremes(no_below=15, no_above=0.5, keep_n=100000)\n",
    "corpus = [words.doc2bow(doc) for doc in temp]"
   ]
  },
  {
   "cell_type": "code",
   "execution_count": 32,
   "metadata": {},
   "outputs": [
    {
     "name": "stdout",
     "output_type": "stream",
     "text": [
      "CPU times: total: 11min 57s\n",
      "Wall time: 11min 59s\n"
     ]
    }
   ],
   "source": [
    "%%time\n",
    "lda_model = gensim.models.ldamodel.LdaModel(corpus=corpus,\n",
    "                                           id2word=words,\n",
    "                                           num_topics=num_topics,\n",
    "                                           random_state=2,\n",
    "                                           update_every=1,\n",
    "                                           passes=15,\n",
    "                                           alpha='auto')"
   ]
  },
  {
   "cell_type": "code",
   "execution_count": 33,
   "metadata": {},
   "outputs": [
    {
     "name": "stderr",
     "output_type": "stream",
     "text": [
      "c:\\Python310\\lib\\site-packages\\pyLDAvis\\_prepare.py:247: FutureWarning: In a future version of pandas all arguments of DataFrame.drop except for the argument 'labels' will be keyword-only.\n",
      "  by='saliency', ascending=False).head(R).drop('saliency', 1)\n"
     ]
    }
   ],
   "source": [
    "vis = pyLDAvis.gensim_models.prepare(lda_model, corpus, words, mds='mmds', R=10)"
   ]
  },
  {
   "cell_type": "code",
   "execution_count": 34,
   "metadata": {},
   "outputs": [
    {
     "data": {
      "text/html": [
       "\n",
       "<link rel=\"stylesheet\" type=\"text/css\" href=\"https://cdn.jsdelivr.net/gh/bmabey/pyLDAvis@3.3.1/pyLDAvis/js/ldavis.v1.0.0.css\">\n",
       "\n",
       "\n",
       "<div id=\"ldavis_el3054014517310624488518075362\"></div>\n",
       "<script type=\"text/javascript\">\n",
       "\n",
       "var ldavis_el3054014517310624488518075362_data = {\"mdsDat\": {\"x\": [0.5078077407321083, -0.5071268815724311, 0.21336737217065066, -0.12071044847994211, -0.4474474392381188, 0.10229896124095064, -0.4735792024138515, 0.31920354421995895, 0.47119651052475864, 0.48356731609562736, 0.35465381537264457, 0.16809953442026976, -0.33637111257875835, -0.21149250423476684, -0.22464240762609525, -0.42064655274514284, 0.022011320984874877, -0.05976884288097415, 0.040486862241370894, -0.10905138884700444, -0.277936620297684, -0.3126016483107274, -0.011663264472370994, 0.32733134312869305, 0.31294629951911124, 0.19006769304684915], \"y\": [-0.02205676004955233, -0.05614603204914688, 0.048950200885908325, -0.013896566753177911, -0.23840938098871953, -0.20535167852826222, 0.12319061909229644, -0.18732097268138412, -0.20367368013150475, 0.17002045957216513, 0.3755102143561551, -0.4592253761066461, -0.35411844749148635, -0.43218222692617314, 0.24224801606076185, 0.2858398208534233, 0.20460800146490543, -0.3485416127865461, 0.49436430318354685, 0.46393722724446873, 0.42938424787633384, -0.06897247136006904, -0.5212078125883983, -0.3950280012626491, 0.21826079181769362, 0.44981711729605744], \"topics\": [1, 2, 3, 4, 5, 6, 7, 8, 9, 10, 11, 12, 13, 14, 15, 16, 17, 18, 19, 20, 21, 22, 23, 24, 25, 26], \"cluster\": [1, 1, 1, 1, 1, 1, 1, 1, 1, 1, 1, 1, 1, 1, 1, 1, 1, 1, 1, 1, 1, 1, 1, 1, 1, 1], \"Freq\": [22.240761570119886, 12.501515151799197, 11.735392627736475, 10.113537715394942, 3.302305816768938, 2.992253317335673, 2.5740450513481643, 2.2841325181105687, 2.2230991772844657, 2.203470264597444, 2.2001056549842763, 2.184368977662109, 2.036175014816537, 1.9511870648494265, 1.9412703413268455, 1.9050198337215112, 1.8640540127303227, 1.8602142199520073, 1.7305818873830807, 1.6328470963769464, 1.6167303471148406, 1.45940339242532, 1.4306977009529918, 1.3986725511669793, 1.3895040423979577, 1.2286546516430867]}, \"tinfo\": {\"Term\": [\"the\", \"to\", \"is\", \"a\", \"of\", \"this\", \"we\", \"So\", \"that\", \"and\", \"the\", \"of\", \"that\", \"and\", \"in\", \"with\", \"from\", \"all\", \"was\", \"which\", \"one\", \"a\", \"it\", \"just\", \"for\", \"its\", \"what\", \"an\", \"thats\", \"not\", \"but\", \"this\", \"to\", \"is\", \"So\", \"be\", \"going\", \"equal\", \"This\", \"take\", \"zero\", \"whats\", \"were\", \"we\", \"you\", \"And\", \"have\", \"so\", \"if\", \"can\", \"then\", \"could\", \"get\", \"are\", \"they\", \"them\", \"those\", \"different\", \"people\", \"things\", \"he\", \"their\", \"many\", \"I\", \"do\", \"Im\", \"want\", \"my\", \"Ill\", \"another\", \"put\", \"What\", \"did\", \"or\", \"some\", \"might\", \"even\", \"theres\", \"maybe\", \"any\", \"no\", \"getting\", \"every\", \"over\", \"right\", \"here\", \"here.\", \"point\", \"there.\", \"angle\", \"term\", \"triangle\", \"guy\", \"times\", \"plus\", \"negative\", \"minus\", \"2\", \"1\", \"squared\", \"3\", \"square\", \"0\", \"x\", \"y\", \"function\", \"force\", \"f\", \"X\", \"derivative\", \"equals\", \"t\", \"x.\", \"about\", \"see\", \"think\", \"how\", \"Well\", \"video\", \"talk\", \"talking\", \"trying\", \"happens\", \"lets\", \"say\", \"me\", \"little\", \"let\", \"Lets\", \"write\", \"bit\", \"draw\", \"Let\", \"like\", \"look\", \"gonna\", \"something\", \"that.\", \"this.\", \"theyre\", \"looks\", \"terms\", \"always\", \"as\", \"same\", \"thing\", \"A\", \"vector\", \"whole\", \"B\", \"length\", \"long\", \"isnt\", \"these\", \"by\", \"both\", \"each\", \"multiply\", \"sides\", \"divided\", \"points\", \"divide\", \"product\", \"on\", \"other\", \"side\", \"left\", \"through\", \"work\", \"charge\", \"since\", \"Ive\", \"curve\", \"would\", \"two\", \"three\", \"change\", \"value\", \"five\", \"constant\", \"reaction\", \"solution\", \"natural\", \"out\", \"figure\", \"second\", \"energy\", \"per\", \"start\", \"already\", \"weve\", \"direction\", \"said\", \"more\", \"go\", \"has\", \"than\", \"number\", \"down\", \"less\", \"got\", \"goes\", \"5\", \"know\", \"We\", \"next\", \"essentially\", \"Then\", \"matrix\", \"interesting\", \"C\", \"concentration\", \"exact\", \"away\", \"space\", \"done\", \"common\", \"everything\", \"moving\", \"actual\", \"center\", \"someone\", \"12\", \"at\", \"us\", \"four\", \"area\", \"pi\", \"distance\", \"looking\", \"half\", \"rate\", \"least\", \"carbon\", \"electrons\", \"form\", \"hydrogen\", \"group\", \"bond\", \"total\", \"ahead\", \"show\", \"move\", \"use\", \"line\", \"mean\", \"n\", \"equation\", \"out.\", \"try\", \"slope\", \"sample\", \"standard\", \"-\", \"again\", \"once\", \"given\", \"price\", \"Voiceover\", \"field\", \"whether\", \"question\", \"equilibrium\", \"our\", \"base\", \"light\", \"right?\", \"acid\", \"two.\", \"blue\", \"point.\", \"original\", \"temperature\"], \"Freq\": [381297.0, 240325.0, 183652.0, 156552.0, 215149.0, 142335.0, 100263.0, 103577.0, 140797.0, 140487.0, 381296.9142743081, 215148.1919565977, 140796.47129599552, 140486.46644354434, 95613.05541501108, 29639.2481876464, 24141.15773861723, 23051.372131146163, 19292.581872374005, 19491.472214982674, 36518.610487962476, 156551.68364868584, 75740.62284592137, 47050.730390842786, 36773.71672788956, 35529.99584564583, 32942.16088501954, 23929.2224183835, 21220.569261687, 19400.824504157594, 19309.35218458148, 141904.01880882448, 240324.00840114834, 183651.76520422444, 103576.73433982726, 60560.85657078079, 52923.47402210728, 31096.5048136897, 16106.92343708752, 11820.049974754711, 5528.603372841765, 4931.6362472649225, 31872.756841188246, 100262.16864624963, 86097.06142158754, 80915.66887605, 65134.64115579446, 48214.82933350571, 39404.171015291395, 34818.99751878717, 32530.759338278684, 24890.853463208663, 23603.65141846117, 35628.832077804356, 21224.532683134352, 8243.777941437878, 8220.908329482465, 7655.137927817269, 7612.174018650529, 7237.757749349751, 7204.533752110582, 7199.473682843226, 5673.168121329217, 58469.325073343294, 27807.796797528146, 14434.734904403907, 12744.48885261982, 9280.20357018383, 8572.033200478932, 7220.132129539575, 6480.657460612096, 5319.508744009142, 4506.088376967185, 31611.98799529792, 16923.701649028593, 11016.419509743191, 8578.100554689141, 8124.514050663998, 6218.3421065563425, 5704.694708378962, 4867.786357438619, 3230.8957797080698, 2951.8512433536666, 36378.09776985139, 32686.04610102119, 32196.127440923356, 18289.99059956656, 10508.036603401728, 6167.926211673289, 4698.953344187762, 2983.753137908776, 2231.4709939418085, 1703.8962898980863, 23900.294220789026, 17846.90560594569, 16411.37729005614, 15109.38606672934, 8981.200225026621, 8474.528888484514, 7451.298345624964, 5604.5738291616135, 5139.953078527569, 4312.456477412437, 24186.900851272985, 7846.388851447583, 5877.627814374591, 4584.386235431921, 4293.269372970907, 4284.089767551954, 4242.646336602995, 4149.03101084997, 3625.095807785584, 3480.393354444015, 29051.68865622148, 18850.096565005562, 16115.486865032513, 14689.042072123775, 13290.243039702204, 5856.277575576377, 3089.548593188355, 2979.2920960053175, 2244.7310593270954, 2168.9114642268037, 24251.48903264706, 21154.104844523805, 16255.94378313327, 13150.330578793664, 9858.411953282926, 9466.788703846723, 9026.59359917634, 8242.834541168613, 7320.555394388687, 4385.697925645061, 23778.052095380826, 12269.94835892468, 10913.224520261705, 8988.396299904427, 8017.417110446144, 6857.991524045293, 6790.421227925793, 5159.641018011226, 3141.499118812899, 2948.4213934885356, 34178.16364661239, 14625.630992656816, 10324.774163646485, 6938.862307667359, 6233.048932339358, 3946.4730575429276, 3630.449335486863, 2966.88742709333, 2161.3672593686747, 1965.2739162532873, 27870.24230102635, 24434.758723738436, 8308.23259074991, 7136.6279989616, 4310.172814219981, 3822.2154864734634, 3626.7251192380854, 2896.2606999737245, 2492.8819871181904, 2443.760058715137, 37706.71372473145, 11383.768613720391, 6770.840727538261, 5887.514694395601, 4582.887622452588, 3478.3563892697234, 2972.281056443637, 2764.48567424176, 2319.120746951689, 2233.7885469262196, 28736.705331076668, 25996.93444287039, 10435.139585188861, 6912.236185280513, 5962.570616922421, 4314.785302349834, 2917.516512105386, 2647.5578287846242, 2458.045345079014, 1862.3833693916429, 19986.05533457567, 5993.297732494122, 5786.064124037083, 5624.153977933834, 5507.1829093811275, 5505.987683002878, 3644.4773402467213, 3570.096729411298, 3368.148651044156, 2629.508789187271, 17636.01523991944, 16624.264780517533, 14294.23187400105, 11670.542296421263, 8177.565138535077, 6676.073180126526, 4881.544565557571, 4731.236318547937, 3812.2296809094682, 3661.1902255064547, 15240.53111799434, 14830.828356813725, 4301.863465150122, 3933.0498187513044, 2643.2509847938622, 2349.6305467178295, 2237.6839266580937, 2169.3653017375577, 2123.0112257278024, 2032.7272125858726, 2754.706248340643, 2461.8829002740968, 2256.6619855770623, 2108.6767631780704, 1975.0138641532442, 1925.34778298604, 1723.5139238747352, 1648.0209985053104, 1443.2588103453115, 1384.6059065108614, 32173.277797567156, 8744.466308114557, 6064.799252505749, 3931.3786254862775, 3818.3666239654735, 3236.4535743891706, 2629.605846838275, 2577.826964567517, 2458.795135370799, 2345.3321015573824, 7018.967107235714, 5509.120047490872, 4220.597136856966, 3185.0662758744907, 3090.3438656922535, 3063.280136075286, 3027.8732656002094, 2888.9163977171984, 2883.2924074384505, 2653.14508351655, 6475.440431717436, 5537.10380801637, 3917.1374296309996, 3911.411424076555, 3616.707804534591, 3537.888146432957, 3387.74379010226, 2586.6060914411983, 2510.834563422992, 2330.287091091223, 9893.118739563468, 4642.847028747394, 3971.084667837016, 2577.4123750654053, 2557.0545493055847, 2284.790569966388, 1861.1862714482027, 1851.7100698668091, 1751.9379215855688, 1672.5246704064916, 33215.888197845954, 2738.5759744788475, 2737.190671830919, 2650.893295481031, 2271.4048396224002, 2243.844674474038, 1873.0690680937819, 1849.2396205506047, 1545.2116345173763, 1468.006352797484], \"Total\": [381297.0, 240325.0, 183652.0, 156552.0, 215149.0, 142335.0, 100263.0, 103577.0, 140797.0, 140487.0, 381297.96323591203, 215149.24091820174, 140797.52025759956, 140487.51540514838, 95614.10437661504, 29640.29714925036, 24142.206700221188, 23052.421092750123, 19293.630833977964, 19492.590066404304, 36526.51342943535, 156552.73195752013, 75741.67115475559, 47051.77869967701, 36774.76503672378, 35531.044154480056, 32943.20919385376, 23930.27072721772, 21221.617570521223, 19401.872812991816, 19310.400493415702, 142335.44864620123, 240325.05760803926, 183652.81441111537, 103577.7835467181, 60561.905777671636, 52924.52322899813, 31097.554020580545, 16107.972643978366, 11821.099181645557, 5529.652579732612, 4932.68545415577, 32214.48527666386, 100263.21755369804, 86098.11032903595, 80916.71779245394, 65135.690063242866, 48215.878240954116, 39405.2199227398, 34820.046426235574, 32531.808245727098, 24891.902370657077, 23604.700325909584, 35629.88111015955, 21225.58171548955, 8244.826973793073, 8221.95736183766, 7656.186960172465, 7613.223051005725, 7238.806781704947, 7205.582784465778, 7200.522715198422, 5674.217153684413, 58470.373900063736, 27808.84562424859, 14435.78373112435, 12745.537679340261, 9281.252396904272, 8573.082027199374, 7221.180956260017, 6481.7062873325385, 5320.557570729585, 4507.137203687627, 31613.03608392758, 16924.749737658254, 11017.46759837285, 8579.1486433188, 8125.562139293658, 6219.3901951860025, 5705.742797008622, 4868.834446068279, 3231.9438683377302, 2952.899331983327, 36379.14878189875, 32687.097113068558, 32197.178452970722, 18291.041611613928, 10509.087615449094, 6168.977223720654, 4700.0043562351275, 2984.804149956143, 2232.522005989176, 1704.9473019454538, 23901.349532275053, 17847.960917431716, 16412.43260154217, 15110.441378215364, 8982.255536512646, 8475.584199970539, 7452.353657110989, 5605.629140647638, 5141.008390013594, 4313.511788898462, 24187.952369624927, 7847.440369799522, 5878.67933272653, 4585.43775378386, 4294.320891322846, 4285.141285903893, 4243.697854954934, 4150.082529201909, 3626.1473261375245, 3481.4448727959557, 29052.736612773235, 18851.14452155732, 16116.534821584268, 14690.09002867553, 13291.290996253958, 5857.325532128129, 3090.596549740109, 2980.3400525570714, 2245.7790158788493, 2169.9594207785576, 24252.53923621878, 21155.155048095527, 16256.993986704989, 13151.380782365382, 9859.462156854644, 9467.838907418442, 9027.643802748058, 8243.884744740331, 7321.605597960404, 4386.748129216779, 23779.100477586213, 12270.996741130062, 10914.272902467088, 8989.44468210981, 8018.465492651527, 6859.039906250676, 6791.469610131176, 5160.689400216609, 3142.547501018282, 2949.469775693919, 34179.21148453052, 14626.67883057495, 10325.82200156462, 6939.910145585493, 6234.096770257492, 3947.5208954610616, 3631.4971734049973, 2967.9352650114643, 2162.4150972868088, 1966.3217541714218, 27871.290741362613, 24435.8071640747, 8309.281031086173, 7137.676439297861, 4311.2212545562425, 3823.263926809726, 3627.773559574348, 2897.309140309987, 2493.930427454453, 2444.8084990513994, 37707.76125930591, 11384.816148294847, 6771.888262112717, 5888.562228970057, 4583.935157027045, 3479.40392384418, 2973.328591018094, 2765.5332088162168, 2320.1682815261456, 2234.8360815006763, 28737.753659257207, 25997.98277105093, 10436.187913369396, 6913.284513461051, 5963.618945102959, 4315.833630530371, 2918.5648402859233, 2648.6061569651615, 2459.0936732595515, 1863.4316975721806, 19987.10305284209, 5994.3454507605375, 5787.111842303499, 5625.201696200249, 5508.230627647543, 5507.035401269293, 3645.525058513137, 3571.1444476777137, 3369.1963693105718, 2630.5565074536867, 17637.06293171024, 16625.31247230833, 14295.279565791847, 11671.58998821206, 8178.612830325874, 6677.120871917323, 4882.592257348369, 4732.284010338734, 3813.2773727002655, 3662.237917297252, 15241.578191657394, 14831.875430476779, 4302.910538813177, 3934.096892414359, 2644.298058456917, 2350.677620380884, 2238.7310003211483, 2170.4123754006123, 2124.058299390857, 2033.7742862489274, 2755.7538795224427, 2462.9305314558965, 2257.709616758862, 2109.72439435987, 1976.061495335044, 1926.3954141678398, 1724.5615550565349, 1649.0686296871102, 1444.3064415271112, 1385.653537692661, 32174.325741879165, 8745.514252426567, 6065.847196817757, 3932.426569798286, 3819.414568277482, 3237.501518701179, 2630.6537911502833, 2578.8749088795253, 2459.8430796828075, 2346.380045869391, 7020.016830621263, 5510.16977087642, 4221.646860242515, 3186.1159992600396, 3091.3935890778025, 3064.329859460835, 3028.9229889857584, 2889.9661211027474, 2884.3421308239995, 2654.194806902099, 6476.488650612871, 5538.1520269118055, 3918.1856485264357, 3912.459642971991, 3617.756023430027, 3538.936365328393, 3388.792008997696, 2587.6543103366344, 2511.882782318428, 2331.335309986659, 9894.166906908997, 4643.895196092922, 3972.132835182544, 2578.4605424109336, 2558.102716651113, 2285.8387373119162, 1862.234438793731, 1852.7582372123375, 1752.9860889310971, 1673.57283775202, 33216.93559786594, 2739.6233744988276, 2738.2380718508994, 2651.9406955010113, 2272.4522396423804, 2244.8920744940183, 1874.116468113762, 1850.287020570585, 1546.2590345373565, 1469.053752817464], \"Category\": [\"Default\", \"Default\", \"Default\", \"Default\", \"Default\", \"Default\", \"Default\", \"Default\", \"Default\", \"Default\", \"Topic1\", \"Topic1\", \"Topic1\", \"Topic1\", \"Topic1\", \"Topic1\", \"Topic1\", \"Topic1\", \"Topic1\", \"Topic1\", \"Topic1\", \"Topic2\", \"Topic2\", \"Topic2\", \"Topic2\", \"Topic2\", \"Topic2\", \"Topic2\", \"Topic2\", \"Topic2\", \"Topic2\", \"Topic2\", \"Topic3\", \"Topic3\", \"Topic3\", \"Topic3\", \"Topic3\", \"Topic3\", \"Topic3\", \"Topic3\", \"Topic3\", \"Topic3\", \"Topic3\", \"Topic4\", \"Topic4\", \"Topic4\", \"Topic4\", \"Topic4\", \"Topic4\", \"Topic4\", \"Topic4\", \"Topic4\", \"Topic4\", \"Topic5\", \"Topic5\", \"Topic5\", \"Topic5\", \"Topic5\", \"Topic5\", \"Topic5\", \"Topic5\", \"Topic5\", \"Topic5\", \"Topic6\", \"Topic6\", \"Topic6\", \"Topic6\", \"Topic6\", \"Topic6\", \"Topic6\", \"Topic6\", \"Topic6\", \"Topic6\", \"Topic7\", \"Topic7\", \"Topic7\", \"Topic7\", \"Topic7\", \"Topic7\", \"Topic7\", \"Topic7\", \"Topic7\", \"Topic7\", \"Topic8\", \"Topic8\", \"Topic8\", \"Topic8\", \"Topic8\", \"Topic8\", \"Topic8\", \"Topic8\", \"Topic8\", \"Topic8\", \"Topic9\", \"Topic9\", \"Topic9\", \"Topic9\", \"Topic9\", \"Topic9\", \"Topic9\", \"Topic9\", \"Topic9\", \"Topic9\", \"Topic10\", \"Topic10\", \"Topic10\", \"Topic10\", \"Topic10\", \"Topic10\", \"Topic10\", \"Topic10\", \"Topic10\", \"Topic10\", \"Topic11\", \"Topic11\", \"Topic11\", \"Topic11\", \"Topic11\", \"Topic11\", \"Topic11\", \"Topic11\", \"Topic11\", \"Topic11\", \"Topic12\", \"Topic12\", \"Topic12\", \"Topic12\", \"Topic12\", \"Topic12\", \"Topic12\", \"Topic12\", \"Topic12\", \"Topic12\", \"Topic13\", \"Topic13\", \"Topic13\", \"Topic13\", \"Topic13\", \"Topic13\", \"Topic13\", \"Topic13\", \"Topic13\", \"Topic13\", \"Topic14\", \"Topic14\", \"Topic14\", \"Topic14\", \"Topic14\", \"Topic14\", \"Topic14\", \"Topic14\", \"Topic14\", \"Topic14\", \"Topic15\", \"Topic15\", \"Topic15\", \"Topic15\", \"Topic15\", \"Topic15\", \"Topic15\", \"Topic15\", \"Topic15\", \"Topic15\", \"Topic16\", \"Topic16\", \"Topic16\", \"Topic16\", \"Topic16\", \"Topic16\", \"Topic16\", \"Topic16\", \"Topic16\", \"Topic16\", \"Topic17\", \"Topic17\", \"Topic17\", \"Topic17\", \"Topic17\", \"Topic17\", \"Topic17\", \"Topic17\", \"Topic17\", \"Topic17\", \"Topic18\", \"Topic18\", \"Topic18\", \"Topic18\", \"Topic18\", \"Topic18\", \"Topic18\", \"Topic18\", \"Topic18\", \"Topic18\", \"Topic19\", \"Topic19\", \"Topic19\", \"Topic19\", \"Topic19\", \"Topic19\", \"Topic19\", \"Topic19\", \"Topic19\", \"Topic19\", \"Topic20\", \"Topic20\", \"Topic20\", \"Topic20\", \"Topic20\", \"Topic20\", \"Topic20\", \"Topic20\", \"Topic20\", \"Topic20\", \"Topic21\", \"Topic21\", \"Topic21\", \"Topic21\", \"Topic21\", \"Topic21\", \"Topic21\", \"Topic21\", \"Topic21\", \"Topic21\", \"Topic22\", \"Topic22\", \"Topic22\", \"Topic22\", \"Topic22\", \"Topic22\", \"Topic22\", \"Topic22\", \"Topic22\", \"Topic22\", \"Topic23\", \"Topic23\", \"Topic23\", \"Topic23\", \"Topic23\", \"Topic23\", \"Topic23\", \"Topic23\", \"Topic23\", \"Topic23\", \"Topic24\", \"Topic24\", \"Topic24\", \"Topic24\", \"Topic24\", \"Topic24\", \"Topic24\", \"Topic24\", \"Topic24\", \"Topic24\", \"Topic25\", \"Topic25\", \"Topic25\", \"Topic25\", \"Topic25\", \"Topic25\", \"Topic25\", \"Topic25\", \"Topic25\", \"Topic25\", \"Topic26\", \"Topic26\", \"Topic26\", \"Topic26\", \"Topic26\", \"Topic26\", \"Topic26\", \"Topic26\", \"Topic26\", \"Topic26\"], \"logprob\": [10.0, 9.0, 8.0, 7.0, 6.0, 5.0, 4.0, 3.0, 2.0, 1.0, -1.3923, -1.9646, -2.3886, -2.3908, -2.7756, -3.9468, -4.152, -4.1982, -4.3762, -4.3659, -3.7381, -1.7064, -2.4325, -2.9086, -3.155, -3.1894, -3.2651, -3.5847, -3.7048, -3.7945, -3.7992, -1.8047, -1.2146, -1.4835, -2.0563, -2.5929, -2.7277, -3.2595, -3.9173, -4.2268, -4.9866, -5.1009, -3.2348, -1.9401, -2.0924, -2.1544, -2.3714, -2.6722, -2.874, -2.9977, -3.0657, -3.3333, -3.3864, -1.8554, -2.3734, -3.3191, -3.3219, -3.3932, -3.3988, -3.4493, -3.4539, -3.4546, -3.6928, -1.2615, -2.0047, -2.6604, -2.7849, -3.1021, -3.1815, -3.3531, -3.4612, -3.6586, -3.8246, -1.7259, -2.3507, -2.7801, -3.0302, -3.0846, -3.3519, -3.4382, -3.5968, -4.0067, -4.097, -1.466, -1.573, -1.5881, -2.1536, -2.7078, -3.2406, -3.5126, -3.9668, -4.2573, -4.527, -1.859, -2.151, -2.2349, -2.3175, -2.8377, -2.8958, -3.0245, -3.3093, -3.3958, -3.5714, -1.8382, -2.9639, -3.2528, -3.5013, -3.5669, -3.5691, -3.5788, -3.6011, -3.7361, -3.7769, -1.6534, -2.086, -2.2427, -2.3354, -2.4354, -3.255, -3.8944, -3.9308, -4.2139, -4.2482, -1.8268, -1.9635, -2.2268, -2.4388, -2.727, -2.7675, -2.8151, -2.9059, -3.0246, -3.5369, -1.7763, -2.4379, -2.5551, -2.7491, -2.8634, -3.0196, -3.0295, -3.3042, -3.8003, -3.8638, -1.3708, -2.2196, -2.5679, -2.9653, -3.0725, -3.5296, -3.613, -3.8149, -4.1317, -4.2268, -1.5697, -1.7013, -2.7801, -2.9321, -3.4363, -3.5565, -3.609, -3.8339, -3.9839, -4.0038, -1.2486, -2.4463, -2.9658, -3.1056, -3.3561, -3.6319, -3.7891, -3.8616, -4.0373, -4.0748, -1.4985, -1.5987, -2.5115, -2.9234, -3.0712, -3.3947, -3.786, -3.8831, -3.9574, -4.2349, -1.8596, -3.064, -3.0992, -3.1276, -3.1486, -3.1488, -3.5614, -3.5821, -3.6403, -3.8879, -1.9125, -1.9716, -2.1226, -2.3254, -2.681, -2.8839, -3.197, -3.2282, -3.4442, -3.4846, -2.0003, -2.0276, -3.2652, -3.3549, -3.7523, -3.87, -3.9188, -3.9499, -3.9715, -4.0149, -3.7011, -3.8134, -3.9005, -3.9683, -4.0338, -4.0593, -4.17, -4.2148, -4.3475, -4.389, -1.1409, -2.4436, -2.8095, -3.243, -3.2722, -3.4375, -3.6452, -3.665, -3.7123, -3.7596, -2.6435, -2.8857, -3.1521, -3.4337, -3.4638, -3.4726, -3.4843, -3.5312, -3.5332, -3.6164, -2.7015, -2.858, -3.2041, -3.2056, -3.2839, -3.306, -3.3493, -3.6191, -3.6489, -3.7235, -2.2711, -3.0276, -3.1839, -3.6161, -3.6241, -3.7366, -3.9417, -3.9468, -4.0022, -4.0486, -0.9369, -3.4324, -3.433, -3.465, -3.6195, -3.6317, -3.8123, -3.8251, -4.0047, -4.056], \"loglift\": [10.0, 9.0, 8.0, 7.0, 6.0, 5.0, 4.0, 3.0, 2.0, 1.0, 1.5032, 1.5032, 1.5032, 1.5032, 1.5032, 1.5032, 1.5032, 1.5032, 1.5032, 1.5032, 1.503, 2.0793, 2.0793, 2.0793, 2.0793, 2.0793, 2.0793, 2.0793, 2.0793, 2.0793, 2.0793, 2.0763, 2.1426, 2.1426, 2.1426, 2.1425, 2.1425, 2.1425, 2.1425, 2.1425, 2.1424, 2.1423, 2.1319, 2.2913, 2.2913, 2.2913, 2.2913, 2.2913, 2.2913, 2.2913, 2.2913, 2.2913, 2.2913, 3.4105, 3.4105, 3.4104, 3.4104, 3.4104, 3.4104, 3.4104, 3.4104, 3.4104, 3.4104, 3.5091, 3.5091, 3.5091, 3.5091, 3.509, 3.509, 3.509, 3.509, 3.5089, 3.5089, 3.6597, 3.6596, 3.6596, 3.6596, 3.6596, 3.6595, 3.6595, 3.6595, 3.6594, 3.6593, 3.7792, 3.7792, 3.7792, 3.7791, 3.7791, 3.779, 3.779, 3.7788, 3.7787, 3.7786, 3.8062, 3.8062, 3.8062, 3.8062, 3.8062, 3.8061, 3.8061, 3.8061, 3.8061, 3.806, 3.8151, 3.815, 3.815, 3.8149, 3.8149, 3.8149, 3.8149, 3.8149, 3.8148, 3.8148, 3.8166, 3.8166, 3.8166, 3.8166, 3.8166, 3.8165, 3.8163, 3.8163, 3.8162, 3.8162, 3.8238, 3.8238, 3.8238, 3.8238, 3.8237, 3.8237, 3.8237, 3.8237, 3.8237, 3.8236, 3.8941, 3.894, 3.894, 3.894, 3.894, 3.8939, 3.8939, 3.8939, 3.8938, 3.8937, 3.9367, 3.9367, 3.9366, 3.9366, 3.9366, 3.9365, 3.9364, 3.9364, 3.9362, 3.9362, 3.9418, 3.9418, 3.9417, 3.9417, 3.9416, 3.9416, 3.9415, 3.9415, 3.9414, 3.9414, 3.9607, 3.9606, 3.9605, 3.9605, 3.9604, 3.9604, 3.9603, 3.9603, 3.9602, 3.9602, 3.9824, 3.9824, 3.9823, 3.9823, 3.9822, 3.9822, 3.9821, 3.982, 3.982, 3.9819, 3.9844, 3.9843, 3.9843, 3.9843, 3.9843, 3.9843, 3.9842, 3.9842, 3.9842, 3.9841, 4.0567, 4.0566, 4.0566, 4.0566, 4.0566, 4.0566, 4.0565, 4.0565, 4.0564, 4.0564, 4.1148, 4.1148, 4.1146, 4.1146, 4.1144, 4.1144, 4.1144, 4.1144, 4.1144, 4.1143, 4.1244, 4.1243, 4.1243, 4.1243, 4.1242, 4.1242, 4.1242, 4.1241, 4.124, 4.124, 4.2271, 4.227, 4.227, 4.2269, 4.2269, 4.2268, 4.2267, 4.2267, 4.2267, 4.2267, 4.2469, 4.2468, 4.2468, 4.2467, 4.2467, 4.2467, 4.2467, 4.2466, 4.2466, 4.2466, 4.2695, 4.2695, 4.2694, 4.2694, 4.2694, 4.2694, 4.2693, 4.2692, 4.2692, 4.2692, 4.2761, 4.276, 4.276, 4.2758, 4.2758, 4.2758, 4.2757, 4.2757, 4.2756, 4.2756, 4.3992, 4.3989, 4.3989, 4.3989, 4.3988, 4.3988, 4.3987, 4.3987, 4.3986, 4.3985]}, \"token.table\": {\"Topic\": [25, 9, 9, 21, 9, 9, 19, 14, 4, 14, 20, 6, 6, 6, 16, 12, 12, 3, 20, 3, 25, 20, 11, 6, 10, 2, 11, 26, 21, 25, 23, 1, 18, 13, 2, 1, 8, 6, 7, 5, 22, 14, 22, 21, 26, 3, 12, 26, 23, 15, 2, 15, 4, 23, 21, 17, 16, 21, 20, 17, 4, 16, 10, 6, 5, 18, 22, 15, 15, 6, 21, 19, 12, 15, 23, 18, 3, 10, 24, 25, 20, 7, 7, 21, 20, 10, 25, 18, 17, 2, 10, 23, 22, 1, 10, 4, 7, 25, 19, 19, 3, 13, 19, 23, 8, 22, 11, 19, 4, 5, 8, 8, 11, 23, 4, 1, 20, 3, 14, 2, 2, 2, 20, 22, 16, 14, 19, 12, 12, 26, 13, 24, 12, 14, 13, 22, 13, 5, 20, 7, 12, 24, 7, 9, 19, 23, 21, 15, 6, 24, 17, 9, 20, 7, 2, 19, 1, 16, 25, 1, 3, 7, 26, 16, 26, 18, 24, 8, 5, 18, 22, 9, 8, 26, 15, 25, 15, 6, 25, 22, 17, 8, 26, 18, 14, 24, 12, 18, 11, 23, 16, 15, 16, 24, 4, 17, 7, 21, 13, 21, 9, 9, 24, 18, 10, 3, 11, 11, 26, 8, 13, 19, 1, 13, 2, 1, 5, 5, 4, 8, 7, 15, 5, 13, 14, 5, 11, 2, 3, 13, 5, 17, 16, 9, 3, 23, 8, 24, 11, 17, 26, 22, 24, 17, 14, 11, 6, 1, 4, 1, 3, 18, 2, 3, 25, 1, 14, 1, 16, 17, 12, 10, 10, 10, 4, 3], \"Freq\": [0.999882061125512, 0.9996495224836632, 0.9999310726013977, 0.9995283541845899, 0.9998602203525002, 0.9998877662735345, 0.999661977914814, 0.9998688534049577, 0.9999911292440731, 0.9995877255761173, 0.9993492594234072, 0.9999765026290736, 0.9998737878401325, 0.999945709139251, 0.9994964669005055, 0.9998294569930296, 0.9999113939911056, 0.9999924351855073, 0.9995091103846008, 0.9999396172317979, 0.9996330724043541, 0.9999409764138809, 0.9999028690099162, 0.9998952044551398, 0.9997336643466933, 0.999995324530521, 0.9999746456664977, 0.9993609372214534, 0.9996743780731465, 0.999807231633118, 0.9996656981216172, 0.9999383538612103, 0.9995816628637415, 0.9995016813848946, 0.9999468987529557, 0.9999892132397387, 0.9997863073820783, 0.9998364594008694, 0.9998698158968871, 0.9999752704715229, 0.9996372291324541, 0.9999645549303832, 0.9999587950377018, 0.9997264343786124, 0.9997724597823809, 0.9999850437719883, 0.9998926786620961, 0.9994042696210413, 0.9995660194816399, 0.9998458312961879, 0.9999274746571839, 0.999966967979847, 0.9999699475921783, 0.9998551526804285, 0.9993519798582835, 0.9998141963550683, 0.999553163743117, 0.9996566402882734, 0.9995017559587887, 0.9998064664255093, 0.9999637484253457, 0.999625886879312, 0.9998355549855843, 0.9997476882472766, 0.9998449671907649, 0.9996449095928426, 0.9995362106573524, 0.9996269232516632, 0.9997867674038512, 0.999969591537167, 0.9996856917499068, 0.9998321324506739, 0.9999172861809748, 0.9999052297615878, 0.9997877069264538, 0.9997863727800088, 0.999982184432249, 0.9997391547772142, 0.9997910242080641, 0.9996577156732602, 0.9997211831725665, 0.9998661122022061, 0.9996954410285558, 0.9994628227220915, 0.9996192860465576, 0.9996924097299027, 0.9993371195548663, 0.9997755466761818, 0.9998068436826494, 0.9999791966930851, 0.999686452229632, 0.9998467753784414, 0.9998603333070768, 0.9999500169874207, 0.9998844412685093, 0.9999703310823729, 0.9997079564571102, 0.9994335603020057, 0.9999210557810256, 0.9996650197257062, 0.9999712188432659, 0.9998833726737032, 0.9997286700595465, 0.9995492036074842, 0.9994443805128916, 0.9996607400861078, 0.9995578623409402, 0.9999104903275268, 0.9999894057583147, 0.9999191204260349, 0.999963398874456, 0.9999430534555633, 0.9999257983665586, 0.9996497304993607, 0.9999690415954486, 0.9999884496474423, 0.9996734755890532, 0.9999955654852447, 0.9993278037184821, 0.9999911388969195, 0.9999706128962741, 0.9999834501543081, 0.9999620648432778, 0.999411840434025, 0.9999045218598029, 0.9996848768831013, 0.9998787002237434, 0.9998517001402933, 0.9999365329871734, 0.9995478582145114, 0.9999537208067543, 0.9997919835161246, 0.9998950085631134, 0.9993455940588908, 0.999918772602496, 0.9997514719905437, 0.9998664131546882, 0.9997854939894886, 0.999711734022986, 0.9997764740364612, 0.9999388579028938, 0.9996973985837344, 0.9998667934931738, 0.9999046104492062, 0.9999397330658537, 0.999549842046638, 0.9992756346087739, 0.9997167265412435, 0.9998650616478558, 0.9996269244656331, 0.9992316876577522, 0.9999127124188748, 0.9997883900199729, 0.9998286148199282, 0.9999550139824012, 0.9999250691604326, 0.9999942322910532, 0.999979811601631, 0.9997148043055081, 0.9997943020362493, 0.0001916416143446903, 0.9999672260543141, 0.9991857544504287, 0.9999283125626083, 0.9999718337092481, 0.9999448117699112, 0.9997354105212044, 0.9999684219687042, 0.9998393517439945, 0.999776583855918, 0.99962963740851, 0.9999461609403919, 0.9998965071480139, 0.9993044211215468, 0.9995481530459511, 0.9995689318321992, 0.9996692996397415, 0.9998910337338304, 0.9994374804584454, 0.9996572628190104, 0.9997711411477439, 0.9999664358977868, 0.9996452803403156, 0.9997884449727236, 0.9999535895617307, 0.9996485575184312, 0.9999454011047, 0.9998078761334158, 0.999939286362374, 0.9995346839025591, 0.9998688309555126, 0.999669411572436, 0.999445601010565, 0.9997471415196301, 0.9999817852336998, 0.9995552535182193, 0.9999557016989985, 0.9990954540604763, 0.9998392912842898, 0.9996221852610084, 0.9998038536533896, 0.9998183584444228, 0.9994272338342155, 0.9998119857248322, 0.99968359638086, 0.9999070152759344, 0.9998069790959422, 0.9995503692419522, 0.9992826996184155, 0.9997305853530942, 0.9995075647964651, 0.999949450913487, 0.9999892025257492, 0.9998172352736481, 0.999970898989242, 0.9999974737973845, 0.9997885271307863, 0.9998996978595547, 0.9999751552166731, 0.9998415906421413, 0.9999308184118192, 0.9999536892146621, 0.9999725936609255, 0.9997836094077512, 0.9999203935953481, 0.9998885476944922, 0.999904767271547, 0.9969687899233475, 0.00302103238574698, 0.9998483889487612, 0.9998835603499838, 0.9998861736316692, 0.9997959925271607, 0.9999435374026379, 0.9999955992602279, 0.9996952748587156, 0.9993182571167977, 0.999766285745601, 0.9996531199760345, 0.999962198180544, 0.9996026203200796, 0.9998268538152406, 0.9997701454147178, 0.9998962131704496, 0.999824069099677, 0.9997736966947016, 0.9998793554749162, 0.9999673035115374, 0.9999878564270354, 0.010585300279406297, 0.9893996357933047, 0.9996795291552942, 0.9999632945944444, 0.9998610383406483, 0.9995907522108884, 0.999918427135702, 0.9996147213652978, 0.9999562369687514, 0.9995965044947616, 0.9999737745940013, 0.9999286854064997, 0.9999606262816143, 0.9995849789817883, 0.999816453552796, 0.999987103909346, 0.9998819854008543], \"Term\": [\"-\", \"0\", \"1\", \"12\", \"2\", \"3\", \"5\", \"A\", \"And\", \"B\", \"C\", \"I\", \"Ill\", \"Im\", \"Ive\", \"Let\", \"Lets\", \"So\", \"Then\", \"This\", \"Voiceover\", \"We\", \"Well\", \"What\", \"X\", \"a\", \"about\", \"acid\", \"actual\", \"again\", \"ahead\", \"all\", \"already\", \"always\", \"an\", \"and\", \"angle\", \"another\", \"any\", \"are\", \"area\", \"as\", \"at\", \"away\", \"base\", \"be\", \"bit\", \"blue\", \"bond\", \"both\", \"but\", \"by\", \"can\", \"carbon\", \"center\", \"change\", \"charge\", \"common\", \"concentration\", \"constant\", \"could\", \"curve\", \"derivative\", \"did\", \"different\", \"direction\", \"distance\", \"divide\", \"divided\", \"do\", \"done\", \"down\", \"draw\", \"each\", \"electrons\", \"energy\", \"equal\", \"equals\", \"equation\", \"equilibrium\", \"essentially\", \"even\", \"every\", \"everything\", \"exact\", \"f\", \"field\", \"figure\", \"five\", \"for\", \"force\", \"form\", \"four\", \"from\", \"function\", \"get\", \"getting\", \"given\", \"go\", \"goes\", \"going\", \"gonna\", \"got\", \"group\", \"guy\", \"half\", \"happens\", \"has\", \"have\", \"he\", \"here\", \"here.\", \"how\", \"hydrogen\", \"if\", \"in\", \"interesting\", \"is\", \"isnt\", \"it\", \"its\", \"just\", \"know\", \"least\", \"left\", \"length\", \"less\", \"let\", \"lets\", \"light\", \"like\", \"line\", \"little\", \"long\", \"look\", \"looking\", \"looks\", \"many\", \"matrix\", \"maybe\", \"me\", \"mean\", \"might\", \"minus\", \"more\", \"move\", \"moving\", \"multiply\", \"my\", \"n\", \"natural\", \"negative\", \"next\", \"no\", \"not\", \"number\", \"of\", \"on\", \"once\", \"one\", \"one\", \"or\", \"original\", \"other\", \"our\", \"out\", \"out.\", \"over\", \"people\", \"per\", \"pi\", \"plus\", \"point\", \"point.\", \"points\", \"price\", \"product\", \"put\", \"question\", \"rate\", \"reaction\", \"right\", \"right?\", \"said\", \"same\", \"sample\", \"say\", \"second\", \"see\", \"show\", \"side\", \"sides\", \"since\", \"slope\", \"so\", \"solution\", \"some\", \"someone\", \"something\", \"space\", \"square\", \"squared\", \"standard\", \"start\", \"t\", \"take\", \"talk\", \"talking\", \"temperature\", \"term\", \"terms\", \"than\", \"that\", \"that.\", \"thats\", \"the\", \"their\", \"them\", \"then\", \"there.\", \"theres\", \"these\", \"they\", \"theyre\", \"thing\", \"things\", \"think\", \"this\", \"this\", \"this.\", \"those\", \"three\", \"through\", \"times\", \"to\", \"total\", \"triangle\", \"try\", \"trying\", \"two\", \"two.\", \"us\", \"use\", \"value\", \"vector\", \"video\", \"want\", \"was\", \"we\", \"were\", \"were\", \"weve\", \"what\", \"whats\", \"whether\", \"which\", \"whole\", \"with\", \"work\", \"would\", \"write\", \"x\", \"x.\", \"y\", \"you\", \"zero\"]}, \"R\": 10, \"lambda.step\": 0.01, \"plot.opts\": {\"xlab\": \"PC1\", \"ylab\": \"PC2\"}, \"topic.order\": [14, 24, 20, 12, 21, 17, 5, 1, 16, 22, 9, 25, 11, 4, 26, 6, 7, 8, 3, 19, 15, 2, 10, 13, 18, 23]};\n",
       "\n",
       "function LDAvis_load_lib(url, callback){\n",
       "  var s = document.createElement('script');\n",
       "  s.src = url;\n",
       "  s.async = true;\n",
       "  s.onreadystatechange = s.onload = callback;\n",
       "  s.onerror = function(){console.warn(\"failed to load library \" + url);};\n",
       "  document.getElementsByTagName(\"head\")[0].appendChild(s);\n",
       "}\n",
       "\n",
       "if(typeof(LDAvis) !== \"undefined\"){\n",
       "   // already loaded: just create the visualization\n",
       "   !function(LDAvis){\n",
       "       new LDAvis(\"#\" + \"ldavis_el3054014517310624488518075362\", ldavis_el3054014517310624488518075362_data);\n",
       "   }(LDAvis);\n",
       "}else if(typeof define === \"function\" && define.amd){\n",
       "   // require.js is available: use it to load d3/LDAvis\n",
       "   require.config({paths: {d3: \"https://d3js.org/d3.v5\"}});\n",
       "   require([\"d3\"], function(d3){\n",
       "      window.d3 = d3;\n",
       "      LDAvis_load_lib(\"https://cdn.jsdelivr.net/gh/bmabey/pyLDAvis@3.3.1/pyLDAvis/js/ldavis.v3.0.0.js\", function(){\n",
       "        new LDAvis(\"#\" + \"ldavis_el3054014517310624488518075362\", ldavis_el3054014517310624488518075362_data);\n",
       "      });\n",
       "    });\n",
       "}else{\n",
       "    // require.js not available: dynamically load d3 & LDAvis\n",
       "    LDAvis_load_lib(\"https://d3js.org/d3.v5.js\", function(){\n",
       "         LDAvis_load_lib(\"https://cdn.jsdelivr.net/gh/bmabey/pyLDAvis@3.3.1/pyLDAvis/js/ldavis.v3.0.0.js\", function(){\n",
       "                 new LDAvis(\"#\" + \"ldavis_el3054014517310624488518075362\", ldavis_el3054014517310624488518075362_data);\n",
       "            })\n",
       "         });\n",
       "}\n",
       "</script>"
      ],
      "text/plain": [
       "PreparedData(topic_coordinates=              x         y  topics  cluster       Freq\n",
       "topic                                                \n",
       "13     0.507808 -0.022057       1        1  22.240762\n",
       "23    -0.507127 -0.056146       2        1  12.501515\n",
       "19     0.213367  0.048950       3        1  11.735393\n",
       "11    -0.120710 -0.013897       4        1  10.113538\n",
       "20    -0.447447 -0.238409       5        1   3.302306\n",
       "16     0.102299 -0.205352       6        1   2.992253\n",
       "4     -0.473579  0.123191       7        1   2.574045\n",
       "0      0.319204 -0.187321       8        1   2.284133\n",
       "15     0.471197 -0.203674       9        1   2.223099\n",
       "21     0.483567  0.170020      10        1   2.203470\n",
       "8      0.354654  0.375510      11        1   2.200106\n",
       "24     0.168100 -0.459225      12        1   2.184369\n",
       "10    -0.336371 -0.354118      13        1   2.036175\n",
       "3     -0.211493 -0.432182      14        1   1.951187\n",
       "25    -0.224642  0.242248      15        1   1.941270\n",
       "5     -0.420647  0.285840      16        1   1.905020\n",
       "6      0.022011  0.204608      17        1   1.864054\n",
       "7     -0.059769 -0.348542      18        1   1.860214\n",
       "2      0.040487  0.494364      19        1   1.730582\n",
       "18    -0.109051  0.463937      20        1   1.632847\n",
       "14    -0.277937  0.429384      21        1   1.616730\n",
       "1     -0.312602 -0.068972      22        1   1.459403\n",
       "9     -0.011663 -0.521208      23        1   1.430698\n",
       "12     0.327331 -0.395028      24        1   1.398673\n",
       "17     0.312946  0.218261      25        1   1.389504\n",
       "22     0.190068  0.449817      26        1   1.228655, topic_info=             Term           Freq          Total Category  logprob  loglift\n",
       "13            the  381297.000000  381297.000000  Default  10.0000  10.0000\n",
       "41             to  240325.000000  240325.000000  Default   9.0000   9.0000\n",
       "63             is  183652.000000  183652.000000  Default   8.0000   8.0000\n",
       "1               a  156552.000000  156552.000000  Default   7.0000   7.0000\n",
       "35             of  215149.000000  215149.000000  Default   6.0000   6.0000\n",
       "...           ...            ...            ...      ...      ...      ...\n",
       "91           two.    2243.844674    2244.892074  Topic26  -3.6317   4.3988\n",
       "1028         blue    1873.069068    1874.116468  Topic26  -3.8123   4.3987\n",
       "1694       point.    1849.239621    1850.287021  Topic26  -3.8251   4.3987\n",
       "841      original    1545.211635    1546.259035  Topic26  -4.0047   4.3986\n",
       "1745  temperature    1468.006353    1469.053753  Topic26  -4.0560   4.3985\n",
       "\n",
       "[273 rows x 6 columns], token_table=      Topic      Freq  Term\n",
       "term                       \n",
       "330      25  0.999882     -\n",
       "1336      9  0.999650     0\n",
       "21        9  0.999931     1\n",
       "967      21  0.999528    12\n",
       "366       9  0.999860     2\n",
       "...     ...       ...   ...\n",
       "344      10  0.999961     x\n",
       "345      10  0.999585    x.\n",
       "511      10  0.999816     y\n",
       "20        4  0.999987   you\n",
       "824       3  0.999882  zero\n",
       "\n",
       "[266 rows x 3 columns], R=10, lambda_step=0.01, plot_opts={'xlab': 'PC1', 'ylab': 'PC2'}, topic_order=[14, 24, 20, 12, 21, 17, 5, 1, 16, 22, 9, 25, 11, 4, 26, 6, 7, 8, 3, 19, 15, 2, 10, 13, 18, 23])"
      ]
     },
     "execution_count": 34,
     "metadata": {},
     "output_type": "execute_result"
    }
   ],
   "source": [
    "vis"
   ]
  },
  {
   "cell_type": "code",
   "execution_count": 35,
   "metadata": {},
   "outputs": [
    {
     "data": {
      "text/html": [
       "<div>\n",
       "<style scoped>\n",
       "    .dataframe tbody tr th:only-of-type {\n",
       "        vertical-align: middle;\n",
       "    }\n",
       "\n",
       "    .dataframe tbody tr th {\n",
       "        vertical-align: top;\n",
       "    }\n",
       "\n",
       "    .dataframe thead th {\n",
       "        text-align: right;\n",
       "    }\n",
       "</style>\n",
       "<table border=\"1\" class=\"dataframe\">\n",
       "  <thead>\n",
       "    <tr style=\"text-align: right;\">\n",
       "      <th></th>\n",
       "      <th>comments</th>\n",
       "      <th>description</th>\n",
       "      <th>duration</th>\n",
       "      <th>event</th>\n",
       "      <th>film_date</th>\n",
       "      <th>languages</th>\n",
       "      <th>main_speaker</th>\n",
       "      <th>name</th>\n",
       "      <th>num_speaker</th>\n",
       "      <th>published_date</th>\n",
       "      <th>ratings</th>\n",
       "      <th>related_talks</th>\n",
       "      <th>speaker_occupation</th>\n",
       "      <th>tags</th>\n",
       "      <th>title</th>\n",
       "      <th>urlurl</th>\n",
       "      <th>views</th>\n",
       "      <th>transcript</th>\n",
       "      <th>urlurl</th>\n",
       "    </tr>\n",
       "  </thead>\n",
       "  <tbody>\n",
       "    <tr>\n",
       "      <th>0</th>\n",
       "      <td>4553</td>\n",
       "      <td>Sir Ken Robinson makes an entertaining and pro...</td>\n",
       "      <td>1164</td>\n",
       "      <td>TED2006</td>\n",
       "      <td>1140825600</td>\n",
       "      <td>60</td>\n",
       "      <td>Ken Robinson</td>\n",
       "      <td>Ken Robinson: Do schools kill creativity?</td>\n",
       "      <td>1</td>\n",
       "      <td>1151367060</td>\n",
       "      <td>[{'id': 7, 'name': 'Funny', 'count': 19645}, {...</td>\n",
       "      <td>[{'id': 865, 'hero': 'https://pe.tedcdn.com/im...</td>\n",
       "      <td>Author/educator</td>\n",
       "      <td>['children', 'creativity', 'culture', 'dance',...</td>\n",
       "      <td>Do schools kill creativity?</td>\n",
       "      <td>https://www.ted.com/talks/ken_robinson_says_sc...</td>\n",
       "      <td>47227110</td>\n",
       "      <td>Good morning. How are you?(Laughter)It's been ...</td>\n",
       "      <td>https://www.ted.com/talks/ken_robinson_says_sc...</td>\n",
       "    </tr>\n",
       "    <tr>\n",
       "      <th>1</th>\n",
       "      <td>265</td>\n",
       "      <td>With the same humor and humanity he exuded in ...</td>\n",
       "      <td>977</td>\n",
       "      <td>TED2006</td>\n",
       "      <td>1140825600</td>\n",
       "      <td>43</td>\n",
       "      <td>Al Gore</td>\n",
       "      <td>Al Gore: Averting the climate crisis</td>\n",
       "      <td>1</td>\n",
       "      <td>1151367060</td>\n",
       "      <td>[{'id': 7, 'name': 'Funny', 'count': 544}, {'i...</td>\n",
       "      <td>[{'id': 243, 'hero': 'https://pe.tedcdn.com/im...</td>\n",
       "      <td>Climate advocate</td>\n",
       "      <td>['alternative energy', 'cars', 'climate change...</td>\n",
       "      <td>Averting the climate crisis</td>\n",
       "      <td>https://www.ted.com/talks/al_gore_on_averting_...</td>\n",
       "      <td>3200520</td>\n",
       "      <td>Thank you so much, Chris. And it's truly a gre...</td>\n",
       "      <td>https://www.ted.com/talks/al_gore_on_averting_...</td>\n",
       "    </tr>\n",
       "    <tr>\n",
       "      <th>2</th>\n",
       "      <td>124</td>\n",
       "      <td>New York Times columnist David Pogue takes aim...</td>\n",
       "      <td>1286</td>\n",
       "      <td>TED2006</td>\n",
       "      <td>1140739200</td>\n",
       "      <td>26</td>\n",
       "      <td>David Pogue</td>\n",
       "      <td>David Pogue: Simplicity sells</td>\n",
       "      <td>1</td>\n",
       "      <td>1151367060</td>\n",
       "      <td>[{'id': 7, 'name': 'Funny', 'count': 964}, {'i...</td>\n",
       "      <td>[{'id': 1725, 'hero': 'https://pe.tedcdn.com/i...</td>\n",
       "      <td>Technology columnist</td>\n",
       "      <td>['computers', 'entertainment', 'interface desi...</td>\n",
       "      <td>Simplicity sells</td>\n",
       "      <td>https://www.ted.com/talks/david_pogue_says_sim...</td>\n",
       "      <td>1636292</td>\n",
       "      <td>(Music: \"The Sound of Silence,\" Simon &amp; Garfun...</td>\n",
       "      <td>https://www.ted.com/talks/david_pogue_says_sim...</td>\n",
       "    </tr>\n",
       "    <tr>\n",
       "      <th>3</th>\n",
       "      <td>200</td>\n",
       "      <td>In an emotionally charged talk, MacArthur-winn...</td>\n",
       "      <td>1116</td>\n",
       "      <td>TED2006</td>\n",
       "      <td>1140912000</td>\n",
       "      <td>35</td>\n",
       "      <td>Majora Carter</td>\n",
       "      <td>Majora Carter: Greening the ghetto</td>\n",
       "      <td>1</td>\n",
       "      <td>1151367060</td>\n",
       "      <td>[{'id': 3, 'name': 'Courageous', 'count': 760}...</td>\n",
       "      <td>[{'id': 1041, 'hero': 'https://pe.tedcdn.com/i...</td>\n",
       "      <td>Activist for environmental justice</td>\n",
       "      <td>['MacArthur grant', 'activism', 'business', 'c...</td>\n",
       "      <td>Greening the ghetto</td>\n",
       "      <td>https://www.ted.com/talks/majora_carter_s_tale...</td>\n",
       "      <td>1697550</td>\n",
       "      <td>If you're here today — and I'm very happy that...</td>\n",
       "      <td>https://www.ted.com/talks/majora_carter_s_tale...</td>\n",
       "    </tr>\n",
       "    <tr>\n",
       "      <th>4</th>\n",
       "      <td>593</td>\n",
       "      <td>You've never seen data presented like this. Wi...</td>\n",
       "      <td>1190</td>\n",
       "      <td>TED2006</td>\n",
       "      <td>1140566400</td>\n",
       "      <td>48</td>\n",
       "      <td>Hans Rosling</td>\n",
       "      <td>Hans Rosling: The best stats you've ever seen</td>\n",
       "      <td>1</td>\n",
       "      <td>1151440680</td>\n",
       "      <td>[{'id': 9, 'name': 'Ingenious', 'count': 3202}...</td>\n",
       "      <td>[{'id': 2056, 'hero': 'https://pe.tedcdn.com/i...</td>\n",
       "      <td>Global health expert; data visionary</td>\n",
       "      <td>['Africa', 'Asia', 'Google', 'demo', 'economic...</td>\n",
       "      <td>The best stats you've ever seen</td>\n",
       "      <td>https://www.ted.com/talks/hans_rosling_shows_t...</td>\n",
       "      <td>12005869</td>\n",
       "      <td>About 10 years ago, I took on the task to teac...</td>\n",
       "      <td>https://www.ted.com/talks/hans_rosling_shows_t...</td>\n",
       "    </tr>\n",
       "  </tbody>\n",
       "</table>\n",
       "</div>"
      ],
      "text/plain": [
       "   comments                                        description  duration  \\\n",
       "0      4553  Sir Ken Robinson makes an entertaining and pro...      1164   \n",
       "1       265  With the same humor and humanity he exuded in ...       977   \n",
       "2       124  New York Times columnist David Pogue takes aim...      1286   \n",
       "3       200  In an emotionally charged talk, MacArthur-winn...      1116   \n",
       "4       593  You've never seen data presented like this. Wi...      1190   \n",
       "\n",
       "     event   film_date  languages   main_speaker  \\\n",
       "0  TED2006  1140825600         60   Ken Robinson   \n",
       "1  TED2006  1140825600         43        Al Gore   \n",
       "2  TED2006  1140739200         26    David Pogue   \n",
       "3  TED2006  1140912000         35  Majora Carter   \n",
       "4  TED2006  1140566400         48   Hans Rosling   \n",
       "\n",
       "                                            name  num_speaker  published_date  \\\n",
       "0      Ken Robinson: Do schools kill creativity?            1      1151367060   \n",
       "1           Al Gore: Averting the climate crisis            1      1151367060   \n",
       "2                  David Pogue: Simplicity sells            1      1151367060   \n",
       "3             Majora Carter: Greening the ghetto            1      1151367060   \n",
       "4  Hans Rosling: The best stats you've ever seen            1      1151440680   \n",
       "\n",
       "                                             ratings  \\\n",
       "0  [{'id': 7, 'name': 'Funny', 'count': 19645}, {...   \n",
       "1  [{'id': 7, 'name': 'Funny', 'count': 544}, {'i...   \n",
       "2  [{'id': 7, 'name': 'Funny', 'count': 964}, {'i...   \n",
       "3  [{'id': 3, 'name': 'Courageous', 'count': 760}...   \n",
       "4  [{'id': 9, 'name': 'Ingenious', 'count': 3202}...   \n",
       "\n",
       "                                       related_talks  \\\n",
       "0  [{'id': 865, 'hero': 'https://pe.tedcdn.com/im...   \n",
       "1  [{'id': 243, 'hero': 'https://pe.tedcdn.com/im...   \n",
       "2  [{'id': 1725, 'hero': 'https://pe.tedcdn.com/i...   \n",
       "3  [{'id': 1041, 'hero': 'https://pe.tedcdn.com/i...   \n",
       "4  [{'id': 2056, 'hero': 'https://pe.tedcdn.com/i...   \n",
       "\n",
       "                     speaker_occupation  \\\n",
       "0                       Author/educator   \n",
       "1                      Climate advocate   \n",
       "2                  Technology columnist   \n",
       "3    Activist for environmental justice   \n",
       "4  Global health expert; data visionary   \n",
       "\n",
       "                                                tags  \\\n",
       "0  ['children', 'creativity', 'culture', 'dance',...   \n",
       "1  ['alternative energy', 'cars', 'climate change...   \n",
       "2  ['computers', 'entertainment', 'interface desi...   \n",
       "3  ['MacArthur grant', 'activism', 'business', 'c...   \n",
       "4  ['Africa', 'Asia', 'Google', 'demo', 'economic...   \n",
       "\n",
       "                             title  \\\n",
       "0      Do schools kill creativity?   \n",
       "1      Averting the climate crisis   \n",
       "2                 Simplicity sells   \n",
       "3              Greening the ghetto   \n",
       "4  The best stats you've ever seen   \n",
       "\n",
       "                                              urlurl     views  \\\n",
       "0  https://www.ted.com/talks/ken_robinson_says_sc...  47227110   \n",
       "1  https://www.ted.com/talks/al_gore_on_averting_...   3200520   \n",
       "2  https://www.ted.com/talks/david_pogue_says_sim...   1636292   \n",
       "3  https://www.ted.com/talks/majora_carter_s_tale...   1697550   \n",
       "4  https://www.ted.com/talks/hans_rosling_shows_t...  12005869   \n",
       "\n",
       "                                          transcript  \\\n",
       "0  Good morning. How are you?(Laughter)It's been ...   \n",
       "1  Thank you so much, Chris. And it's truly a gre...   \n",
       "2  (Music: \"The Sound of Silence,\" Simon & Garfun...   \n",
       "3  If you're here today — and I'm very happy that...   \n",
       "4  About 10 years ago, I took on the task to teac...   \n",
       "\n",
       "                                              urlurl  \n",
       "0  https://www.ted.com/talks/ken_robinson_says_sc...  \n",
       "1  https://www.ted.com/talks/al_gore_on_averting_...  \n",
       "2  https://www.ted.com/talks/david_pogue_says_sim...  \n",
       "3  https://www.ted.com/talks/majora_carter_s_tale...  \n",
       "4  https://www.ted.com/talks/hans_rosling_shows_t...  "
      ]
     },
     "execution_count": 35,
     "metadata": {},
     "output_type": "execute_result"
    }
   ],
   "source": [
    "validation.head(5)"
   ]
  },
  {
   "cell_type": "code",
   "execution_count": 36,
   "metadata": {},
   "outputs": [
    {
     "name": "stdout",
     "output_type": "stream",
     "text": [
      "706\n",
      "[(13, 0.31274027), (23, 0.11078116), (11, 0.104480095), (20, 0.081798345), (19, 0.07991058), (16, 0.04497278), (5, 0.033084776), (8, 0.028214343), (3, 0.020512016), (4, 0.016563522), (7, 0.016006732), (10, 0.015541423), (14, 0.015479436), (25, 0.015114444), (22, 0.014572686), (18, 0.013722224), (1, 0.012820459), (17, 0.010963333), (2, 0.010611181), (6, 0.010162362)]\n",
      "Predicted Topic: 13\n"
     ]
    },
    {
     "data": {
      "text/plain": [
       "[('as', 0.25389996),\n",
       " ('same', 0.1086497),\n",
       " ('thing', 0.076699845),\n",
       " ('A', 0.051546857),\n",
       " ('vector', 0.046303567),\n",
       " ('whole', 0.029317237),\n",
       " ('B', 0.026969587),\n",
       " ('length', 0.022040172),\n",
       " ('long', 0.01605619),\n",
       " ('isnt', 0.014599467)]"
      ]
     },
     "execution_count": 36,
     "metadata": {},
     "output_type": "execute_result"
    }
   ],
   "source": [
    "new_text_corpus = words.doc2bow(validation['transcript'][0].split())\n",
    "print(len(new_text_corpus))\n",
    "prediction = lda_model.get_document_topics(new_text_corpus)\n",
    "prediction.sort(key = lambda x: x[1], reverse = True)\n",
    "print(prediction)\n",
    "prediction = prediction[0][0]\n",
    "print(\"Predicted Topic: %d\" % prediction)\n",
    "lda_model.show_topic(3)"
   ]
  },
  {
   "cell_type": "code",
   "execution_count": null,
   "metadata": {},
   "outputs": [],
   "source": []
  }
 ],
 "metadata": {
  "kernelspec": {
   "display_name": "Python 3",
   "language": "python",
   "name": "python3"
  },
  "language_info": {
   "codemirror_mode": {
    "name": "ipython",
    "version": 3
   },
   "file_extension": ".py",
   "mimetype": "text/x-python",
   "name": "python",
   "nbconvert_exporter": "python",
   "pygments_lexer": "ipython3",
   "version": "3.10.1"
  },
  "orig_nbformat": 4,
  "vscode": {
   "interpreter": {
    "hash": "369f2c481f4da34e4445cda3fffd2e751bd1c4d706f27375911949ba6bb62e1c"
   }
  }
 },
 "nbformat": 4,
 "nbformat_minor": 2
}
