{
 "cells": [
  {
   "attachments": {},
   "cell_type": "markdown",
   "metadata": {},
   "source": [
    "According to a [Stack Overflow Post](https://stackoverflow.com/a/34350553) it is possible ot use an AutoEncoder to compress the output of Word2Vec or RNNs down to smaller dimensions. Conversely, it is not realy feasible to try and implement a generative network directly using a Variational AutoEncoder (VAE)."
   ]
  },
  {
   "cell_type": "code",
   "execution_count": 1,
   "metadata": {},
   "outputs": [],
   "source": [
    "import pandas as pd\n",
    "import numpy as np\n",
    "import os\n",
    "import matplotlib.pyplot as plt\n",
    "import seaborn as sns\n",
    "import pickle\n",
    "\n",
    "from sklearn.metrics import confusion_matrix, accuracy_score, roc_auc_score, roc_curve, auc\n",
    "from sklearn import metrics\n",
    "from sklearn.model_selection import train_test_split\n",
    "\n",
    "\n",
    "from functools import reduce\n",
    "from tqdm import tqdm\n",
    "import gensim\n",
    "import gensim.corpora as corpora\n",
    "\n",
    "from Preprocessing import Preprocessor\n",
    "preprocessor = Preprocessor(0)\n",
    "tqdm.pandas()"
   ]
  },
  {
   "cell_type": "code",
   "execution_count": 2,
   "metadata": {},
   "outputs": [
    {
     "data": {
      "text/html": [
       "<div>\n",
       "<style scoped>\n",
       "    .dataframe tbody tr th:only-of-type {\n",
       "        vertical-align: middle;\n",
       "    }\n",
       "\n",
       "    .dataframe tbody tr th {\n",
       "        vertical-align: top;\n",
       "    }\n",
       "\n",
       "    .dataframe thead th {\n",
       "        text-align: right;\n",
       "    }\n",
       "</style>\n",
       "<table border=\"1\" class=\"dataframe\">\n",
       "  <thead>\n",
       "    <tr style=\"text-align: right;\">\n",
       "      <th></th>\n",
       "      <th>course</th>\n",
       "      <th>unit</th>\n",
       "      <th>lesson</th>\n",
       "      <th>video_title</th>\n",
       "      <th>about</th>\n",
       "      <th>transcript</th>\n",
       "      <th>transcript_cleaned</th>\n",
       "      <th>transcript_n_entries</th>\n",
       "    </tr>\n",
       "  </thead>\n",
       "  <tbody>\n",
       "    <tr>\n",
       "      <th>0</th>\n",
       "      <td>Computer programming</td>\n",
       "      <td>Intro to JS: Drawing &amp; Animation</td>\n",
       "      <td>Intro to programming</td>\n",
       "      <td>What is Programming?</td>\n",
       "      <td>Programming is the process of creating a set o...</td>\n",
       "      <td>Hi, welcome to programming! If you've never le...</td>\n",
       "      <td>['help', 'computer', 'doodle', 'great', 'anima...</td>\n",
       "      <td>94</td>\n",
       "    </tr>\n",
       "    <tr>\n",
       "      <th>1</th>\n",
       "      <td>Computer programming</td>\n",
       "      <td>Intro to JS: Drawing &amp; Animation</td>\n",
       "      <td>Coloring</td>\n",
       "      <td>The Power of the Docs</td>\n",
       "      <td>Created by Pamela Fox.</td>\n",
       "      <td>Voiceover: Ok so you've\\r\\nmade a few programs...</td>\n",
       "      <td>['computer', 'refer', 'great', 'rect', 'like',...</td>\n",
       "      <td>161</td>\n",
       "    </tr>\n",
       "    <tr>\n",
       "      <th>2</th>\n",
       "      <td>Computer programming</td>\n",
       "      <td>Intro to HTML/CSS: Making webpages</td>\n",
       "      <td>Further learning</td>\n",
       "      <td>HTML validation</td>\n",
       "      <td>Learn how to validate your webpages with the W...</td>\n",
       "      <td>- [Voiceover] On Khan Academy, we pop up the o...</td>\n",
       "      <td>['computer', 'try', 'validation', 'image', 'ac...</td>\n",
       "      <td>67</td>\n",
       "    </tr>\n",
       "    <tr>\n",
       "      <th>3</th>\n",
       "      <td>Computer programming</td>\n",
       "      <td>Intro to SQL: Querying and managing data</td>\n",
       "      <td>SQL basics</td>\n",
       "      <td>Welcome to SQL</td>\n",
       "      <td>SQL is useful for creating and querying relati...</td>\n",
       "      <td>- [Instructor] The world is full of data. Ever...</td>\n",
       "      <td>['money', 'help', 'america', 'like', 'location...</td>\n",
       "      <td>79</td>\n",
       "    </tr>\n",
       "    <tr>\n",
       "      <th>4</th>\n",
       "      <td>Computer programming</td>\n",
       "      <td>Intro to SQL: Querying and managing data</td>\n",
       "      <td>SQL basics</td>\n",
       "      <td>S-Q-L or SEQUEL?</td>\n",
       "      <td>How is it pronounced? Why? Let's discuss...</td>\n",
       "      <td>At this point, you've probably heard me\\r\\npro...</td>\n",
       "      <td>['probably', 'favorite', 'version', 'stand', '...</td>\n",
       "      <td>61</td>\n",
       "    </tr>\n",
       "  </tbody>\n",
       "</table>\n",
       "</div>"
      ],
      "text/plain": [
       "                 course                                      unit  \\\n",
       "0  Computer programming          Intro to JS: Drawing & Animation   \n",
       "1  Computer programming          Intro to JS: Drawing & Animation   \n",
       "2  Computer programming        Intro to HTML/CSS: Making webpages   \n",
       "3  Computer programming  Intro to SQL: Querying and managing data   \n",
       "4  Computer programming  Intro to SQL: Querying and managing data   \n",
       "\n",
       "                 lesson            video_title  \\\n",
       "0  Intro to programming   What is Programming?   \n",
       "1              Coloring  The Power of the Docs   \n",
       "2      Further learning        HTML validation   \n",
       "3            SQL basics         Welcome to SQL   \n",
       "4            SQL basics       S-Q-L or SEQUEL?   \n",
       "\n",
       "                                               about  \\\n",
       "0  Programming is the process of creating a set o...   \n",
       "1                             Created by Pamela Fox.   \n",
       "2  Learn how to validate your webpages with the W...   \n",
       "3  SQL is useful for creating and querying relati...   \n",
       "4       How is it pronounced? Why? Let's discuss...    \n",
       "\n",
       "                                          transcript  \\\n",
       "0  Hi, welcome to programming! If you've never le...   \n",
       "1  Voiceover: Ok so you've\\r\\nmade a few programs...   \n",
       "2  - [Voiceover] On Khan Academy, we pop up the o...   \n",
       "3  - [Instructor] The world is full of data. Ever...   \n",
       "4  At this point, you've probably heard me\\r\\npro...   \n",
       "\n",
       "                                  transcript_cleaned  transcript_n_entries  \n",
       "0  ['help', 'computer', 'doodle', 'great', 'anima...                    94  \n",
       "1  ['computer', 'refer', 'great', 'rect', 'like',...                   161  \n",
       "2  ['computer', 'try', 'validation', 'image', 'ac...                    67  \n",
       "3  ['money', 'help', 'america', 'like', 'location...                    79  \n",
       "4  ['probably', 'favorite', 'version', 'stand', '...                    61  "
      ]
     },
     "execution_count": 2,
     "metadata": {},
     "output_type": "execute_result"
    }
   ],
   "source": [
    "df = pd.read_csv(\"khan_joined.csv\")\n",
    "df.head()"
   ]
  },
  {
   "cell_type": "code",
   "execution_count": 3,
   "metadata": {},
   "outputs": [],
   "source": [
    "limit = 100\n",
    "targets = df['course'][0:limit]\n",
    "data = df['transcript_cleaned'][0:limit]"
   ]
  },
  {
   "attachments": {},
   "cell_type": "markdown",
   "metadata": {},
   "source": [
    "## Translate words to numerics\n",
    "### Preliminary Research\n",
    "[Link to article about Word2Vec and GloVe](https://forecast.global/insight/numerical-interpretation-of-textual-data-understanding-vector-representations/). More on encodings from [medium](https://medium.com/@kashyapkathrani/all-about-embeddings-829c8ff0bf5b).  \n",
    "\n",
    "\n",
    "Word Embeddings are a possible option. BOW method would give a fixed length vector. Word2Vec also works for this, though it assumes a skip-gram model. GloVe uses a Continuous Bag of Words (CBOW) to do this instead. Does not work with words not seen during training. FastText extension should be able to as it breaks words into tri-grams.\n",
    "\n",
    "Sentence embeddings better preserve context when compared to word embeddings. ELMo, InferSent, and Sentence-BERT all work in this case.\n",
    "\n",
    "Can test sentence embeddings using SentEval tool-kit.\n",
    "\n",
    "### Ideas\n",
    "Try both Word embeddings and one of the sentence embeddings later. Using Word2Vec over Glove as we want to train our own Corpus."
   ]
  },
  {
   "attachments": {},
   "cell_type": "markdown",
   "metadata": {},
   "source": [
    "### Word Embeddings"
   ]
  },
  {
   "cell_type": "code",
   "execution_count": 4,
   "metadata": {},
   "outputs": [
    {
     "name": "stdout",
     "output_type": "stream",
     "text": [
      "['help', 'computer', 'doodle', 'great', 'animation', 'water', 'like', 'concept', 'english', 'languag\n",
      "['help', 'computer', 'doodle', 'great', 'animation', 'water', 'like', 'concept', 'english', 'language', 'give', 'tell', 'relate', 'pretty', 'special', 'animate', 'maps', 'wonder', 'khan', 'effect', 'think', 'cool', 'wikipedia', 'surface', 'minecraft']\n",
      "13714\n",
      "<class 'list'>\n",
      "3729\n",
      "['procure', 'wheelbarrow', 'straight', 'nemo', 'cultural', 'uniformity', 'representation', 'accidentally', 'incredibles', 'imbalance', 'propose', 'input', 'decide', 'state', 'invert', 'well', 'magnification', 'processingjs', '16th', 'prolific', 'aspect', 'entry', 'traveler', 'moment', 'shift']\n"
     ]
    }
   ],
   "source": [
    "def str_to_list(s: str) -> list:\n",
    "    s = s.replace('[', '')\n",
    "    s = s.replace(']', '')\n",
    "    s = s.replace('\\'', '')\n",
    "    s = s.split(', ')\n",
    "    return s\n",
    "\n",
    "corpus = data.sum(axis=0)\n",
    "if isinstance(corpus, str):\n",
    "    # means it performed string concatenation so it needs to be cleaned up\n",
    "    print(corpus[0:100])\n",
    "    corpus = str_to_list(corpus)\n",
    "    print(corpus[0: 25])\n",
    "    print(len(corpus))\n",
    "    print(type(corpus))\n",
    "# convert the corpus to a set since there should be no unique values\n",
    "corpus = set(corpus)\n",
    "print(len(corpus))\n",
    "corpus = list(corpus)\n",
    "print(corpus[0:25])\n",
    "\n",
    "temp = [d.split() for d in corpus]\n",
    "print(type(temp))\n",
    "words = corpora.Dictionary(temp)\n",
    "words.filter_extremes(no_below=15, no_above=0.5, keep_n=100000)\n",
    "corpus = [words.doc2bow(doc) for doc in temp]"
   ]
  },
  {
   "attachments": {},
   "cell_type": "markdown",
   "metadata": {},
   "source": [
    "### Sentence Embeddings\n",
    "Ended up stumbling across a [SpaCy package]((https://spacy.io/universe/project/spacy-universal-sentence-encoder)) that used google's Universal Sentence Encoder model. This takes text and translates into a [512 dimensional vector](https://amitness.com/2020/06/universal-sentence-encoder/)."
   ]
  },
  {
   "cell_type": "code",
   "execution_count": 6,
   "metadata": {},
   "outputs": [],
   "source": [
    "# pip install spacy-universal-sentence-encoder"
   ]
  },
  {
   "cell_type": "code",
   "execution_count": 8,
   "metadata": {},
   "outputs": [
    {
     "name": "stdout",
     "output_type": "stream",
     "text": [
      "Downloaded https://tfhub.dev/google/universal-sentence-encoder-large/5, Total size: 577.10MB\n",
      "\n"
     ]
    }
   ],
   "source": [
    "import spacy_universal_sentence_encoder\n",
    "nlp = spacy_universal_sentence_encoder.load_model('en_use_lg')\n"
   ]
  },
  {
   "cell_type": "code",
   "execution_count": 10,
   "metadata": {},
   "outputs": [
    {
     "data": {
      "text/plain": [
       "0.5215909665018893"
      ]
     },
     "execution_count": 10,
     "metadata": {},
     "output_type": "execute_result"
    }
   ],
   "source": [
    "d1 = nlp(data[0])\n",
    "d2 = nlp(data[1])\n",
    "d1.similarity(d2)"
   ]
  },
  {
   "attachments": {},
   "cell_type": "markdown",
   "metadata": {},
   "source": [
    "## Next Step\n",
    "We have now verified that the sentence embedder works. Now we need to create a list of all sentences for each target domain."
   ]
  },
  {
   "cell_type": "code",
   "execution_count": 14,
   "metadata": {},
   "outputs": [
    {
     "data": {
      "text/html": [
       "<div>\n",
       "<style scoped>\n",
       "    .dataframe tbody tr th:only-of-type {\n",
       "        vertical-align: middle;\n",
       "    }\n",
       "\n",
       "    .dataframe tbody tr th {\n",
       "        vertical-align: top;\n",
       "    }\n",
       "\n",
       "    .dataframe thead th {\n",
       "        text-align: right;\n",
       "    }\n",
       "</style>\n",
       "<table border=\"1\" class=\"dataframe\">\n",
       "  <thead>\n",
       "    <tr style=\"text-align: right;\">\n",
       "      <th></th>\n",
       "      <th>course</th>\n",
       "      <th>transcript</th>\n",
       "    </tr>\n",
       "  </thead>\n",
       "  <tbody>\n",
       "    <tr>\n",
       "      <th>0</th>\n",
       "      <td>Computer programming</td>\n",
       "      <td>Hi, welcome to programming! If you've never le...</td>\n",
       "    </tr>\n",
       "    <tr>\n",
       "      <th>1</th>\n",
       "      <td>Computer programming</td>\n",
       "      <td>Voiceover: Ok so you've\\r\\nmade a few programs...</td>\n",
       "    </tr>\n",
       "    <tr>\n",
       "      <th>2</th>\n",
       "      <td>Computer programming</td>\n",
       "      <td>- [Voiceover] On Khan Academy, we pop up the o...</td>\n",
       "    </tr>\n",
       "    <tr>\n",
       "      <th>3</th>\n",
       "      <td>Computer programming</td>\n",
       "      <td>- [Instructor] The world is full of data. Ever...</td>\n",
       "    </tr>\n",
       "    <tr>\n",
       "      <th>4</th>\n",
       "      <td>Computer programming</td>\n",
       "      <td>At this point, you've probably heard me\\r\\npro...</td>\n",
       "    </tr>\n",
       "  </tbody>\n",
       "</table>\n",
       "</div>"
      ],
      "text/plain": [
       "                 course                                         transcript\n",
       "0  Computer programming  Hi, welcome to programming! If you've never le...\n",
       "1  Computer programming  Voiceover: Ok so you've\\r\\nmade a few programs...\n",
       "2  Computer programming  - [Voiceover] On Khan Academy, we pop up the o...\n",
       "3  Computer programming  - [Instructor] The world is full of data. Ever...\n",
       "4  Computer programming  At this point, you've probably heard me\\r\\npro..."
      ]
     },
     "execution_count": 14,
     "metadata": {},
     "output_type": "execute_result"
    }
   ],
   "source": [
    "joined = df[['course', 'transcript']][0:limit]\n",
    "joined.head()"
   ]
  },
  {
   "attachments": {},
   "cell_type": "markdown",
   "metadata": {},
   "source": [
    "first off is that we notice the transcript has unicode characters and lots of weird tags. This is usually cleaned in the preprocessing pipeline so lets call that with different arguments."
   ]
  },
  {
   "cell_type": "code",
   "execution_count": 16,
   "metadata": {},
   "outputs": [
    {
     "name": "stderr",
     "output_type": "stream",
     "text": [
      "100%|██████████| 100/100 [00:05<00:00, 16.84it/s]\n"
     ]
    },
    {
     "data": {
      "text/html": [
       "<div>\n",
       "<style scoped>\n",
       "    .dataframe tbody tr th:only-of-type {\n",
       "        vertical-align: middle;\n",
       "    }\n",
       "\n",
       "    .dataframe tbody tr th {\n",
       "        vertical-align: top;\n",
       "    }\n",
       "\n",
       "    .dataframe thead th {\n",
       "        text-align: right;\n",
       "    }\n",
       "</style>\n",
       "<table border=\"1\" class=\"dataframe\">\n",
       "  <thead>\n",
       "    <tr style=\"text-align: right;\">\n",
       "      <th></th>\n",
       "      <th>course</th>\n",
       "      <th>transcript</th>\n",
       "      <th>full_transcript</th>\n",
       "    </tr>\n",
       "  </thead>\n",
       "  <tbody>\n",
       "    <tr>\n",
       "      <th>0</th>\n",
       "      <td>Computer programming</td>\n",
       "      <td>Hi, welcome to programming! If you've never le...</td>\n",
       "      <td>(hi, ,, welcome, programming, !, never, learne...</td>\n",
       "    </tr>\n",
       "    <tr>\n",
       "      <th>1</th>\n",
       "      <td>Computer programming</td>\n",
       "      <td>Voiceover: Ok so you've\\r\\nmade a few programs...</td>\n",
       "      <td>(voiceover, :, ok, made, programs, ,, might, w...</td>\n",
       "    </tr>\n",
       "    <tr>\n",
       "      <th>2</th>\n",
       "      <td>Computer programming</td>\n",
       "      <td>- [Voiceover] On Khan Academy, we pop up the o...</td>\n",
       "      <td>(-, [, voiceover, ], khan, academy, ,, pop, oh...</td>\n",
       "    </tr>\n",
       "    <tr>\n",
       "      <th>3</th>\n",
       "      <td>Computer programming</td>\n",
       "      <td>- [Instructor] The world is full of data. Ever...</td>\n",
       "      <td>(-, [, instructor, ], world, full, data, ., ev...</td>\n",
       "    </tr>\n",
       "    <tr>\n",
       "      <th>4</th>\n",
       "      <td>Computer programming</td>\n",
       "      <td>At this point, you've probably heard me\\r\\npro...</td>\n",
       "      <td>(point, ,, probably, heard, pronounce, sql, tw...</td>\n",
       "    </tr>\n",
       "  </tbody>\n",
       "</table>\n",
       "</div>"
      ],
      "text/plain": [
       "                 course                                         transcript  \\\n",
       "0  Computer programming  Hi, welcome to programming! If you've never le...   \n",
       "1  Computer programming  Voiceover: Ok so you've\\r\\nmade a few programs...   \n",
       "2  Computer programming  - [Voiceover] On Khan Academy, we pop up the o...   \n",
       "3  Computer programming  - [Instructor] The world is full of data. Ever...   \n",
       "4  Computer programming  At this point, you've probably heard me\\r\\npro...   \n",
       "\n",
       "                                     full_transcript  \n",
       "0  (hi, ,, welcome, programming, !, never, learne...  \n",
       "1  (voiceover, :, ok, made, programs, ,, might, w...  \n",
       "2  (-, [, voiceover, ], khan, academy, ,, pop, oh...  \n",
       "3  (-, [, instructor, ], world, full, data, ., ev...  \n",
       "4  (point, ,, probably, heard, pronounce, sql, tw...  "
      ]
     },
     "execution_count": 16,
     "metadata": {},
     "output_type": "execute_result"
    }
   ],
   "source": [
    "joined['full_transcript'] = joined['transcript'].progress_apply(lambda x: preprocessor.clean(x))\n",
    "joined.head()"
   ]
  },
  {
   "cell_type": "code",
   "execution_count": 17,
   "metadata": {},
   "outputs": [
    {
     "data": {
      "text/plain": [
       "spacy.tokens.doc.Doc"
      ]
     },
     "execution_count": 17,
     "metadata": {},
     "output_type": "execute_result"
    }
   ],
   "source": [
    "type(joined['full_transcript'][0])"
   ]
  },
  {
   "attachments": {},
   "cell_type": "markdown",
   "metadata": {},
   "source": [
    "We now have the SpaCy doc for every transcript in our dataset. Next is to use this to break things out by sentences"
   ]
  },
  {
   "cell_type": "code",
   "execution_count": 18,
   "metadata": {},
   "outputs": [
    {
     "name": "stderr",
     "output_type": "stream",
     "text": [
      "100%|██████████| 100/100 [00:00<00:00, 18813.60it/s]\n"
     ]
    },
    {
     "data": {
      "text/html": [
       "<div>\n",
       "<style scoped>\n",
       "    .dataframe tbody tr th:only-of-type {\n",
       "        vertical-align: middle;\n",
       "    }\n",
       "\n",
       "    .dataframe tbody tr th {\n",
       "        vertical-align: top;\n",
       "    }\n",
       "\n",
       "    .dataframe thead th {\n",
       "        text-align: right;\n",
       "    }\n",
       "</style>\n",
       "<table border=\"1\" class=\"dataframe\">\n",
       "  <thead>\n",
       "    <tr style=\"text-align: right;\">\n",
       "      <th></th>\n",
       "      <th>course</th>\n",
       "      <th>transcript</th>\n",
       "      <th>full_transcript</th>\n",
       "      <th>sents</th>\n",
       "    </tr>\n",
       "  </thead>\n",
       "  <tbody>\n",
       "    <tr>\n",
       "      <th>0</th>\n",
       "      <td>Computer programming</td>\n",
       "      <td>Hi, welcome to programming! If you've never le...</td>\n",
       "      <td>(hi, ,, welcome, programming, !, never, learne...</td>\n",
       "      <td>[(hi, ,, welcome, programming, !), (never, lea...</td>\n",
       "    </tr>\n",
       "    <tr>\n",
       "      <th>1</th>\n",
       "      <td>Computer programming</td>\n",
       "      <td>Voiceover: Ok so you've\\r\\nmade a few programs...</td>\n",
       "      <td>(voiceover, :, ok, made, programs, ,, might, w...</td>\n",
       "      <td>[(voiceover, :, ok, made, programs, ,, might, ...</td>\n",
       "    </tr>\n",
       "    <tr>\n",
       "      <th>2</th>\n",
       "      <td>Computer programming</td>\n",
       "      <td>- [Voiceover] On Khan Academy, we pop up the o...</td>\n",
       "      <td>(-, [, voiceover, ], khan, academy, ,, pop, oh...</td>\n",
       "      <td>[(-, [, voiceover, ], khan, academy, ,, pop, o...</td>\n",
       "    </tr>\n",
       "    <tr>\n",
       "      <th>3</th>\n",
       "      <td>Computer programming</td>\n",
       "      <td>- [Instructor] The world is full of data. Ever...</td>\n",
       "      <td>(-, [, instructor, ], world, full, data, ., ev...</td>\n",
       "      <td>[(-, [, instructor, ], world, full, data, .), ...</td>\n",
       "    </tr>\n",
       "    <tr>\n",
       "      <th>4</th>\n",
       "      <td>Computer programming</td>\n",
       "      <td>At this point, you've probably heard me\\r\\npro...</td>\n",
       "      <td>(point, ,, probably, heard, pronounce, sql, tw...</td>\n",
       "      <td>[(point, ,, probably, heard, pronounce, sql, t...</td>\n",
       "    </tr>\n",
       "  </tbody>\n",
       "</table>\n",
       "</div>"
      ],
      "text/plain": [
       "                 course                                         transcript  \\\n",
       "0  Computer programming  Hi, welcome to programming! If you've never le...   \n",
       "1  Computer programming  Voiceover: Ok so you've\\r\\nmade a few programs...   \n",
       "2  Computer programming  - [Voiceover] On Khan Academy, we pop up the o...   \n",
       "3  Computer programming  - [Instructor] The world is full of data. Ever...   \n",
       "4  Computer programming  At this point, you've probably heard me\\r\\npro...   \n",
       "\n",
       "                                     full_transcript  \\\n",
       "0  (hi, ,, welcome, programming, !, never, learne...   \n",
       "1  (voiceover, :, ok, made, programs, ,, might, w...   \n",
       "2  (-, [, voiceover, ], khan, academy, ,, pop, oh...   \n",
       "3  (-, [, instructor, ], world, full, data, ., ev...   \n",
       "4  (point, ,, probably, heard, pronounce, sql, tw...   \n",
       "\n",
       "                                               sents  \n",
       "0  [(hi, ,, welcome, programming, !), (never, lea...  \n",
       "1  [(voiceover, :, ok, made, programs, ,, might, ...  \n",
       "2  [(-, [, voiceover, ], khan, academy, ,, pop, o...  \n",
       "3  [(-, [, instructor, ], world, full, data, .), ...  \n",
       "4  [(point, ,, probably, heard, pronounce, sql, t...  "
      ]
     },
     "execution_count": 18,
     "metadata": {},
     "output_type": "execute_result"
    }
   ],
   "source": [
    "joined['sents'] = joined['full_transcript'].progress_apply(lambda x: list(x.sents))\n",
    "joined.head()"
   ]
  },
  {
   "cell_type": "code",
   "execution_count": 19,
   "metadata": {},
   "outputs": [
    {
     "data": {
      "text/plain": [
       "list"
      ]
     },
     "execution_count": 19,
     "metadata": {},
     "output_type": "execute_result"
    }
   ],
   "source": [
    "type(joined['sents'][0])"
   ]
  },
  {
   "attachments": {},
   "cell_type": "markdown",
   "metadata": {},
   "source": [
    "we now have the sentences for each doc. Next step is to encode each of them with the universal encoder"
   ]
  },
  {
   "cell_type": "code",
   "execution_count": 26,
   "metadata": {},
   "outputs": [
    {
     "name": "stdout",
     "output_type": "stream",
     "text": [
      "<class 'spacy.tokens.span.Span'>\n"
     ]
    },
    {
     "name": "stderr",
     "output_type": "stream",
     "text": [
      "100%|██████████| 100/100 [00:00<00:00, 534.83it/s]\n"
     ]
    },
    {
     "data": {
      "text/html": [
       "<div>\n",
       "<style scoped>\n",
       "    .dataframe tbody tr th:only-of-type {\n",
       "        vertical-align: middle;\n",
       "    }\n",
       "\n",
       "    .dataframe tbody tr th {\n",
       "        vertical-align: top;\n",
       "    }\n",
       "\n",
       "    .dataframe thead th {\n",
       "        text-align: right;\n",
       "    }\n",
       "</style>\n",
       "<table border=\"1\" class=\"dataframe\">\n",
       "  <thead>\n",
       "    <tr style=\"text-align: right;\">\n",
       "      <th></th>\n",
       "      <th>course</th>\n",
       "      <th>transcript</th>\n",
       "      <th>full_transcript</th>\n",
       "      <th>sents</th>\n",
       "      <th>encoding</th>\n",
       "    </tr>\n",
       "  </thead>\n",
       "  <tbody>\n",
       "    <tr>\n",
       "      <th>0</th>\n",
       "      <td>Computer programming</td>\n",
       "      <td>Hi, welcome to programming! If you've never le...</td>\n",
       "      <td>(hi, ,, welcome, programming, !, never, learne...</td>\n",
       "      <td>[(hi, ,, welcome, programming, !), (never, lea...</td>\n",
       "      <td>[(hi, ,, welcome, programming, !), (never, lea...</td>\n",
       "    </tr>\n",
       "    <tr>\n",
       "      <th>1</th>\n",
       "      <td>Computer programming</td>\n",
       "      <td>Voiceover: Ok so you've\\r\\nmade a few programs...</td>\n",
       "      <td>(voiceover, :, ok, made, programs, ,, might, w...</td>\n",
       "      <td>[(voiceover, :, ok, made, programs, ,, might, ...</td>\n",
       "      <td>[(voiceover, :, ok, made, programs, ,, might, ...</td>\n",
       "    </tr>\n",
       "    <tr>\n",
       "      <th>2</th>\n",
       "      <td>Computer programming</td>\n",
       "      <td>- [Voiceover] On Khan Academy, we pop up the o...</td>\n",
       "      <td>(-, [, voiceover, ], khan, academy, ,, pop, oh...</td>\n",
       "      <td>[(-, [, voiceover, ], khan, academy, ,, pop, o...</td>\n",
       "      <td>[(-, [, voiceover, ], khan, academy, ,, pop, o...</td>\n",
       "    </tr>\n",
       "    <tr>\n",
       "      <th>3</th>\n",
       "      <td>Computer programming</td>\n",
       "      <td>- [Instructor] The world is full of data. Ever...</td>\n",
       "      <td>(-, [, instructor, ], world, full, data, ., ev...</td>\n",
       "      <td>[(-, [, instructor, ], world, full, data, .), ...</td>\n",
       "      <td>[(-, [, instructor, ], world, full, data, .), ...</td>\n",
       "    </tr>\n",
       "    <tr>\n",
       "      <th>4</th>\n",
       "      <td>Computer programming</td>\n",
       "      <td>At this point, you've probably heard me\\r\\npro...</td>\n",
       "      <td>(point, ,, probably, heard, pronounce, sql, tw...</td>\n",
       "      <td>[(point, ,, probably, heard, pronounce, sql, t...</td>\n",
       "      <td>[(point, ,, probably, heard, pronounce, sql, t...</td>\n",
       "    </tr>\n",
       "  </tbody>\n",
       "</table>\n",
       "</div>"
      ],
      "text/plain": [
       "                 course                                         transcript  \\\n",
       "0  Computer programming  Hi, welcome to programming! If you've never le...   \n",
       "1  Computer programming  Voiceover: Ok so you've\\r\\nmade a few programs...   \n",
       "2  Computer programming  - [Voiceover] On Khan Academy, we pop up the o...   \n",
       "3  Computer programming  - [Instructor] The world is full of data. Ever...   \n",
       "4  Computer programming  At this point, you've probably heard me\\r\\npro...   \n",
       "\n",
       "                                     full_transcript  \\\n",
       "0  (hi, ,, welcome, programming, !, never, learne...   \n",
       "1  (voiceover, :, ok, made, programs, ,, might, w...   \n",
       "2  (-, [, voiceover, ], khan, academy, ,, pop, oh...   \n",
       "3  (-, [, instructor, ], world, full, data, ., ev...   \n",
       "4  (point, ,, probably, heard, pronounce, sql, tw...   \n",
       "\n",
       "                                               sents  \\\n",
       "0  [(hi, ,, welcome, programming, !), (never, lea...   \n",
       "1  [(voiceover, :, ok, made, programs, ,, might, ...   \n",
       "2  [(-, [, voiceover, ], khan, academy, ,, pop, o...   \n",
       "3  [(-, [, instructor, ], world, full, data, .), ...   \n",
       "4  [(point, ,, probably, heard, pronounce, sql, t...   \n",
       "\n",
       "                                            encoding  \n",
       "0  [(hi, ,, welcome, programming, !), (never, lea...  \n",
       "1  [(voiceover, :, ok, made, programs, ,, might, ...  \n",
       "2  [(-, [, voiceover, ], khan, academy, ,, pop, o...  \n",
       "3  [(-, [, instructor, ], world, full, data, .), ...  \n",
       "4  [(point, ,, probably, heard, pronounce, sql, t...  "
      ]
     },
     "execution_count": 26,
     "metadata": {},
     "output_type": "execute_result"
    }
   ],
   "source": [
    "def to_str(lst: list) -> list:\n",
    "    return list(map(str, lst))\n",
    "\n",
    "def encode(lst: list) -> list:\n",
    "    return list(map(nlp, to_str(lst)))\n",
    "\n",
    "print(type(joined['sents'][0][0]))\n",
    "# encode(joined['sents'][0])\n",
    "joined['encoding'] = joined['sents'].progress_apply(lambda x: encode(x))\n",
    "joined.head()"
   ]
  },
  {
   "cell_type": "code",
   "execution_count": 27,
   "metadata": {},
   "outputs": [
    {
     "data": {
      "text/plain": [
       "list"
      ]
     },
     "execution_count": 27,
     "metadata": {},
     "output_type": "execute_result"
    }
   ],
   "source": [
    "type(joined['encoding'][0])"
   ]
  },
  {
   "cell_type": "code",
   "execution_count": 28,
   "metadata": {},
   "outputs": [
    {
     "data": {
      "text/plain": [
       "spacy.tokens.doc.Doc"
      ]
     },
     "execution_count": 28,
     "metadata": {},
     "output_type": "execute_result"
    }
   ],
   "source": [
    "type(joined['encoding'][0][0])"
   ]
  },
  {
   "attachments": {},
   "cell_type": "markdown",
   "metadata": {},
   "source": [
    "At this point we should now have a list of sentence embeddings for each document. next step is to group them by course"
   ]
  },
  {
   "cell_type": "code",
   "execution_count": null,
   "metadata": {},
   "outputs": [],
   "source": []
  }
 ],
 "metadata": {
  "kernelspec": {
   "display_name": "Python 3",
   "language": "python",
   "name": "python3"
  },
  "language_info": {
   "codemirror_mode": {
    "name": "ipython",
    "version": 3
   },
   "file_extension": ".py",
   "mimetype": "text/x-python",
   "name": "python",
   "nbconvert_exporter": "python",
   "pygments_lexer": "ipython3",
   "version": "3.10.1"
  },
  "orig_nbformat": 4,
  "vscode": {
   "interpreter": {
    "hash": "369f2c481f4da34e4445cda3fffd2e751bd1c4d706f27375911949ba6bb62e1c"
   }
  }
 },
 "nbformat": 4,
 "nbformat_minor": 2
}
